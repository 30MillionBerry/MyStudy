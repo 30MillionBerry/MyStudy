{
  "nbformat": 4,
  "nbformat_minor": 0,
  "metadata": {
    "colab": {
      "name": "Wikidocs_Python_181-200.ipynb",
      "provenance": [],
      "collapsed_sections": [],
      "authorship_tag": "ABX9TyOykOEDQ+5+RaSzCke8Qvph",
      "include_colab_link": true
    },
    "kernelspec": {
      "name": "python3",
      "display_name": "Python 3"
    },
    "language_info": {
      "name": "python"
    }
  },
  "cells": [
    {
      "cell_type": "markdown",
      "metadata": {
        "id": "view-in-github",
        "colab_type": "text"
      },
      "source": [
        "<a href=\"https://colab.research.google.com/github/mohyunyang/MyStudy/blob/master/Wikidocs_Python_181_200.ipynb\" target=\"_parent\"><img src=\"https://colab.research.google.com/assets/colab-badge.svg\" alt=\"Open In Colab\"/></a>"
      ]
    },
    {
      "cell_type": "markdown",
      "source": [
        "181\n",
        "아래 표에서 하나의 행을 하나의 리스트로, 총 3개의 리스트를 갖는 이차원 리스트 apart를 정의하라."
      ],
      "metadata": {
        "id": "EcSRRYuMz7XL"
      }
    },
    {
      "cell_type": "markdown",
      "source": [
        "![image.png](data:image/png;base64,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)"
      ],
      "metadata": {
        "id": "rK3YObynzaqG"
      }
    },
    {
      "cell_type": "code",
      "source": [
        "apart = [['101호','102호'],['201호','202호'],['301호','302호']]"
      ],
      "metadata": {
        "id": "Zg0LiHWQz65N"
      },
      "execution_count": null,
      "outputs": []
    },
    {
      "cell_type": "markdown",
      "source": [
        "182\n",
        "아래 표에서 하나의 열을 하나의 리스트로, 총 2개의 리스트를 갖는 이차원 리스트 stock을 정의하라."
      ],
      "metadata": {
        "id": "feTfx7Bl0ktC"
      }
    },
    {
      "cell_type": "markdown",
      "source": [
        "![image.png](data:image/png;base64,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)"
      ],
      "metadata": {
        "id": "kgKXopwj0l6p"
      }
    },
    {
      "cell_type": "code",
      "source": [
        "stock = [ [\"시가\", 100, 200, 300], [\"종가\", 80, 210, 330] ]"
      ],
      "metadata": {
        "id": "fj4cmggi0oSf"
      },
      "execution_count": null,
      "outputs": []
    },
    {
      "cell_type": "markdown",
      "source": [
        "183\n",
        "아래 표를 stock 이름의 딕셔너리로 표현하라.시가를 key로 저장하고, 나머지 같은 열의 데이터를 리스트로 저장해서 value로 저장한다. 종가 역시 key로 저장하고 나머지 같은 열의 데이터를 리스트로 저장해서 value로 저장한다.\n",
        "\n",
        "![image.png](data:image/png;base64,iVBORw0KGgoAAAANSUhEUgAAAHcAAACwCAYAAAA11PGGAAAIBUlEQVR4nO2csW7iWBiFj1f7AFMSKRRo0k6TaQakbSLlAWKUkSDlvMJ0YVIQ6EbbbbnaCkfKiLxApJSYYkIzbSIKkEw5b3C3sCHGGK4hNtc++T+JYjFG9+Rb+17j8bGUUgohHh8f8fHjRzDy/PyM9+/fmx5GJsR5+8PQWIQ9IHKJEbnEiFxiRC4xIpcYkUuMyCVG5BIjcokRucTsVe7spg7LstAdbruni65lwfrsYJbFwIySXbYM5G472BmczxYsK+5VhzNNf4TbE2TSvrpwl/Yzmy0Hp+USmrcKSoVfA3QAAMeoHBoeHgCgisvw+NzOYkvHDY/7EtWl/cxm+zPbr9+R4QNaAHBeQcX0WKIMu7CqLaA9wAA11KoW4Cpcfkq6//6y5VKue98CANhnJygZHssLLrpWDS0AtuOh3ygBUPCO6jioWmihg8HKkRvzLXvMlv5peTrGCAB+jDHeaX8H368AoIOvjTyonc+bNbTaAyil0G+Mgzm4i3GjD6UUPGeEmm6tse9sKsLPnz+jb22F59gKgAKgOm78tuj7oU+o3rm/r+14ofcHqhN8p//qqMEOY3t6etphrzjm49lmHNlmi/OWstxgoO2eH6S9PMzNcl/CR/dbfO95T3lxuyZkF7nh/1mTvpblKbWPbHHeUp1z3euaP/d8a6I6BfrlGrqnSRYbMzifD3DxA8B5D9433cy1P0qNPlTjNd9gLltqc+7spo7aFdBxg0XFYRP/ODZaVc2PFlMHdSsU/raZo0VUhKmD+jbXrIazpXLkutdWIHb5KC01+vDgrybhKnyJ3fsE9TaAo/kKNJ/Mbuo4aN4B7QFU5Ohzry3Uyhb6TjSD4WxJzt1poV9QrcPcnOsznzPXLXZeM77s5twc/EJVBEo4ObMBtFC7dle2+muNvF2X5/RHjDxSavSh/nJQL9dgXUW32uhN+mjm4qfSFyyl5IkDBuSJgzeGyCVG5BIjcokRucSIXGJELjEilxiRS4zIJUbkEiNyiRG5xKzcFXp+fjY1FuGVRO94rdzP/f37t9zyKyCPj48r78lpmRiRS4zIJUbkEiNyiRG5xIhcYkQuMSKXGJFLjMglRuQSI3KJEbnEpC932I2v64lUDqxWKUSq9GKegzWGbuzabGZIUW7Qj1htxW8rX+B4XqU36WFUXe6RcK8PcPFhEFToeej9qqF+k4caz8jY3Q5aS2PXZzNGksfv9fi1ArbjKeV2VioAPMdeqegZtEO1PZOesqOVBG5n506mdexUmxCTZ9B+qSPSZtsTGdYm+AWW60o9xk93sI+Wmw6rpx3g19g/fU/HuIt2IX46QQcjjPNwBGxAm80ge1hQzTD+BRxX1rdFzMYj4EMlV30SCz59QQ8X+Hc+jw67qF3N6/302UxidrWs7Ye8y8GRW0LzdgBUgwVTdYTeRF/guXP3ZYqYlautpbXN9y0Pu7CsB5ws+pK/YlxOsCLOQZ3wHuSWUPkAjMbrZ6BS5TgXc1Qc7n0LtvMldKRWcel20PrbwSxBNpPspaqocmTj7mkMhGZV974F+8zz3zmswA5OY4tPDB/QOq/DM3rk+nMqjtZ/QpvNJEmW1FsRc+ngX+qEmuNWLn28SMur/9/bN81tZvfW1vBY/ca3RTOrNtt+yLy1dS2HTfQnQL1swQIwL+V6OdWV0Lz1gM8HsPwP+G3kSavlM2TRXzkfGMJN6UiQzRxSMkaClIy9MUQuMSKXGJFLjMglRuQSI3KJEbnEiFxiRC4xIpcYkUuMyCVG5BIjDXJESIMc8f3cKHJaJkbkEiNyiRG5xIhcYkQuMSKXGJFLjMglRuQSI3KJEbnEiFxiRC4xqcl1r0Ptb1ZMyVaBG+S02easa88zlC0ducMuvh95QSGIgnKPcVHu4iVCgRvktNmAze15BrMlefx+e5ZrDwrdILdCtNJhc3vevrJl2CC3GeYGOV17nsls2cidPqD/Y94hVfAGuShL2fSYzJZB4Yk/v8Lx0NT9AYJ6ovVlXEGDnOmisQVbZNOSfbZ0j9ypg7pVwyjc9rKJIjTIzdk2m5bss6Und9iFVe6jPonOP8VukAOwIZsek9nSOS1PHdSrwEDF9y8Vt0EO2mxaTGZLsqTWES6XjqXADXLabGHiLoX2lC3OW2pygZhXOGgg2N9mq94k+i3BHyH4TOI/6BbsKlebbU6sXKX2kS3OmzTIkSANcm8MkUuMyCVG5BIjcokRucSIXGJELjEilxiRS4zIJUbkEiNyiRG5xEiDHBHSIEd8PzeKnJaJEbnEiFxiRC4xIpcYkUuMyCVG5BIjcokRucSIXGJELjEilxiRS0xKciMNaVa0hAsFbpDTZUuQvdANctMHjM9eWtY8Z4TaUk1egRvkdNm02dka5CY9ZYeenqdqkItk027nbJA7XlTx8DXIHWtqhkLbDWbLoGQMcP/zi7j89pegQe5U1yB3UogGueVs+u0ms6V25M5u6osFw8Npwr6moMJnPXe5OHJ12XbKvodsqcktNfqLRcXJ/bpVY4SCNMjpsu2UvVANciGq3xQG7Ra+38xA0SAXYjmbfnvxG+Q0FLpB7rUUvUHOczrLlwbRpX6BG+R02bTZi94g5wcKN6zFXMMVtEFOmy1JdmmQyx72Jw6kQe4NIXKJEbnEiFxiRC4xIpcYkUuMyCVG5BIjcokRucSIXGJELjEil5jYf4kRV1jFwLt372izxbFyP1fgQU7LxIhcYkQuMSKXGJFLjMglRuQSI3KJ+R+0D0wbN/jPuAAAAABJRU5ErkJggg==)"
      ],
      "metadata": {
        "id": "Xf8V4jqq0tLt"
      }
    },
    {
      "cell_type": "code",
      "source": [
        "stock = {'시가':[100,200,300]\n",
        "         ,'종가':[80,210,330]}"
      ],
      "metadata": {
        "id": "8wxspD4c0uBh"
      },
      "execution_count": null,
      "outputs": []
    },
    {
      "cell_type": "markdown",
      "source": [
        "184\n",
        "아래 표를 stock 이라는 이름의 딕셔너리로 표현하라. 날짜를 key로 저장하고, 나머지 같은 행의 데이터를 리스트로 저장해서 value로 저장한다. 첫 열이 날짜이다."
      ],
      "metadata": {
        "id": "axYtR9-s1HHs"
      }
    },
    {
      "cell_type": "markdown",
      "source": [
        "![image.png](data:image/png;base64,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)"
      ],
      "metadata": {
        "id": "0cKzpDci1I65"
      }
    },
    {
      "cell_type": "code",
      "source": [
        "# 날짜를 키로 # 행데이터를 리스트형태의 벨류로 저장\n",
        "stock = {'10/10':[80,110,70,90],\n",
        "         '10/11':[210,230,190,200]}"
      ],
      "metadata": {
        "id": "MeexeY1H1LKU"
      },
      "execution_count": null,
      "outputs": []
    },
    {
      "cell_type": "markdown",
      "source": [
        "185\n",
        "리스트에 저장된 데이터를 아래와 같이 출력하라."
      ],
      "metadata": {
        "id": "C_wfmdNR1rgP"
      }
    },
    {
      "cell_type": "code",
      "source": [
        "apart = [ [101, 102], [201, 202], [301, 302] ]\n",
        "for i in apart:\n",
        "  for j in i:\n",
        "    print(j, \"호\")"
      ],
      "metadata": {
        "id": "-8kY1Oqr1r48"
      },
      "execution_count": null,
      "outputs": []
    },
    {
      "cell_type": "markdown",
      "source": [
        "186\n",
        "리스트에 저장된 데이터를 아래와 같이 출력하라."
      ],
      "metadata": {
        "id": "K_Y5GeDR16c4"
      }
    },
    {
      "cell_type": "code",
      "source": [
        "apart = [ [101, 102], [201, 202], [301, 302] ]\n",
        "\n",
        "for i in reversed(apart):\n",
        "  for j in i:\n",
        "    print(j, \"호\")\n",
        "  "
      ],
      "metadata": {
        "colab": {
          "base_uri": "https://localhost:8080/"
        },
        "id": "d0SFKRgb17XA",
        "outputId": "afcbb758-8d70-49c9-d1fd-af484d5ee8c0"
      },
      "execution_count": null,
      "outputs": [
        {
          "output_type": "stream",
          "name": "stdout",
          "text": [
            "301 호\n",
            "302 호\n",
            "201 호\n",
            "202 호\n",
            "101 호\n",
            "102 호\n"
          ]
        }
      ]
    },
    {
      "cell_type": "markdown",
      "source": [
        "187\n",
        "리스트에 저장된 데이터를 아래와 같이 출력하라."
      ],
      "metadata": {
        "id": "ydpHRA4u3hzB"
      }
    },
    {
      "cell_type": "code",
      "source": [
        "for row in apart[::-1]:\n",
        "    for col in row[::-1]:\n",
        "        print(col, \"호\")"
      ],
      "metadata": {
        "colab": {
          "base_uri": "https://localhost:8080/"
        },
        "id": "G14L2CqR3ism",
        "outputId": "4d5298f8-0d97-4e6b-e159-ce400a7773e3"
      },
      "execution_count": null,
      "outputs": [
        {
          "output_type": "stream",
          "name": "stdout",
          "text": [
            "302 호\n",
            "301 호\n",
            "202 호\n",
            "201 호\n",
            "102 호\n",
            "101 호\n"
          ]
        }
      ]
    },
    {
      "cell_type": "markdown",
      "source": [
        "188\n",
        "리스트에 저장된 데이터를 아래와 같이 출력하라."
      ],
      "metadata": {
        "id": "3kd0shSJ3zzT"
      }
    },
    {
      "cell_type": "code",
      "source": [
        "apart = [ [101, 102], [201, 202], [301, 302] ]\n",
        "for i in apart:\n",
        "  for j in i:\n",
        "    print(j, '호')\n",
        "    print(\"----\")"
      ],
      "metadata": {
        "colab": {
          "base_uri": "https://localhost:8080/"
        },
        "id": "TCGDhZCA30I3",
        "outputId": "07e03684-7996-494c-d1f4-4b75b0f449b5"
      },
      "execution_count": null,
      "outputs": [
        {
          "output_type": "stream",
          "name": "stdout",
          "text": [
            "101 호\n",
            "----\n",
            "102 호\n",
            "----\n",
            "201 호\n",
            "----\n",
            "202 호\n",
            "----\n",
            "301 호\n",
            "----\n",
            "302 호\n",
            "----\n"
          ]
        }
      ]
    },
    {
      "cell_type": "markdown",
      "source": [
        "189\n",
        "리스트에 저장된 데이터를 아래와 같이 출력하라."
      ],
      "metadata": {
        "id": "3-CKE6Yq4Dfo"
      }
    },
    {
      "cell_type": "code",
      "source": [
        "apart = [ [101, 102], [201, 202], [301, 302] ]\n",
        "for i in apart:\n",
        "  for j in i:\n",
        "    print(j, '호')\n",
        "  print(\"----\")"
      ],
      "metadata": {
        "colab": {
          "base_uri": "https://localhost:8080/"
        },
        "id": "ieuX4FSG4Emy",
        "outputId": "3edb66b9-9451-4bcc-93ba-dd7fa2c4c07d"
      },
      "execution_count": null,
      "outputs": [
        {
          "output_type": "stream",
          "name": "stdout",
          "text": [
            "101 호\n",
            "102 호\n",
            "----\n",
            "201 호\n",
            "202 호\n",
            "----\n",
            "301 호\n",
            "302 호\n",
            "----\n"
          ]
        }
      ]
    },
    {
      "cell_type": "markdown",
      "source": [
        "190\n",
        "리스트에 저장된 데이터를 아래와 같이 출력하라."
      ],
      "metadata": {
        "id": "B0L98p3i4Owk"
      }
    },
    {
      "cell_type": "code",
      "source": [
        "apart = [ [101, 102], [201, 202], [301, 302] ]\n",
        "for i in apart:\n",
        "  for j in i:\n",
        "    print(j, '호')\n",
        "print(\"-\"*5)"
      ],
      "metadata": {
        "colab": {
          "base_uri": "https://localhost:8080/"
        },
        "id": "5Re0WzRl4PgP",
        "outputId": "5c03eb40-9dd3-4b0e-d706-b4479345df32"
      },
      "execution_count": null,
      "outputs": [
        {
          "output_type": "stream",
          "name": "stdout",
          "text": [
            "101 호\n",
            "102 호\n",
            "201 호\n",
            "202 호\n",
            "301 호\n",
            "302 호\n",
            "-----\n"
          ]
        }
      ]
    },
    {
      "cell_type": "markdown",
      "source": [
        "191\n",
        "data에는 매수한 종목들의 OHLC (open/high/low/close) 가격 정보가 바인딩 되어있다."
      ],
      "metadata": {
        "id": "VCHXNe5G4aa0"
      }
    },
    {
      "cell_type": "code",
      "source": [
        "data = [\n",
        "    [ 2000,  3050,  2050,  1980],\n",
        "    [ 7500,  2050,  2050,  1980],\n",
        "    [15450, 15050, 15550, 14900]\n",
        "]\n",
        "\n",
        "for i in data:\n",
        "  for j in i:\n",
        "    print(j+j*(14/1000/100))"
      ],
      "metadata": {
        "colab": {
          "base_uri": "https://localhost:8080/"
        },
        "id": "LU7Ft2pP4cho",
        "outputId": "76961657-384c-4901-d705-67e8bff8d0ea"
      },
      "execution_count": null,
      "outputs": [
        {
          "output_type": "stream",
          "name": "stdout",
          "text": [
            "2000.28\n",
            "3050.427\n",
            "2050.287\n",
            "1980.2772\n",
            "7501.05\n",
            "2050.287\n",
            "2050.287\n",
            "1980.2772\n",
            "15452.163\n",
            "15052.107\n",
            "15552.177\n",
            "14902.086\n"
          ]
        }
      ]
    },
    {
      "cell_type": "markdown",
      "source": [
        "192\n",
        "191번의 출력 결과에 행단위로 \"----\" 구분자를 추가하라."
      ],
      "metadata": {
        "id": "Dg88FRKx5hoi"
      }
    },
    {
      "cell_type": "code",
      "source": [
        "data = [\n",
        "    [ 2000,  3050,  2050,  1980],\n",
        "    [ 7500,  2050,  2050,  1980],\n",
        "    [15450, 15050, 15550, 14900]\n",
        "]\n",
        "\n",
        "for i in data:\n",
        "  for j in i:\n",
        "    print(j+j*(14/1000/100))\n",
        "  print('-'*5)"
      ],
      "metadata": {
        "colab": {
          "base_uri": "https://localhost:8080/"
        },
        "id": "BnJ9X25V5jEc",
        "outputId": "1b8a5cd3-3c28-42a7-bdf2-1ee9f4904969"
      },
      "execution_count": null,
      "outputs": [
        {
          "output_type": "stream",
          "name": "stdout",
          "text": [
            "2000.28\n",
            "3050.427\n",
            "2050.287\n",
            "1980.2772\n",
            "-----\n",
            "7501.05\n",
            "2050.287\n",
            "2050.287\n",
            "1980.2772\n",
            "-----\n",
            "15452.163\n",
            "15052.107\n",
            "15552.177\n",
            "14902.086\n",
            "-----\n"
          ]
        }
      ]
    },
    {
      "cell_type": "markdown",
      "source": [
        "193\n",
        "192 번 문제의 결괏값을 result 이름의 리스트에 1차원 배열로 저장하라."
      ],
      "metadata": {
        "id": "VKSeoxQV5o7I"
      }
    },
    {
      "cell_type": "code",
      "source": [
        "data = [\n",
        "    [ 2000,  3050,  2050,  1980],\n",
        "    [ 7500,  2050,  2050,  1980],\n",
        "    [15450, 15050, 15550, 14900]\n",
        "]\n",
        "result = []\n",
        "for i in data:\n",
        "  for j in i:\n",
        "    result.append(j+j*(14/1000/100))\n",
        "\n",
        "result"
      ],
      "metadata": {
        "colab": {
          "base_uri": "https://localhost:8080/"
        },
        "id": "GmAU3vdZ5psO",
        "outputId": "892d1831-cea2-469d-da2a-f39186e3595a"
      },
      "execution_count": null,
      "outputs": [
        {
          "output_type": "execute_result",
          "data": {
            "text/plain": [
              "[2000.28,\n",
              " 3050.427,\n",
              " 2050.287,\n",
              " 1980.2772,\n",
              " 7501.05,\n",
              " 2050.287,\n",
              " 2050.287,\n",
              " 1980.2772,\n",
              " 15452.163,\n",
              " 15052.107,\n",
              " 15552.177,\n",
              " 14902.086]"
            ]
          },
          "metadata": {},
          "execution_count": 25
        }
      ]
    },
    {
      "cell_type": "markdown",
      "source": [
        "194\n",
        "191번 문제의 결괏값을 result 이름의 리스트에 2차원 배열로 저장하라. 저장 포맷은 아래와 같다. 각 행에 대한 데이터끼리 리스트에 저장되어야 한다."
      ],
      "metadata": {
        "id": "jUzxVcB7nxXW"
      }
    },
    {
      "cell_type": "code",
      "source": [
        "data = [\n",
        "    [ 2000,  3050,  2050,  1980],\n",
        "    [ 7500,  2050,  2050,  1980],\n",
        "    [15450, 15050, 15550, 14900]\n",
        "]\n",
        "result = []\n",
        "for i in data:\n",
        "  sub=[]\n",
        "  for j in i:\n",
        "    sub.append(j+j*(14/1000/100))\n",
        "  result.append(sub)\n",
        "\n",
        "result"
      ],
      "metadata": {
        "colab": {
          "base_uri": "https://localhost:8080/"
        },
        "id": "CJvEeHepn1Ln",
        "outputId": "2a0cd394-f440-4033-e711-da9338302f65"
      },
      "execution_count": null,
      "outputs": [
        {
          "output_type": "execute_result",
          "data": {
            "text/plain": [
              "[[2000.28, 3050.427, 2050.287, 1980.2772],\n",
              " [7501.05, 2050.287, 2050.287, 1980.2772],\n",
              " [15452.163, 15052.107, 15552.177, 14902.086]]"
            ]
          },
          "metadata": {},
          "execution_count": 3
        }
      ]
    },
    {
      "cell_type": "markdown",
      "source": [
        "195\n",
        "ohlc 리스트에는 시가(open), 고가 (high), 저가 (low) , 종가(close)가 날짜별로 저장돼 있다. 화면에 종가데이터를 출력하라."
      ],
      "metadata": {
        "id": "oZxC7H7UoeWm"
      }
    },
    {
      "cell_type": "code",
      "source": [
        "ohlc = [[\"open\", \"high\", \"low\", \"close\"],\n",
        "        [100, 110, 70, 100],\n",
        "        [200, 210, 180, 190],\n",
        "        [300, 310, 300, 310]]\n",
        "        "
      ],
      "metadata": {
        "id": "iaXU5Do5ogHK"
      },
      "execution_count": null,
      "outputs": []
    },
    {
      "cell_type": "code",
      "source": [
        "for i in ohlc[1:]:\n",
        "  print(i[3])"
      ],
      "metadata": {
        "colab": {
          "base_uri": "https://localhost:8080/"
        },
        "id": "eL3TwtdtpMDe",
        "outputId": "e25bccda-9acc-4c57-ac84-c9db792fb7bf"
      },
      "execution_count": null,
      "outputs": [
        {
          "output_type": "stream",
          "name": "stdout",
          "text": [
            "100\n",
            "190\n",
            "310\n"
          ]
        }
      ]
    },
    {
      "cell_type": "markdown",
      "source": [
        "196\n",
        "ohlc 리스트에는 시가(open), 고가 (high), 저가 (low) , 종가(close)가 날짜별로 저장돼 있다. 종가가 150원보다 큰경우에만 종가를 출력하라."
      ],
      "metadata": {
        "id": "mSGAC5qcpz2d"
      }
    },
    {
      "cell_type": "code",
      "source": [
        "ohlc = [[\"open\", \"high\", \"low\", \"close\"],\n",
        "        [100, 110, 70, 100],\n",
        "        [200, 210, 180, 190],\n",
        "        [300, 310, 300, 310]]\n",
        "\n",
        "for i in ohlc[1:]:\n",
        "  if i[3] > 150:\n",
        "    print(i[3])"
      ],
      "metadata": {
        "colab": {
          "base_uri": "https://localhost:8080/"
        },
        "id": "Vs3oHFvm28V3",
        "outputId": "b9e49687-6955-4c30-f8c0-7dbe7cf7c699"
      },
      "execution_count": 2,
      "outputs": [
        {
          "output_type": "stream",
          "name": "stdout",
          "text": [
            "190\n",
            "310\n"
          ]
        }
      ]
    },
    {
      "cell_type": "markdown",
      "source": [
        "197 ohlc 리스트에는 시가(open), 고가 (high), 저가 (low) , 종가(close)가 날짜별로 저장돼 있다. 종가가 시가 보다 크거나 같은 경우에만 종가를 출력하라."
      ],
      "metadata": {
        "id": "UpywsEFY3Uoz"
      }
    },
    {
      "cell_type": "code",
      "source": [
        "ohlc = [[\"open\", \"high\", \"low\", \"close\"],\n",
        "        [100, 110, 70, 100],\n",
        "        [200, 210, 180, 190],\n",
        "        [300, 310, 300, 310]]\n",
        "\n",
        "for i in ohlc[1:]:\n",
        "  if i[3] >= i[0]:\n",
        "    print(i[3])"
      ],
      "metadata": {
        "colab": {
          "base_uri": "https://localhost:8080/"
        },
        "id": "ciQ9azwS3VP8",
        "outputId": "341554ed-078a-4d77-9b72-836235204bc9"
      },
      "execution_count": 3,
      "outputs": [
        {
          "output_type": "stream",
          "name": "stdout",
          "text": [
            "100\n",
            "310\n"
          ]
        }
      ]
    },
    {
      "cell_type": "markdown",
      "source": [
        "198\n",
        "ohlc 리스트에는 시가(open), 고가 (high), 저가 (low) , 종가(close)가 날짜별로 저장돼 있다. 고가와 저가의 차이를 변동폭으로 정의할 때 변동폭을 volatility 이름의 리스트에 저장하라."
      ],
      "metadata": {
        "id": "PlrkdSxs3kf2"
      }
    },
    {
      "cell_type": "code",
      "source": [
        "ohlc = [[\"open\", \"high\", \"low\", \"close\"],\n",
        "        [100, 110, 70, 100],\n",
        "        [200, 210, 180, 190],\n",
        "        [300, 310, 300, 310]]\n",
        "volattility = []\n",
        "for i in ohlc[1:]:\n",
        "  volattility.append(i[1] - i[2])\n",
        "\n",
        "volattility"
      ],
      "metadata": {
        "colab": {
          "base_uri": "https://localhost:8080/"
        },
        "id": "-74Hp4VC3mjJ",
        "outputId": "cf8ddd1a-0b6a-4018-ed54-9eb130fd9783"
      },
      "execution_count": 4,
      "outputs": [
        {
          "output_type": "execute_result",
          "data": {
            "text/plain": [
              "[40, 30, 10]"
            ]
          },
          "metadata": {},
          "execution_count": 4
        }
      ]
    },
    {
      "cell_type": "markdown",
      "source": [
        "199\n",
        "리스트에는 3일 간의 ohlc 데이터가 저장돼 있다. 종가가 시가보다 높은 날의 변동성 (고가 - 저가)을 화면에 출력하라."
      ],
      "metadata": {
        "id": "KVBaWB4Y4HnK"
      }
    },
    {
      "cell_type": "code",
      "source": [
        "ohlc = [[\"open\", \"high\", \"low\", \"close\"],\n",
        "        [100, 110, 70, 100],\n",
        "        [200, 210, 180, 190],\n",
        "        [300, 310, 300, 310]]\n",
        "volattility = []\n",
        "for i in ohlc[1:]:\n",
        "  if i[3] > i[0]:\n",
        "    volattility.append(i[3]-i[0])\n",
        "\n",
        "volattility"
      ],
      "metadata": {
        "colab": {
          "base_uri": "https://localhost:8080/"
        },
        "id": "ZX2Ex1504IQn",
        "outputId": "5782df34-2294-4c10-ed07-0e643a2b012a"
      },
      "execution_count": 6,
      "outputs": [
        {
          "output_type": "execute_result",
          "data": {
            "text/plain": [
              "[10]"
            ]
          },
          "metadata": {},
          "execution_count": 6
        }
      ]
    },
    {
      "cell_type": "markdown",
      "source": [
        "200\n",
        "리스트에는 3일 간의 ohlc 데이터가 저장돼 있다. 시가에 매수해서 종가에 매도 했을 경우 총 수익금을 계산하라."
      ],
      "metadata": {
        "id": "nMt7EffF4q0r"
      }
    },
    {
      "cell_type": "code",
      "source": [
        "ohlc = [[\"open\", \"high\", \"low\", \"close\"],\n",
        "        [100, 110, 70, 100],\n",
        "        [200, 210, 180, 190],\n",
        "        [300, 310, 300, 310]]\n",
        "volattility = []\n",
        "for i in ohlc[1:]:\n",
        "  volattility.append(i[0] - i[3])\n",
        "\n",
        "sum(volattility)"
      ],
      "metadata": {
        "colab": {
          "base_uri": "https://localhost:8080/"
        },
        "id": "AT19QWyz4rjZ",
        "outputId": "d153ab81-fa7e-404a-a0a0-41fdb232f6eb"
      },
      "execution_count": 7,
      "outputs": [
        {
          "output_type": "execute_result",
          "data": {
            "text/plain": [
              "0"
            ]
          },
          "metadata": {},
          "execution_count": 7
        }
      ]
    }
  ]
}