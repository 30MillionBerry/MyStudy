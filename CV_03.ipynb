{
  "cells": [
    {
      "cell_type": "markdown",
      "metadata": {
        "id": "view-in-github",
        "colab_type": "text"
      },
      "source": [
        "<a href=\"https://colab.research.google.com/github/mohyunyang/MyStudy/blob/master/CV_03.ipynb\" target=\"_parent\"><img src=\"https://colab.research.google.com/assets/colab-badge.svg\" alt=\"Open In Colab\"/></a>"
      ]
    },
    {
      "cell_type": "code",
      "execution_count": null,
      "id": "fa4ed6c0",
      "metadata": {
        "id": "fa4ed6c0"
      },
      "outputs": [],
      "source": [
        "import cv2\n",
        "import numpy as np\n",
        "import sys"
      ]
    },
    {
      "cell_type": "markdown",
      "id": "7b87ef30",
      "metadata": {
        "id": "7b87ef30"
      },
      "source": [
        "# 원 그리기"
      ]
    },
    {
      "cell_type": "code",
      "execution_count": null,
      "id": "98c41b53",
      "metadata": {
        "id": "98c41b53"
      },
      "outputs": [],
      "source": [
        "img1 = cv2.imread('CV/fig/puppy.bmp')\n",
        "img2 = img1[200:400, 300:500] # (y축,x축)\n",
        "img3 = img2.copy()\n",
        "\n",
        "# circle(img, center, radius, color[, thickness[, lineType[, shift]]])\n",
        "cv2.circle(img2, (100,100),50, (0,0,255), 3, cv2.LINE_4)\n",
        "\n",
        "cv2.imshow('image', img1)\n",
        "cv2.imshow('image2', img2)\n",
        "cv2.imshow('image3', img3)\n",
        "\n",
        "cv2.waitKey()\n",
        "cv2.destroyAllWindows()"
      ]
    },
    {
      "cell_type": "code",
      "execution_count": null,
      "id": "6dc611c1",
      "metadata": {
        "id": "6dc611c1",
        "outputId": "d90dc24b-b154-4042-ff50-b69c17aea5ee"
      },
      "outputs": [
        {
          "data": {
            "text/plain": [
              "(200, 200, 3)"
            ]
          },
          "execution_count": 11,
          "metadata": {},
          "output_type": "execute_result"
        }
      ],
      "source": [
        "img2.shape"
      ]
    },
    {
      "cell_type": "markdown",
      "id": "4461de67",
      "metadata": {
        "id": "4461de67"
      },
      "source": [
        "## 작은 미션"
      ]
    },
    {
      "cell_type": "code",
      "execution_count": null,
      "id": "999c9d6f",
      "metadata": {
        "id": "999c9d6f",
        "outputId": "c6755b4f-4305-40b5-d93e-e50a65b62d04"
      },
      "outputs": [
        {
          "name": "stdout",
          "output_type": "stream",
          "text": [
            "[[[0 0 0]\n",
            "  [0 0 0]\n",
            "  [0 0 0]\n",
            "  ...\n",
            "  [0 0 0]\n",
            "  [0 0 0]\n",
            "  [0 0 0]]\n",
            "\n",
            " [[0 0 0]\n",
            "  [0 0 0]\n",
            "  [0 0 0]\n",
            "  ...\n",
            "  [0 0 0]\n",
            "  [0 0 0]\n",
            "  [0 0 0]]\n",
            "\n",
            " [[0 0 0]\n",
            "  [0 0 0]\n",
            "  [0 0 0]\n",
            "  ...\n",
            "  [0 0 0]\n",
            "  [0 0 0]\n",
            "  [0 0 0]]\n",
            "\n",
            " ...\n",
            "\n",
            " [[0 0 0]\n",
            "  [0 0 0]\n",
            "  [0 0 0]\n",
            "  ...\n",
            "  [0 0 0]\n",
            "  [0 0 0]\n",
            "  [0 0 0]]\n",
            "\n",
            " [[0 0 0]\n",
            "  [0 0 0]\n",
            "  [0 0 0]\n",
            "  ...\n",
            "  [0 0 0]\n",
            "  [0 0 0]\n",
            "  [0 0 0]]\n",
            "\n",
            " [[0 0 0]\n",
            "  [0 0 0]\n",
            "  [0 0 0]\n",
            "  ...\n",
            "  [0 0 0]\n",
            "  [0 0 0]\n",
            "  [0 0 0]]]\n"
          ]
        }
      ],
      "source": [
        "img1 = cv2.imread('CV/fig/puppy.bmp')\n",
        "\n",
        "img1[160:240, 230:500] = 0\n",
        "cv2.circle(img1, (320,200),30, (30,80,130), 6, cv2.LINE_4)\n",
        "cv2.circle(img1, (420,200),30, (30,80,130), 6, cv2.LINE_4)\n",
        "cv2.circle(img1, (320,200),10, (30,80,130), 12, cv2.LINE_4)\n",
        "cv2.circle(img1, (420,200),10, (30,80,130), 12, cv2.LINE_4)\n",
        "\n",
        "cv2.imshow('image', img1)\n",
        "\n",
        "cv2.waitKey()\n",
        "cv2.destroyAllWindows()"
      ]
    },
    {
      "cell_type": "markdown",
      "id": "9a0a8931",
      "metadata": {
        "id": "9a0a8931"
      },
      "source": [
        "# 합성"
      ]
    },
    {
      "cell_type": "code",
      "execution_count": null,
      "id": "4d7902c6",
      "metadata": {
        "id": "4d7902c6"
      },
      "outputs": [],
      "source": [
        "import cv2\n",
        "import numpy as np\n",
        "import sys"
      ]
    },
    {
      "cell_type": "code",
      "execution_count": null,
      "id": "14eaee8c",
      "metadata": {
        "id": "14eaee8c"
      },
      "outputs": [],
      "source": [
        "src = cv2.imread('CV/fig/airplane.bmp', cv2.IMREAD_COLOR)\n",
        "mask = cv2.imread('CV/fig/mask_plane.bmp',cv2.IMREAD_GRAYSCALE)\n",
        "dst = cv2.imread('CV/fig/field.bmp', cv2.IMREAD_COLOR)\n",
        "\n",
        "if src is None or mask is None or dst is None:\n",
        "    print('Image read failed')\n",
        "    sys.exit()\n",
        "    \n",
        "# copyTo(src, mask[, dst]) -> dst\n",
        "cv2.copyTo(src, mask, dst)\n",
        "# dst = cv2.copyTo(src, mask)\n",
        "    \n",
        "cv2.imshow('image1', src)\n",
        "cv2.imshow('image2', mask)\n",
        "cv2.imshow('image3', dst)\n",
        "\n",
        "cv2.waitKey()\n",
        "cv2.destroyAllWindows()"
      ]
    },
    {
      "cell_type": "code",
      "execution_count": null,
      "id": "84db0f3f",
      "metadata": {
        "id": "84db0f3f"
      },
      "outputs": [],
      "source": [
        "src = cv2.imread('CV/fig/cow.png')\n",
        "dst = cv2.imread('CV/fig/green.png')\n",
        "\n",
        "src_gray = cv2.cvtColor(src, cv2.COLOR_BGR2GRAY)\n",
        "\n",
        "# threshold(src, thresh, maxval, type[, dst]) -> retval, dst\n",
        "ret, src_mask = cv2.threshold(src_gray, 244, 255, cv2.THRESH_BINARY_INV)\n",
        "\n",
        "h,w = src.shape[:2]\n",
        "# print(\"h :\", h, \"w :\",w)\n",
        "\n",
        "dst = cv2.resize(dst, (w, h), interpolation = cv2.INTER_AREA)\n",
        "\n",
        "# copyTo(src, mask[, dst]) -> dst\n",
        "cv2.copyTo(src, src_mask, dst)\n",
        "\n",
        "cv2.imshow('src', src)\n",
        "cv2.imshow('src_gray', src_gray)\n",
        "cv2.imshow('src_mask', src_mask)\n",
        "cv2.imshow('dst', dst)\n",
        "\n",
        "cv2.waitKey()\n",
        "cv2.destroyAllWindows()"
      ]
    },
    {
      "cell_type": "markdown",
      "id": "a4a146ae",
      "metadata": {
        "id": "a4a146ae"
      },
      "source": [
        " 시도"
      ]
    },
    {
      "cell_type": "code",
      "execution_count": null,
      "id": "bc8e9032",
      "metadata": {
        "id": "bc8e9032"
      },
      "outputs": [],
      "source": [
        "src = cv2.imread('CV/fig/cow.png', cv2.IMREAD_COLOR)\n",
        "mask = cv2.imread('CV/fig/mask.png',cv2.IMREAD_GRAYSCALE)\n",
        "dst = cv2.imread('CV/fig/green.png', cv2.IMREAD_COLOR)\n",
        "\n",
        "cv2.namedWindow('dst', cv2.WINDOW_AUTOSIZE)\n",
        "cv2.copyTo(src, mask, dst)\n",
        "\n",
        "cv2.imshow('src', src)\n",
        "cv2.imshow('mask', mask)\n",
        "cv2.imshow('dst', dst)\n",
        "\n",
        "cv2.waitKey()\n",
        "cv2.destroyAllWindows()"
      ]
    },
    {
      "cell_type": "code",
      "execution_count": null,
      "id": "18e07ec5",
      "metadata": {
        "id": "18e07ec5"
      },
      "outputs": [],
      "source": [
        "src = cv2.imread('CV/fig/cow.png')\n",
        "dst = cv2.imread('CV/fig/green.png')\n",
        "\n",
        "src_gray = cv2.cvtColor(src, cv2.COLOR_BGR2GRAY)\n",
        "# threshold(src, thresh, maxval, type[, dst]) -> retval, dst\n",
        "ret, src_mask = cv2.threshold(src_gray, 244, 255, cv2.THRESH_BINARY_INV)\n",
        "\n",
        "h,w = src.shape[:2]\n",
        "# print(\"h :\", h, \"w :\",w)\n",
        "\n",
        "dst_crop = dst[400:400+h, 700:700+w]\n",
        "#dst = cv2.resize(dst, (w, h), interpolation = cv2.INTER_AREA)\n",
        "\n",
        "# copyTo(src, mask[, dst]) -> dst\n",
        "cv2.copyTo(src, src_mask, dst_crop)\n",
        "\n",
        "cv2.imshow('dst', dst)\n",
        "\n",
        "cv2.waitKey()\n",
        "cv2.destroyAllWindows()"
      ]
    },
    {
      "cell_type": "code",
      "execution_count": null,
      "id": "8bd8c3bf",
      "metadata": {
        "id": "8bd8c3bf",
        "outputId": "66e53a8d-ebba-400c-e5ef-021d726ca9ab"
      },
      "outputs": [
        {
          "data": {
            "text/plain": [
              "(600, 600, 3)"
            ]
          },
          "execution_count": 154,
          "metadata": {},
          "output_type": "execute_result"
        }
      ],
      "source": [
        "src.shape"
      ]
    }
  ],
  "metadata": {
    "kernelspec": {
      "display_name": "Python 3 (ipykernel)",
      "language": "python",
      "name": "python3"
    },
    "language_info": {
      "codemirror_mode": {
        "name": "ipython",
        "version": 3
      },
      "file_extension": ".py",
      "mimetype": "text/x-python",
      "name": "python",
      "nbconvert_exporter": "python",
      "pygments_lexer": "ipython3",
      "version": "3.9.7"
    },
    "colab": {
      "name": "CV_03.ipynb",
      "provenance": [],
      "include_colab_link": true
    }
  },
  "nbformat": 4,
  "nbformat_minor": 5
}