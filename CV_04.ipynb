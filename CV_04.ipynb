{
  "cells": [
    {
      "cell_type": "markdown",
      "metadata": {
        "id": "view-in-github",
        "colab_type": "text"
      },
      "source": [
        "<a href=\"https://colab.research.google.com/github/mohyunyang/MyStudy/blob/master/CV_04.ipynb\" target=\"_parent\"><img src=\"https://colab.research.google.com/assets/colab-badge.svg\" alt=\"Open In Colab\"/></a>"
      ]
    },
    {
      "cell_type": "code",
      "execution_count": null,
      "id": "e8a3f7bd",
      "metadata": {
        "id": "e8a3f7bd"
      },
      "outputs": [],
      "source": [
        "import cv2\n",
        "import matplotlib.pyplot as plt\n",
        "import numpy as np\n",
        "import os \n",
        "import glob\n",
        "import sys"
      ]
    },
    {
      "cell_type": "code",
      "execution_count": null,
      "id": "40c06b39",
      "metadata": {
        "id": "40c06b39"
      },
      "outputs": [],
      "source": [
        "src = cv2.imread('CV/fig/puppy.bmp')\n",
        "sunglass = cv2.imread('CV/fig/fig/fig/imgbin_sunglasses_1.png', cv2.IMREAD_UNCHANGED)\n",
        "sunglass = cv2.resize(sunglass, (300,150))\n",
        "\n",
        "mask = sunglass[:, :, -1]\n",
        "glass = sunglass[:, :, 0:3]\n",
        "\n",
        "h, w = mask.shape[:2]\n",
        "\n",
        "src_crop = src[120:120+h, 220:220+w]\n",
        "src_crop[mask > 0] = (0, 0, 255)\n",
        "\n",
        "# cv2.copyTo(glass, mask, src_crop)\n",
        "\n",
        "cv2.imshow('src', src)\n",
        "cv2.imshow('mask', mask)\n",
        "cv2.imshow('glass', glass)\n",
        "cv2.imshow('src_crop', src_crop)\n",
        "\n",
        "cv2.waitKey()\n",
        "cv2.destroyAllWindows()"
      ]
    },
    {
      "cell_type": "code",
      "execution_count": null,
      "id": "d5a4a42d",
      "metadata": {
        "id": "d5a4a42d"
      },
      "outputs": [],
      "source": [
        "src = cv2.imread('CV/fig/fig/fig/na.jpg')\n",
        "hat = cv2.imread('CV/fig/fig/fig/imgbin_hat.png', cv2.IMREAD_UNCHANGED)\n",
        "\n",
        "src = cv2.resize(src, (550,700))\n",
        "hat = cv2.resize(hat, (550,700))\n",
        "\n",
        "mask = hat[:, :, -1]\n",
        "hat = hat[:, :, 0:3]\n",
        "\n",
        "h, w = mask.shape[:2]\n",
        "\n",
        "src_crop = src[0:0+h, 0:0+w]\n",
        "\n",
        "cv2.copyTo(hat, mask, src_crop)\n",
        "\n",
        "cv2.imshow('src', src)\n",
        "cv2.imshow('mask', mask)\n",
        "cv2.imshow('src_crop', src_crop)\n",
        "\n",
        "cv2.waitKey()\n",
        "cv2.destroyAllWindows()"
      ]
    },
    {
      "cell_type": "code",
      "execution_count": null,
      "id": "fa0a7f4c",
      "metadata": {
        "id": "fa0a7f4c"
      },
      "outputs": [],
      "source": [
        "img = np.full((600, 800, 3), (255, 255, 255), dtype = np.uint8)\n",
        "\n",
        "# line(img, pt1, pt2, color[, thickness[, lineType[, shift]]]) -> img\n",
        "cv2.line(img, (50,50), (200,50), (0, 0, 255), 3)\n",
        "cv2.line(img, (200,50), (200,200), (0, 0, 255), 3)\n",
        "cv2.line(img, (220,50), (220,200), (0, 0, 255), 3)\n",
        "\n",
        "cv2.rectangle(img, (50, 400), (400, 600), (0, 0, 255), -1)\n",
        "cv2.rectangle(img, (60, 450, 300, 100), (255, 255, 255), -1)\n",
        "\n",
        "cv2.circle(img, (600,300), 50, (0, 0, 255), 10, cv2.LINE_AA)\n",
        "\n",
        "cv2.ellipse(img, (600,300), (50, 100), 30, 0, 270, (170,50,255), 9, cv2.LINE_AA)\n",
        "cv2.putText(img, 'OpenCV', (90, 520), cv2.FONT_HERSHEY_COMPLEX, 2, (133, 133, 40), 4, cv2.LINE_AA)\n",
        "\n",
        "cv2.imshow('image', img)\n",
        "\n",
        "cv2.waitKey()\n",
        "cv2.destroyAllWindows()"
      ]
    },
    {
      "cell_type": "code",
      "execution_count": null,
      "id": "bdb37ee1",
      "metadata": {
        "id": "bdb37ee1"
      },
      "outputs": [],
      "source": [
        "img = np.full((600, 800, 3), (255, 255, 255), dtype = np.uint8)\n",
        "\n",
        "cv2.ellipse(img, (200,300), (70, 100), 0, 0, 110, (170,50,255), 9, cv2.LINE_AA)\n",
        "cv2.ellipse(img, (200,300), (70, 100), 0, 0, -20, (170,50,255), 9, cv2.LINE_AA)\n",
        "cv2.ellipse(img, (350,300), (90, 100), 40, 0, 110, (170,50,255), 9, cv2.LINE_AA)\n",
        "\n",
        "cv2.ellipse(img, (600,300), (90, 50), 0, -90, 90, (170,50,255), 9, cv2.LINE_AA)\n",
        "cv2.ellipse(img, (600,200), (90, 50), 0, -90, 90, (170,50,255), 9, cv2.LINE_AA)\n",
        "\n",
        "cv2.imshow('image', img)\n",
        "\n",
        "cv2.waitKey()\n",
        "cv2.destroyAllWindows()"
      ]
    }
  ],
  "metadata": {
    "kernelspec": {
      "display_name": "Python 3 (ipykernel)",
      "language": "python",
      "name": "python3"
    },
    "language_info": {
      "codemirror_mode": {
        "name": "ipython",
        "version": 3
      },
      "file_extension": ".py",
      "mimetype": "text/x-python",
      "name": "python",
      "nbconvert_exporter": "python",
      "pygments_lexer": "ipython3",
      "version": "3.9.7"
    },
    "colab": {
      "name": "CV_04.ipynb",
      "provenance": [],
      "include_colab_link": true
    }
  },
  "nbformat": 4,
  "nbformat_minor": 5
}