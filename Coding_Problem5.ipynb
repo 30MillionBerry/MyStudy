{
  "nbformat": 4,
  "nbformat_minor": 0,
  "metadata": {
    "colab": {
      "name": "Coding_Problem5.ipynb",
      "provenance": [],
      "authorship_tag": "ABX9TyMkHJgMpO5nqBTigkFGCtTl",
      "include_colab_link": true
    },
    "kernelspec": {
      "name": "python3",
      "display_name": "Python 3"
    },
    "language_info": {
      "name": "python"
    }
  },
  "cells": [
    {
      "cell_type": "markdown",
      "metadata": {
        "id": "view-in-github",
        "colab_type": "text"
      },
      "source": [
        "<a href=\"https://colab.research.google.com/github/mohyunyang/MyStudy/blob/master/Coding_Problem5.ipynb\" target=\"_parent\"><img src=\"https://colab.research.google.com/assets/colab-badge.svg\" alt=\"Open In Colab\"/></a>"
      ]
    },
    {
      "cell_type": "markdown",
      "source": [
        "0보다 크거나 같고, 99보다 작거나 같은 정수가 주어질 때 다음과 같은 연산을 할 수 있다. 먼저 주어진 수가 10보다 작다면 앞에 0을 붙여 두 자리 수로 만들고, 각 자리의 숫자를 더한다. 그 다음, 주어진 수의 가장 오른쪽 자리 수와 앞에서 구한 합의 가장 오른쪽 자리 수를 이어 붙이면 새로운 수를 만들 수 있다. 다음 예를 보자.\n",
        "\n",
        "26부터 시작한다. 2+6 = 8이다. 새로운 수는 68이다. 6+8 = 14이다. 새로운 수는 84이다. 8+4 = 12이다. 새로운 수는 42이다. 4+2 = 6이다. 새로운 수는 26이다.\n",
        "\n",
        "위의 예는 4번만에 원래 수로 돌아올 수 있다. 따라서 26의 사이클의 길이는 4이다.\n",
        "\n",
        "N이 주어졌을 때, N의 사이클의 길이를 구하는 프로그램을 작성하시오."
      ],
      "metadata": {
        "id": "nhYSlTYxsYoF"
      }
    },
    {
      "cell_type": "markdown",
      "source": [
        "- 1번째 시도"
      ],
      "metadata": {
        "id": "x3njyM0Y2TDu"
      }
    },
    {
      "cell_type": "code",
      "source": [
        "num = int(input())\n",
        "def cycle(a):\n",
        "  whlie True:\n",
        "  if a < 10 :\n",
        "    # a뒤에 a를 붙여라\n",
        "    a = str(a) #\"8\"\n",
        "    a = a + a  #\"8\" + \"8\" = \"88\"\n",
        "    # a와 a를 더해라\n",
        "    b = int(a[0]) + int(a[1]) # 16\n",
        "    return (a[1] + str(b)[1])\n",
        "\n",
        "cycle(num)"
      ],
      "metadata": {
        "colab": {
          "base_uri": "https://localhost:8080/",
          "height": 52
        },
        "id": "eyEEbHlXxC_C",
        "outputId": "45877c5c-8ea1-4f94-ec39-5148bd97fc09"
      },
      "execution_count": 14,
      "outputs": [
        {
          "name": "stdout",
          "output_type": "stream",
          "text": [
            "8\n"
          ]
        },
        {
          "output_type": "execute_result",
          "data": {
            "text/plain": [
              "'86'"
            ],
            "application/vnd.google.colaboratory.intrinsic+json": {
              "type": "string"
            }
          },
          "metadata": {},
          "execution_count": 14
        }
      ]
    },
    {
      "cell_type": "markdown",
      "source": [
        "- 2번째 시도"
      ],
      "metadata": {
        "id": "jF2mF8j72WWB"
      }
    },
    {
      "cell_type": "code",
      "source": [
        "num = int(input())\n",
        "i = 0 \n",
        "while True:\n",
        "# 입력받은 숫자가 10보다 작을 때\n",
        "  if 10 > num:\n",
        "    num = num*10\n",
        "    for i in range(x):\n",
        "      # 26이면 \n",
        "      a = str(num) # 문자열로 만들고\n",
        "      # 26은 2 + 6, 8 \n",
        "      b = int(a[0]) + int(a[1]) # b = 8\n",
        "      # 6 + 8, 14\n",
        "      c = int(a[1]) + b # 6 + 8, c=14\n",
        "      # 8 + 4, 12\n",
        "      str(b) + str(c)[1]\n",
        "      # 4 + 2, 26\n",
        "      \n",
        "      \n",
        "# 10 이상일 떄\n",
        "  else:\n",
        "\n",
        "# 사이클 횟수를 기록하는 방법 i = 0, for문?\n",
        "\n",
        "# break 조건은 num과 같으면 중지"
      ],
      "metadata": {
        "id": "0q0pL7jhs5HU"
      },
      "execution_count": null,
      "outputs": []
    },
    {
      "cell_type": "code",
      "source": [
        "# 문자열만 인덱스 활용가능\n",
        "a = '26'\n",
        "a[0]"
      ],
      "metadata": {
        "colab": {
          "base_uri": "https://localhost:8080/",
          "height": 35
        },
        "id": "nJGNyBrtvJ0N",
        "outputId": "673e710d-bdb4-4ea3-f9d8-dc5366e22b4d"
      },
      "execution_count": 2,
      "outputs": [
        {
          "output_type": "execute_result",
          "data": {
            "text/plain": [
              "'2'"
            ],
            "application/vnd.google.colaboratory.intrinsic+json": {
              "type": "string"
            }
          },
          "metadata": {},
          "execution_count": 2
        }
      ]
    },
    {
      "cell_type": "code",
      "source": [
        "num = input()\n",
        "num*10"
      ],
      "metadata": {
        "colab": {
          "base_uri": "https://localhost:8080/",
          "height": 52
        },
        "id": "RQd3xsqAxfVY",
        "outputId": "d2b291e0-fe7e-4400-e6bb-1b70115a7e20"
      },
      "execution_count": 7,
      "outputs": [
        {
          "name": "stdout",
          "output_type": "stream",
          "text": [
            "5\n"
          ]
        },
        {
          "output_type": "execute_result",
          "data": {
            "text/plain": [
              "'5555555555'"
            ],
            "application/vnd.google.colaboratory.intrinsic+json": {
              "type": "string"
            }
          },
          "metadata": {},
          "execution_count": 7
        }
      ]
    },
    {
      "cell_type": "markdown",
      "source": [
        "- 3번째 시도"
      ],
      "metadata": {
        "id": "3PyPD-tq2YlR"
      }
    },
    {
      "cell_type": "code",
      "source": [
        "num = int(input()) # 88\n",
        "n = num \n",
        "cnt = 0\n",
        "\n",
        "while True:\n",
        "  # 88 중 십의자리 8\n",
        "  a = num//10\n",
        "  # 88 중 일의자리 8\n",
        "  b = num%10\n",
        "  # 둘을 더한 값의 일의 자리\n",
        "  c = (a+b)%10 # 6\n",
        "  # 십의 자리 8과 일의자리 6 더한 값을 다시 num으로\n",
        "  num = (b*10) + c\n",
        "  cnt = cnt + 1\n",
        "  if num == n:\n",
        "    break\n",
        "\n",
        "print(cnt)"
      ],
      "metadata": {
        "colab": {
          "base_uri": "https://localhost:8080/"
        },
        "id": "c7_lanUq2ZuE",
        "outputId": "6a66f7c4-76d3-43da-8b42-34d8fbaab8ca"
      },
      "execution_count": 19,
      "outputs": [
        {
          "output_type": "stream",
          "name": "stdout",
          "text": [
            "26\n",
            "4\n"
          ]
        }
      ]
    }
  ]
}