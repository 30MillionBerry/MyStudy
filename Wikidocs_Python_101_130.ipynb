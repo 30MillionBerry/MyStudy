{
  "nbformat": 4,
  "nbformat_minor": 0,
  "metadata": {
    "colab": {
      "name": "Wikidocs_Python_101-130.ipynb",
      "provenance": [],
      "collapsed_sections": [],
      "authorship_tag": "ABX9TyPbbXBWPKvJgt0tGxzmyspt",
      "include_colab_link": true
    },
    "kernelspec": {
      "name": "python3",
      "display_name": "Python 3"
    },
    "language_info": {
      "name": "python"
    }
  },
  "cells": [
    {
      "cell_type": "markdown",
      "metadata": {
        "id": "view-in-github",
        "colab_type": "text"
      },
      "source": [
        "<a href=\"https://colab.research.google.com/github/mohyunyang/MyStudy/blob/master/Wikidocs_Python_101_130.ipynb\" target=\"_parent\"><img src=\"https://colab.research.google.com/assets/colab-badge.svg\" alt=\"Open In Colab\"/></a>"
      ]
    },
    {
      "cell_type": "markdown",
      "source": [
        "101\n",
        "파이썬에서 True 혹은 False를 갖는 데이터 타입은 무엇인가?"
      ],
      "metadata": {
        "id": "x31MnMTkcB6l"
      }
    },
    {
      "cell_type": "code",
      "source": [
        "bool 타입"
      ],
      "metadata": {
        "id": "-FM21EwKtciR"
      },
      "execution_count": null,
      "outputs": []
    },
    {
      "cell_type": "markdown",
      "source": [
        "102\n",
        "아래 코드의 출력 결과를 예상하라"
      ],
      "metadata": {
        "id": "L85ig5QZthcC"
      }
    },
    {
      "cell_type": "code",
      "source": [
        "print(3 == 5)"
      ],
      "metadata": {
        "colab": {
          "base_uri": "https://localhost:8080/"
        },
        "id": "gUvSrbg0tiUE",
        "outputId": "22d10e47-7d52-4de9-9731-e76fd49b994e"
      },
      "execution_count": 1,
      "outputs": [
        {
          "output_type": "stream",
          "name": "stdout",
          "text": [
            "False\n"
          ]
        }
      ]
    },
    {
      "cell_type": "markdown",
      "source": [
        "103\n",
        "아래 코드의 출력 결과를 예상하라"
      ],
      "metadata": {
        "id": "GTzlTiJ3tlBj"
      }
    },
    {
      "cell_type": "code",
      "source": [
        "print(3 < 5)"
      ],
      "metadata": {
        "colab": {
          "base_uri": "https://localhost:8080/"
        },
        "id": "4oacL_rptmvv",
        "outputId": "deaed09d-0028-4dba-fdbf-4ca6efecb0eb"
      },
      "execution_count": 2,
      "outputs": [
        {
          "output_type": "stream",
          "name": "stdout",
          "text": [
            "True\n"
          ]
        }
      ]
    },
    {
      "cell_type": "markdown",
      "source": [
        "104\n",
        "아래 코드의 결과를 예상하라."
      ],
      "metadata": {
        "id": "hoMqkfCmtqO6"
      }
    },
    {
      "cell_type": "code",
      "source": [
        "x = 4\n",
        "print(1 < x < 5)"
      ],
      "metadata": {
        "colab": {
          "base_uri": "https://localhost:8080/"
        },
        "id": "ZDdU0G7Btq1E",
        "outputId": "17e07302-cb32-49be-8139-f110c27e4295"
      },
      "execution_count": 3,
      "outputs": [
        {
          "output_type": "stream",
          "name": "stdout",
          "text": [
            "True\n"
          ]
        }
      ]
    },
    {
      "cell_type": "markdown",
      "source": [
        "105\n",
        "아래 코드의 결과를 예상하라."
      ],
      "metadata": {
        "id": "6IGBzGvJtsRW"
      }
    },
    {
      "cell_type": "code",
      "source": [
        "print ((3 == 3) and (4 != 3))"
      ],
      "metadata": {
        "colab": {
          "base_uri": "https://localhost:8080/"
        },
        "id": "vN8DdX3ltuWO",
        "outputId": "794850c3-39a6-4dfa-845f-46f32ea22eda"
      },
      "execution_count": 4,
      "outputs": [
        {
          "output_type": "stream",
          "name": "stdout",
          "text": [
            "True\n"
          ]
        }
      ]
    },
    {
      "cell_type": "markdown",
      "source": [
        "106\n",
        "아래 코드에서 에러가 발생하는 원인에 대해 설명하라.\n",
        "\n"
      ],
      "metadata": {
        "id": "Jz1nHcvZtw5z"
      }
    },
    {
      "cell_type": "code",
      "source": [
        "print(3 => 4)"
      ],
      "metadata": {
        "colab": {
          "base_uri": "https://localhost:8080/",
          "height": 133
        },
        "id": "5anZxmTtt05S",
        "outputId": "0540164d-151e-4abc-c55d-68c9d72d12c9"
      },
      "execution_count": 5,
      "outputs": [
        {
          "output_type": "error",
          "ename": "SyntaxError",
          "evalue": "ignored",
          "traceback": [
            "\u001b[0;36m  File \u001b[0;32m\"<ipython-input-5-73d1778316a7>\"\u001b[0;36m, line \u001b[0;32m1\u001b[0m\n\u001b[0;31m    print(3 => 4)\u001b[0m\n\u001b[0m             ^\u001b[0m\n\u001b[0;31mSyntaxError\u001b[0m\u001b[0;31m:\u001b[0m invalid syntax\n"
          ]
        }
      ]
    },
    {
      "cell_type": "markdown",
      "source": [
        "107\n",
        "아래 코드의 출력 결과를 예상하라"
      ],
      "metadata": {
        "id": "ONQSLYWXt-G3"
      }
    },
    {
      "cell_type": "code",
      "source": [
        "if 4 < 3:\n",
        "    print(\"Hello World\")"
      ],
      "metadata": {
        "id": "ByhzrTett_la"
      },
      "execution_count": 6,
      "outputs": []
    },
    {
      "cell_type": "markdown",
      "source": [
        "108\n",
        "아래 코드의 출력 결과를 예상하라"
      ],
      "metadata": {
        "id": "3fShHFecuCuI"
      }
    },
    {
      "cell_type": "code",
      "source": [
        "if 4 < 3:\n",
        "    print(\"Hello World.\")\n",
        "else:\n",
        "    print(\"Hi, there.\")\n"
      ],
      "metadata": {
        "colab": {
          "base_uri": "https://localhost:8080/"
        },
        "id": "JHeWvPNRuEv_",
        "outputId": "68b0d819-ce5a-4def-cbcb-a0fb84bddf27"
      },
      "execution_count": 7,
      "outputs": [
        {
          "output_type": "stream",
          "name": "stdout",
          "text": [
            "Hi, there.\n"
          ]
        }
      ]
    },
    {
      "cell_type": "markdown",
      "source": [
        "109\n",
        "아래 코드의 출력 결과를 예상하라"
      ],
      "metadata": {
        "id": "JXQV5LSzuF4P"
      }
    },
    {
      "cell_type": "code",
      "source": [
        "if True :\n",
        "    print (\"1\")\n",
        "    print (\"2\")\n",
        "else :\n",
        "    print(\"3\")\n",
        "print(\"4\")"
      ],
      "metadata": {
        "colab": {
          "base_uri": "https://localhost:8080/"
        },
        "id": "nwnB_G_ruHK9",
        "outputId": "615e0e56-7b99-42a7-9d45-b3f7f22849d8"
      },
      "execution_count": 8,
      "outputs": [
        {
          "output_type": "stream",
          "name": "stdout",
          "text": [
            "1\n",
            "2\n",
            "4\n"
          ]
        }
      ]
    },
    {
      "cell_type": "markdown",
      "source": [
        "110\n",
        "아래 코드의 출력 결과를 예상하라"
      ],
      "metadata": {
        "id": "wOTG52PouOLg"
      }
    },
    {
      "cell_type": "code",
      "source": [
        "if True :\n",
        "    if False:\n",
        "        print(\"1\")\n",
        "        print(\"2\")\n",
        "    else:\n",
        "        print(\"3\")\n",
        "else :\n",
        "    print(\"4\")\n",
        "print(\"5\")"
      ],
      "metadata": {
        "colab": {
          "base_uri": "https://localhost:8080/"
        },
        "id": "bnvLfp2suPML",
        "outputId": "9a63e79e-87b3-4157-9991-e883742f0732"
      },
      "execution_count": 9,
      "outputs": [
        {
          "output_type": "stream",
          "name": "stdout",
          "text": [
            "3\n",
            "5\n"
          ]
        }
      ]
    },
    {
      "cell_type": "markdown",
      "source": [
        "111\n",
        "사용자로부터 입력받은 문자열을 두 번 출력하라. 아래는 사용자가 \"안녕하세요\"를 입력한 경우의 출력 결과이다."
      ],
      "metadata": {
        "id": "aWBYYfDFuU0c"
      }
    },
    {
      "cell_type": "code",
      "source": [
        "hi = input()\n",
        "print(hi*2)"
      ],
      "metadata": {
        "colab": {
          "base_uri": "https://localhost:8080/"
        },
        "id": "VgKB7S3ruViT",
        "outputId": "39b8d6b6-a978-43a9-b954-8b75bc9f3ada"
      },
      "execution_count": 11,
      "outputs": [
        {
          "output_type": "stream",
          "name": "stdout",
          "text": [
            "안녕하세요\n",
            "안녕하세요안녕하세요\n"
          ]
        }
      ]
    },
    {
      "cell_type": "markdown",
      "source": [
        "112\n",
        "사용자로부터 하나의 숫자를 입력받고, 입력 받은 숫자에 10을 더해 출력하라."
      ],
      "metadata": {
        "id": "BjZ4w6ZWun34"
      }
    },
    {
      "cell_type": "code",
      "source": [
        "num = int(input())\n",
        "print(num + 10)"
      ],
      "metadata": {
        "colab": {
          "base_uri": "https://localhost:8080/"
        },
        "id": "KqS6lbdxuo1V",
        "outputId": "70fb78eb-26ff-439a-f8fb-27c6819898fc"
      },
      "execution_count": 12,
      "outputs": [
        {
          "output_type": "stream",
          "name": "stdout",
          "text": [
            "30\n",
            "40\n"
          ]
        }
      ]
    },
    {
      "cell_type": "markdown",
      "source": [
        "113\n",
        "사용자로부터 하나의 숫자를 입력 받고 짝수/홀수를 판별하라."
      ],
      "metadata": {
        "id": "NdAv9VwquyFd"
      }
    },
    {
      "cell_type": "code",
      "source": [
        "num = int(input())\n",
        "if num % 2 ==0:\n",
        "  print('짝수')\n",
        "else:\n",
        "  print('홀수')"
      ],
      "metadata": {
        "colab": {
          "base_uri": "https://localhost:8080/"
        },
        "id": "CqGUXmQiuy4I",
        "outputId": "f62ae0ea-da0b-4413-b8c8-7038ef48d5a9"
      },
      "execution_count": 21,
      "outputs": [
        {
          "output_type": "stream",
          "name": "stdout",
          "text": [
            "30\n",
            "짝수\n"
          ]
        }
      ]
    },
    {
      "cell_type": "markdown",
      "source": [
        "114\n",
        "사용자로부터 값을 입력받은 후 해당 값에 20을 더한 값을 출력하라. 단 사용자가 입력한 값과 20을 더한 계산 값이 255를 초과하는 경우 255를 출력해야 한다."
      ],
      "metadata": {
        "id": "n6ZtEJrzvrAy"
      }
    },
    {
      "cell_type": "code",
      "source": [
        "num = int(input()) + 20\n",
        "if num <=255:\n",
        "  print(num)\n",
        "else:\n",
        "  print(255)"
      ],
      "metadata": {
        "colab": {
          "base_uri": "https://localhost:8080/"
        },
        "id": "euSq1HeuvscV",
        "outputId": "60bf6b8d-b4f5-44f1-bfaf-2a69716cfa47"
      },
      "execution_count": 23,
      "outputs": [
        {
          "output_type": "stream",
          "name": "stdout",
          "text": [
            "250\n",
            "255\n"
          ]
        }
      ]
    },
    {
      "cell_type": "markdown",
      "source": [
        "115\n",
        "사용자로부터 하나의 값을 입력받은 후 해당 값에 20을 뺀 값을 출력하라. 단 출력 값의 범위는 0~255이다. 예를 들어 결괏값이 0보다 작은 값이되는 경우 0을 출력하고 255보다 큰 값이 되는 경우 255를 출력해야 한다."
      ],
      "metadata": {
        "id": "kc74kXGBwGKV"
      }
    },
    {
      "cell_type": "code",
      "source": [
        "num = int(input()) - 20\n",
        "if 0 <= num <= 255:\n",
        "  print(num)\n",
        "elif num < 0:\n",
        "  print(0)\n",
        "else:\n",
        "  print(255)"
      ],
      "metadata": {
        "colab": {
          "base_uri": "https://localhost:8080/"
        },
        "id": "hNYovizuwJye",
        "outputId": "07e76b3c-5998-4128-d3af-b6885d8f5f99"
      },
      "execution_count": 26,
      "outputs": [
        {
          "output_type": "stream",
          "name": "stdout",
          "text": [
            "2666\n",
            "255\n"
          ]
        }
      ]
    },
    {
      "cell_type": "markdown",
      "source": [
        "116\n",
        "사용자로부터 입력 받은 시간이 정각인지 판별하라."
      ],
      "metadata": {
        "id": "pQuMsUS6wkQK"
      }
    },
    {
      "cell_type": "code",
      "source": [
        "num = int(input('현재시각03:'))\n",
        "if num ==0:\n",
        "  print('정각입니다')\n",
        "else:\n",
        "  print('정각이 아닙니다.')"
      ],
      "metadata": {
        "colab": {
          "base_uri": "https://localhost:8080/"
        },
        "id": "HkssU3RCwlrK",
        "outputId": "2964c91f-0ada-42e6-e78f-5b38ddc5a67b"
      },
      "execution_count": 29,
      "outputs": [
        {
          "output_type": "stream",
          "name": "stdout",
          "text": [
            "현재시각03:0\n",
            "정각입니다\n"
          ]
        }
      ]
    },
    {
      "cell_type": "markdown",
      "source": [
        "117\n",
        "사용자로 입력받은 단어가 아래 fruit 리스트에 포함되어 있는지를 확인하라. 포함되었다면 \"정답입니다\"를 아닐 경우 \"오답입니다\" 출력하라."
      ],
      "metadata": {
        "id": "RBNju6D7xEat"
      }
    },
    {
      "cell_type": "code",
      "source": [
        "fruit = [\"사과\", \"포도\", \"홍시\"]"
      ],
      "metadata": {
        "id": "X0yqs8j2xF4A"
      },
      "execution_count": 30,
      "outputs": []
    },
    {
      "cell_type": "code",
      "source": [
        "if input('제일 좋아하는 과일은?') in fruit:\n",
        "  print('정답입니다')\n",
        "else:\n",
        "  print('오답')"
      ],
      "metadata": {
        "colab": {
          "base_uri": "https://localhost:8080/"
        },
        "id": "G9LIC72HxHHZ",
        "outputId": "9a5ea00d-ebb5-4d8b-bc3c-40cec6e421ec"
      },
      "execution_count": 32,
      "outputs": [
        {
          "output_type": "stream",
          "name": "stdout",
          "text": [
            "제일 좋아하는 과일은?포도\n",
            "정답입니다\n"
          ]
        }
      ]
    },
    {
      "cell_type": "markdown",
      "source": [
        "118\n",
        "투자 경고 종목 리스트가 있을 때 사용자로부터 종목명을 입력 받은 후 해당 종목이 투자 경고 종목이라면 '투자 경고 종목입니다'를 아니면 \"투자 경고 종목이 아닙니다.\"를 출력하는 프로그램을 작성하라."
      ],
      "metadata": {
        "id": "VLZJp1ygxgP-"
      }
    },
    {
      "cell_type": "code",
      "source": [
        "warn_investment_list = [\"Microsoft\", \"Google\", \"Naver\", \"Kakao\", \"SAMSUNG\", \"LG\"]\n",
        "if input() in warn_investment_list:\n",
        "  print('투자 경고 종목입니다')\n",
        "else:\n",
        "  print('투자 경고 종목이 아닙니다')"
      ],
      "metadata": {
        "colab": {
          "base_uri": "https://localhost:8080/"
        },
        "id": "NbWVhTpBxhiR",
        "outputId": "86d7e2db-35c6-472e-ea77-ebb8e609678f"
      },
      "execution_count": 33,
      "outputs": [
        {
          "output_type": "stream",
          "name": "stdout",
          "text": [
            "Microsoft\n",
            "투자 경고 종목입니다\n"
          ]
        }
      ]
    },
    {
      "cell_type": "markdown",
      "source": [
        "119\n",
        "아래와 같이 fruit 딕셔너리가 정의되어 있다. 사용자가 입력한 값이 딕셔너리 키 (key) 값에 포함되었다면 \"정답입니다\"를 아닐 경우 \"오답입니다\" 출력하라."
      ],
      "metadata": {
        "id": "lUu8SqH2x0Iz"
      }
    },
    {
      "cell_type": "code",
      "source": [
        "fruit = {\"봄\" : \"딸기\", \"여름\" : \"토마토\", \"가을\" : \"사과\"}\n",
        "if input('제일 좋아하는 계절은:') in fruit.keys():\n",
        "  print('정답입니다')"
      ],
      "metadata": {
        "colab": {
          "base_uri": "https://localhost:8080/"
        },
        "id": "K8i9v_unx0of",
        "outputId": "c4f824ca-d324-46c5-8a21-884575718940"
      },
      "execution_count": 35,
      "outputs": [
        {
          "output_type": "stream",
          "name": "stdout",
          "text": [
            "제일 좋아하는 계절은:봄\n",
            "정답입니다\n"
          ]
        }
      ]
    },
    {
      "cell_type": "code",
      "source": [
        "fruit = {\"봄\" : \"딸기\", \"여름\" : \"토마토\", \"가을\" : \"사과\"}\n",
        "if input('제일 좋아하는 계절은:') in fruit:\n",
        "  print('정답입니다')"
      ],
      "metadata": {
        "colab": {
          "base_uri": "https://localhost:8080/"
        },
        "id": "6R789rszyLtA",
        "outputId": "4eef211d-d345-4530-d05f-013fd53a9eda"
      },
      "execution_count": 36,
      "outputs": [
        {
          "output_type": "stream",
          "name": "stdout",
          "text": [
            "제일 좋아하는 계절은:봄\n",
            "정답입니다\n"
          ]
        }
      ]
    },
    {
      "cell_type": "markdown",
      "source": [
        "120\n",
        "아래와 같이 fruit 딕셔너리가 정의되어 있다. 사용자가 입력한 값이 딕셔너리 값 (value)에 포함되었다면 \"정답입니다\"를 아닐 경우 \"오답입니다\" 출력하라."
      ],
      "metadata": {
        "id": "zDKQVHAgyN63"
      }
    },
    {
      "cell_type": "code",
      "source": [
        "fruit = {\"봄\" : \"딸기\", \"여름\" : \"토마토\", \"가을\" : \"사과\"}\n",
        "if input('제일 좋아하는 과일은:') in fruit.values():\n",
        "  print('정답입니다')\n",
        "else:\n",
        "  print('오답입니다')"
      ],
      "metadata": {
        "colab": {
          "base_uri": "https://localhost:8080/"
        },
        "id": "qKLM7diMyPin",
        "outputId": "a460f7fe-9a2c-4786-d494-22342913e5b7"
      },
      "execution_count": 38,
      "outputs": [
        {
          "output_type": "stream",
          "name": "stdout",
          "text": [
            "제일 좋아하는 과일은:딸기\n",
            "정답입니다\n"
          ]
        }
      ]
    },
    {
      "cell_type": "markdown",
      "source": [
        "121\n",
        "사용자로부터 문자 한 개를 입력 받고, 소문자일 경우 대문자로, 대문자 일 경우, 소문자로 변경해서 출력하라."
      ],
      "metadata": {
        "id": "uEYv1adwygum"
      }
    },
    {
      "cell_type": "code",
      "source": [
        "alpha = input()\n",
        "if alpha == alpha.lower():\n",
        "  print(alpha)\n",
        "else:\n",
        "  print(alpha.upper())"
      ],
      "metadata": {
        "colab": {
          "base_uri": "https://localhost:8080/"
        },
        "id": "NuYmiAciyjMJ",
        "outputId": "9d33378e-e473-4929-ad7d-18049505990e"
      },
      "execution_count": 40,
      "outputs": [
        {
          "output_type": "stream",
          "name": "stdout",
          "text": [
            "A\n",
            "A\n"
          ]
        }
      ]
    },
    {
      "cell_type": "code",
      "source": [
        "alpha = input()\n",
        "if alpha.islower():\n",
        "  print(alpha)\n",
        "else:\n",
        "  print(alpha.upper())"
      ],
      "metadata": {
        "colab": {
          "base_uri": "https://localhost:8080/"
        },
        "id": "Wu-zVQNHzB2h",
        "outputId": "01d523ff-1f5d-4bcf-af74-f029e239a537"
      },
      "execution_count": 42,
      "outputs": [
        {
          "output_type": "stream",
          "name": "stdout",
          "text": [
            "B\n",
            "B\n"
          ]
        }
      ]
    },
    {
      "cell_type": "markdown",
      "source": [
        "122\n",
        "점수 구간에 해당하는 학점이 아래와 같이 정의되어 있다. 사용자로부터 score를 입력받아 학점을 출력하라."
      ],
      "metadata": {
        "id": "jJjSoc6uzYBW"
      }
    },
    {
      "cell_type": "markdown",
      "source": [
        "![image.png](data:image/png;base64,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)"
      ],
      "metadata": {
        "id": "02934vztzZlj"
      }
    },
    {
      "cell_type": "code",
      "source": [
        "score = int(input())\n",
        "if score >= 81:\n",
        "  print(\"A\")\n",
        "elif 61 <= score <= 80:\n",
        "  print(\"B\")\n",
        "elif 41<= score <= 60:\n",
        "  print(\"C\")\n",
        "elif 21<= score <= 40:\n",
        "  print(\"D\")\n",
        "else:\n",
        "  print(\"E\")"
      ],
      "metadata": {
        "colab": {
          "base_uri": "https://localhost:8080/"
        },
        "id": "2_ZZ6TJezb3b",
        "outputId": "bf189b2e-fae5-45d0-efa1-16cabaa45220"
      },
      "execution_count": 45,
      "outputs": [
        {
          "output_type": "stream",
          "name": "stdout",
          "text": [
            "80\n",
            "B\n"
          ]
        }
      ]
    },
    {
      "cell_type": "markdown",
      "source": [
        "123\n",
        "사용자로부터 달러, 엔, 유로, 또는 위안 금액을 입력받은 후 이를 원으로 변환하는 프로그램을 작성하라. 각 통화별 환율은 다음과 같다. 사용자는 100 달러, 1000 엔, 13 유로, 100 위안과 같이 금액과 통화명 사이에 공백을 넣어 입력한다고 가정한다."
      ],
      "metadata": {
        "id": "6Kpi1VX_z-17"
      }
    },
    {
      "cell_type": "markdown",
      "source": [
        "![image.png](data:image/png;base64,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)"
      ],
      "metadata": {
        "id": "s-C3Oiviz_gt"
      }
    },
    {
      "cell_type": "code",
      "source": [
        "money = input().split() \n",
        "if money[1] == '달러':\n",
        "  print(int(money[0])*1167)\n",
        "if money[1] == '엔':\n",
        "  print(int(money[0])*1096)\n",
        "if money[1] == '유로':\n",
        "  print(int(money[0])*1268)    \n",
        "if money[1] == '위안':\n",
        "  print(int(money[0])*171)  "
      ],
      "metadata": {
        "colab": {
          "base_uri": "https://localhost:8080/",
          "height": 255
        },
        "id": "P3pngD6o0CX3",
        "outputId": "85fc51e1-fe9f-429e-9254-dfa6d0ec56cb"
      },
      "execution_count": 51,
      "outputs": [
        {
          "name": "stdout",
          "output_type": "stream",
          "text": [
            "30 달러\n"
          ]
        },
        {
          "output_type": "error",
          "ename": "TypeError",
          "evalue": "ignored",
          "traceback": [
            "\u001b[0;31m---------------------------------------------------------------------------\u001b[0m",
            "\u001b[0;31mTypeError\u001b[0m                                 Traceback (most recent call last)",
            "\u001b[0;32m<ipython-input-51-ee4fb6cb549a>\u001b[0m in \u001b[0;36m<module>\u001b[0;34m()\u001b[0m\n\u001b[0;32m----> 1\u001b[0;31m \u001b[0mmoney\u001b[0m \u001b[0;34m=\u001b[0m \u001b[0minput\u001b[0m\u001b[0;34m(\u001b[0m\u001b[0;34m)\u001b[0m\u001b[0;34m.\u001b[0m\u001b[0msplit\u001b[0m\u001b[0;34m(\u001b[0m\u001b[0;34m)\u001b[0m \u001b[0;34m+\u001b[0m \u001b[0;34m\"원\"\u001b[0m\u001b[0;34m\u001b[0m\u001b[0;34m\u001b[0m\u001b[0m\n\u001b[0m\u001b[1;32m      2\u001b[0m \u001b[0;32mif\u001b[0m \u001b[0mmoney\u001b[0m\u001b[0;34m[\u001b[0m\u001b[0;36m1\u001b[0m\u001b[0;34m]\u001b[0m \u001b[0;34m==\u001b[0m \u001b[0;34m'달러'\u001b[0m\u001b[0;34m:\u001b[0m\u001b[0;34m\u001b[0m\u001b[0;34m\u001b[0m\u001b[0m\n\u001b[1;32m      3\u001b[0m   \u001b[0mprint\u001b[0m\u001b[0;34m(\u001b[0m\u001b[0mint\u001b[0m\u001b[0;34m(\u001b[0m\u001b[0mmoney\u001b[0m\u001b[0;34m[\u001b[0m\u001b[0;36m0\u001b[0m\u001b[0;34m]\u001b[0m\u001b[0;34m)\u001b[0m\u001b[0;34m*\u001b[0m\u001b[0;36m1167\u001b[0m\u001b[0;34m)\u001b[0m\u001b[0;34m\u001b[0m\u001b[0;34m\u001b[0m\u001b[0m\n\u001b[1;32m      4\u001b[0m \u001b[0;32mif\u001b[0m \u001b[0mmoney\u001b[0m\u001b[0;34m[\u001b[0m\u001b[0;36m1\u001b[0m\u001b[0;34m]\u001b[0m \u001b[0;34m==\u001b[0m \u001b[0;34m'엔'\u001b[0m\u001b[0;34m:\u001b[0m\u001b[0;34m\u001b[0m\u001b[0;34m\u001b[0m\u001b[0m\n\u001b[1;32m      5\u001b[0m   \u001b[0mprint\u001b[0m\u001b[0;34m(\u001b[0m\u001b[0mint\u001b[0m\u001b[0;34m(\u001b[0m\u001b[0mmoney\u001b[0m\u001b[0;34m[\u001b[0m\u001b[0;36m0\u001b[0m\u001b[0;34m]\u001b[0m\u001b[0;34m)\u001b[0m\u001b[0;34m*\u001b[0m\u001b[0;36m1096\u001b[0m\u001b[0;34m)\u001b[0m\u001b[0;34m\u001b[0m\u001b[0;34m\u001b[0m\u001b[0m\n",
            "\u001b[0;31mTypeError\u001b[0m: can only concatenate list (not \"str\") to list"
          ]
        }
      ]
    },
    {
      "cell_type": "code",
      "source": [
        "환율 = {'달러':1167,\n",
        "      '엔': 1.096,\n",
        "      '유로':1268,\n",
        "      '위안':171}\n",
        "num, currency = input().split()\n",
        "print(float(num)*환율[currency],'원')"
      ],
      "metadata": {
        "colab": {
          "base_uri": "https://localhost:8080/"
        },
        "id": "WBxzMbCi1QXw",
        "outputId": "7f0df12b-578a-43ea-90de-753382b20b5a"
      },
      "execution_count": 58,
      "outputs": [
        {
          "output_type": "stream",
          "name": "stdout",
          "text": [
            "30 엔\n",
            "32.88 원\n"
          ]
        }
      ]
    },
    {
      "cell_type": "markdown",
      "source": [
        "124\n",
        "사용자로부터 세 개의 숫자를 입력 받은 후 가장 큰 숫자를 출력하라."
      ],
      "metadata": {
        "id": "rpKWNzhU2TJF"
      }
    },
    {
      "cell_type": "code",
      "source": [
        "numbers = input().split()\n",
        "print(max(numbers))"
      ],
      "metadata": {
        "colab": {
          "base_uri": "https://localhost:8080/"
        },
        "id": "42GomIe52URl",
        "outputId": "7e763eb6-8f9d-4e51-f437-e272f3b8a8e4"
      },
      "execution_count": 59,
      "outputs": [
        {
          "output_type": "stream",
          "name": "stdout",
          "text": [
            "1 2 3\n",
            "3\n"
          ]
        }
      ]
    },
    {
      "cell_type": "markdown",
      "source": [
        "125\n",
        "휴대폰 번호 앞자리에 따라 통신사는 아래와 같이 구분된다. 사용자로부터 휴대전화 번호를 입력 받고, 통신사를 출력하는 프로그램을 작성하라.\n",
        "\n",
        "![image.png](data:image/png;base64,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)"
      ],
      "metadata": {
        "id": "j3-N2FmI2xt_"
      }
    },
    {
      "cell_type": "code",
      "source": [
        "number = input().split('-')\n",
        "if int(number[0]) == 11:\n",
        "  print(\"SKT\")\n",
        "if int(number[0]) == 16:\n",
        "  print('KT')\n",
        "if int(number[0]) == 19:\n",
        "  print('LGU')\n",
        "else:\n",
        "  print('알수없음')"
      ],
      "metadata": {
        "colab": {
          "base_uri": "https://localhost:8080/"
        },
        "id": "x1kEV08522EV",
        "outputId": "ec97ddbc-f23d-49b2-e969-1d817a66b454"
      },
      "execution_count": 66,
      "outputs": [
        {
          "output_type": "stream",
          "name": "stdout",
          "text": [
            "010\n",
            "알수없음\n"
          ]
        }
      ]
    },
    {
      "cell_type": "markdown",
      "source": [
        "126\n",
        "우편번호는 5자리로 구성되는데, 앞의 세자리는 구를 나타낸다. 예를들어, 강북구의 경우 010, 011, 012 세 자리로 시작한다."
      ],
      "metadata": {
        "id": "bHM9jxOuF_fI"
      }
    },
    {
      "cell_type": "code",
      "source": [
        "우편번호 = input(\"우편번호: \")\n",
        "우편번호 = 우편번호[:3]\n",
        "if 우편번호 in [\"010\", \"011\", \"012\"]:\n",
        "    print(\"강북구\")\n",
        "elif 우편번호 in [\"014\", \"015\", \"016\"]:\n",
        "    print(\"도봉구\")\n",
        "else:\n",
        "    print(\"노원구\")"
      ],
      "metadata": {
        "id": "wSj4hIvJGBZu"
      },
      "execution_count": null,
      "outputs": []
    },
    {
      "cell_type": "markdown",
      "source": [
        "127\n",
        "주민등록번호 뒷 자리 7자리 중 첫째 자리는 성별을 나타내는데, 1, 3은 남자 2, 4는 여자를 의미한다. 사용자로부터 13자리의 주민등록번호를 입력 받은 후 성별 (남자, 여자)를 출력하는 프로그램을 작성하라."
      ],
      "metadata": {
        "id": "nKy1_2uYGBiu"
      }
    },
    {
      "cell_type": "code",
      "source": [
        "주민번호 = input().split('-')[1][0]\n",
        "if 주민번호 == 1 or 3:\n",
        "  print(\"남자\")\n",
        "elif 주민번호 ==2 or 4:\n",
        "  print(\"여자\")"
      ],
      "metadata": {
        "colab": {
          "base_uri": "https://localhost:8080/"
        },
        "id": "9bU8-flcGj4T",
        "outputId": "87bdfa05-394d-4e06-f037-739ff6db997f"
      },
      "execution_count": 69,
      "outputs": [
        {
          "output_type": "stream",
          "name": "stdout",
          "text": [
            "821010-1635210\n",
            "남자\n"
          ]
        }
      ]
    },
    {
      "cell_type": "markdown",
      "source": [
        "128\n",
        "주민등록번호의 뒷 자리 7자리 중 두번째와 세번째는 지역코드를 의미한다. 주민 등록 번호를 입력 받은 후 출생지가 서울인지 아닌지 판단하는 코드를 작성하라"
      ],
      "metadata": {
        "id": "OvEL7bBcHKzV"
      }
    },
    {
      "cell_type": "markdown",
      "source": [
        "![image.png](data:image/png;base64,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)"
      ],
      "metadata": {
        "id": "pqLgE70KHLVY"
      }
    },
    {
      "cell_type": "code",
      "source": [
        "주민번호 = input().split('-')[1][1:2]\n",
        "if 0 <= int(주민번호) <=8:\n",
        "  print('서울')\n",
        "else:\n",
        "  print('서울이아닙니다')"
      ],
      "metadata": {
        "colab": {
          "base_uri": "https://localhost:8080/"
        },
        "id": "nQ_z_zjtHN0p",
        "outputId": "75e19474-48a3-4096-a781-a816a2154022"
      },
      "execution_count": 71,
      "outputs": [
        {
          "output_type": "stream",
          "name": "stdout",
          "text": [
            "821010-1635210\n",
            "서울\n"
          ]
        }
      ]
    },
    {
      "cell_type": "markdown",
      "source": [
        "129\n",
        "주민등록번호는 13자리로 구성되는데 마지막 자리수는 주민등록번호의 유효성을 체크하는데 사용된다. 먼저 앞에서부터 12자리의 숫자에 2, 3, 4, 5, 6, 7, 8, 9, 2, 3, 4, 5를 차례로 곱한 뒤 그 값을 전부 더한다. 연산 결과 값을 11로 나누면 나머지가 나오는데 11에서 나머지를 뺀 값이 주민등록번호의 마지막 번호가 된다."
      ],
      "metadata": {
        "id": "TctqK3kBHw-D"
      }
    },
    {
      "cell_type": "code",
      "source": [
        "num = input(\"주민등록번호: \")\n",
        "계산1 = int(num[0]) * 2 + int(num[1]) * 3 + int(num[2]) * 4 + int(num[3]) * 5 + int(num[4]) * 6 + \\\n",
        "        int(num[5]) * 7 + int(num[7]) * 8 + int(num[8]) * 9 + int(num[9]) * 2 + int(num[10])* 3 + \\\n",
        "        int(num[11])* 4 + int(num[12]) * 5\n",
        "계산2 = 11 - (계산1 % 11)\n",
        "계산3 = str(계산2)\n",
        "\n",
        "if num[-1] == 계산3[-1]:\n",
        "    print(\"유효한 주민등록번호입니다.\")\n",
        "else:\n",
        "    print(\"유효하지 않은 주민등록번호입니다.\")"
      ],
      "metadata": {
        "id": "j6Hyytj-IIMh"
      },
      "execution_count": null,
      "outputs": []
    },
    {
      "cell_type": "markdown",
      "source": [
        "130\n",
        "아래 코드는 비트코인의 가격 정보를 딕셔너리로 가져오는 코드이다."
      ],
      "metadata": {
        "id": "xUIo79UTIJhJ"
      }
    },
    {
      "cell_type": "code",
      "source": [
        "import requests\n",
        "btc = requests.get(\"https://api.bithumb.com/public/ticker/\").json()['data']\n",
        "btc"
      ],
      "metadata": {
        "colab": {
          "base_uri": "https://localhost:8080/"
        },
        "id": "BXBxMFj3IJ5l",
        "outputId": "e402b5e6-fd96-474c-de44-878dec489b6b"
      },
      "execution_count": 74,
      "outputs": [
        {
          "output_type": "execute_result",
          "data": {
            "text/plain": [
              "{'acc_trade_value': '44549343014.3137',\n",
              " 'acc_trade_value_24H': '73956673562.8424',\n",
              " 'closing_price': '27420000',\n",
              " 'date': '1656299401760',\n",
              " 'fluctate_24H': '-335000',\n",
              " 'fluctate_rate_24H': '-1.21',\n",
              " 'max_price': '27888000',\n",
              " 'min_price': '27260000',\n",
              " 'opening_price': '27846000',\n",
              " 'prev_closing_price': '27846000',\n",
              " 'units_traded': '1615.93858649',\n",
              " 'units_traded_24H': '2668.51635265'}"
            ]
          },
          "metadata": {},
          "execution_count": 74
        }
      ]
    },
    {
      "cell_type": "code",
      "source": [
        "변동폭 = int(btc['max_price'])-int(btc['min_price'])\n",
        "if 변동폭 + int(btc['opening_price']) > int(btc['max_price']):\n",
        "  print('상승장')\n",
        "else:\n",
        "  print('하락장')"
      ],
      "metadata": {
        "colab": {
          "base_uri": "https://localhost:8080/"
        },
        "id": "RQmVshCfIy8h",
        "outputId": "62acb8c2-4e55-4462-a22d-594ce2bec4d0"
      },
      "execution_count": 80,
      "outputs": [
        {
          "output_type": "stream",
          "name": "stdout",
          "text": [
            "상승장\n"
          ]
        }
      ]
    }
  ]
}