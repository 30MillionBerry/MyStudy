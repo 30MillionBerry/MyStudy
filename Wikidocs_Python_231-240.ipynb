{
  "nbformat": 4,
  "nbformat_minor": 0,
  "metadata": {
    "colab": {
      "name": "Wikidocs_Python_231-240.ipynb",
      "provenance": [],
      "authorship_tag": "ABX9TyOQMk/vAeOBAQNr/56IPoFe",
      "include_colab_link": true
    },
    "kernelspec": {
      "name": "python3",
      "display_name": "Python 3"
    },
    "language_info": {
      "name": "python"
    }
  },
  "cells": [
    {
      "cell_type": "markdown",
      "metadata": {
        "id": "view-in-github",
        "colab_type": "text"
      },
      "source": [
        "<a href=\"https://colab.research.google.com/github/mohyunyang/MyStudy/blob/master/Wikidocs_Python_231-240.ipynb\" target=\"_parent\"><img src=\"https://colab.research.google.com/assets/colab-badge.svg\" alt=\"Open In Colab\"/></a>"
      ]
    },
    {
      "cell_type": "markdown",
      "source": [
        "231\n",
        "아래 코드를 실행한 결과를 예상하라.\n",
        "\n"
      ],
      "metadata": {
        "id": "BLl9WO7dfKp6"
      }
    },
    {
      "cell_type": "code",
      "source": [
        "def n_plus_1 (n) :\n",
        "    result = n + 1\n",
        "\n",
        "n_plus_1(3)\n",
        "print(result)"
      ],
      "metadata": {
        "colab": {
          "base_uri": "https://localhost:8080/",
          "height": 211
        },
        "id": "d-uYCNf_fPkR",
        "outputId": "e4badff1-d102-4dc3-8a38-b5b51ad308f6"
      },
      "execution_count": 1,
      "outputs": [
        {
          "output_type": "error",
          "ename": "NameError",
          "evalue": "ignored",
          "traceback": [
            "\u001b[0;31m---------------------------------------------------------------------------\u001b[0m",
            "\u001b[0;31mNameError\u001b[0m                                 Traceback (most recent call last)",
            "\u001b[0;32m<ipython-input-1-dcf5cdb5d097>\u001b[0m in \u001b[0;36m<module>\u001b[0;34m()\u001b[0m\n\u001b[1;32m      3\u001b[0m \u001b[0;34m\u001b[0m\u001b[0m\n\u001b[1;32m      4\u001b[0m \u001b[0mn_plus_1\u001b[0m\u001b[0;34m(\u001b[0m\u001b[0;36m3\u001b[0m\u001b[0;34m)\u001b[0m\u001b[0;34m\u001b[0m\u001b[0;34m\u001b[0m\u001b[0m\n\u001b[0;32m----> 5\u001b[0;31m \u001b[0mprint\u001b[0m\u001b[0;34m(\u001b[0m\u001b[0mresult\u001b[0m\u001b[0;34m)\u001b[0m\u001b[0;34m\u001b[0m\u001b[0;34m\u001b[0m\u001b[0m\n\u001b[0m",
            "\u001b[0;31mNameError\u001b[0m: name 'result' is not defined"
          ]
        }
      ]
    },
    {
      "cell_type": "markdown",
      "source": [
        "232\n",
        "문자열 하나를 입력받아 인터넷 주소를 반환하는 make_url 함수를 정의하라."
      ],
      "metadata": {
        "id": "srmqsE-xfYFA"
      }
    },
    {
      "cell_type": "code",
      "source": [
        "def make_url(url):\n",
        "  print(\"www.\"+ url+\".com\")\n",
        "\n",
        "make_url(\"naver\")"
      ],
      "metadata": {
        "colab": {
          "base_uri": "https://localhost:8080/"
        },
        "id": "nh28bgJmfZXp",
        "outputId": "001c000b-9b63-4ca3-cead-27d834939cf5"
      },
      "execution_count": 3,
      "outputs": [
        {
          "output_type": "stream",
          "name": "stdout",
          "text": [
            "www.naver.com\n"
          ]
        }
      ]
    },
    {
      "cell_type": "markdown",
      "source": [
        "233\n",
        "문자열을 입력받아 각 문자들로 구성된 리스트로 반환하는 make_list 함수를 정의하라."
      ],
      "metadata": {
        "id": "nP_cYkztfxP3"
      }
    },
    {
      "cell_type": "code",
      "source": [
        "def make_list(alp):\n",
        "  return list(alp)\n",
        "\n",
        "make_list(\"abcd\")"
      ],
      "metadata": {
        "colab": {
          "base_uri": "https://localhost:8080/"
        },
        "id": "N8UFitbXfxk2",
        "outputId": "217b2f12-20ea-4b00-948d-d69b0874f52d"
      },
      "execution_count": 6,
      "outputs": [
        {
          "output_type": "execute_result",
          "data": {
            "text/plain": [
              "['a', 'b', 'c', 'd']"
            ]
          },
          "metadata": {},
          "execution_count": 6
        }
      ]
    },
    {
      "cell_type": "markdown",
      "source": [
        "234\n",
        "숫자로 구성된 하나의 리스트를 입력받아, 짝수들을 추출하여 리스트로 반환하는 pickup_even 함수를 구현하라."
      ],
      "metadata": {
        "id": "lV9dk1jLgJjQ"
      }
    },
    {
      "cell_type": "code",
      "source": [
        "def pickup_even(list_num):\n",
        "  result=[]\n",
        "  for i in list_num:\n",
        "    if i%2==0:\n",
        "      result.append(i)\n",
        "  return result\n",
        "\n",
        "pickup_even([3, 4, 5, 6, 7, 8])"
      ],
      "metadata": {
        "colab": {
          "base_uri": "https://localhost:8080/"
        },
        "id": "K_ORh4MYgJ6Y",
        "outputId": "2f354a85-04c6-49ae-c941-c0c9481afc3a"
      },
      "execution_count": 16,
      "outputs": [
        {
          "output_type": "execute_result",
          "data": {
            "text/plain": [
              "[4, 6, 8]"
            ]
          },
          "metadata": {},
          "execution_count": 16
        }
      ]
    },
    {
      "cell_type": "markdown",
      "source": [
        "235\n",
        "콤마가 포함된 문자열 숫자를 입력받아 정수로 변환하는 convert_int 함수를 정의하라."
      ],
      "metadata": {
        "id": "EAF0M2BSg96q"
      }
    },
    {
      "cell_type": "code",
      "source": [
        "def convert_int(num):\n",
        "  return int(num.replace(\",\",\"\"))\n",
        "\n",
        "convert_int(\"1,234,567\")"
      ],
      "metadata": {
        "colab": {
          "base_uri": "https://localhost:8080/"
        },
        "id": "sw85Kll7g-_s",
        "outputId": "d2ef9ee1-49f6-4ef9-8e60-6c80f79ef460"
      },
      "execution_count": 17,
      "outputs": [
        {
          "output_type": "execute_result",
          "data": {
            "text/plain": [
              "1234567"
            ]
          },
          "metadata": {},
          "execution_count": 17
        }
      ]
    },
    {
      "cell_type": "markdown",
      "source": [
        "236\n",
        "아래 코드의 실행 결과를 예측하라."
      ],
      "metadata": {
        "id": "PO1KJ7C5hxwm"
      }
    },
    {
      "cell_type": "code",
      "source": [
        "def 함수(num) :\n",
        "    return num + 4\n",
        "\n",
        "a = 함수(10)\n",
        "b = 함수(a)\n",
        "c = 함수(b)\n",
        "print(c)"
      ],
      "metadata": {
        "id": "p_Hkp0zHh5V9"
      },
      "execution_count": null,
      "outputs": []
    },
    {
      "cell_type": "markdown",
      "source": [
        "237\n",
        "아래 코드의 실행 결과를 예측하라."
      ],
      "metadata": {
        "id": "4ZWAC-EQh8OO"
      }
    },
    {
      "cell_type": "code",
      "source": [
        "def 함수(num) :\n",
        "    return num + 4\n",
        "\n",
        "c = 함수(함수(함수(10)))\n",
        "print(c)"
      ],
      "metadata": {
        "colab": {
          "base_uri": "https://localhost:8080/"
        },
        "id": "y4dfk5fNh9Xr",
        "outputId": "30eb7425-3c8e-42f4-dd15-cf8acb068593"
      },
      "execution_count": 19,
      "outputs": [
        {
          "output_type": "stream",
          "name": "stdout",
          "text": [
            "22\n"
          ]
        }
      ]
    },
    {
      "cell_type": "markdown",
      "source": [
        "238\n",
        "아래 코드의 실행 결과를 예측하라."
      ],
      "metadata": {
        "id": "Q-o5F5paiCXg"
      }
    },
    {
      "cell_type": "code",
      "source": [
        "def 함수1(num) :\n",
        "    return num + 4\n",
        "\n",
        "def 함수2(num) :\n",
        "    return num * 10\n",
        "\n",
        "a = 함수1(10)\n",
        "c = 함수2(a)\n",
        "print(c)"
      ],
      "metadata": {
        "colab": {
          "base_uri": "https://localhost:8080/"
        },
        "id": "Gjl-JESKiE8z",
        "outputId": "ab847254-fe4c-45e0-de37-4d377e670ee7"
      },
      "execution_count": 20,
      "outputs": [
        {
          "output_type": "stream",
          "name": "stdout",
          "text": [
            "140\n"
          ]
        }
      ]
    },
    {
      "cell_type": "markdown",
      "source": [
        "239\n",
        "아래 코드의 실행 결과를 예측하라."
      ],
      "metadata": {
        "id": "bsFG5A00iMmi"
      }
    },
    {
      "cell_type": "code",
      "source": [
        "def 함수1(num) :\n",
        "    return num + 4\n",
        "\n",
        "def 함수2(num) :\n",
        "    num = num + 2\n",
        "    return 함수1(num)\n",
        "\n",
        "c = 함수2(10)\n",
        "print(c)"
      ],
      "metadata": {
        "colab": {
          "base_uri": "https://localhost:8080/"
        },
        "id": "ZD27eno5iPqJ",
        "outputId": "f35c66f8-f40e-4975-a341-1c2d5ad57e03"
      },
      "execution_count": 21,
      "outputs": [
        {
          "output_type": "stream",
          "name": "stdout",
          "text": [
            "16\n"
          ]
        }
      ]
    },
    {
      "cell_type": "markdown",
      "source": [
        "240\n",
        "아래 코드의 실행 결과를 예측하라."
      ],
      "metadata": {
        "id": "J-MlHhw0iXng"
      }
    },
    {
      "cell_type": "code",
      "source": [
        "def 함수0(num) :\n",
        "    return num * 2\n",
        "\n",
        "def 함수1(num) :\n",
        "    return 함수0(num + 2)\n",
        "\n",
        "def 함수2(num) :\n",
        "    num = num + 10\n",
        "    return 함수1(num)\n",
        "\n",
        "c = 함수2(2)\n",
        "print(c)"
      ],
      "metadata": {
        "colab": {
          "base_uri": "https://localhost:8080/"
        },
        "id": "exiKtIkQiX-7",
        "outputId": "aec9bc2e-2d5e-4da4-d4b1-d1ce31d7c7b4"
      },
      "execution_count": 22,
      "outputs": [
        {
          "output_type": "stream",
          "name": "stdout",
          "text": [
            "28\n"
          ]
        }
      ]
    }
  ]
}