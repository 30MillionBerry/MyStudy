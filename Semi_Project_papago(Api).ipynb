{
  "nbformat": 4,
  "nbformat_minor": 0,
  "metadata": {
    "colab": {
      "name": "Semi_Project_papago(Api).ipynb",
      "provenance": [],
      "collapsed_sections": [],
      "authorship_tag": "ABX9TyOP+a3Rvdrv03a2WmxBb72A",
      "include_colab_link": true
    },
    "kernelspec": {
      "name": "python3",
      "display_name": "Python 3"
    },
    "language_info": {
      "name": "python"
    },
    "accelerator": "GPU",
    "gpuClass": "standard"
  },
  "cells": [
    {
      "cell_type": "markdown",
      "metadata": {
        "id": "view-in-github",
        "colab_type": "text"
      },
      "source": [
        "<a href=\"https://colab.research.google.com/github/mohyunyang/MyStudy/blob/master/Semi_Project_papago(Api).ipynb\" target=\"_parent\"><img src=\"https://colab.research.google.com/assets/colab-badge.svg\" alt=\"Open In Colab\"/></a>"
      ]
    },
    {
      "cell_type": "code",
      "source": [
        "import requests\n",
        "\n",
        "def get_translate(text):\n",
        "    client_id = \"yH4GidOjPZpo0uS8Pz_h\" # <-- client_id 기입\n",
        "    client_secret = \"4hoUXQOGRJ\" # <-- client_secret 기입\n",
        "\n",
        "    data = {'text' : text,\n",
        "            'source' : 'ko',\n",
        "            'target': 'en'}\n",
        "\n",
        "    url = \"https://openapi.naver.com/v1/papago/n2mt\"\n",
        "\n",
        "    header = {\"X-Naver-Client-Id\":client_id,\n",
        "              \"X-Naver-Client-Secret\":client_secret}\n",
        "\n",
        "    response = requests.post(url, headers=header, data=data)\n",
        "    rescode = response.status_code\n",
        "\n",
        "    if(rescode==200):\n",
        "        send_data = response.json()\n",
        "        trans_data = (send_data['message']['result']['translatedText'])\n",
        "        return trans_data\n",
        "    else:\n",
        "        print(\"Error Code:\" , rescode)"
      ],
      "metadata": {
        "id": "eeKGS_9xhnBZ"
      },
      "execution_count": 1,
      "outputs": []
    },
    {
      "cell_type": "code",
      "source": [
        "trans = get_translate(\"자동차\")\n",
        "trans"
      ],
      "metadata": {
        "id": "jgDFkPKkh8ZG",
        "colab": {
          "base_uri": "https://localhost:8080/",
          "height": 35
        },
        "outputId": "c90cc9c1-9f95-45dd-bd87-347637303215"
      },
      "execution_count": 2,
      "outputs": [
        {
          "output_type": "execute_result",
          "data": {
            "text/plain": [
              "'Car'"
            ],
            "application/vnd.google.colaboratory.intrinsic+json": {
              "type": "string"
            }
          },
          "metadata": {},
          "execution_count": 2
        }
      ]
    },
    {
      "cell_type": "code",
      "source": [
        "while True:\n",
        "  a = input()\n",
        "  if a == \"q\":\n",
        "    break\n",
        "  trans = get_translate(a)\n",
        "  print(trans)"
      ],
      "metadata": {
        "id": "ryKgLeUHiPyx",
        "colab": {
          "base_uri": "https://localhost:8080/"
        },
        "outputId": "c7e4bf0a-4484-48a0-a9b9-1c14e5cea124"
      },
      "execution_count": null,
      "outputs": [
        {
          "output_type": "stream",
          "name": "stdout",
          "text": [
            "나는 매우 행복하다\n",
            "I am very happy\n"
          ]
        }
      ]
    }
  ]
}