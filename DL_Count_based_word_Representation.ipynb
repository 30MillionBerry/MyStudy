{
  "nbformat": 4,
  "nbformat_minor": 0,
  "metadata": {
    "colab": {
      "name": "DL_Count_based_word_Representation.ipynb",
      "provenance": [],
      "authorship_tag": "ABX9TyOafry/6+ayXgb7fIytRg7h",
      "include_colab_link": true
    },
    "kernelspec": {
      "name": "python3",
      "display_name": "Python 3"
    },
    "language_info": {
      "name": "python"
    }
  },
  "cells": [
    {
      "cell_type": "markdown",
      "metadata": {
        "id": "view-in-github",
        "colab_type": "text"
      },
      "source": [
        "<a href=\"https://colab.research.google.com/github/mohyunyang/MyStudy/blob/master/DL_Count_based_word_Representation.ipynb\" target=\"_parent\"><img src=\"https://colab.research.google.com/assets/colab-badge.svg\" alt=\"Open In Colab\"/></a>"
      ]
    },
    {
      "cell_type": "markdown",
      "source": [
        "출처 : https://wikidocs.net/31767\n",
        "\n",
        "를 기반으로 정리한 내용입니다"
      ],
      "metadata": {
        "id": "7GROaZZ8WfRa"
      }
    },
    {
      "cell_type": "markdown",
      "source": [
        "---------------------"
      ],
      "metadata": {
        "id": "QQvsb1fiWnlk"
      }
    },
    {
      "cell_type": "markdown",
      "source": [
        "# 카운트 기반의 단어 표현(Count based word Representation)"
      ],
      "metadata": {
        "id": "bg0NMs1XVnS0"
      }
    },
    {
      "cell_type": "markdown",
      "source": [
        "자연어 처리에서 텍스트를 표현하는 방법으로는 여러가지 방법이 있습니다. 이번 챕터에서는 그 중 정보 검색과 텍스트 마이닝 분야에서 주로 사용되는 카운트 기반의 텍스트 표현 방법인 DTM(Document Term Matrix)과 TF-IDF(Term Frequency-Inverse Document Frequency)에 대해서 다룹니다.\n",
        "\n",
        "텍스트를 위와 같은 방식으로 수치화를 하고나면, 통계적인 접근 방법을 통해 여러 문서로 이루어진 텍스트 데이터가 있을 때 어떤 단어가 특정 문서 내에서 얼마나 중요한 것인지를 나타내거나, 문서의 핵심어 추출, 검색 엔진에서 검색 결과의 순위 결정, 문서들 간의 유사도를 구하는 등의 용도로 사용할 수 있습니다."
      ],
      "metadata": {
        "id": "YTbvIfcbV4lw"
      }
    },
    {
      "cell_type": "markdown",
      "source": [
        "### 1. 단어의 표현 방법\n",
        "- 국소 표현(Local Representation) : 국소 표현 방법은 해당 단어 그 자체만 보고, 특정값을 맵핑하여 단어를 표현하는 방법\n",
        "- 분산 표현(Distributed Representation) : 그 단어를 표현하고자 주변을 참고하여 단어를 표현하는 방법\n",
        "\n",
        "예를 들어 puppy(강아지), cute(귀여운), lovely(사랑스러운)라는 단어가 있을 때 각 단어에 1번, 2번, 3번 등과 같은 숫자를 맵핑(mapping)하여 부여한다면 이는 국소 표현 방법에 해당됨.\n",
        "\n",
        "분산표현은 단어의 뉘앙스 표현가능.  puppy라는 단어는 cute, lovely한 느낌이다로 단어를 정의가능."
      ],
      "metadata": {
        "id": "czcmM9aKV_XC"
      }
    },
    {
      "cell_type": "markdown",
      "source": [
        "### 2. 단어 표현의 카테고리화"
      ],
      "metadata": {
        "id": "7eJbWtsTWv3e"
      }
    },
    {
      "cell_type": "markdown",
      "source": [
        "![image.png](data:image/png;base64,iVBORw0KGgoAAAANSUhEUgAAAiUAAAErCAYAAAABj/MGAAAgAElEQVR4nO3df3AT950//qdufNT3PQO+gV5tahcjicR8gYkT3ICDf8Wllpgz0zChiU2TKYRAI1OGuGmtZggf2xO4nNwSk8lh5SA/6JSr1YYO9HA/sdzU2Ehgw/DDHewvpkjCYBf7JjA14JlzGc/t9w/nvaxkGSQjafXj+ZjxgFer3deuvNrXvt7vfa9GkiQJRERERCr7O7UDICIiIgKYlBAREVGUYFJCREREUYFJCREREUUFJiVEREQUFZiUEBERUVRgUkJERERRgUkJERERRQUmJURERBQVmJQQERFRVGBSQkRERFGBSQkRERFFBSYlREREFBWYlBDFOKfTCY1GA6fTqXYoUcVoNMJoNKodBhEFgUkJUZgYjUbo9XqvaRqNxmuax+OBRqOBzWYLSwwiYVH+hGtd4RJoclFfXw+NRhOBiIgoXJiUEIVJSUkJ3G43PB4PgIkEwWAweE07c+YMAODpp58OayxNTU2QJAkmkwkVFRVhXVeouVyugObr7+/3+r2lpQUtLS3hCImIwoRJCVGYPPPMMwDuJx6nTp1CSUkJDAaDPO369evQ6XTQarWw2WxeFQ3RHCOmG41GaDQaeDwer3l/9atfBRxTYWEhAMhJUWVlpbwcUY3wXZ9Go0F9fT2A+9UI8ZpyfvEjKJddWVkpr9ffNvquT8RiNBrhdrtht9vlZSvnE9Pq6+thtVrlZTmdzkkVFr1eP2n5D1o3EUUekxKiMMnPz4dOp8OJEycAAG1tbXjmmWeg1Wq9ppWWlsLpdKKiokKuaFgsFhQUFMjJAzBReZEkCQBQUVEBi8Ui/x6ogwcPyklQfX09WltbIUkSJEmC3W73atoR67NYLDCbzV6xbNiwAZIkyXG73W5IkgSDwYDKyko4nU5YrVY4HA5IkoTGxkYAgE6n89rGDRs2yMt0uVyQJAlNTU2w2+1wOp1oaWmBTqeDwWCQt7WlpUWOWafTob6+HtXV1TCZTAAASZKQn5/vtd0i0VBuq0iUplo3EUUekxKiMCotLYXH44HH44Hdbkd+fj4KCwvR2toKALDb7Vi/fj1OnToFACgvLwcArFu3DsD9KgswufIi5lm/fv1D46ioqIBGo4HL5ZKbQ9ra2uB2u70qDiJZUi7fd73A/eYmEbdOp4NGo4HdbkdrayvmzZsHACgoKJBP8OJfEYvZbPZqyiotLQUAZGRkAAAGBwf9bouyquF2uyc12/hjt9uxZcsW+XeTySR/BsGsm4jCi0kJURgVFhbCbrfjzJkzMBgMACZO6G63W24S8b2qD4empia43W6v9QKQKxDiR1Q0gqVchsvlglarlSsnBQUFXk0ionoifrRabcDrcTqdsNvt8jJ0Ot204iWi6MSkhCiMREXhrbfeQklJCQBAq9VCp9Nh//79cqIiqhGimnD48GEA9ysnSuJqXlQuAu1TotVq5aYYp9OJkpIS2O12uVJRX1/v1UQjYhDL9xeLiFs0+zidTq8moJaWFphMJrhcLjn5UsarbEKZivJuJWUFw+l0wu12y79nZWVNuQyDwYC2tjb5d6vV6lU5IaLowKSEKIxEAuJ2u+UTODDRXOB2u+VEJT8/H01NTSgoKPBq2vAnPz8fFotFbgYJRnV1tVy9eOaZZ2AwGOSmFxGvsH//fmg0GrlvSCCx7Nq1C+Xl5V63IlutVhw8eBDARJXEarXKrwVSmdmwYYPc0bW8vBw6nQ4FBQXYtWuXV6VENDf5G7OlpaUFLpdLXq/JZEJ1dXVQ+46Iwk8jBdtTjojims1mQ0VFBRwOR0SaloiIBFZKiIiIKCowKSEiIqKowOYbIiIiigqslBAREVFUYFJCREREUSFJ7QCIKLqNjY2hr68PfX19uHDhAvbu3QuNRoNFixbhe9/7HrKzs7FkyZIHjhNCRBQI9ikhIgDeycef/vQn+f/Dw8PIzs5GTk4OHn/8cWi1WvzjP/4jvvjiC6/5BgcH5QRl8eLFTFaIKGhMSogSTKDJh/h/WlraIy3XX7KSk5Mjj0xLRCQwKSGKU+FKPmI1DiKKfkxKiGJcMBWKaGpOGR0dRV9fH3p6etDb2yv/f2RkhMkKUYJiUkIUI2I1+QgWkxWixMWkhCjKJEryESwmK0Txj0kJkUqmSj76+/uRnZ2N7OxsPPHEE3Lyodfr1Q45Ko2OjqKnpwfd3d24fPky+vr60N3djbGxMSYrRDGGSQlRmI2Pj8sJR09Pj5yA+Es+xA89upGRETlB8Zes5Obm4vHHH8eSJUuwZMkSzJ07V+2QiRIekxKiEPFNPkQTQ39/P/R6PZOPKDFVsjI+Pi4nKExWiNTBpIQoSFMlHy6XS04+Fi9ejCVLlshNLxT9RkZG0N3djZ6eHly+fBk9PT3o6ekBACYrRBHCpIRoCsEmH9nZ2UhK4pMb4s3NmzflBIXJClF4MSmhhMfkg6aDyQpR6DEpoYQxVfLR19cnJx++d7ww+aBg3bx5E2fPnkVfXx8uX76M7u5u9PX1ISkpaVKykpOTg9TUVLVDJooaTEoo7gSbfGRnZyM5OVntsCnODQ8PywmKMllJTk5GTk4OsrOz8fjjj8v/Z7JCiYhJCcUsJh8UD5isEN3HpIRiwvj4OI4ePTop+cjIyJD7eoh+H0uWLGHyQTFvcHBQTlB6e3vR09ODvr4+pKSkeCUrRqMxYUb1pfjHpIRixne/+11kZWV5dTpNSUlROyyiiOrv75cTlN7eXjz//PMoKytTOyyikGBSQkRERFHh79QOgIiIiAhgUkJERERRgkkJEdEj0mg0qK+vVzuMhMfPIfYxKYlBlZWVfIy9D6fTCY1GA6fTqXYoFKXE34j4eZS/lVg4Bn23V6PRwGazqR1WQOrr66HRaEI2H8UOJiVhIL4M1PgCqKysnPRFFEuCSS54VUSBqq+vR0FBARwOByRJgiRJ2LVr17SX5/F4vH6XJAnV1dWPGmZYNDU1QZIkmEwmVFRUqB1OQPr7+6c1XzR/DhQYJiVxSnzxAhOJSqwYHBwMaD7fk0J+fj4kSUJ+fn44wqIYZzabYbFYvP4+WlpaAAA2m81vBUUk+EajUX7N4/GgsrISdrsdbrdbniYSZPF/5XvE8Wc0Gr2qK8rXfKsa4oJGxCDo9XoYjUYA96sEYn0PU1hYCOD+seMvRrF834sa3+2y2WzyNN/9pny/uGjw3cfK+JXzO51O1NfXw2q1yvvI6XROutjyeDx+51Ou0zc+MX2q9VKUkCjkHA6HBEBqamqa9JpOp5MASAAkg8Hg9ZqYLt7b1NQ0aZokSZLJZJJ0Op3fdZtMJkn5sRoMBq/1+FueTqeTDAaD12vKeMVrJpNJXqaYT0zzXbbD4fCKR7m9YruUy2lqapL3m/ixWCx+p/muy2AwyPOJ9fruO9/pvuum+OX7t+HvNfE3YLFYJACS2+2W/3bF+3yPAeUxKP423W6319+6cnn+3mMymeT3iL9t8TfqcDgmHc/ieBTvedDfru+2KddvMpnkGMWyHA6H/P00VYy+3yXK/abT6eTY3W73pDjENIPBIJlMJnnf+H4PifimOj2J9/ubz/c7Qsyn3BcPWi+pj5WSCBJXM9KXVQy73e51haLT6eTXysvLUV5eLv9usVjw1ltvBbU+j8cDu92OkpISeR0WiwWSJKGpqcmrlGu326esrojXGhsb5emSJMHtdsNqtcpXMsr48/PzUV9fj9bWVq/tVTZplZSUQJIkGAwGvPXWW8jPz0dTUxMAwOFwoLq6Wq6AiJjNZjMAwO12AwAsFot8xSs4nU5UVFTIZWuLxYKCggKv6orvuikxnTp1CgBQXl4OAFi3bh0A4MyZM/I8orqi0+kmVeimIo65b3zjGwCAGzduTDmvWJdYt4hFxOaPVqsFAFRUVDy0mbiiogIajQYulwsulwsA0NraCrvdDo1GA51O57U+k8kkv9dgMKC1tXXSdonKgli22WyG2+3G3/3dxClFua/EcnU6HTQaDex2u9cyn376aQAT308iPl/KSondbn/o5yDiW79+PYCJz1Cn0+HEiRNBrZcij0lJBNntdmzZskX+3WQyobW1FR6PB263e1Ibt7LkKQ76QIkvG4vFgurqankdZrMZGo1GTkjEwfugLyKDwSD/f6ovs6ysLLjdbq/ydFtbm1ziFiVb5ZfCM888A2DiC3aqbVOWtUXMD/tCCuREE8i6KT7MmzcPwINP8rFIUvQTeVCn26amJrjdbrjdbq8+WCaTSU74pWn2xVD20ZEkCS+88AIkSYJOp4NOp/O6uFHOF0wS4PF4YLVa5YsM5fcRxR8mJVHsrbfekr84LBZLUO8V7zGbzV4ncXFgKysawfL3ZVZdXS1/8SnbxA0Gg9e8jY2NQa1r165d8jJEFYUoGFqtFiaTCWaz2avvgNFolJNTMf3w4cMA7ie0D1rmdOIQCbAyDnHFLpJmceysW7dOfqaNx+ORLyyUGhsbYbFYHppYa7Va+fvA6XSitLRU7o8BeFdGxXRRaVVeSAnie+NXv/qV32W4XC4YDAZ4PB55H4vtcjqdD63uKJ/lo6wyiZj8zecvPpGIOp1OuN1uuXJC0YtJSQQZDAa0tbXJv1utVmzZsgVarRY6nQ4HDx70ml/5RbN///6g11ddXQ2dTofS0lK/6wj2iwjAA7/MtFqt3Pxz/fp1lJSUeJVaRUfAB8nIyPD6XXlFpYz9QSeF6Z5oKH6Jk3dBQYFceWtsbJSbDMX0QCuS69ev9+roGogf//jHACaqmMqqqFarhcPhkJtCKioq4HA4oNVq5eqFOI5FdVLZidNsNgeUsFdXV8NgMKCgoADr16+Xm1M0Go3cCVasS1RCDQbDlBUUh8MBq9XqtT+V1V273S7vY4vFIm/frl27HnosiuqmqLAaDAZUVFSgtLTUq1KinM+3s6qyMlxQUICmpiZ2hI8FYempkuB8O2fCp1OVmKbsJCpJkzuhig5ZYl7xcQXT0VV0UNPpdPL/xY/oeKbT6absgOuvE5hyXmXnWzFNGZuyQ6m/jnz+YhbLt1gsXh1WxXwibvF7IB1dxXsetm6iRMZOn6Q2PpCPoNfrodfrJ3UYJaLEwu8CUhubb4iIiCgqJKkdABERRQfeGktqY/MNERERRQU23xAREVFUYFJCARsdHVU7BCIKIR7TFG2YlNBDDQ8PY/v27UhNTcUPf/hDtjsTxTge0xStmJTQlFwuFzZu3IhFixbhf//3f7Fhwwb8/d//PZ588kls3LgR3d3daodIREHwPaYdDgePaYoqTEpoku7ubqxduxZ5eXlIS0vDpUuX8P777+Ojjz5CQ0MDBgYGMH/+fDz77LNYu3Yturq61A6ZiB5gqmM6Ly+PxzRFFSYlJGtvb8fq1auxevVqLF++HFeuXME777yDtLQ0r/lSU1NRW1uLgYEBFBUVYe3atXj22Wc54BJRlOExTbGGtwQTjh49CovFgps3b2Lr1q147bXXkJycPGk+jUYDf38uY2NjsNls2L17N1JSUlBTU4OysjIkJXEYHCI1BHpMT4XHNKmFSUmCGh8fx6FDh7Bnzx4kJSVh+/bteOmllx74pTNVUqJcZnNzM+rq6jA6OoodO3agvLw8qC9DIpqe6RzTgSyTxzRFEpOSBDM2NoYPPvgA+/btQ1paGt544w0899xzAb33YUmJ0ueff47du3ejr68PZrM56Cs1IgrMoxzTweAxTZHAPiUJYmRkBLt27cKCBQvwxz/+EQcOHIDD4QjLlxcArFq1CsePH8eRI0fQ0dGB9PR01NbWYmRkJCzrI0o0PKYpHjEpiXPDw8N48803sXDhQvT29uKzzz7DsWPHUFxcHJH1r1ixAkeOHIHD4cC1a9eQmZmJqqoqDA8PR2T9RPGGxzTFMyYlccrlcmHbtm1YtGgRRkZG0NnZiaamJuTk5KgSz5IlS/DJJ5/g4sWLAIBFixZh48aNHLSJKEA8pikRMCmJM93d3Xj55ZeRl5eH5ORkXLp0CVarFXq9Xu3QAABZWVloaGjApUuXMH/+fOTl5WHt2rUctIloCjymKZEwKYkTTqcTa9euxerVq6HT6XDlyhX87Gc/mzQeQbRIS0tDbW0trly5gpUrV8pjKbS3t6sdGlFU4DFNiYh338S45uZm7NmzB/39/di+fXtYe8QHc/dNsMbGxnDw4EHs2bMHc+fOhdlsDluHPaJoFsljOpx4TNN0MCmJQePj4zh69Ch2796N8fFxvPHGG488HkEgwpmUCOPj4zh8+DAsFgsAhGSsBaJop9YxHQk8pikYTEpiyNjYGA4dOgSLxaLKlUckkhIlccU4ODg4rVEpiaKd2sd0pPGYpodhUhIDRkZGcPDgQVgsFuTk5MBsNkfs9j+lSCclQnt7O9577z10dXXJ5ezU1NSIx0EUKtFyTKuFxzRNhR1do9jNmzdRW1uLhQsX4uTJk/jss8/w2WefJdSXFwAUFxfjyJEj+Oyzz9Db24uFCxfizTff5LgIFHN4TE/gMU1TYVIShQYHB1FVVYWFCxfiL3/5Czo7O/Hpp5+qNh5BtMjJycEvf/lLdHZ2YnR0FIsWLUJVVRXHRaCox2PaPx7T5ItJSRTp6+vDxo0bsXTpUgDApUuXcODAgagZjyBa6PV6vP/++7h06RKSk5ORl5eHjRs3clwEijo8pgPDY5oEJiVRoLu7G2vXrkVBQQHmz5+Pq1evoqGhIWrHI4gWaWlpeOedd3DlyhXodDqsXr0aa9euRVdXl9qhUYLjMT09PKaJHV1V1N7ejrq6OrhcLrzxxhtR3xNdrY6ugVI+LTUjIwNmsxlGo1HtsCiBxNoxHe14TCceJiUqOHr0KOrq6jA2Ngaz2Rwz9+xHe1IijI+P49ChQ3jvvfcAADU1NSgrK4uJfUyxKVaP6VjBYzpxMCmJEHFQWSwWpKSkYMeOHTE3HkGsJCVKR48exZ49ezA8PIwdO3agvLycV64UEvFwTMciHtPxjUlJmIny4549e5CdnY0dO3bE7O1/sZiUCO3t7bBYLOju7obZbGZZnaYtno7pWMZjOj6xo2uYjIyMoLa2FgsWLEBHRweOHTuGP/zhD/zyUklxcbE8JsTJkyeRmZmJ2tpajIyMqB0axQge09GFx3R8YlISYsPDw/J4BNeuXYPD4cCRI0cSfjyCaJGTk4NPP/0UnZ2d+Mtf/oIFCxagqqqKgzbRlHhMRzce0/GFSUmIuFwubN68GYsWLQIAXLx4EZ988gnHI4hSer0eBw4cwKVLlwAAS5cuxcaNGzloE8l4TMcWHtPxgUnJI+ru7kZFRQXy8vLw9a9/neMRxJi0tDQ0NDTgypUrmD9/PgoKCrB27VoO2pTAeEzHNh7TsY1JyTS1t7djzZo1WL16NZYvX46BgQHU1tbyoVIxKjU1FbW1tbh69SqKiorkz7a9vV3t0ChCeEzHFx7TsYl33wTJ93a0RBqPIJbvvgmW8nbP1NTUuH+kfCJL5GM6kfCYjg1MSgIwPj4Om82GPXv2AJgYuCcR/5gTKSlREgNjAcD27dt50ooDPKYTG4/p6MWk5AHGxsbw4Ycf4r333kNGRgZqamoS+va/RE1KBDGE+ODgILZu3cpxEWIQj2lS4jEdfdinxI+RkRH8/Oc/x4IFC/DHP/4RTU1NOH78OL+8ElxxcTGOHz+OTz/9FB0dHViwYAH+7d/+jeMixAAe0+QPj+now6REYXh4GDt37sTChQvR29uL48eP48iRI8jNzVU7NIoiOTk5OHLkCBwOBy5fvoyFCxfizTff5LgIUYjHNAWCx3T0YFKCifEIqqqqsGjRIoyOjuLChQv45JNPkJ2drXZoFMX0ej0++eQTXLx4EWNjY1i0aBGqqqo4LkIU4DFN08FjWn0JnZT09PRg48aNyMvLw+zZs3HlyhU0NDQgIyND7dAohijHRZg9ezby8vKwceNGjougAh7TFAo8ptWTkElJV1cX1q5di29/+9t44okncPXqVdTW1mLu3LlqhxbVsrKy1A4hqs2dO1ceF+GJJ57A6tWrsXbtWnR1dakdWtzjMU3hwGM68hLq7puWlhZYLBYMDg7ykdcUdmNjY7DZbNi9ezcyMjKwY8cOrFq1Su2w4gqPaYokHtPhlzBJyfj4OL773e/i+9//PsrKynhPOkXM+Pg4mpub8Ytf/AKffvop//ZChMc0qYXHdPgkTFJCRERE0S0h+5QQERFR9GFSQkRERFGBSQkRRUx9fT00Gs2k/wdKr9ejsrIyHKFFxHS2mSiRxFxS4vDchqaqA1t+82e1Q4lqW37zZ2iqOrDmwx6v6f6mUfzxeDzQaDSw2WzTXobNZoNGo/H6cTqdIYzy4SorK6HX68O2/GjYRqJAhPtYiBZhSUrWfNgDTVUHNFUdmFfTGY5VBE0kM3X2a5Neq7Nf8/uamP7x6eCGGo6mpKm591bQ8cebyspK+YQTzoPaaDTCaDRO+brvyS9WrvgdDgckSYLBYMCGDRtCttzq6uqHPuDR4/F4/e5yudDY2BiyGIRwbSOFntPpjEgSKdYz1fKV3yvihx5dyJOSNR/2oLn3FqSGIkgNRZg3+ytRkZhc+eJ/pnytxjAf6bNm4FjvLa/px3pvYVnmTLyyPC3g9Tg8t6cdYziULZ6Dt/7v1YDn900oNVUdAO4naLnvnoemqgMOz235dWXyKZI/MZ+ozCh/j+Q+0uv1aG1thSRJkCQJBw8eRH19fVjWFchQ1CaTCZIkoampCVarNaauyktKSuB2uwFMJGB6vR56vV5OxJRf0srkTDm9v79fnu7blOH7/srKStjtdrjdbmg0Gng8nknNN1MleWIZ/uJ5mNLSUgCTT37Kvxt/J8Vgt5+CV19fj4KCAjmJlCQJu3btCsu6BgcHA5pPxAEgZi40ollIkxKH5zaae2+h1nh/5M/KlfMwdOce6uzX5CYF5QlKeRWvPMk9rNJwfnDU66QnKE+q4oTq8NzGJttlAEBtS7/f5ouyxXNwbuCu1wnz3MBdrFk8BwC8lqmsqPjGXPj+xDDEBzqHkPvueQD3T+i+2+zvRB9q1SWZGLpzL6DKTZ39Gpp7b+Gj8schNRT5neepjBRIDUUo0M7Gjbo8OfkUn7GS1FCEssVz0Nx7C2sWz5GX+cuz//3oGxYAm80Gt9uN1tZWeVp+fj6qq6sB3D8pih9xVS5OuILyhCdOwr6VF6PRCLfbDbvdHtQVU35+vrxcf9Uc5QlNxOB7shRxK6f//Oc/D3p/PUxbWxt0Op38u9i3LS0tqK+v90r+7HY7bDYbbDYbrFarfBJRfhZK9fX1XvO1tLSgsbERBoMBOp0OkiRBq9V6vUev18NgMECSJLjdblitVq/EweVyyQmg3W5/YAJYUFAAjUYDu90uV2Ly8/Pl7WlqaoLZbAYw8ZmImCRJQn5+/iNvPwXGbDbDYrHIxw0wMYAecL/J0jeJFMeFaMoUx73H45H/rzymnU4nnE4nKioqAEz8bQR6IVNYWOi1Dt/E1ffYFZTrVyY2yumJIqRJiahGZKZ+RZ4mqgx/uf03eZo4QaXPmoHGkzcAALnvnseyzJmQGorwUfnjONA59NCTtNRQhM156Wj+ssKx5Td/RnPvLZzYlgOpoQjLMmdiXk0nCrSz8VH54wCAWmMWjr26ZNKyXs79GgCg7crEI6vFCbbGMB/zajqxOS8dUkMRao1ZqG3pl2MeunNPPjHvf+ExnNiWAwDYnJeOsz96Ch+fHkZtSz9qjVlyvJtsl722TXmiD4daYxYOdA5NasZRJlQfnx7G2YG7SJ81Q/7Myr5MyJRWzJ/l9/2A92f8VEYKACB91gwAQMnCVPn3oTv3Qrh1Uztx4gR0Ot2kkxkwkbCYzWb5ZGEymbxOuA9it9shSRIcDgfcbjdsNhtaWlqg0+nkk+RUrFYrNBoNKioq0NTUJE8XJ1BxgrXZbHA6nV4ntMbGRng8Hq8rRZPJJH+JFRQUyJWYUD4SQHnCVlaDlPu2ra1NrmiIL9ATJ07In4E4iWzZssXvOtra2mAwGLxONg/i8XjgdrvlphatVguDwYC2tjZ5HlHxEM+9edCVr3J/iviVJxBxgvJ4PMjKyoLb7fZKHh91++nhxIn9mWee8fu6TqeT//4dDgfMZnPAfao2bNgASZKg0+mwa9cu5Ofny8enw+GQL2T8EZ+5wWBAeXk5gPtNk+JvSlRzNmzYIMfoW11RJtdOpxP19fVypVCSJFit1oC2Jdap0tFVnKDmzf4Kbnx5Ijs3cBfNvbegqeqQqxptV0a8qirKK3Fx0vv67IkEyOG5jfODo1iWOVM+ua9ZPAdDd+4FVIEo0M7GssyZchPOsd5bKFs8Bw7PbQzduYcDnUPQVHXICcnHp4dxbuAuNuelP3C5XdfuAJhIboDJyQ/gfaIPhxrDfCzLnIm3/u9VOUkA4FXpCKaJCphI2obu3JMTwFjje7JYv349AATUnGIwGAAA8+bNAwBcv3494PUqvzQrKirkL01lpUQsUyy/oKBAjuvMmTPyNI1GA6vV6lUFENuxbt26gGN6GGWp/EFEQiZ+wtH3I9zEla7H48GuXbvkbVImkNXV1XC73XISIj7DeNj+WOX795+fnw+dTocTJ04E9P6nn34awMRxGOwTgcXn7XK55GY7ZaXEarXKy9Tr9bBarV7VkNbWVrnCKi6MTp06JSfqIvE3mUxBxRWrQpqULPzqPwAABkbuXzGLq/NATryiGiF+agzzcfZHT3n9Hk5rFE045wbuIjdzpvyaqHRM9ySutrM/egpDd+49sEohqhjiM2v26WOjpKyK+Os8HA3EFa1vZ8loIJKh69evy81M4opI0Gq1cufLgoICr34KYt5AkoVIKCkpgd1ul/d1fX29V1VBTN+/f39A7xf8VbnEdOVJx+PxwG63P3InVbE8rVbrdXI6ePDgpPWL/X79+vVH3n56OJGknzp1SuVI/CstLZX/ZkQzk6iUCC0tLXJ/MmXTq7J6IknSAysz8UcWnsoAACAASURBVC6kSUmBdjbKFs+RqwkA0HjyhleTwFSWZc70OglO57bVpzJScG7grvy76KhaoJ0tJ0wPIpKeqqNu+fcC7exJnWBFbL4xA5jUBCOSMXGiF/0pwp1g+aPs6+PP/hcew7LMmdhkuwxNVQeWKZIyf/MCQOH73Tir2OfRRBzYoowPQC6LFhYWep0sfvWrX8mVE61WK3foDKYjajB39ojlfuMb3/CqtPgrN7e0tMBkMsHlcslXdIcPHwYAuV3c9wtbvB4p1dXVcv8PUe3RarWTpis/C9/3iyY0ZUfR9evXe3V0VXK5XPKXu06ng8VikcvnwVJWnhwOBwBg165d8hWsMjlS9vPR6XSorq5+5O2nh9NqtTCZTDCbzV7HpdFolJN88ffvdDrhdruxfv36SRVNZRPfg4hmv0C1trZCr9dP+jv1bXYpLy+X/8Zu3LiB0tJSr3lEFUWr1cJut0+5nLglhcGyPeckvN4u4fV2Kf3/nJKnb/71ZQmvt0sn3CPyfMrXxXvwerv0UdeQ32WfcI9IeL1d2vzry5IkSVJtS7/XMssOXPS7bmVcZQcuThm7eL9yHrFO8SPWJUmSlP5/TsnTRUxiGcv2nPOK0ff9YvpU26q2sgMXJ+3DWKTT6SQAEgDJYDDI0y0WizxdeSi43W6v+QFIJpNJXpZYhpjPYrFIkiRJTU1Nk5alpFyXcpnK10wmk7xMh8PhNb/D4Zi0Hp1OJy9DOV0sp6mpKUR7kSg6+B63brdbkiTv49b3b18cD8pj2u12y8sSyzAYDF7HlPjuEMe4knKZvse98jWTySQvU/ldpDz+ldOVcfvOr4wtXvGBfCT7+PQwuq7dwf4XHoPDcxuF73ejbPEcvx2DiYiIQo1JCXkR48wAYEJCREQRxaSEiIhoGsbGxpCcnKx2GHEl5p59Q0REpLaxsTH88z//M/71X/9V7VDiCpMSIiKiIA0ODmJ8fBy9vb1qhxJXmJQQEQH44IMPMDY2pnYYFCN2796NyspK/Nd//VfQA67R1JiUEEVQbW2t2iHElVDuz9/97nfo6uoK2fIofrlcLjQ3N+Ott97CG2+8gd27d6sdUtxgR1eiCNJoNFExAmu8COX+FAkOE0d6mI0bN+KJJ57A66+/jpGRESxcuBCdnZ1BDaBI/rFSQkQEoLi4GCdPnlQ7DIpyPT09+Pzzz/Haa68BAFJTU7F161bs3LlT5cjiAyslRBHESklohXJ/jo6OIjMzE1988QWSkpJCskyKP2vXrkVRURFef/11edrIyAgWLFiA48ePIycnR8XoYh8rJUREAFJSUpCdnY2zZ8+qHQpFqe7ubnR1dclVEiE1NRXbt29HXV2dSpHFDyYlRERfys/PD+ohjJRY6urqYDab/Q6Y9tOf/hRdXV3o7u5WIbL4waSEiOhLK1euZL8S8muqKomQnJwMs9nMaskjYp8Soghin5LQCvX+FH0D/vrXv4ZsmRQfvv3tb+PFF1/Eq6++OuU8Y2NjWLBgAT799FPk5+dHMLr4wUoJEdGXUlNTkZGRwRI8eWlvb0d/fz82bNjwwPlEtYR34kwfkxIiIoX8/HwOokZe6urqsGPHjoDuynrttdfQ39+P9vb2CEQWf5iUEBEprFy5Eh0dHWqHQVGivb0dg4ODeOmllwKaPzk5GTU1NexbMk1MSoiIFPLz83mVS7JgqiTCSy+9hMHBQf4dTQOTEiIihaysLCQnJ6O/v1/tUEhlLS0tQVVJhKSkJOzYsQNvvvlmmCKLX0xKiIh8rFixgle5hDfffBM1NTXTGuH3pZdews2bN3H06NEwRBa/mJQQEfkoKipiv5IEJ5KJYKskQlJSEt5++232LQkSkxIiIh8c2ZXq6upQU1PzSMsoLy8HAFZLgsCkhIjIx5IlS3Dz5k0MDw+rHQqpQCQRzz333CMvi3fiBIdJCRGRH8XFxexXkoDGx8exc+fOR66SCCKxsdlsIVlevGNSQkTkx/Lly/kcnAR06NAhJCUlhaRKItTU1GDnzp0YHx8P2TLjFZMSIiI/iouL2a8kwYyPj2P37t14++23Q7rc5557DhkZGTh06FBIlxuP+EA+ogjiA/lCK5z7c3x8HDNnzsTQ0BBSU1PDsg6KLgcPHsQvfvELHD9+POTLbm9vx+bNm3Hp0qVp3WKcKFgpISLyIykpieOVJBBRJQlVXxJfxcXFrJYEgEkJEdEU8vPzcfr0abXDoAg4ePAgMjIyUFxcHLZ11NTUYPfu3RgbGwvbOmIdkxIioimsXLmSlZIEMDY2FtI7bqYiqiUffPBBWNcTy9inhCiC2KcktMK9P0dHR/HVr34VX3zxBVJSUsK2HlLX3r178bvf/S4sfUl8dXd3Y/Xq1bh69SqSk5PDvr5Yw0oJEdEUUlJSkJ2djbNnz6odCoXJ2NgYLBZL2KskQk5ODlasWMFqyRSYlBARPQAHUYtvH3zwAXJzc8Pal8RXTU0NLBYL+5b4waSEiOgB+HC++DUyMgKLxRLycUkeRlRL9u7dG9H1xgL2KSGKIPYpCa1I7M+RkRGkp6fjr3/9K/sAxJna2lr86U9/wpEjRyK+7p6eHjz77LO4cuUKx8FRYKWEiOgBUlNTkZ2dja6uLrVDoRAaGRnBe++9F7G+JL6WLFmCsrIyVkt8MCkhInoI9iuJP3v37kVxcTFycnJUi2HHjh3Yt28fRkZGVIsh2jApISJ6CPYriS9qV0kEvV7PaokP9ikhiiD2KQmtSO1P9iuJLzt37oTL5UJTU5PaocDlciEvLw+XLl3C3Llz1Q5HdUxKiCKISUloRXJ/Pvnkk2hoaIjoraMUesPDw1i4cCEuXLgAvV6vdjgAAJPJhOTkZDQ0NKgdiurYfENEFAD2K4kPFosF69ati5qEBJgYt+TgwYMYHh5WOxTVMSkhiqCsrCy1Q4grkdyf7FcS+8bHx3Ho0CHs2LFD7VC8pKWlYcOGDTh48KDaoaiOzTdERAFgv5L4MDo6GpXPMRobG+PfFVgpISIKiBivhM/BiW3RmJAAYELyJSYlREQBKi4uhtPpVDsMorjFpISIKEDsV0IUXuxTQkQUoJGREWRmZuKvf/0rkpKS1A6HKO6wUkJEFKDU1FTo9Xr2KyEKEyYlRERB4HglROHDpIQoQurs16Cp6sC8mk7VYphX04k1H/aotv5w2PKbP0NTFbl+HuxX4s3j8UCj0cBms3n9nx6N0+mERqMJumN1ZWVlVA0MFywmJZRQ5tV0QlPVIf/kvns+YuuubenH5rx03KjL85oukpWPT98fzXHNhz2TpuW+ez6i8T4qTVWHVwL08enhSdPEtjs8t0O2XrHvlOuaV9PpNxmcV9MZ9D4Vd+CMj4+HJN5oU19fD41G4/UTCuIkq/wxGo0hWXak6fV6VFZWBv0+jUbj9T6xT5TTbDYbNBoNbty4EZJYYw2TEko4yzJnQmoowkflj+PcwF3U2a+FfZ3ipPv12V+Z9FrJwlQAQNe1O/K0cwN3sSxz5qRpT2VE5xgL/izLnIlzA3fl37uu3Zk07ezAXaTPmoEC7eyQrPPj08PIVXy+zb23UGe/hh88Mw9Dd+55JXkfnx7G0J17qFw5L6h1JEq/ErfbDUmSQv5soaamJnm5drs9Jq/q3W73tN5nMBjQ2toq/37q1KlJ006cOAGdTocXXngBkiQhPz//keONJUxKKOGJpCD33fNeVRRBXOGLphdNVceUiYy48hc/H58ehsNzG4XvdwOYqJb4XpkXaGcjfdYMnB8cBXA/gVmzeM6kaSvmzwIAr3UoKw+i+qOp6sCW3/zZa17f9SpjDUeT0lMZKRi6c0+O/fzgKCpXzvOaNnTnHpZlzpzYXkWFQ7n/xfTcd8/LcSrnHbpzT573leVpqDHMBwAs/Oo/yNPFtCMXb8rTuq7dQfqsGXhleZrcBOS7L3w/TyER+5Uor+jFFf6jNtM4HA643W55Ob7VFOXylRUcvV4vNxXV19cDuF9hcDqd8v+NRqPXspTvF3zX6fF45GUr3y+2XbzXarUGnVCVlJTA7XbD4/EAANra2vDWW295TfN4PCgtLfVqvhH/V8YjthuA13RfytdEvGJfCnq9Xn5NbLvT6fTa55GqajEpoYRzbuAuNFUd2GS7jM156fJV+tkfPQWpoQhSQxHSZ82QT+qbbJdRtngOpIYilC2eM+VyPz49jNqWftQasyA1FGFzXjo22S4DAE5sywEA1BqzcPZHT016b9niOXIFoe3KCJZlzkRm6le8pgETJ915NZ1ytefEthw0996SYwWAG7f/BqmhCPtfeAy5755H+qwZkBqK5IRAEM1JUkPRpCalUHg592tesZ8buItXlqchfdYMr2m5mTOx5Td/RnPvLZzYlgOpoQjLMmdOSpQqV87Djbo81Nmvobn3Fj4qfxxSQ5FX5UWpvm0AwP2kU7mPAaC59xbKFs9Bnf0aDnQOyZ89MNFPRXyeYh+J14DE6Fei0+kmncBDTVQBrl+/Do/Hg4KCAlgsFkiShKamJlRUVMhJhtlslqssLpcroOWXlJRAkiTodDpUVFTA7XbLiZDT6ZTX6XA4IEkSTCbTpGYZSZJgsVhgtVrh8XjkdZtMpoDjENatWwcAOHPmDADAbrcjPz8fOp3Oa1phYaHf92u1WjlOs9kMYCLBsNvtcmXLarXK81dWVsJut3tVvIxGI5555hkAkPeB2+2WE6MzZ85Ap9Nh3rx5Xvu8paUlqG2dLiYllHCUJ/QDnUPyCV1ZKRm6c8+r3L926VwA90+0/oimFnFV7ntSfhBRAXF4buNY7y3kZs7EK8vTAEwkO2cH7qJs8Rw4PLcxdOce1nyZHBVoZ2NZ5ky5oiK2Tzj35fsAyAmBkD5rhtf2h5qoAP3l9t9QZ78mx7UscybODtyV922NYT7OD45iWeZMOUFcs3iOV0VFxA/cb/IRv/tLFOfVdKK59xZqjVnyMtcunSt/pqLp5uXcr+Hsl4mK8rM/Pzgqf577X3hs0vLjvV8JcL/5JtgT73SJk7I4cZeXlwOYaOIQTRpiWqDEyVev10On00Gr1WLevInmusHBQXmdBQUF0Gg0sFqtsNvt8vtLSkoAAN/4xjcA4JH7eWi1Wuh0Oly/fh02mw0GgwEAUFpaihMnTsidWqfaTpGsiAdRejwetLW1wWAwQKvVAphIloTW1lav37ds2eKVCJ06dQpnzpyByWSSE6MTJ06gtLRUXl5FRUVEOy4zKaGEJU6a4kR1buCufPWtPHlHgjjBtl0ZwbmBu/LV/bLMmThy8aZcUQilG3V52JyXjgOdQ2G7e0UkTGcV/WFyM2eiufeW3Mck1ObVdGLozj2c2JYjJ4jA/aTsyMWbctONSFhENUn8+KtmKYl+Jd3d3SGPP5GIk7BIHtSi7D8T7vFES0tL0dbWhhMnTshJT2FhIaxWq9zHJBKUcRQWFqK0tBTXr19Ha2urnPyIqkxFRUXE+v4wKaGEJaoO6bNmYGDkb/J0cRUN3O+XIPoi/PLsf0+5PFHtEBUAMa/yxPggyzJn4j9O3fA6WT6VkYJzA3cxdOceShamyomUuLp3eG7j3MBduXLiS9lXRbldwv4XHkOtMUteVqjlftmx9dzAXXn/iISrufeWnKiI7RSO9d7yqpz4bpOyitLce0t+rc5+TU5I/L1XNOGIphsRo7IqVme/ho9PD8vxTtV/yGg04vPPPw9uh8QwnU4n93s4derUIy9PNJ2YTCbk5+fj6aefBnC/YiKuztetW4fCwkK5yUUQV/L9/f0AJjqIBkus8/Dhw3JMyr4aU9HpdEGvSygsLITdbkdra6ucjIk49u/fLycqgdJqtV7VHWXzTWlpqVcn2v3798uVE2UcTz/9NAoLC9HW1ga32+1VqWlsbITFYpl2595gMSmhhCP6lBS+341lmTOx/4XHUGOYj/RZM7DJdhmNJ2/IlZIC7WzUGrPQ3HtrUqdKX68sT0OtMQubbJehqerAgc4huS9JIETHUGX1YMX8WXLiJE6yN+ry5HgK3+/G5rz0KROfX3///5W3V7ldwP3mCtFvIlR3wCiJBGTozj25GqSsUIkT//4XHkPZ4jlyTDdu/23KasX+Fx7DssyZKHy/G5qqDq/9JZI18Zpvp+SXc78mN82J5rUaw3yULZ4jf25nv+z7Ij7P2pb+SR1dgYl+JX/84x9DtKei365du2C326HRaNDW1jbt5VRUVECj0UCn08FisaCxsRHAxMnV4XDIr1dUVMDhcECr1aK8vBwWi0VuZhFX7aKvh+igGiytVoumpiaYzWZoNBqUlpaiurr6oe/bsmXLtDq6AvcTELfbLfepEc06brc76KpRY2Oj3P9Ho9F4Ndc0NjZCr9d7dXQV+1uZeGi1Wjz99NOw2+1ypUZ0eNVoNHLfkkjgs2+IgvDx6WFssl3GR+WPyydZSkyjo6PIzMzE0NAQHztPFCKslBA9hPJW2saTEx3dmJBQSkoKcnJyEu7WYKJw4mMuiR6icuU8r9K98tZQSmzf+ta30NHREbMjkxJFGzbfEBFNU1dXF0wmEy5cuKB2KERxgUkJEdE0jY+P45/+6Z9w5coVpKWxSY/oUbH5hugRiCHkN+el4/zg6KTRRUWH2Nx3z/sdebTWmIWzX96imj5rhtfIqsrh6c3fyoTljwPYnJfudzCvaLbmwx55BFYxwq0QbIfhOvs11Lb048S2HFz54n8mLQ/ApP0YCNFv6OyPnoKmqgNli+fg2KtLHvq+pKQkrFq1Cu3t7UEP7EVEk7GjK9EjqDrq9koUlINwiWHm6+zX5CHsN+elA4A8nLq4lVc5iJvwy7P/Ld/C+9hX/x95BNpwjCcSLh+fHkZz7y2vfjhiGH6poSjoDsN/uX1/PJlXlqd5Df8uHgUwnSHzbyiWKzUUobn3ltdn8SBFRUVe40SQ+mpra9UOIeTicZv8YVJCNE1iFNiphp4X42n8x6mHD009b/ZX5NFbheYvBxATCrSzUbZ4jvxMl1jQePLGA58XBEz9IETlQ/Jy3z0vP6MGmBiH5EFPd/b3YETfhxKK9Wa9fRpDd+7J47kAwOa8dPlOq4dJtEHUYkFdXZ3aIYRcPG6TP0xKiKbJd6hyf8SAaA9z4/bfsGbxHHl0UjH6qu/Q8mKI9ljhb3h85WBkDs9tvw9CdHhu40DnkFxVOfujp1BjmO9VaZpqwDjxID3lw/2OXLyJE9tycG7gLurs17Dmwx6cG7gLqaEI/TuXI33WDPmZSMDEoHXnBu4GVJXKzs7G+Pg4+vr6HnFvERH7lBBN09Cde5g3+yshW17JwlTUtkxc5Z9VPEhPKTN1Yn0Oz+2wjMAaSuKELmIWao1ZXgmFb3+boTv35G2rbZkYQjzQofqB+w9GFP1xAMjJoxihFcADR9sVjxe48sX/BLSfRbUkOzs74DiJaDJWSojCSDz9NhDiib/Hem+hufeW/GTiePagByFKDUUoWzwHtS39mFfTGfSylQ/YE/1MfBOkUGG/EqLQYFJCNE3ps2Z4dZD0JZoIGp4L/OFda758YFz6rBl+O4GKBwdGe5UEuB+j8mGHvqZ6EKJw7NUl2JyXLk//egCVKd8H6X18elj+/ybbZZQtnoOyxXPw4i/+P/k9vhWvK1/8D4D7FZOHMRqNaG9vx9jYWEDzE5F/TEqIpkk83E3Z72Dozj25v4S46ySYBEI0U0zVOfTswN2AKy/RoGzxHPkhef5M9SBEh+e2vB9F3xIxP/Dgjq6vLE/D5rx0ue9K48kbKFmYCk1VB9JnzcCxV5fg2KtL5M8KuJ8Mit8D6S+klJaWhuzsbHR1dQW2Y4jILw6eRvQI1nzYAwABjWkRCpqqjkl9MqKZGGvlxLacmKjuCPNqOlG2eE5QY8Ls3LkT4+PjeOedd8IYGQVCo9Eg3k5t8bhN/rBSQvQIjr26ZOIOE8WtpuEiTpSxkpAAkDuXFr7fHfC4H2rLffc85s3+StCD1BkMBt4aTPSIWCkhIgoBDjkfPeKxqhCP2+QPKyVERCGQlJTEgdSIHhGTEiKiEDEYDLw1mOgRsPmGiChEBgcH8c1vfhNDQ0Nqh5LQ4rGpIx63yR9WSoiIQiQjIwNz585Fd3f3w2cmokmYlBARhZDRaERLS4vaYRDFJCYlREQhxH4lRNPHPiVERCE0NjaG9PR0DAwMICUlRe1wElI89r+Ix23yh5USIqIQSk5OxqpVq9Dc3Kx2KEQxh0kJEVGIGQwG/P73v1c7DKKYw+YbIqIQGx4extKlS/HFF1+oHUpCisemjnjcJn9YKSEiCrG0tDTo9Xo4nU61QyGKKUxKiIjCgHfhEAWPSQkRURiUlZXh6NGjaodBFFOYlBARhUFubi5GRkbQ39+vdihEMYNJCRFRmBiNRt4aTBQEJiVERGHyne98B7/73e/UDoMoZvCWYCKiMBkdHUVmZiZHd42weLx9Nh63yR9WSoiIwiQlJQUrVqzA559/rnYoRDGBSQkRURg9//zz+O1vf6t2GEQxgc03RERhdPPmTSxcuBBDQ0NITk5WO5yEEI9NHfG4Tf6wUkJEFEZz585Fbm4uWlpa1A6FKOoxKSEiCrPnn3+ed+EQBYDNN0REYTY4OIgnn3wSQ0NDSEpKUjucuBePTR3xuE3+sFJCRBRmGRkZyM7ORnt7u9qhEEU1JiVERBHw/PPP49e//rXaYRBFNSYlREQRsG7dOj6gL0KysrLUDiHk4nGb/GFSQkQUARkZGcjIyIDT6VQ7lLh39epVtUMIuXjcJn+YlBARRQgHUiN6MN59Q0QUIS6XC88++yyuXr3Ku3CI/GClhIgoQvR6PTIyMngXDtEUmJQQEUXQiy++iP/8z/9UOwyiqMTmGyKiCBoeHsaiRYv4LBwiP1gpISKKoLS0NOTm5qK5uVntUIiiDpMSIqII+973vscmHArIx6eHoanqwMenh9UOJSKYlBARRdi6devQ3t6Omzdvqh1KTJlX04ncd89Pmr7mwx5oqjqgqerAmg97Jr0uXnN4bkcizGmps1+T49RUdaDOfk3tkFTBpISIKMJSUlJgNBo5wmsI1Nmvobn3Fk5sy4HUUITczJleVYUtv/kz0mfNAAD88ux/qxXmA635sAe1Lf3yNkgNRTg7cDeqk6hw4Y3yREQqePHFF7Fnzx68+uqraocS0/5y+29ev9cY5nv93tx7C8syZ2Lozj00996KZGgBcXhuo7n3FmqNWSjQzpanH3t1CQDgyhf/4zV/nf0aalv65d8/Kn8cALDJdhmb89Kx/4XHAEwkOs29tyYStXfP49zAXQBA2eI58rKjESslREQqMBqN6Ovrw+DgoNqhxLQV82cBAArf78aW3/zZ67WPTw9j6M495GbOxJrFczB0517U9c1ouzICAChZmPrQeT8+PYzaln7UGrMgNRRhc146NtkuY+FX/wHLMmd6JV3NvbewOS9dbs6SGopwYlsOmntvRd0+UGJSQkSkguTkZKxbtw6HDh1SO5SY9sryNEgNRUifNQMHOoe8+o4cuTjRZ6fGMF8+6Ytp0WpeTeeU/Uq6rt0BcL8a9HLu1wBMJDYi6XJ4bsvvezn3azg3cBfnBu5CU9WBwve7vZYTjZiUEBGpZNOmTfiP//gPtcOICzfq8nBiWw6A+31HROVAeUJu7r0VVX01MlO/AuB+M41yO4IhEpVfnv1vnB24i2WZM+XmoLLFc+S+KlJDkdzEE42YlBARqSQ3Nxdz585FS0uL2qHErC2/+bPcHKHskyGacpSdR32TlmjwyvI0LMuciU22yw+dVzRVie0V2yESkrLFc3B+cBTNvbdQuXIeAExq1vF3d1I0YUdXIiIVbdq0CR999BGMRqPaocQE0RQBTJxwz/7oKcyr6ZRP6ssyZ2L/C49BU9XhVS0AJpKWZZkzcaBzKKqqBWd/9JR8W/ODvLI8DQMjf8Mm22V5e5VVlbVL52KT7TLSZ83AK8vTAEx0mBVNQgBQa8wK01aEBoeZJyJS0cjICDIzM3HlyhWkpaWpHQ6Rqth8Q0SkotTUVKxbtw4HDx5UOxQi1bFSQkSksq6uLlRUVODq1atqh0KkKlZKiIhUtmLFCqSkpLDDKyU8JiVERFHgBz/4AT766CO1wyBSFZtviIiiADu8ErFSQkQUFUSH13379qkdCpFqWCkhIooS3d3d+Pa3v42BgQEkJyerHQ6p6MMPP8To6Chef/11tUOJKFZKiIiiRE5ODnJycnh7cALr6elBQUEBfvGLX2DVqlVqhxNxTEqIiKLI9u3b8d5776kdBkXY2NgYfvKTn2D16tX4wQ9+AIfDgSVLlqgdVsQxKSEiiiJlZWUAgObmZpUjoUhpb2/H0qVLcfPmTVy8eBEvvfSS2iGphn1KiIiizAcffIDf/va3+MMf/qB2KBRGIyMj+MlPfoKWlhZYrVY5IU1krJQQEUWZDRs2oLu7G93d3WqHQmHS3NyMpUuXYnx8HBcvXmRC8iVWSoiIotDOnTsxODiITz75RO1QKIRGR0exbds2fP7556yO+MFKCRFRFNq6dSuOHj2K4eFhtUOhEBF9RwCwOjIFVkqIiKJUVVUVAKChoUHlSOhRjI6O4s0338TRo0dZHXkIVkqIiKKU2WzGwYMHWS2JYaI6Mjo6yupIAFgpISKKYlVVVRgdHcWBAwfUDoWCwOrI9LBSQkQUxcxmM2w2G1wul9qhUIBYHZk+VkqIiKJcbW0trl27xjtxohyrI4+OlRIioij3+uuvo7m5mdWSKCbGHQF4Z82jYKWEiCgGsFoSnW7evImf/OQnaG9vxyeffILi4mK1Q4pprJQQEcUAUS3p6+tTOxT60uHDh7F06VLMnTsXly5dYkISAqyUEBHFiL179+L3v/89n4mjssHBQZhMJvT39+PAgQNYsWKF2iHFDVZKiIhixA9/+EMMDw/DZrOpHUpCGh8fx969e/Hkk09i2bJluHDhAhOSEGOlhIgohrS3t+Pll1/GPWb6KgAABTZJREFUpUuXkJKSonY4CePs2bMwmUxISUmB1WpFdna22iHFJVZKiIhiSHFxMfLz87F79261Q0kIo6OjqKqqwpo1a7B161YcP36cCUkYMSkhIooxP/vZz/Dv//7vvEU4zI4ePYpFixZhZGQEFy9exIYNG9QOKe6x+YaIKAbt2rULJ0+exGeffaZ2KHHH5XJh27Zt6O/vh9Vq5V01EcRKCRFRDPrxj38Ml8uFo0ePqh1K3BgbG8POnTuRl5eHoqIiXLx4kQlJhDEpISKKQcnJybBarTCZTLh586ba4cQ8m82GhQsXwuVy4cKFC/jpT3+KpKQktcNKOGy+ISKKYVVVVejr62MzzjT19PSgqqoKw8PDsFqtyM/PVzukhMZKCRFRDHvnnXcwPDyMvXv3qh1KTBkZGUFVVRWeffZZfOc738GFCxeYkEQBJiVERDEsOTkZTU1N2L17N7q7u9UOJ+qNjY3h5z//ORYuXIjR0VFcunQJP/zhD9lUEyWYlBARxbjs7Gy8/fbbePnllzE6Oqp2OFHr0KFDWLp0KU6ePAmHw4EDBw5g7ty5aodFCuxTQkQUJ7773e9i7ty5sFqtaocSVdrb21FVVYWUlBS8/fbbvKMmijEpISKKEyMjI1i6dClqamrw6quvqh2O6rq7u7Fz50709fXhZz/7GZ577jm1Q6KHYPMNEVGcSE1NxR/+8Afs3Lkzoccv6e7uxtq1a7F69Wr8y7/8Cy5dusSEJEYwKSEiiiPZ2dn49NNPYTKZ4HQ61Q4nopTJSFFREa5evYrXXnuNnVhjCJMSIqI4k5+fD6vVioqKCvT19akdTtj5S0Zef/11JCcnqx0aBYnpIxFRHHruuecwPDyM1atXo7OzE2lpaWqHFHLd3d2oq6tDV1cXzGYzmpqamIjEOCYlRERx6rXXXsPw8DCeffZZHD9+PG4Sk+bmZuzbtw8ulwtbt25lMhJHmJQQEcWx2tpaJCUl4Zvf/CaOHTuGnJwctUOaltHRUXz44YfYt28fsrKysHXrVpSVlbG/SJzhLcFERAng8OHD2LZtGw4cOICysjK1wwmYy+XCvn37YLPZUFZWhu3bt2PJkiVqh0VhwhSTiCgBrFu3DllZWVi7di36+vrw4x//WO2QpjQ6OoqjR4/i17/+Nbq7u7F161ZcvHiRo68mAFZKiIgSiOj8umLFCrzzzjtITU1VOyQAwPj4OJqbm/Hb3/4WLS0tWLVqFV588UU20SQY3hJMRJRA0tLS4HA4MD4+jkWLFuHQoUOqxuN0OrF582ZkZmZi3759+Na3voWrV6+iqakJzz33HBOSBMNKCRFRgurq6sLmzZuRlJQEs9mMdevWhT0J6OvrQ3t7Ozo6OtDe3o60tDR8//vfx7p165CRkRHWdVP0Y1JCRJTAxsfHcfToUbz33nvo7+/HSy+9hOXLl6O4uDgkTTv9/f1yEtLS0oLk5GQUFxfjW9/6FlatWhU3tylTaDApISIiABODkbW0tKCjowNdXV3IyMhAfn4+Vq5cidzc3CnHAhkfH4fL5UJ/fz/cbjdcLpf8e0pKCoqLi1FUVIRVq1ZBr9dHeKsoljApISIiv7q7u9He3o7Tp0/j7NmzGB8fn3JevV6PrKws6HQ6+f96vT5qOtJSbGBSQkRERFGBd98QERFRVGBSQkRERFGBSQkRERFFBSYlREREFBWYlBAREVFUYFJCREREUYFJCREREUUFJiVEREQUFZiUEBERUVRgUkJERERRgUkJERERRQUmJURERBQVmJQQERFRVPj/AUQgMKgyzQnPAAAAAElFTkSuQmCC)"
      ],
      "metadata": {
        "id": "mDv9WJ2dWyxs"
      }
    },
    {
      "cell_type": "markdown",
      "source": [
        "# 2) Bag of Words(BoW)\n",
        "\n",
        "- Bag of Words란 단어들의 순서는 전혀 고려하지 않고, 단어들의 출현 빈도(frequency)에만 집중하는 텍스트 데이터의 수치화 표현 방법입니다. \n",
        "- Bag of Words를 직역하면 단어들의 가방이라는 의미입니다. \n",
        "- 단어들이 들어있는 가방을 상상해봅시다. 갖고있는 어떤 텍스트 문서에 있는 단어들을 가방에다가 전부 넣습니다. 그 후에는 이 가방을 흔들어 단어들을 섞습니다. 만약, 해당 문서 내에서 특정 단어가 N번 등장했다면, 이 가방에는 그 특정 단어가 N개 있게됩니다. 또한 가방을 흔들어서 단어를 섞었기 때문에 더 이상 단어의 순서는 중요하지 않습니다."
      ],
      "metadata": {
        "id": "Ux_i2WGCW12A"
      }
    },
    {
      "cell_type": "markdown",
      "source": [
        "(1) 각 단어에 고유한 정수 인덱스를 부여합니다.  # 단어 집합 생성.\n",
        "\n",
        "(2) 각 인덱스의 위치에 단어 토큰의 등장 횟수를 기록한 벡터를 만듭니다. "
      ],
      "metadata": {
        "id": "CYeAOMM3X3qJ"
      }
    },
    {
      "cell_type": "markdown",
      "source": [
        "문서1 : 정부가 발표하는 물가상승률과 소비자가 느끼는 물가상승률은 다르다."
      ],
      "metadata": {
        "id": "fGkVZbjpYLKO"
      }
    },
    {
      "cell_type": "code",
      "source": [
        "pip install konlpy"
      ],
      "metadata": {
        "id": "07AV2NsiY7CE"
      },
      "execution_count": null,
      "outputs": []
    },
    {
      "cell_type": "code",
      "source": [
        "from konlpy.tag import Okt\n",
        "\n",
        "okt = Okt()\n",
        "\n",
        "def build_bag_of_words(document):\n",
        "  # 온점 제거 및 형태소 분석\n",
        "  document = document.replace('.', '')\n",
        "  tokenized_document = okt.morphs(document)\n",
        "\n",
        "  word_to_index = {}\n",
        "  bow = []\n",
        "\n",
        "  for word in tokenized_document:  \n",
        "    if word not in word_to_index.keys():\n",
        "      word_to_index[word] = len(word_to_index)  \n",
        "      # BoW에 전부 기본값 1을 넣는다.\n",
        "      bow.insert(len(word_to_index) - 1, 1)\n",
        "    else:\n",
        "      # 재등장하는 단어의 인덱스\n",
        "      index = word_to_index.get(word)\n",
        "      # 재등장한 단어는 해당하는 인덱스의 위치에 1을 더한다.\n",
        "      bow[index] = bow[index] + 1\n",
        "\n",
        "  return word_to_index, bow"
      ],
      "metadata": {
        "id": "tmG6M8-TYXb3"
      },
      "execution_count": null,
      "outputs": []
    },
    {
      "cell_type": "code",
      "source": [
        "doc1 = \"정부가 발표하는 물가상승률과 소비자가 느끼는 물가상승률은 다르다.\"\n",
        "vocab, bow = build_bag_of_words(doc1)\n",
        "print('vocabulary :', vocab)\n",
        "print('bag of words vector :', bow)"
      ],
      "metadata": {
        "colab": {
          "base_uri": "https://localhost:8080/"
        },
        "id": "znLm_WZXYd4c",
        "outputId": "874fb9ce-8a48-4427-ccdb-8374b647776f"
      },
      "execution_count": null,
      "outputs": [
        {
          "output_type": "stream",
          "name": "stdout",
          "text": [
            "vocabulary : {'정부': 0, '가': 1, '발표': 2, '하는': 3, '물가상승률': 4, '과': 5, '소비자': 6, '느끼는': 7, '은': 8, '다르다': 9}\n",
            "bag of words vector : [1, 2, 1, 1, 2, 1, 1, 1, 1, 1]\n"
          ]
        }
      ]
    },
    {
      "cell_type": "code",
      "source": [
        "doc2 = '소비자는 주로 소비하는 상품을 기준으로 물가상승률을 느낀다.'\n",
        "\n",
        "vocab, bow = build_bag_of_words(doc2)\n",
        "print('vocabulary :', vocab) # 각 단어에 고유한 정수 인덱스를 부여\n",
        "print('bag of words vector :', bow) # BoW 란 bag_of_words / 각 인덱스의 위치에 단어 토큰의 등장 횟수를 기록한 벡터"
      ],
      "metadata": {
        "colab": {
          "base_uri": "https://localhost:8080/"
        },
        "id": "Ehk-ywmQZEPZ",
        "outputId": "693dd060-7794-408a-fd74-000028cdeb31"
      },
      "execution_count": null,
      "outputs": [
        {
          "output_type": "stream",
          "name": "stdout",
          "text": [
            "vocabulary : {'소비자': 0, '는': 1, '주로': 2, '소비': 3, '하는': 4, '상품': 5, '을': 6, '기준': 7, '으로': 8, '물가상승률': 9, '느낀다': 10}\n",
            "bag of words vector : [1, 1, 1, 1, 1, 1, 2, 1, 1, 1, 1]\n"
          ]
        }
      ]
    },
    {
      "cell_type": "code",
      "source": [
        "# 문서1과 문서2를 합쳐서 문서 3이라고 명명하고, BoW를 만들 수도 있다\n",
        "doc3 = doc1 + ' ' + doc2\n",
        "vocab, bow = build_bag_of_words(doc3)\n",
        "print('vocabulary :', vocab)\n",
        "print('bag of words vector :', bow)"
      ],
      "metadata": {
        "colab": {
          "base_uri": "https://localhost:8080/"
        },
        "id": "tfuC1nKOaaog",
        "outputId": "43fb0323-d592-40ae-a79e-9dfa7bb404df"
      },
      "execution_count": null,
      "outputs": [
        {
          "output_type": "stream",
          "name": "stdout",
          "text": [
            "vocabulary : {'정부': 0, '가': 1, '발표': 2, '하는': 3, '물가상승률': 4, '과': 5, '소비자': 6, '느끼는': 7, '은': 8, '다르다': 9, '는': 10, '주로': 11, '소비': 12, '상품': 13, '을': 14, '기준': 15, '으로': 16, '느낀다': 17}\n",
            "bag of words vector : [1, 2, 1, 2, 3, 1, 2, 1, 1, 1, 1, 1, 1, 1, 2, 1, 1, 1]\n"
          ]
        }
      ]
    },
    {
      "cell_type": "markdown",
      "source": [
        "##  CountVectorizer 클래스로 BoW 만들기\n",
        "\n",
        "CountVectorizer로 간단하고 빠르게 BoW를 만든다\n"
      ],
      "metadata": {
        "id": "kGhtZm4ee7sG"
      }
    },
    {
      "cell_type": "code",
      "source": [
        "from sklearn.feature_extraction.text import CountVectorizer\n",
        "\n",
        "corpus = ['you know I want your love. because I love you.']\n",
        "vector = CountVectorizer()\n",
        "\n",
        "# 코퍼스로부터 각 단어의 빈도수를 기록\n",
        "print('bag of words vector :', vector.fit_transform(corpus).toarray()) \n",
        "\n",
        "# 각 단어의 인덱스가 어떻게 부여되었는지를 출력\n",
        "print('vocabulary :',vector.vocabulary_)"
      ],
      "metadata": {
        "colab": {
          "base_uri": "https://localhost:8080/"
        },
        "id": "qcyARifSeywm",
        "outputId": "77247009-2e14-40a5-85ba-6f08a2238e8b"
      },
      "execution_count": null,
      "outputs": [
        {
          "output_type": "stream",
          "name": "stdout",
          "text": [
            "bag of words vector : [[1 1 2 1 2 1]]\n",
            "vocabulary : {'you': 4, 'know': 1, 'want': 3, 'your': 5, 'love': 2, 'because': 0}\n"
          ]
        }
      ]
    },
    {
      "cell_type": "markdown",
      "source": [
        "## 불용어를 제거한 BoW 만들기\n",
        "\n",
        "영어의 BoW를 만들기 위해 사용하는 CountVectorizer는 불용어를 지정하면, 불용어는 제외하고 BoW를 만들 수 있도록 불용어 제거 기능을 지원하고 있습니다."
      ],
      "metadata": {
        "id": "eNOC6NUVgb3u"
      }
    },
    {
      "cell_type": "code",
      "source": [
        "import nltk\n",
        "nltk.download('stopwords')"
      ],
      "metadata": {
        "id": "Lk3dNRpJhnWo",
        "outputId": "682084f4-7408-4423-8123-823b86db9be1",
        "colab": {
          "base_uri": "https://localhost:8080/"
        }
      },
      "execution_count": null,
      "outputs": [
        {
          "output_type": "stream",
          "name": "stderr",
          "text": [
            "[nltk_data] Downloading package stopwords to /root/nltk_data...\n",
            "[nltk_data]   Package stopwords is already up-to-date!\n"
          ]
        },
        {
          "output_type": "execute_result",
          "data": {
            "text/plain": [
              "True"
            ]
          },
          "metadata": {},
          "execution_count": 19
        }
      ]
    },
    {
      "cell_type": "code",
      "source": [
        "from sklearn.feature_extraction.text import CountVectorizer\n",
        "from nltk.corpus import stopwords"
      ],
      "metadata": {
        "id": "jtNCA90Ggchl"
      },
      "execution_count": null,
      "outputs": []
    },
    {
      "cell_type": "code",
      "source": [
        "#1 사용자가 직접 정의한 불용어 사용\n",
        "text = [\"Family is not an important thing. It's everything.\"]\n",
        "vect = CountVectorizer(stop_words=[\"the\", \"a\", \"an\", \"is\", \"not\"])  # 불용어 직접입력\n",
        "print('bag of words vector :',vect.fit_transform(text).toarray())\n",
        "print('vocabulary :',vect.vocabulary_)"
      ],
      "metadata": {
        "colab": {
          "base_uri": "https://localhost:8080/"
        },
        "id": "dQYZjoJgg6GH",
        "outputId": "56aa1481-9fd6-4125-f6d1-129abedb93cb"
      },
      "execution_count": null,
      "outputs": [
        {
          "output_type": "stream",
          "name": "stdout",
          "text": [
            "bag of words vector : [[1 1 1 1 1]]\n",
            "vocabulary : {'family': 1, 'important': 2, 'thing': 4, 'it': 3, 'everything': 0}\n"
          ]
        }
      ]
    },
    {
      "cell_type": "code",
      "source": [
        "#2 CountVectorizer에서 제공하는 자체 불용어 사용\n",
        "text = [\"Family is not an important thing. It's everything.\"]\n",
        "vect = CountVectorizer(stop_words=\"english\")\n",
        "print('bag of words vector :',vect.fit_transform(text).toarray())\n",
        "print('vocabulary :',vect.vocabulary_)"
      ],
      "metadata": {
        "colab": {
          "base_uri": "https://localhost:8080/"
        },
        "id": "ZH6R34A8g9AX",
        "outputId": "916e7628-aea7-4b6f-96d5-9fe70d92e7c3"
      },
      "execution_count": null,
      "outputs": [
        {
          "output_type": "stream",
          "name": "stdout",
          "text": [
            "bag of words vector : [[1 1 1]]\n",
            "vocabulary : {'family': 0, 'important': 1, 'thing': 2}\n"
          ]
        }
      ]
    },
    {
      "cell_type": "code",
      "source": [
        "#3 NLTK에서 지원하는 불용어 사용\n",
        "text = [\"Family is not an important thing. It's everything.\"]\n",
        "stop_words = stopwords.words(\"english\")\n",
        "vect = CountVectorizer(stop_words=stop_words)\n",
        "print('bag of words vector :',vect.fit_transform(text).toarray()) \n",
        "print('vocabulary :',vect.vocabulary_)"
      ],
      "metadata": {
        "colab": {
          "base_uri": "https://localhost:8080/"
        },
        "id": "7cwKLYTihA6I",
        "outputId": "64234590-f661-42a3-87b8-81ed843eec6c"
      },
      "execution_count": null,
      "outputs": [
        {
          "output_type": "stream",
          "name": "stdout",
          "text": [
            "bag of words vector : [[1 1 1 1]]\n",
            "vocabulary : {'family': 1, 'important': 2, 'thing': 3, 'everything': 0}\n"
          ]
        }
      ]
    },
    {
      "cell_type": "code",
      "source": [
        ""
      ],
      "metadata": {
        "id": "b-WOObL2hFGa"
      },
      "execution_count": null,
      "outputs": []
    }
  ]
}