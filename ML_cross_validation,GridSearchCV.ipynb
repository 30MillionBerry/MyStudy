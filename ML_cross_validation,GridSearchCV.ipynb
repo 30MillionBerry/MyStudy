{
  "nbformat": 4,
  "nbformat_minor": 0,
  "metadata": {
    "colab": {
      "name": "ML_cross validation,GridSearchCV.ipynb",
      "provenance": [],
      "authorship_tag": "ABX9TyM7G+WteiocZMrOFMoVVD2h",
      "include_colab_link": true
    },
    "kernelspec": {
      "name": "python3",
      "display_name": "Python 3"
    },
    "language_info": {
      "name": "python"
    }
  },
  "cells": [
    {
      "cell_type": "markdown",
      "metadata": {
        "id": "view-in-github",
        "colab_type": "text"
      },
      "source": [
        "<a href=\"https://colab.research.google.com/github/mohyunyang/MyStudy/blob/master/ML_cross_validation%2CGridSearchCV.ipynb\" target=\"_parent\"><img src=\"https://colab.research.google.com/assets/colab-badge.svg\" alt=\"Open In Colab\"/></a>"
      ]
    },
    {
      "cell_type": "code",
      "execution_count": 1,
      "metadata": {
        "id": "CSF8SG78VOTS"
      },
      "outputs": [],
      "source": [
        "import pandas as pd\n",
        "wine = pd.read_csv('http://bit.ly/wine_csv_data')"
      ]
    },
    {
      "cell_type": "code",
      "source": [
        "data = wine[['alcohol', 'sugar', 'pH']]\n",
        "target= wine['class'].to_numpy()"
      ],
      "metadata": {
        "id": "KbI_d-vCb5fp"
      },
      "execution_count": 2,
      "outputs": []
    },
    {
      "cell_type": "code",
      "source": [
        "print(data.head())\n",
        "print()\n",
        "print(target)"
      ],
      "metadata": {
        "colab": {
          "base_uri": "https://localhost:8080/"
        },
        "id": "q4zGu0ECcIya",
        "outputId": "524f4848-6727-4161-fa1f-eba1e2040a3a"
      },
      "execution_count": 5,
      "outputs": [
        {
          "output_type": "stream",
          "name": "stdout",
          "text": [
            "   alcohol  sugar    pH\n",
            "0      9.4    1.9  3.51\n",
            "1      9.8    2.6  3.20\n",
            "2      9.8    2.3  3.26\n",
            "3      9.8    1.9  3.16\n",
            "4      9.4    1.9  3.51\n",
            "\n",
            "[0. 0. 0. ... 1. 1. 1.]\n"
          ]
        }
      ]
    },
    {
      "cell_type": "markdown",
      "source": [
        "# validation set (검증테스트)\n",
        "- 훈련세트에서 모델을 훈련하고 검증세트로 모델을 평가한다.\n",
        "- 그리고 마지막에 테스트 세트에서 최종점수를 평가한다."
      ],
      "metadata": {
        "id": "0kL9B0hhcp1E"
      }
    },
    {
      "cell_type": "code",
      "source": [
        "import pandas as pd\n",
        "wine = pd.read_csv('http://bit.ly/wine_csv_data')"
      ],
      "metadata": {
        "id": "4JtH5sGncxlC"
      },
      "execution_count": 6,
      "outputs": []
    },
    {
      "cell_type": "code",
      "source": [
        "data = wine[['alcohol', 'sugar', 'pH']]\n",
        "target = wine['class'].to_numpy()"
      ],
      "metadata": {
        "id": "aitZF3NFdcVm"
      },
      "execution_count": 9,
      "outputs": []
    },
    {
      "cell_type": "code",
      "source": [
        "print(data.shape)    # 특성 3개\n",
        "print(target.shape)  # 1차원의 리스트"
      ],
      "metadata": {
        "colab": {
          "base_uri": "https://localhost:8080/"
        },
        "id": "kEGAoysHgDE4",
        "outputId": "16035104-2069-4f17-b50c-ae3cb1da4d59"
      },
      "execution_count": 18,
      "outputs": [
        {
          "output_type": "stream",
          "name": "stdout",
          "text": [
            "(6497, 3)\n",
            "(6497,)\n"
          ]
        }
      ]
    },
    {
      "cell_type": "code",
      "source": [
        "from sklearn.model_selection import train_test_split\n",
        "train_input, test_input, train_target, test_target = train_test_split(\n",
        "    data, target, test_size=0.2, random_state=42\n",
        ")\n",
        "# train_input 과 test_input 에 data의 특성을 7:3으로, target을 각각의 타겟에 7:3으로 넣고\n",
        "# 랜덤하게 섞기"
      ],
      "metadata": {
        "id": "5R9GQ5SjdmB8"
      },
      "execution_count": 14,
      "outputs": []
    },
    {
      "cell_type": "code",
      "source": [
        "print(train_input.shape, test_input.shape)"
      ],
      "metadata": {
        "colab": {
          "base_uri": "https://localhost:8080/"
        },
        "id": "Jjs4ZMHDgVU1",
        "outputId": "e7a2104b-97a2-478d-c163-26fa9df68289"
      },
      "execution_count": 20,
      "outputs": [
        {
          "output_type": "stream",
          "name": "stdout",
          "text": [
            "(5197, 3) (1300, 3)\n"
          ]
        }
      ]
    },
    {
      "cell_type": "code",
      "source": [
        "sub_input, val_input, sub_target, val_target = train_test_split(\n",
        "    train_input, train_target, test_size=0.2, random_state=42\n",
        ")\n",
        "# 섞여있는 train_input의 특성을 sub_input과 val_input에 적절하게 배분\n",
        "# 즉, 훈련세트를 훈련세트와 검증세트로 분류"
      ],
      "metadata": {
        "id": "3ABhzwWue1Hv"
      },
      "execution_count": 15,
      "outputs": []
    },
    {
      "cell_type": "code",
      "source": [
        "print(sub_input.shape, val_input.shape)"
      ],
      "metadata": {
        "colab": {
          "base_uri": "https://localhost:8080/"
        },
        "id": "Dt2sAjjXfsHQ",
        "outputId": "85afc141-e83a-4345-e359-8866e7dd70f3"
      },
      "execution_count": 17,
      "outputs": [
        {
          "output_type": "stream",
          "name": "stdout",
          "text": [
            "(4157, 3) (1040, 3)\n"
          ]
        }
      ]
    },
    {
      "cell_type": "code",
      "source": [
        "from sklearn.tree import DecisionTreeClassifier\n",
        "dt = DecisionTreeClassifier(random_state=42)\n",
        "dt.fit(sub_input, sub_target)\n",
        "print(dt.score(sub_input,sub_target))\n",
        "print(dt.score(val_input, val_target))\n",
        "\n",
        "# 검증세트의 모델을 만들고 평가해보기\n",
        "# val_input, val_target 을 사용해서 모델을 평가하는 것이다\n",
        "# 이 모델은 훈련세트에 과대적합되어 있음\n",
        "# 매개변수를 바꿔서 더 좋은 모델 찾자"
      ],
      "metadata": {
        "colab": {
          "base_uri": "https://localhost:8080/"
        },
        "id": "_JVltYBAgmeE",
        "outputId": "09647774-3abe-4c12-ba38-4774cb8eac3a"
      },
      "execution_count": 21,
      "outputs": [
        {
          "output_type": "stream",
          "name": "stdout",
          "text": [
            "0.9971133028626413\n",
            "0.864423076923077\n"
          ]
        }
      ]
    },
    {
      "cell_type": "markdown",
      "source": [
        "### cross validation (교차검증)\n",
        "- 검증 세트를 만드느라 훈련세트가 줄었음\n",
        "\n",
        "- 검증 세트를 너무 조금 떼어 놓으면 검증 점수가 들쭉날쭉하고 불안하다\n",
        "- 교차검증을 사용하면 안정적인 검증점수를 얻고 훈련에 더 많은 데이터를 사용할 수 있고 보통 더 많은 훈련데이터를 훈련에 사용할 수록 좋은 모델이 됨"
      ],
      "metadata": {
        "id": "Qouw4TO4hpjl"
      }
    },
    {
      "cell_type": "code",
      "source": [
        "from sklearn.model_selection import cross_validate\n",
        "score = cross_validate(dt, train_input, train_target)\n",
        "print(score)\n",
        " # 평가할 모델 객체를 첫번째 매개변수로, 그 다음 직접 검증세트를 떼어내지 않고 훈련세트 전체를 croos_validate() 함수에 전달\\\n",
        " # cross_vaildate() 함수는 fit_time, score_time, test_score 키를 가진 딕셔너리를 반환함\n",
        " # cross_vaildate() 함수는 기본적으로 5-폴드 교차검증을 수행\n",
        " # fit_time 은 모델을 훈련하는 시간 \n",
        " # socre_time 은 모델을 검증하는 시간\n",
        " # test_score 는 5개의 검증모델이 검증한 점수\n",
        " # 교차검증의 최종 점수는 test_score 키에 담긴 5개의 점수를 평균하여 얻을 수 있음"
      ],
      "metadata": {
        "colab": {
          "base_uri": "https://localhost:8080/"
        },
        "id": "RjbIkn0hhuXx",
        "outputId": "ce183d48-8ece-4dd7-e6e2-d91c866307d3"
      },
      "execution_count": 22,
      "outputs": [
        {
          "output_type": "stream",
          "name": "stdout",
          "text": [
            "{'fit_time': array([0.01526833, 0.0135026 , 0.01337171, 0.01294732, 0.01313329]), 'score_time': array([0.00366306, 0.00361252, 0.00353217, 0.00625277, 0.00353956]), 'test_score': array([0.86923077, 0.84615385, 0.87680462, 0.84889317, 0.83541867])}\n"
          ]
        }
      ]
    },
    {
      "cell_type": "code",
      "source": [
        "import numpy as np\n",
        "print(np.mean(score['test_score'])) # 검증폴드의 점수 / test_score 키에 담긴 5개의 점수를 평균\n",
        "# 교차검증을 수행하면 입력한 모델에서 얻을 수 있는 최상의 검증 검수를 가늠해 볼 수 있음"
      ],
      "metadata": {
        "colab": {
          "base_uri": "https://localhost:8080/"
        },
        "id": "ehUt0ng6j-SF",
        "outputId": "8d80ae24-c72a-4083-fad3-b68f4b6f931e"
      },
      "execution_count": 24,
      "outputs": [
        {
          "output_type": "stream",
          "name": "stdout",
          "text": [
            "0.855300214703487\n"
          ]
        }
      ]
    },
    {
      "cell_type": "code",
      "source": [
        "from sklearn.model_selection import StratifiedKFold\n",
        "score = cross_validate(dt, train_input, train_target, cv=StratifiedKFold())\n",
        "print(np.mean(score['test_score']))\n",
        "# 회귀모델일 경우 KFold 분할기를 사용\n",
        "# 분류모델일 경우 타깃클라스를 골고루 나누기 위해 StratifiedKFold 사용"
      ],
      "metadata": {
        "colab": {
          "base_uri": "https://localhost:8080/"
        },
        "id": "JJVtyQognNYx",
        "outputId": "e577fe59-cc17-4449-8005-82842dc86b9e"
      },
      "execution_count": 25,
      "outputs": [
        {
          "output_type": "stream",
          "name": "stdout",
          "text": [
            "0.855300214703487\n"
          ]
        }
      ]
    },
    {
      "cell_type": "code",
      "source": [
        "splitter = StratifiedKFold(n_splits=10, shuffle=True, random_state=42) # n_splits 매개변수는 몇(k) 폴드 교차 검증을 할지 정함\n",
        "score = cross_validate(dt, train_input, train_target, cv=splitter)\n",
        "print(np.mean(score['test_score']))\n",
        "\n",
        "# 위는 훈련세트를 섞은 후 10- 폴드 교차검증을 수행하려면 다음과 같이 작성"
      ],
      "metadata": {
        "colab": {
          "base_uri": "https://localhost:8080/"
        },
        "id": "h-NY54HmoW6s",
        "outputId": "002d722a-56d1-4659-acd0-5c16151a9ebd"
      },
      "execution_count": 26,
      "outputs": [
        {
          "output_type": "stream",
          "name": "stdout",
          "text": [
            "0.8574181117533719\n"
          ]
        }
      ]
    },
    {
      "cell_type": "markdown",
      "source": [
        "### Grid Search (그리드 서치)\n",
        "- GridSearchCV 클래스는 친절하게 하이퍼파라미터 탐색과 교차검증을 한 번에 수행\n",
        "- 별도로 cross_validate() 함수를 호출할 필요 없음"
      ],
      "metadata": {
        "id": "cu4TDCmkpnCB"
      }
    },
    {
      "cell_type": "code",
      "source": [
        "# 이어서 결정트리의 매개변수 값을 바꿔가며 가장 좋은 성능이 나오는 모델 찾아보자\n",
        "# GridSearchCV 클래스를 임포트 하고 탐색할 매개변수와 탐색할 값의 리스트를 딕셔너리로 바꾸자\n",
        "from sklearn.model_selection import GridSearchCV\n",
        "params = {'min_impurity_decrease': [0.0001, 0.0002, 0.0003, 0.0004, 0.0005]}  # min_impurity_decrease ??"
      ],
      "metadata": {
        "id": "15voPeNzpDar"
      },
      "execution_count": 27,
      "outputs": []
    },
    {
      "cell_type": "code",
      "source": [
        "gs = GridSearchCV(DecisionTreeClassifier(random_state=42), params,n_jobs= -1)\n",
        "# 0.0001 부터 5 까지 0.0001 씩 증가하는 5개의 값을 시도하겠다\n",
        "# GridSearchCV 클래스에 탐색 대상 모델과 params 변수를 전달하여 그리드 서치 객체를 만듦"
      ],
      "metadata": {
        "id": "cyW_GauqqRM-"
      },
      "execution_count": 28,
      "outputs": []
    },
    {
      "cell_type": "code",
      "source": [
        "gs.fit(train_input, train_target)\n",
        "\n",
        "# gs 객체에 fit() 메서드를 호출\n",
        "# 이 메서드를 호출하면 그리드 서치 객체는 결정 트리 모델 min_impurity_decrease 값을 바꿔가며 총 5번 실행함\n",
        "# GridSearchCV의 cv 매개변수 기본값은 5 이다\n",
        "# 따라서 min_impurity_decrease 값마다 5-폴드 교차검증을 수행함 => 5x5 =25 개의 모델을 훈련함\n",
        "# n_jobs 기본 값은 1, -1로 지정하면 시스템에 있는 모든 코어를 사용함"
      ],
      "metadata": {
        "colab": {
          "base_uri": "https://localhost:8080/"
        },
        "id": "CmuQPSsRrCkd",
        "outputId": "e636659d-bd46-4ddb-d357-90b413c16246"
      },
      "execution_count": 29,
      "outputs": [
        {
          "output_type": "execute_result",
          "data": {
            "text/plain": [
              "GridSearchCV(estimator=DecisionTreeClassifier(random_state=42), n_jobs=-1,\n",
              "             param_grid={'min_impurity_decrease': [0.0001, 0.0002, 0.0003,\n",
              "                                                   0.0004, 0.0005]})"
            ]
          },
          "metadata": {},
          "execution_count": 29
        }
      ]
    },
    {
      "cell_type": "code",
      "source": [
        "# 교차검증에서 최적의 파라미터를 찾으면 전체 훈련세트로 모델을 다시 만들어야함\n",
        "# 편리하게도 사이킷런의 그리드서치는 훈련이 끝나면 25개의 모델중에서 검증 점수가 가장 높은 모델의 매개변수 조합으로 \n",
        "# 전체 훈련 세트에서 자동으로 다시 모델을 훈련한다\n",
        "\n",
        "dt = gs.best_estimator_      # 이 모델은 gs객체의 best_estimator_ 속성에 저장되있음 \n",
        "print(dt.score(train_input, train_target))"
      ],
      "metadata": {
        "colab": {
          "base_uri": "https://localhost:8080/"
        },
        "id": "s3vUsvyrr6Fg",
        "outputId": "632b6c5c-f19d-403c-a74c-31b1accd4fa1"
      },
      "execution_count": 30,
      "outputs": [
        {
          "output_type": "stream",
          "name": "stdout",
          "text": [
            "0.9615162593804117\n"
          ]
        }
      ]
    },
    {
      "cell_type": "code",
      "source": [
        "print(gs.best_params_) # 그리드 서치로 찾은 최적의 매개변수는 best_params_ 속성에 저장되있음\n",
        "# 여기서는 0.0001 이 가장 좋은 값으로 선택됨"
      ],
      "metadata": {
        "colab": {
          "base_uri": "https://localhost:8080/"
        },
        "id": "3DKHFWeHsemZ",
        "outputId": "34f8d906-fca2-41ba-9e3a-1c75d67d4138"
      },
      "execution_count": 32,
      "outputs": [
        {
          "output_type": "stream",
          "name": "stdout",
          "text": [
            "{'min_impurity_decrease': 0.0001}\n"
          ]
        }
      ]
    },
    {
      "cell_type": "code",
      "source": [
        "print(gs.cv_results_['mean_test_score'])\n",
        "# 각 매개변수에서 수행한 교차 검증의 평균 점수는 cv_results_ 속성의 'mean_test_score' 키에 저장되어있음\n"
      ],
      "metadata": {
        "colab": {
          "base_uri": "https://localhost:8080/"
        },
        "id": "Wywb7bJhtGze",
        "outputId": "8586da6e-fbc1-4a46-ae48-a7c4756bc675"
      },
      "execution_count": 34,
      "outputs": [
        {
          "output_type": "stream",
          "name": "stdout",
          "text": [
            "[0.86819297 0.86453617 0.86492226 0.86780891 0.86761605]\n"
          ]
        }
      ]
    },
    {
      "cell_type": "code",
      "source": [
        "best_index = np.argmax(gs.cv_results_['mean_test_score'])\n",
        "print(gs.cv_results_['params'][best_index])\n",
        "# 넘파이 argmax() 함수를 사용하면 가장 큰 값의 인덱스를 추출가능\n",
        "# 이 값이 최상의 검증점수를 만든 매개변수 조합이다"
      ],
      "metadata": {
        "colab": {
          "base_uri": "https://localhost:8080/"
        },
        "id": "rlhLPJvEtvBq",
        "outputId": "9ba597b3-41f1-4f2a-8743-b2f3833b3824"
      },
      "execution_count": 35,
      "outputs": [
        {
          "output_type": "stream",
          "name": "stdout",
          "text": [
            "{'min_impurity_decrease': 0.0001}\n"
          ]
        }
      ]
    },
    {
      "cell_type": "markdown",
      "source": [
        "- 1. 먼저 탐색할 매개변수를 지정\n",
        "- 2. 그 다음 훈련세트에서 그리드서치를 수행한다\n",
        "- 3. 그리하여 최상의 평균 검증 점수가 나오는 매개변수 조합을 찾는다\n",
        "- 4. 이 조합은 그리드 서치 객체에 저장 됨\n",
        "- 5. 그리드 섳는 최상이 매개변수에서 (교차검증에 사용한 훈련세트가 아니라) 전체 훈련세트를 사용해 최종모델을 훈련함\n",
        "- 6. 이 모델도 그리드 서치 객체에 저장 됨\n",
        "\n"
      ],
      "metadata": {
        "id": "xXEwiV74uiux"
      }
    },
    {
      "cell_type": "code",
      "source": [
        "params = {'min_impurity_decrease':np.arange(0.0001,0.001,0.0001), # 총9개\n",
        "          'max_depth' : range(5, 20, 1), # 15개\n",
        "          'min_samples_split' : range(2, 100, 10)} # 10개의 값\n",
        "# 이 매개변수로 수행할 교차검증횟수는 9 x 15 x 10 = 1,350 개\n",
        "# 기본 5-폴트교차 검증을 수행하므로 모델의 수는 6,750 개"
      ],
      "metadata": {
        "id": "nlqch7kJvFva"
      },
      "execution_count": 36,
      "outputs": []
    },
    {
      "cell_type": "code",
      "source": [
        "gs = GridSearchCV(DecisionTreeClassifier(random_state=42), params, n_jobs=-1)\n",
        "gs.fit(train_input, train_target)\n",
        "# 그리드 서치 실행"
      ],
      "metadata": {
        "colab": {
          "base_uri": "https://localhost:8080/"
        },
        "id": "yry8M53I0DwT",
        "outputId": "9bdda410-7d72-4122-b2a7-4ee2501a626e"
      },
      "execution_count": 40,
      "outputs": [
        {
          "output_type": "execute_result",
          "data": {
            "text/plain": [
              "GridSearchCV(estimator=DecisionTreeClassifier(random_state=42), n_jobs=-1,\n",
              "             param_grid={'max_depth': range(5, 20),\n",
              "                         'min_impurity_decrease': array([0.0001, 0.0002, 0.0003, 0.0004, 0.0005, 0.0006, 0.0007, 0.0008,\n",
              "       0.0009]),\n",
              "                         'min_samples_split': range(2, 100, 10)})"
            ]
          },
          "metadata": {},
          "execution_count": 40
        }
      ]
    },
    {
      "cell_type": "code",
      "source": [
        "# 최상의 매개변수 조합을 확인\n",
        "print(gs.best_params_)"
      ],
      "metadata": {
        "colab": {
          "base_uri": "https://localhost:8080/"
        },
        "id": "pZqzFYCi0hgr",
        "outputId": "7a8a38ab-79aa-47dd-bf31-41be558b853b"
      },
      "execution_count": 41,
      "outputs": [
        {
          "output_type": "stream",
          "name": "stdout",
          "text": [
            "{'max_depth': 14, 'min_impurity_decrease': 0.0004, 'min_samples_split': 12}\n"
          ]
        }
      ]
    },
    {
      "cell_type": "code",
      "source": [
        "# 최상의 교차검증점수 확인\n",
        "print(gs.best_params_)"
      ],
      "metadata": {
        "colab": {
          "base_uri": "https://localhost:8080/"
        },
        "id": "hE2oFcYw0oIq",
        "outputId": "714de6b5-1598-464e-db88-4188c6e5deac"
      },
      "execution_count": 42,
      "outputs": [
        {
          "output_type": "stream",
          "name": "stdout",
          "text": [
            "{'max_depth': 14, 'min_impurity_decrease': 0.0004, 'min_samples_split': 12}\n"
          ]
        }
      ]
    },
    {
      "cell_type": "code",
      "source": [
        "print(np.max(gs.cv_results_['mean_test_score']))\n",
        "# GridSearchCV 클래스를 사용하므로 매개변수를 일일이 바꿔가며 교차검증을 수행하지 않아도 됨\n",
        "# 원하는 매개변수 값을 나열하면 자동으로 교차검증을 수행해서 최상의 매개변수를 찾을 수 있음"
      ],
      "metadata": {
        "colab": {
          "base_uri": "https://localhost:8080/"
        },
        "id": "0jRUpotO01BL",
        "outputId": "dfbeab36-f2ee-448b-c037-0990dd4739fd"
      },
      "execution_count": 43,
      "outputs": [
        {
          "output_type": "stream",
          "name": "stdout",
          "text": [
            "0.8683865773302731\n"
          ]
        }
      ]
    },
    {
      "cell_type": "markdown",
      "source": [
        "### Random Search (랜덤서치)\n",
        "- 탐색할 매개변수의 간격을 0.0001 혹은 1로 설정했는데 이렇게 간격을 둔것에 특별한 근거는 없음\n",
        "- 매개 변수의 값이 수치 일 때 범위나 간격을 미리 정하기 어려울 수 있음\n",
        "- 또 너무 많은 매개변수 조건이 있어 그리드 서치 수행시간이 오래 걸릴 수 있음\n",
        "- 이럴 때 랜덤서치 사용하면 좋음"
      ],
      "metadata": {
        "id": "kawTEjHZ1N9i"
      }
    },
    {
      "cell_type": "code",
      "source": [
        "from scipy.stats import uniform, randint\n",
        "# uniform 과 randint 클래스는 모두 주어진 범위에서 고르게 값을 뽑음\n",
        "# 이를 '균등분포에서 샘플링 한다'고 함\n",
        "# randint 는 정수 값을 uniform은 실수 값을 뽑음"
      ],
      "metadata": {
        "id": "QsoYehT71cK6"
      },
      "execution_count": 46,
      "outputs": []
    },
    {
      "cell_type": "code",
      "source": [
        "rgen = randint(0,10)\n",
        "rgen.rvs(10)\n",
        "# randint 객체를 만들고 0 에서 10개의 숫자를 샘플링 "
      ],
      "metadata": {
        "colab": {
          "base_uri": "https://localhost:8080/"
        },
        "id": "49UWLPad2U8I",
        "outputId": "61885ef7-4f1d-4b5e-cadf-81602366e3f3"
      },
      "execution_count": 47,
      "outputs": [
        {
          "output_type": "execute_result",
          "data": {
            "text/plain": [
              "array([8, 7, 5, 1, 7, 1, 1, 7, 0, 8])"
            ]
          },
          "metadata": {},
          "execution_count": 47
        }
      ]
    },
    {
      "cell_type": "code",
      "source": [
        "np.unique(rgen.rvs(1000), return_counts=True)"
      ],
      "metadata": {
        "colab": {
          "base_uri": "https://localhost:8080/"
        },
        "id": "lcynHR5c2guW",
        "outputId": "f9c2a123-253c-47fe-d838-b2cf9a3f0a69"
      },
      "execution_count": 56,
      "outputs": [
        {
          "output_type": "execute_result",
          "data": {
            "text/plain": [
              "(array([0, 1, 2, 3, 4, 5, 6, 7, 8, 9]),\n",
              " array([105,  93, 108, 109,  95,  99,  96, 115, 105,  75]))"
            ]
          },
          "metadata": {},
          "execution_count": 56
        }
      ]
    },
    {
      "cell_type": "code",
      "source": [
        "ugen = uniform(0,1)\n",
        "ugen.rvs(10) \n",
        "# 0~1 사이 10개의 실수 추출\n",
        "\n",
        "# randint 과 uniform 클래스 객체를 넘겨주고 총 몇번을 샘플링해서 최적의 매개변수를 찾으라고 명령 하는 것\n",
        "# 샘플링 횟수는 시스템 자원이 허락하는 범위 내에서 최대한 크게하는게 좋음"
      ],
      "metadata": {
        "colab": {
          "base_uri": "https://localhost:8080/"
        },
        "id": "Hdmc1zst28mp",
        "outputId": "5ca71a88-c2bc-4caa-d26e-929c2c5de68e"
      },
      "execution_count": 57,
      "outputs": [
        {
          "output_type": "execute_result",
          "data": {
            "text/plain": [
              "array([0.10634576, 0.08076016, 0.66787572, 0.23014632, 0.1797004 ,\n",
              "       0.44803092, 0.37609528, 0.92867087, 0.0027243 , 0.72721113])"
            ]
          },
          "metadata": {},
          "execution_count": 57
        }
      ]
    },
    {
      "cell_type": "code",
      "source": [
        "params = {'min_impurity_decrease': uniform(0.0001, 0.001),\n",
        "          'max_depth': randint(20,50),\n",
        "          'min_samples_split': randint(2, 25),\n",
        "          'min_samples_leaf': randint(1, 25)}"
      ],
      "metadata": {
        "id": "9sXSC3GE3Xej"
      },
      "execution_count": 58,
      "outputs": []
    },
    {
      "cell_type": "code",
      "source": [
        "from sklearn.model_selection import RandomizedSearchCV\n",
        "gs = RandomizedSearchCV(DecisionTreeClassifier(random_state=42), params,\n",
        "                        n_iter=100, n_jobs=-1, random_state=42)\n",
        "gs.fit(train_input, train_target)"
      ],
      "metadata": {
        "colab": {
          "base_uri": "https://localhost:8080/"
        },
        "id": "i8dcGYOk4J3c",
        "outputId": "4709a29a-afe2-4f2d-f681-19cf4b7faca6"
      },
      "execution_count": 60,
      "outputs": [
        {
          "output_type": "execute_result",
          "data": {
            "text/plain": [
              "RandomizedSearchCV(estimator=DecisionTreeClassifier(random_state=42),\n",
              "                   n_iter=100, n_jobs=-1,\n",
              "                   param_distributions={'max_depth': <scipy.stats._distn_infrastructure.rv_frozen object at 0x7ff13ae1efd0>,\n",
              "                                        'min_impurity_decrease': <scipy.stats._distn_infrastructure.rv_frozen object at 0x7ff13a4c2690>,\n",
              "                                        'min_samples_leaf': <scipy.stats._distn_infrastructure.rv_frozen object at 0x7ff13ae1e690>,\n",
              "                                        'min_samples_split': <scipy.stats._distn_infrastructure.rv_frozen object at 0x7ff13ae1ed90>},\n",
              "                   random_state=42)"
            ]
          },
          "metadata": {},
          "execution_count": 60
        }
      ]
    },
    {
      "cell_type": "code",
      "source": [
        "print(gs.best_params_)"
      ],
      "metadata": {
        "colab": {
          "base_uri": "https://localhost:8080/"
        },
        "id": "jvYUCkj14oHj",
        "outputId": "94b702b9-b60b-4262-ba3d-8bb9c728df8a"
      },
      "execution_count": 63,
      "outputs": [
        {
          "output_type": "stream",
          "name": "stdout",
          "text": [
            "{'max_depth': 39, 'min_impurity_decrease': 0.00034102546602601173, 'min_samples_leaf': 7, 'min_samples_split': 13}\n"
          ]
        }
      ]
    },
    {
      "cell_type": "code",
      "source": [
        "print(np.max(gs.cv_results_['mean_test_score']))"
      ],
      "metadata": {
        "colab": {
          "base_uri": "https://localhost:8080/"
        },
        "id": "J8ja_QGA4qnM",
        "outputId": "e87ee814-657e-4bea-85e5-f15cd80d5dab"
      },
      "execution_count": 64,
      "outputs": [
        {
          "output_type": "stream",
          "name": "stdout",
          "text": [
            "0.8695428296438884\n"
          ]
        }
      ]
    },
    {
      "cell_type": "code",
      "source": [
        "dt = gs.best_estimator_\n",
        "print(dt.score(test_input, test_target))"
      ],
      "metadata": {
        "colab": {
          "base_uri": "https://localhost:8080/"
        },
        "id": "XK2ixMl9407D",
        "outputId": "71368ea8-12f4-4df5-f3bd-ca245d1452a9"
      },
      "execution_count": 65,
      "outputs": [
        {
          "output_type": "stream",
          "name": "stdout",
          "text": [
            "0.86\n"
          ]
        }
      ]
    }
  ]
}