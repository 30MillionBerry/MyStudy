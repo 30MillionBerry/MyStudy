{
  "nbformat": 4,
  "nbformat_minor": 0,
  "metadata": {
    "colab": {
      "name": "Coding_Problem9.ipynb",
      "provenance": [],
      "collapsed_sections": [],
      "authorship_tag": "ABX9TyPzp8qd3vm+wfIGcIrnHYd2",
      "include_colab_link": true
    },
    "kernelspec": {
      "name": "python3",
      "display_name": "Python 3"
    },
    "language_info": {
      "name": "python"
    }
  },
  "cells": [
    {
      "cell_type": "markdown",
      "metadata": {
        "id": "view-in-github",
        "colab_type": "text"
      },
      "source": [
        "<a href=\"https://colab.research.google.com/github/mohyunyang/MyStudy/blob/master/Coding_Problem9.ipynb\" target=\"_parent\"><img src=\"https://colab.research.google.com/assets/colab-badge.svg\" alt=\"Open In Colab\"/></a>"
      ]
    },
    {
      "cell_type": "markdown",
      "source": [
        "# 문제\n",
        "알파벳 소문자로만 이루어진 단어 S가 주어진다. 각각의 알파벳에 대해서, 단어에 포함되어 있는 경우에는 처음 등장하는 위치를, 포함되어 있지 않은 경우에는 -1을 출력하는 프로그램을 작성하시오.\n",
        "\n",
        "#### 입력\n",
        "첫째 줄에 단어 S가 주어진다. 단어의 길이는 100을 넘지 않으며, 알파벳 소문자로만 이루어져 있다.\n",
        "\n",
        "#### 출력\n",
        "각각의 알파벳에 대해서, a가 처음 등장하는 위치, b가 처음 등장하는 위치, ... z가 처음 등장하는 위치를 공백으로 구분해서 출력한다.\n",
        "\n",
        "만약, 어떤 알파벳이 단어에 포함되어 있지 않다면 -1을 출력한다. 단어의 첫 번째 글자는 0번째 위치이고, 두 번째 글자는 1번째 위치이다."
      ],
      "metadata": {
        "id": "sCvuPcldsN1k"
      }
    },
    {
      "cell_type": "markdown",
      "source": [
        "baekjoon"
      ],
      "metadata": {
        "id": "YgHRNiwxsTK1"
      }
    },
    {
      "cell_type": "markdown",
      "source": [
        "1 0 -1 -1 2 -1 -1 -1 -1 4 3 -1 -1 7 5 -1 -1 -1 -1 -1 -1 -1 -1 -1 -1 -1\n"
      ],
      "metadata": {
        "id": "GTbDilJPshKL"
      }
    },
    {
      "cell_type": "markdown",
      "source": [
        "# find()\n",
        "find 메서드는 \"찾을 문자\" 혹은 \"찾을 문자열\"이 존재하는지 확인하고, 찾는 문자가 존재 한다면 해당 위치의 index를 반환해주고찾는 문자가 존재 하지 않는다면 -1 을 반환합니다."
      ],
      "metadata": {
        "id": "A_416Lgtxs-a"
      }
    },
    {
      "cell_type": "code",
      "source": [
        "word = list(input()) # \"baekjoon\"\n",
        "alpha = [\"a\", \"b\", \"c\", \"d\", \"e\", \"f\", \"g\", \"h\", \"i\", \"j\", \"k\", \"l\", \"m\", \"n\", \"o\", \"p\", \"q\", \"r\", \"s\", \"t\", \"u\", \"v\", \"w\", \"x\", \"y\", \"z\"]\n",
        "\n",
        "# a는 0번째 인덱스, b는 1번째인덱스, c는 2번째인덱스로 어떻게 만들까?\n",
        "for i in alpha:         # ['a']\n",
        "  if i in word:\n",
        "    print(word.index(i), end=\" \")\n",
        "  else : \n",
        "    print(-1,end=\" \")"
      ],
      "metadata": {
        "colab": {
          "base_uri": "https://localhost:8080/"
        },
        "id": "IGNJaWFnskN7",
        "outputId": "93a22f40-87c6-41c1-b407-10e72929c51c"
      },
      "execution_count": 16,
      "outputs": [
        {
          "output_type": "stream",
          "name": "stdout",
          "text": [
            "baekjoon\n",
            "1 0 -1 -1 2 -1 -1 -1 -1 4 3 -1 -1 7 5 -1 -1 -1 -1 -1 -1 -1 -1 -1 -1 -1 "
          ]
        }
      ]
    },
    {
      "cell_type": "code",
      "source": [
        "word = input()\n",
        "alphabet = list(range(97,123))  # 아스키코드 숫자 범위\n",
        "\n",
        "for x in alphabet :\n",
        "    print(word.find(chr(x))) "
      ],
      "metadata": {
        "id": "MmPHCjE0wey4"
      },
      "execution_count": null,
      "outputs": []
    },
    {
      "cell_type": "markdown",
      "source": [
        "# 2문제\n",
        "문자열 S를 입력받은 후에, 각 문자를 R번 반복해 새 문자열 P를 만든 후 출력하는 프로그램을 작성하시오. 즉, 첫 번째 문자를 R번 반복하고, 두 번째 문자를 R번 반복하는 식으로 P를 만들면 된다. S에는 QR Code \"alphanumeric\" 문자만 들어있다.\n",
        "\n",
        "QR Code \"alphanumeric\" 문자는 0123456789ABCDEFGHIJKLMNOPQRSTUVWXYZ\\$%*+-./: 이다.\n",
        "\n",
        "####입력\n",
        "첫째 줄에 테스트 케이스의 개수 T(1 ≤ T ≤ 1,000)가 주어진다. 각 테스트 케이스는 반복 횟수 R(1 ≤ R ≤ 8), 문자열 S가 공백으로 구분되어 주어진다. S의 길이는 적어도 1이며, 20글자를 넘지 않는다. \n",
        "####출력\n",
        "각 테스트 케이스에 대해 P를 출력한다."
      ],
      "metadata": {
        "id": "W6RFtAkBxLJG"
      }
    },
    {
      "cell_type": "markdown",
      "source": [
        "예제 입력 1 \n",
        "- 2\n",
        "- 3 ABC\n",
        "- 5 /HTP\n"
      ],
      "metadata": {
        "id": "DjWgW3laxpsV"
      }
    },
    {
      "cell_type": "markdown",
      "source": [
        "예제 출력 1 \n",
        "- AAABBBCCC\n",
        "- /////HHHHHTTTTTPPPPP"
      ],
      "metadata": {
        "id": "W8GmxeEvx2JG"
      }
    },
    {
      "cell_type": "code",
      "source": [
        "t = int(input())\n",
        "for i in range(t):\n",
        "  word = list(input().split())\n",
        "  rep = int(word[0])\n",
        "  r_word = word[1]\n",
        "  for q in r_word:\n",
        "    print(q*rep, end=\"\")\n",
        "  print()\n"
      ],
      "metadata": {
        "colab": {
          "base_uri": "https://localhost:8080/"
        },
        "id": "o5aFBcaDx9Dg",
        "outputId": "eb2c1fad-3013-439f-9789-c338ffb2e079"
      },
      "execution_count": 35,
      "outputs": [
        {
          "output_type": "stream",
          "name": "stdout",
          "text": [
            "2\n",
            "3 ABC\n",
            "AAABBBCCC\n",
            "5 /HTP\n",
            "/////HHHHHTTTTTPPPPP\n"
          ]
        }
      ]
    },
    {
      "cell_type": "code",
      "source": [
        "word"
      ],
      "metadata": {
        "colab": {
          "base_uri": "https://localhost:8080/"
        },
        "id": "xOWOuqvGyWfC",
        "outputId": "b3a0b30b-1b13-47b9-c90c-3eb6f5bfe066"
      },
      "execution_count": 32,
      "outputs": [
        {
          "output_type": "execute_result",
          "data": {
            "text/plain": [
              "['5', '/HTP']"
            ]
          },
          "metadata": {},
          "execution_count": 32
        }
      ]
    }
  ]
}