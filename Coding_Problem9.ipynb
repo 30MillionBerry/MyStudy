{
  "nbformat": 4,
  "nbformat_minor": 0,
  "metadata": {
    "colab": {
      "name": "Coding_Problem9.ipynb",
      "provenance": [],
      "authorship_tag": "ABX9TyNEZ/YOVhwhbF34FlLPNqxr",
      "include_colab_link": true
    },
    "kernelspec": {
      "name": "python3",
      "display_name": "Python 3"
    },
    "language_info": {
      "name": "python"
    }
  },
  "cells": [
    {
      "cell_type": "markdown",
      "metadata": {
        "id": "view-in-github",
        "colab_type": "text"
      },
      "source": [
        "<a href=\"https://colab.research.google.com/github/mohyunyang/MyStudy/blob/master/Coding_Problem9.ipynb\" target=\"_parent\"><img src=\"https://colab.research.google.com/assets/colab-badge.svg\" alt=\"Open In Colab\"/></a>"
      ]
    },
    {
      "cell_type": "markdown",
      "source": [
        "> 문제\n",
        "알파벳 대소문자로 된 단어가 주어지면, 이 단어에서 가장 많이 사용된 알파벳이 무엇인지 알아내는 프로그램을 작성하시오. 단, 대문자와 소문자를 구분하지 않는다.\n",
        "\n",
        "> 입력\n",
        "첫째 줄에 알파벳 대소문자로 이루어진 단어가 주어진다. 주어지는 단어의 길이는 1,000,000을 넘지 않는다.\n",
        "\n",
        "> 출력\n",
        "첫째 줄에 이 단어에서 가장 많이 사용된 알파벳을 대문자로 출력한다. 단, 가장 많이 사용된 알파벳이 여러 개 존재하는 경우에는 ?를 출력한다."
      ],
      "metadata": {
        "id": "r4LmkEm-Bmea"
      }
    },
    {
      "cell_type": "code",
      "source": [
        "# 입력을 받는다. 입력의 예시는 Mississipi, zZa\n",
        "word = list(input().upper())\n",
        "a = sorted(word)\n",
        "b = {}\n",
        "# 핵심은 가장 많이 나온 단어를 세야되는 것인데, 어떻게 세지?\n",
        "# 세는건 count 인데 \n",
        "# 알파벳이 들어오니 a부터 z까지 정렬이 가능할 것 같다. 후에 a는 몇개 b는 몇개 인지 카운트 후에 가장 높은 수를 출력하면 될 듯\n",
        "\n",
        "for i in range(1,len(a)+1):\n",
        "  for z in a:\n",
        "  # 알파벳이 없다면 딕셔너리에 키추가\n",
        "    if not z in b:\n",
        "      b[z] = 1\n",
        "  # 알파벳이 있다면? 딕셔너리 키를 업데이트\n",
        "    if z in b :\n",
        "      \n",
        "\n",
        "b"
      ],
      "metadata": {
        "colab": {
          "base_uri": "https://localhost:8080/",
          "height": 140
        },
        "id": "v4WeFIAiBpf0",
        "outputId": "7016a796-a516-41f8-a897-5dff54ae7aa3"
      },
      "execution_count": 21,
      "outputs": [
        {
          "output_type": "error",
          "ename": "IndentationError",
          "evalue": "ignored",
          "traceback": [
            "\u001b[0;36m  File \u001b[0;32m\"<ipython-input-21-f516452f0751>\"\u001b[0;36m, line \u001b[0;32m17\u001b[0m\n\u001b[0;31m    b\u001b[0m\n\u001b[0m     ^\u001b[0m\n\u001b[0;31mIndentationError\u001b[0m\u001b[0;31m:\u001b[0m expected an indented block\n"
          ]
        }
      ]
    },
    {
      "cell_type": "markdown",
      "source": [
        "# 답"
      ],
      "metadata": {
        "id": "OFZ4i7phMulj"
      }
    },
    {
      "cell_type": "code",
      "source": [
        "word = input().upper()\n",
        "new = {}\n",
        "\n",
        "for i in range(len(word)): # 10번 반복\n",
        "    if word[i] in new:        # 만약에 new 딕셔너리 안에 인덱스0번째가 있다면, M 이 있으면\n",
        "        new[word[i]] += 1        # 딕셔너리 new 에 키 M을 만들고 키값으로 1 추가\n",
        "    else:\n",
        "        new[word[i]] = 1         # M 이 없다면 M : 1 추가\n",
        "\n",
        "lst = list(new.values())  # 딕셔너리 new의 키값만 리스트화\n",
        "lst.sort(reverse=True) # 오름차순으로 \n",
        "print(lst)\n",
        "\n",
        "if len(new) == 1:    # 딕셔너리의 길이가 1이면, 1이라는 것은 키가 1개, 즉 하나의 알파벳으로 되어있다는 뜻\n",
        "    print(word[0])      # 인덱스 0번을 출력해라\n",
        "elif lst[0] == lst[1]: # 그 밖에 리스트 0번 째와 1번째가 같다면 \n",
        "    print(\"?\")  # \"?\" 출력 \n",
        "else:  # 그 밖에\n",
        "    for key, value in new.items(): # item() 를 써서 딕셔너리 new를 key, value로 하여금 반복\n",
        "         if lst[0] == value: # lst[0]은 가장 빈번하게 나온 알파벳의 수, 그 수와 반복문의 value와 맞다면  \n",
        "            print(key) # 키 출력"
      ],
      "metadata": {
        "colab": {
          "base_uri": "https://localhost:8080/"
        },
        "id": "lrQycISDMxKt",
        "outputId": "5a23756e-1edb-48a8-c25b-6ef61fd2c55e"
      },
      "execution_count": 42,
      "outputs": [
        {
          "output_type": "stream",
          "name": "stdout",
          "text": [
            "zza\n",
            "[2, 1]\n",
            "Z\n"
          ]
        }
      ]
    },
    {
      "cell_type": "code",
      "source": [
        "word = input().upper()\n",
        "new = {}\n",
        "print(word)\n",
        "\n",
        "# 10번 반복\n",
        "for i in range(len(word)):\n",
        "# 만약에 new 딕셔너리 안에 인덱스0번째가 있다면, M 이 있으면\n",
        "  if word[i] in new:\n",
        "# 딕셔너리 new 에 키 M을 만들고 키값으로 1 추가\n",
        "    new[word[i]] += 1\n",
        "# M 이 없다면 M : 1 추가\n",
        "  # if i not in new: 는 안됨\n",
        "  else:\n",
        "    new[word[i]] = 1\n",
        "print(new)\n",
        "\n",
        "# 딕셔너리 new의 키값만 리스트화\n",
        "lst = list(new.values())\n",
        "# 오름차순으로 \n",
        "lst.sort(reverse=True)\n",
        "print(lst)\n",
        "\n",
        "# 딕셔너리의 길이가 1이면, 1이라는 것은 키가 1개, 즉 하나의 알파벳으로 되어있다는 뜻\n",
        "if len(new)== 1:\n",
        "# 인덱스 0번을 출력해라\n",
        "  print(word[0])\n",
        "# 그 밖에 리스트 0번 째와 1번째가 같다면 \n",
        "elif lst[0] == lst[1]:\n",
        "# \"?\" 출력 \n",
        "  print(\"?\")\n",
        "# 그 밖에\n",
        "else:\n",
        "# item() 를 써서 딕셔너리 new를 key, value로 하여금 반복\n",
        "  for key, value in new.items():\n",
        "# lst[0]은 가장 빈번하게 나온 알파벳의 수, 그 수와 반복문의 value와 맞다면  \n",
        "    if lst[0] == value:\n",
        "# 키 출력\n",
        "      print(key)"
      ],
      "metadata": {
        "colab": {
          "base_uri": "https://localhost:8080/"
        },
        "id": "LzZBG_dNUTz_",
        "outputId": "20b187aa-5a08-4ef2-9800-52dda0d9dc31"
      },
      "execution_count": 45,
      "outputs": [
        {
          "output_type": "stream",
          "name": "stdout",
          "text": [
            "zzza\n",
            "ZZZA\n",
            "{'Z': 3, 'A': 1}\n",
            "[3, 1]\n",
            "Z\n"
          ]
        }
      ]
    }
  ]
}