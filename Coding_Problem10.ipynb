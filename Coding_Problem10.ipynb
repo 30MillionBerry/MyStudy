{
  "nbformat": 4,
  "nbformat_minor": 0,
  "metadata": {
    "colab": {
      "name": "Coding_Problem10.ipynb",
      "provenance": [],
      "collapsed_sections": [],
      "authorship_tag": "ABX9TyPIwBbVWEUt/G3JxZKf3v1p",
      "include_colab_link": true
    },
    "kernelspec": {
      "name": "python3",
      "display_name": "Python 3"
    },
    "language_info": {
      "name": "python"
    }
  },
  "cells": [
    {
      "cell_type": "markdown",
      "metadata": {
        "id": "view-in-github",
        "colab_type": "text"
      },
      "source": [
        "<a href=\"https://colab.research.google.com/github/mohyunyang/MyStudy/blob/master/Coding_Problem10.ipynb\" target=\"_parent\"><img src=\"https://colab.research.google.com/assets/colab-badge.svg\" alt=\"Open In Colab\"/></a>"
      ]
    },
    {
      "cell_type": "markdown",
      "source": [
        ">문제\n",
        "- 영어 대소문자와 공백으로 이루어진 문자열이 주어진다. 이 문자열에는 몇 개의 단어가 있을까? 이를 구하는 프로그램을 작성하시오. 단, 한 단어가 여러 번 등장하면 등장한 횟수만큼 모두 세어야 한다.\n",
        "\n",
        ">입력\n",
        "- 첫 줄에 영어 대소문자와 공백으로 이루어진 문자열이 주어진다. 이 문자열의 길이는 1,000,000을 넘지 않는다. 단어는 공백 한 개로 구분되며, 공백이 연속해서 나오는 경우는 없다. 또한 문자열은 공백으로 시작하거나 끝날 수 있다."
      ],
      "metadata": {
        "id": "s_FMjcQdbIKo"
      }
    },
    {
      "cell_type": "code",
      "source": [
        "st = list(input().split())\n",
        "print(len(st))"
      ],
      "metadata": {
        "colab": {
          "base_uri": "https://localhost:8080/"
        },
        "id": "FNOMJiVabSEY",
        "outputId": "1cc69960-4851-4989-8613-d6dc4da7e77e"
      },
      "execution_count": null,
      "outputs": [
        {
          "output_type": "stream",
          "name": "stdout",
          "text": [
            "The first character is a blank\n",
            "6\n"
          ]
        }
      ]
    },
    {
      "cell_type": "markdown",
      "source": [
        ">문제\n",
        "- 상근이의 동생 상수는 수학을 정말 못한다. 상수는 숫자를 읽는데 문제가 있다. 이렇게 수학을 못하는 상수를 위해서 상근이는 수의 크기를 비교하는 문제를 내주었다. 상근이는 세 자리 수 두 개를 칠판에 써주었다. 그 다음에 크기가 큰 수를 말해보라고 했다.\n",
        "\n",
        ">설명\n",
        "- 상수는 수를 다른 사람과 다르게 거꾸로 읽는다. 예를 들어, 734와 893을 칠판에 적었다면, 상수는 이 수를 437과 398로 읽는다. 따라서, 상수는 두 수중 큰 수인 437을 큰 수라고 말할 것이다. 두 수가 주어졌을 때, 상수의 대답을 출력하는 프로그램을 작성하시오.\n",
        "\n",
        ">입력\n",
        "-첫째 줄에 상근이가 칠판에 적은 두 수 A와 B가 주어진다. 두 수는 같지 않은 세 자리 수이며, 0이 포함되어 있지 않다.\n",
        "\n",
        ">출력\n",
        "-첫째 줄에 상수의 대답을 출력한다."
      ],
      "metadata": {
        "id": "_4phMdgjcgEb"
      }
    },
    {
      "cell_type": "code",
      "source": [
        "a, b = input().split()\n",
        "a = int(a[::-1])\n",
        "b = int(b[::-1])\n",
        "\n",
        "if a > b:\n",
        "  print(a)\n",
        "else:\n",
        "  print(b)"
      ],
      "metadata": {
        "colab": {
          "base_uri": "https://localhost:8080/"
        },
        "id": "rHb0hEQQcj0k",
        "outputId": "5460550b-1148-4dd4-a7b0-c6d9635fcdc5"
      },
      "execution_count": null,
      "outputs": [
        {
          "output_type": "stream",
          "name": "stdout",
          "text": [
            "734 893\n",
            "437\n"
          ]
        }
      ]
    },
    {
      "cell_type": "markdown",
      "source": [
        "### 설명\n",
        "전화를 걸고 싶은 번호가 있다면, 숫자를 하나를 누른 다음에 금속 핀이 있는 곳 까지 시계방향으로 돌려야 한다. 숫자를 하나 누르면 다이얼이 처음 위치로 돌아가고, 다음 숫자를 누르려면 다이얼을 처음 위치에서 다시 돌려야 한다.\n",
        "\n",
        "숫자 1을 걸려면 총 2초가 필요하다. 1보다 큰 수를 거는데 걸리는 시간은 이보다 더 걸리며, 한 칸 옆에 있는 숫자를 걸기 위해선 1초씩 더 걸린다.\n",
        "\n",
        "상근이의 할머니는 전화 번호를 각 숫자에 해당하는 문자로 외운다. 즉, 어떤 단어를 걸 때, 각 알파벳에 해당하는 숫자를 걸면 된다. 예를 들어, UNUCIC는 868242와 같다.\n",
        "\n",
        "할머니가 외운 단어가 주어졌을 때, 이 전화를 걸기 위해서 필요한 최소 시간을 구하는 프로그램을 작성하시오.\n",
        "\n",
        "\n",
        "\n",
        ">입력\n",
        "첫째 줄에 알파벳 대문자로 이루어진 단어가 주어진다. 단어의 길이는 2보다 크거나 같고, 15보다 작거나 같다.\n",
        "\n",
        ">출력\n",
        "첫째 줄에 다이얼을 걸기 위해서 필요한 최소 시간을 출력한다."
      ],
      "metadata": {
        "id": "76kUdIlzfrKc"
      }
    },
    {
      "cell_type": "code",
      "source": [
        "word = list(input()) # 'UNUCIC'\n",
        "scores = []\n",
        "for i in word:\n",
        "  if i in ['A','B','C']:\n",
        "    scores.append(3)\n",
        "  elif i in ['D','E',\"F\"]:\n",
        "    scores.append(4)\n",
        "  elif i in ['G','H','I']:\n",
        "    scores.append(5)\n",
        "  elif i in ['J','K','L']:\n",
        "    scores.append(6)\n",
        "  elif i in ['M','N','O']:\n",
        "    scores.append(7)\n",
        "  elif i in ['P','Q','R','S']:\n",
        "    scores.append(8)\n",
        "  elif i in ['T','U','V']:\n",
        "    scores.append(9)\n",
        "  else:\n",
        "    scores.append(10)\n",
        "  \n",
        "print(sum(scores))"
      ],
      "metadata": {
        "id": "lDtF2XZlfyRl",
        "colab": {
          "base_uri": "https://localhost:8080/"
        },
        "outputId": "21f504c7-0465-4a4c-c004-94a4ce8db5e0"
      },
      "execution_count": 20,
      "outputs": [
        {
          "output_type": "stream",
          "name": "stdout",
          "text": [
            "WA\n",
            "10\n",
            "13\n"
          ]
        }
      ]
    },
    {
      "cell_type": "code",
      "source": [
        "dial = ['ABC', 'DEF', 'GHI', 'JKL', 'MNO', 'PQRS', 'TUV', 'WXYZ']\n",
        "a = input()   # 'UNUCIC'\n",
        "time = 0\n",
        "for j in range(len(a)): # range(6), 0,1,2,3,4,5\n",
        "    for i in dial: # i = 'ABC'\n",
        "        if a[j] in i:   #  if a[0] in 'ABC': \n",
        "            time += dial.index(i)+3   # 0 += dial.index(0)+3\n",
        "print(time)"
      ],
      "metadata": {
        "id": "LE-cJwoDX0TO"
      },
      "execution_count": null,
      "outputs": []
    }
  ]
}