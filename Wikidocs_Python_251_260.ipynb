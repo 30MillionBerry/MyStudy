{
  "nbformat": 4,
  "nbformat_minor": 0,
  "metadata": {
    "colab": {
      "name": "Wikidocs_Python_251-260.ipynb",
      "provenance": [],
      "collapsed_sections": [],
      "authorship_tag": "ABX9TyPeSKsK+bd6q4IcloqVwGua",
      "include_colab_link": true
    },
    "kernelspec": {
      "name": "python3",
      "display_name": "Python 3"
    },
    "language_info": {
      "name": "python"
    }
  },
  "cells": [
    {
      "cell_type": "markdown",
      "metadata": {
        "id": "view-in-github",
        "colab_type": "text"
      },
      "source": [
        "<a href=\"https://colab.research.google.com/github/mohyunyang/MyStudy/blob/master/Wikidocs_Python_251_260.ipynb\" target=\"_parent\"><img src=\"https://colab.research.google.com/assets/colab-badge.svg\" alt=\"Open In Colab\"/></a>"
      ]
    },
    {
      "cell_type": "markdown",
      "source": [
        "251\n",
        "클래스, 객체, 인스턴스에 대해 설명해봅시다."
      ],
      "metadata": {
        "id": "oaIbT_Zww_EF"
      }
    },
    {
      "cell_type": "markdown",
      "source": [
        ">클래스 :\n",
        "\n",
        ">객체:\n",
        "\n",
        ">인스턴스:"
      ],
      "metadata": {
        "id": "k4DB5J6fxqHI"
      }
    },
    {
      "cell_type": "markdown",
      "source": [
        "252 클래스 정의\n",
        "비어있는 사람 (Human) 클래스를 \"정의\" 해보세요."
      ],
      "metadata": {
        "id": "aHUPLeUkxyMU"
      }
    },
    {
      "cell_type": "code",
      "source": [
        "class Human:\n",
        "  pass"
      ],
      "metadata": {
        "id": "BPDTti6Ix09r"
      },
      "execution_count": null,
      "outputs": []
    },
    {
      "cell_type": "markdown",
      "source": [
        "253 인스턴스 생성\n",
        "사람 (Human) 클래스의 인스턴스를 \"생성\" 하고 이를 areum 변수로 바인딩해보세요."
      ],
      "metadata": {
        "id": "ugrzwdcux7Ox"
      }
    },
    {
      "cell_type": "code",
      "source": [
        "class Human:\n",
        "    pass\n",
        "\n",
        "areum = Human()"
      ],
      "metadata": {
        "id": "WQpw4oJXx-kh"
      },
      "execution_count": null,
      "outputs": []
    },
    {
      "cell_type": "markdown",
      "source": [
        "254 클래스 생성자-1\n",
        "사람 (Human) 클래스에 \"응애응애\"를 출력하는 생성자를 추가하세요."
      ],
      "metadata": {
        "id": "hGp4KmqzyCrp"
      }
    },
    {
      "cell_type": "code",
      "source": [
        "class Human:\n",
        "    def __init__(self):\n",
        "        print(\"응애응애\")\n",
        "\n",
        "areum = Human()"
      ],
      "metadata": {
        "colab": {
          "base_uri": "https://localhost:8080/"
        },
        "id": "go0t0bIgyECv",
        "outputId": "815a8182-bec2-4f08-f0f2-247a9abef5a2"
      },
      "execution_count": null,
      "outputs": [
        {
          "output_type": "stream",
          "name": "stdout",
          "text": [
            "응애응애\n"
          ]
        }
      ]
    },
    {
      "cell_type": "markdown",
      "source": [
        "255 클래스 생성자-2\n",
        "사람 (Human) 클래스에 (이름, 나이, 성별)을 받는 생성자를 추가하세요."
      ],
      "metadata": {
        "id": "-EhadbkcybKa"
      }
    },
    {
      "cell_type": "code",
      "source": [
        "class Human:\n",
        "    def __init__(self, name, age, sex):\n",
        "        self.name = name\n",
        "        self.age = age\n",
        "        self.sex = sex\n",
        "\n",
        "areum = Human(\"아름\", 25, \"여자\")\n",
        "print(areum.name)\n"
      ],
      "metadata": {
        "colab": {
          "base_uri": "https://localhost:8080/"
        },
        "id": "rgFBLsGRyb3p",
        "outputId": "791cac13-00e2-4092-cb0c-c77274d5f935"
      },
      "execution_count": null,
      "outputs": [
        {
          "output_type": "stream",
          "name": "stdout",
          "text": [
            "아름\n"
          ]
        }
      ]
    },
    {
      "cell_type": "code",
      "source": [
        "class Human:\n",
        "  def __init__(self, name, age, sex):\n",
        "    self.name = name\n",
        "    self.age = age\n",
        "    self.sex = sex\n",
        "\n",
        "\n",
        "areum = Human(\"아름\", 25, \"여자\")\n",
        "areum.name\n",
        "areum.age\n",
        "areum.sex"
      ],
      "metadata": {
        "colab": {
          "base_uri": "https://localhost:8080/",
          "height": 35
        },
        "id": "1VPFZHjnzrxJ",
        "outputId": "e80c8da6-bd28-4b09-a6ce-b44a98887f5b"
      },
      "execution_count": null,
      "outputs": [
        {
          "output_type": "execute_result",
          "data": {
            "text/plain": [
              "'여자'"
            ],
            "application/vnd.google.colaboratory.intrinsic+json": {
              "type": "string"
            }
          },
          "metadata": {},
          "execution_count": 8
        }
      ]
    },
    {
      "cell_type": "markdown",
      "source": [
        "256 인스턴스 속성에 접근\n",
        "255에서 생성한 인스턴스의 이름, 나이, 성별을 출력하세요. 인스턴스 변수에 접근하여 값을 출력하면 됩니다."
      ],
      "metadata": {
        "id": "PsQ1-kfT0dpc"
      }
    },
    {
      "cell_type": "code",
      "source": [
        "class Human:\n",
        "  def __init__(self,name,age,sex):\n",
        "    self.name = name\n",
        "    self.age = age\n",
        "    self.sex = sex\n",
        "\n",
        "areum = Human(\"조아름\",25,\"여자\")\n",
        "print(\"이름:\", areum.name, \"나이:\",areum.age, \"성별:\",areum.sex)"
      ],
      "metadata": {
        "colab": {
          "base_uri": "https://localhost:8080/"
        },
        "id": "nbFXI6iU0fvt",
        "outputId": "14fad915-1a61-40e9-c5b9-9a41d4867c3e"
      },
      "execution_count": null,
      "outputs": [
        {
          "output_type": "stream",
          "name": "stdout",
          "text": [
            "이름: 조아름 나이: 25 성별: 여자\n"
          ]
        }
      ]
    },
    {
      "cell_type": "markdown",
      "source": [
        "257 클래스 메소드 - 1\n",
        "사람 (Human) 클래스에서 이름, 나이, 성별을 출력하는 who() 메소드를 추가하세요."
      ],
      "metadata": {
        "id": "yRfYRhTx1v1J"
      }
    },
    {
      "cell_type": "code",
      "source": [
        "class Human:\n",
        "  def __init__(self,name,age,sex):\n",
        "    self.name = name\n",
        "    self.age = age\n",
        "    self.sex = sex\n",
        "  \n",
        "  def who(self):\n",
        "    print(\"이름: {} 나이{} 성별{}\".format(self.name,self.age,self.sex))\n",
        "\n",
        "areum = Human(\"조아름\",25,\"여자\")\n",
        "areum.who()"
      ],
      "metadata": {
        "colab": {
          "base_uri": "https://localhost:8080/"
        },
        "id": "iBFnbEaM1xKp",
        "outputId": "51f8c531-c540-4e1b-8d11-214bd6d9c344"
      },
      "execution_count": null,
      "outputs": [
        {
          "output_type": "stream",
          "name": "stdout",
          "text": [
            "이름: 조아름 나이25 성별여자\n"
          ]
        }
      ]
    },
    {
      "cell_type": "markdown",
      "source": [
        "258 클래스 메소드 - 2\n",
        "사람 (Human) 클래스에 (이름, 나이, 성별)을 받는 setInfo 메소드를 추가하세요."
      ],
      "metadata": {
        "id": "mXmM3tUT2l2k"
      }
    },
    {
      "cell_type": "code",
      "source": [
        ">>> areum = Human(\"모름\", 0, \"모름\")\n",
        ">>> areum.setInfo(\"아름\", 25, \"여자\")"
      ],
      "metadata": {
        "id": "KZJ36L7X2nbz"
      },
      "execution_count": null,
      "outputs": []
    },
    {
      "cell_type": "code",
      "source": [
        "class Human:\n",
        "  def __init__(self,name,age,sex):\n",
        "    self.name = name\n",
        "    self.age = age\n",
        "    self.sex = sex\n",
        "  \n",
        "  def who(self):\n",
        "    print(\"이름: {} 나이{} 성별{}\".format(self.name,self.age,self.sex))\n",
        "\n",
        "  def setlnfo(self,name,age,sex):\n",
        "    self.name = name\n",
        "    self.age = age\n",
        "    self.sex = sex    \n",
        "\n",
        "areum = Human(\"모름\", 0, \"모름\")\n",
        "areum.who()\n",
        "\n",
        "areum.setlnfo(\"아름\",25,\"여자\")\n",
        "areum.who()"
      ],
      "metadata": {
        "colab": {
          "base_uri": "https://localhost:8080/"
        },
        "id": "QrwVGhq43Bvy",
        "outputId": "5851548c-7a9c-4a14-bcfd-cb8df6f9fe88"
      },
      "execution_count": null,
      "outputs": [
        {
          "output_type": "stream",
          "name": "stdout",
          "text": [
            "나의 죽음을 적에게 알리지마라\n"
          ]
        }
      ]
    },
    {
      "cell_type": "markdown",
      "source": [
        "259 클래스 소멸자\n",
        "사람 (human) 클래스에 \"나의 죽음을 알리지 말라\"를 출력하는 소멸자를 추가하세요."
      ],
      "metadata": {
        "id": "1TqmV1oh4OZm"
      }
    },
    {
      "cell_type": "code",
      "source": [
        "class Human:\n",
        "  def __init__(self,name,age,sex):\n",
        "    self.name = name\n",
        "    self.age = age\n",
        "    self.sex = sex\n",
        "\n",
        "  def __del__(self):\n",
        "    print(\"나의 죽음을 적에게 알리지마라\")\n",
        "  \n",
        "  def who(self):\n",
        "    print(\"이름: {} 나이{} 성별{}\".format(self.name,self.age,self.sex))\n",
        "\n",
        "  def setlnfo(self,name,age,sex):\n",
        "    self.name = name\n",
        "    self.age = age\n",
        "    self.sex = sex    \n",
        "\n",
        "areum = Human(\"아름\", 25, \"여자\")\n",
        "del(areum)"
      ],
      "metadata": {
        "colab": {
          "base_uri": "https://localhost:8080/"
        },
        "id": "50DPtXny4p-2",
        "outputId": "902fc9cf-a245-4fed-9fd8-0390502ecd47"
      },
      "execution_count": null,
      "outputs": [
        {
          "output_type": "stream",
          "name": "stdout",
          "text": [
            "나의 죽음을 적에게 알리지마라\n"
          ]
        }
      ]
    },
    {
      "cell_type": "markdown",
      "source": [
        "260 에러의 원인\n",
        "아래와 같은 에러가 발생한 원인에 대해 설명하세요."
      ],
      "metadata": {
        "id": "kC2vmTXC5Ip1"
      }
    },
    {
      "cell_type": "code",
      "source": [
        "class OMG : \n",
        "  def print() :\n",
        "   print(\"Oh my god\")\n",
        "\n",
        "mystock = OMG()\n",
        "mystock.print()"
      ],
      "metadata": {
        "colab": {
          "base_uri": "https://localhost:8080/",
          "height": 211
        },
        "id": "EeMnalR15Jzx",
        "outputId": "e29e8a6c-3c34-4cbe-86cf-0cd9ffb8b0d1"
      },
      "execution_count": null,
      "outputs": [
        {
          "output_type": "error",
          "ename": "TypeError",
          "evalue": "ignored",
          "traceback": [
            "\u001b[0;31m---------------------------------------------------------------------------\u001b[0m",
            "\u001b[0;31mTypeError\u001b[0m                                 Traceback (most recent call last)",
            "\u001b[0;32m<ipython-input-28-7f2f442b9c21>\u001b[0m in \u001b[0;36m<module>\u001b[0;34m()\u001b[0m\n\u001b[1;32m      4\u001b[0m \u001b[0;34m\u001b[0m\u001b[0m\n\u001b[1;32m      5\u001b[0m \u001b[0mmystock\u001b[0m \u001b[0;34m=\u001b[0m \u001b[0mOMG\u001b[0m\u001b[0;34m(\u001b[0m\u001b[0;34m)\u001b[0m\u001b[0;34m\u001b[0m\u001b[0;34m\u001b[0m\u001b[0m\n\u001b[0;32m----> 6\u001b[0;31m \u001b[0mmystock\u001b[0m\u001b[0;34m.\u001b[0m\u001b[0mprint\u001b[0m\u001b[0;34m(\u001b[0m\u001b[0;34m)\u001b[0m\u001b[0;34m\u001b[0m\u001b[0;34m\u001b[0m\u001b[0m\n\u001b[0m",
            "\u001b[0;31mTypeError\u001b[0m: print() takes 0 positional arguments but 1 was given"
          ]
        }
      ]
    }
  ]
}