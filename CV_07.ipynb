{
  "cells": [
    {
      "cell_type": "markdown",
      "metadata": {
        "id": "view-in-github",
        "colab_type": "text"
      },
      "source": [
        "<a href=\"https://colab.research.google.com/github/mohyunyang/MyStudy/blob/master/CV_07.ipynb\" target=\"_parent\"><img src=\"https://colab.research.google.com/assets/colab-badge.svg\" alt=\"Open In Colab\"/></a>"
      ]
    },
    {
      "cell_type": "code",
      "execution_count": null,
      "id": "294dbc25",
      "metadata": {
        "id": "294dbc25"
      },
      "outputs": [],
      "source": [
        "import cv2\n",
        "import sys\n",
        "import numpy as np\n",
        "import matplotlib.pyplot as plt"
      ]
    },
    {
      "cell_type": "code",
      "execution_count": null,
      "id": "128fdb85",
      "metadata": {
        "id": "128fdb85"
      },
      "outputs": [],
      "source": [
        "def call_trackbar(pos):\n",
        "    img[:] = pos\n",
        "    #     print(pos)\n",
        "    cv2.imshow('image', img)\n",
        "\n",
        "\n",
        "\n",
        "img = np.zeros((480,640), np.uint8)\n",
        "cv2.namedWindow('image')\n",
        "\n",
        "cv2.createTrackbar('level', 'image', 0, 255, call_trackbar)\n",
        "cv2.imshow('image', img)\n",
        "\n",
        "cv2.waitKey()\n",
        "cv2.destroyAllWindows()"
      ]
    },
    {
      "cell_type": "code",
      "execution_count": null,
      "id": "8a7d3cbd",
      "metadata": {
        "id": "8a7d3cbd"
      },
      "outputs": [],
      "source": [
        "def call_trackbar(pos):\n",
        "    global img\n",
        "    img_glass = img*pos\n",
        "    #     print(pos)\n",
        "    cv2.imshow('image', img_glass)\n",
        "\n",
        "img_alpha = cv2.imread('CV/fig/fig/fig/imgbin_sunglasses_1.png',cv2.IMREAD_UNCHANGED)\n",
        "\n",
        "img = img_alpha[:,:, -1]\n",
        "img[img > 0 ] = 1\n",
        "\n",
        "cv2.namedWindow('image')\n",
        "cv2.createTrackbar('level', 'image', 0, 255, call_trackbar)\n",
        "cv2.imshow('image', img)\n",
        "\n",
        "\n",
        "cv2.waitKey()\n",
        "cv2.destroyAllWindows()"
      ]
    },
    {
      "cell_type": "code",
      "execution_count": null,
      "id": "d3620c66",
      "metadata": {
        "id": "d3620c66"
      },
      "outputs": [],
      "source": [
        "img = cv2.imread('CV/fig/images/images/yce (2).jpg',0)\n",
        "\n",
        "dst = cv2.add(img, (100, 100, 100 ,0))\n",
        "\n",
        "cv2.imshow('image', img)\n",
        "cv2.imshow('dst', dst)\n",
        "\n",
        "cv2.waitKey()\n",
        "cv2.destroyAllWindows()"
      ]
    },
    {
      "cell_type": "code",
      "execution_count": null,
      "id": "fd1ccd83",
      "metadata": {
        "id": "fd1ccd83"
      },
      "outputs": [],
      "source": [
        "src1 = cv2.imread('CV/fig/images/images/yce (2).jpg', 0)\n",
        "h, w = src1.shape[:2]\n",
        "src2 = np.zeros((h,w), np.uint8)\n",
        "\n",
        "cv2.circle(src2, (800,500), 100, 200, -1)\n",
        "cv2.circle(src2, (800,500), 50, 50, -1)\n",
        "\n",
        "dst1 = cv2.add(src1, src2)\n",
        "# addWeighted(src1, alpha, src2, beta, gamma[, dst[, dtype]]) -> dst\n",
        "dst2 = cv2.addWeighted(src1, .5, src2, .5, 0)\n",
        "dst3 = cv2.subtract(src1, src2)\n",
        "dst4 = cv2.absdiff(src1, src2)\n",
        "\n",
        "cv2.imshow('src1', src1)\n",
        "cv2.imshow('src2', src2)\n",
        "cv2.imshow('add', dst1)\n",
        "cv2.imshow('weighted', dst2)\n",
        "cv2.imshow('subtract', dst3)\n",
        "cv2.imshow('abs', dst4)\n",
        "\n",
        "cv2.waitKey()\n",
        "cv2.destroyAllWindows()"
      ]
    },
    {
      "cell_type": "code",
      "execution_count": null,
      "id": "edbba69d",
      "metadata": {
        "id": "edbba69d",
        "outputId": "13db6930-6e43-4f64-a013-5dcf0aa661c1"
      },
      "outputs": [
        {
          "data": {
            "image/png": "[encoded data removed]",
            "text/plain": [
              "<Figure size 864x576 with 6 Axes>"
            ]
          },
          "metadata": {
            "needs_background": "light"
          },
          "output_type": "display_data"
        }
      ],
      "source": [
        "src1 = np.zeros((256,256), np.uint8)\n",
        "cv2.rectangle(src1, (10,10), (128, 240), 255, -1)\n",
        "\n",
        "src2 = np.zeros((256,256), np.uint8)\n",
        "cv2.circle(src2, (128,128),50, 50, -1)\n",
        "\n",
        "dst_and = cv2.bitwise_and(src1, src2)\n",
        "dst_or = cv2.bitwise_or(src1, src2)\n",
        "dst_xor = cv2.bitwise_xor(src1, src2)\n",
        "dst_not = cv2.bitwise_not(src1, src2)\n",
        "\n",
        "plt.figure(figsize = (12, 8))\n",
        "\n",
        "plt.subplot(231), plt.imshow(src1, cmap = 'gray'), plt.axis('off'), plt.title('src1')\n",
        "plt.subplot(232), plt.imshow(src2, cmap = 'gray'), plt.axis('off'), plt.title('src2')\n",
        "plt.subplot(233), plt.imshow(dst_and, cmap = 'gray'), plt.axis('off'), plt.title('dst_and')\n",
        "plt.subplot(234), plt.imshow(dst_or, cmap = 'gray'), plt.axis('off'), plt.title('dst_or')\n",
        "plt.subplot(235), plt.imshow(dst_xor, cmap = 'gray'), plt.axis('off'), plt.title('dst_xor')\n",
        "plt.subplot(236), plt.imshow(dst_not, cmap = 'gray'), plt.axis('off'), plt.title('dst_not')\n",
        "\n",
        "plt.show()"
      ]
    },
    {
      "cell_type": "code",
      "execution_count": null,
      "id": "05eb8684",
      "metadata": {
        "id": "05eb8684"
      },
      "outputs": [],
      "source": [
        "src = cv2.imread('CV/fig/flowers.jpg')\n",
        "b, g, r = cv2.split(src)\n",
        "\n",
        "dst = cv2.merge((b, g, r))\n",
        "\n",
        "# b_plane = src[:,:,0]\n",
        "# g_plane = src[:,:,1]\n",
        "# r_plane = src[:,:,2]\n",
        "\n",
        "src_hsv = cv2.cvtColor(src, cv2.COLOR_BGR2HSV)\n",
        "\n",
        "h,s,v =cv2.split(src_hsv)\n",
        "\n",
        "cv2.imshow('h', h)\n",
        "cv2.imshow('s', s)\n",
        "cv2.imshow('v', v)\n",
        "cv2.imshow('dst', dst)\n",
        "cv2.imshow('src', src)\n",
        "\n",
        "cv2.waitKey()\n",
        "cv2.destroyAllWindows()"
      ]
    }
  ],
  "metadata": {
    "kernelspec": {
      "display_name": "Python 3 (ipykernel)",
      "language": "python",
      "name": "python3"
    },
    "language_info": {
      "codemirror_mode": {
        "name": "ipython",
        "version": 3
      },
      "file_extension": ".py",
      "mimetype": "text/x-python",
      "name": "python",
      "nbconvert_exporter": "python",
      "pygments_lexer": "ipython3",
      "version": "3.9.7"
    },
    "colab": {
      "name": "CV_07.ipynb",
      "provenance": [],
      "include_colab_link": true
    }
  },
  "nbformat": 4,
  "nbformat_minor": 5
}