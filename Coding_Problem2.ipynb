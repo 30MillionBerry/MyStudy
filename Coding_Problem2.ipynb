{
  "nbformat": 4,
  "nbformat_minor": 0,
  "metadata": {
    "colab": {
      "name": "Coding_Problem2.ipynb",
      "provenance": [],
      "authorship_tag": "ABX9TyNklWEFmDYGrsWWe9/XPj92",
      "include_colab_link": true
    },
    "kernelspec": {
      "name": "python3",
      "display_name": "Python 3"
    },
    "language_info": {
      "name": "python"
    }
  },
  "cells": [
    {
      "cell_type": "markdown",
      "metadata": {
        "id": "view-in-github",
        "colab_type": "text"
      },
      "source": [
        "<a href=\"https://colab.research.google.com/github/mohyunyang/MyStudy/blob/master/Coding_Problem2.ipynb\" target=\"_parent\"><img src=\"https://colab.research.google.com/assets/colab-badge.svg\" alt=\"Open In Colab\"/></a>"
      ]
    },
    {
      "cell_type": "markdown",
      "source": [
        "10개의 수를 입력 받아, 그 중에서 홀수만 더한 값을 출력하는 프로그램을 작성하라.\n",
        "\n",
        "\n",
        "[제약 사항]\n",
        "\n",
        "각 수는 0 이상 10000 이하의 정수이다.\n",
        "\n",
        "\n",
        "[입력]\n",
        "\n",
        "가장 첫 줄에는 테스트 케이스의 개수 T가 주어지고, 그 아래로 각 테스트 케이스가 주어진다.\n",
        "\n",
        "각 테스트 케이스의 첫 번째 줄에는 10개의 수가 주어진다.\n",
        "\n",
        "\n",
        "[출력]\n",
        "\n",
        "출력의 각 줄은 '#t'로 시작하고, 공백을 한 칸 둔 다음 정답을 출력한다.\n",
        "\n",
        "(t는 테스트 케이스의 번호를 의미하며 1부터 시작한다.)"
      ],
      "metadata": {
        "id": "MpRZzKyWuvYN"
      }
    },
    {
      "cell_type": "markdown",
      "source": [
        "# 입력\n",
        "- 3\n",
        "- 3 17 1 39 8 41 2 32 99 2\n",
        "- 22 8 5 123 7 2 63 7 3 46\n",
        "- 6 63 2 3 58 76 21 33 8 1   "
      ],
      "metadata": {
        "id": "yzonRwSHvfzr"
      }
    },
    {
      "cell_type": "markdown",
      "source": [
        "# 출력\n",
        "#1 200\n",
        "#2 208\n",
        "#3 121"
      ],
      "metadata": {
        "id": "67CDHbln0Int"
      }
    },
    {
      "cell_type": "code",
      "source": [
        "x = int(input())\n",
        "list = []\n",
        "# 각 테스트 케이스의 첫 번째 줄에는 10개의 수가 주어진다.\n",
        "for i in range(x):\n",
        "  num = map(int, input().split())\n",
        "  s_list = []\n",
        "  # 열개를 받으면 하나씩 뺀다\n",
        "  for j in num:\n",
        "    if j%2==0:\n",
        "      continue\n",
        "    elif j%2==1:\n",
        "      s_list.append(j)\n",
        "  list.append(sum(s_list))\n",
        "    \n",
        "for a in range(len(list)):\n",
        "    print(\"#\"+str(a+1),list[a])"
      ],
      "metadata": {
        "colab": {
          "base_uri": "https://localhost:8080/"
        },
        "id": "pR9iORMG0MHs",
        "outputId": "03ee8267-5a1a-484c-e93d-ee7d67a3bc6b"
      },
      "execution_count": 5,
      "outputs": [
        {
          "output_type": "stream",
          "name": "stdout",
          "text": [
            "3\n",
            "3 17 1 39 8 41 2 32 99 2\n",
            "22 8 5 123 7 2 63 7 3 46\n",
            "6 63 2 3 58 76 21 33 8 1\n",
            "200\n",
            "208\n",
            "121\n"
          ]
        }
      ]
    },
    {
      "cell_type": "code",
      "source": [
        ""
      ],
      "metadata": {
        "id": "BkqCbwRx1-OI"
      },
      "execution_count": null,
      "outputs": []
    }
  ]
}