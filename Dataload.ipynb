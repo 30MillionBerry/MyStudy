{
  "nbformat": 4,
  "nbformat_minor": 0,
  "metadata": {
    "colab": {
      "name": "Dataload.ipynb",
      "provenance": [],
      "authorship_tag": "ABX9TyOrR8wvTu7O2hLiaQBv79B3",
      "include_colab_link": true
    },
    "kernelspec": {
      "name": "python3",
      "display_name": "Python 3"
    },
    "language_info": {
      "name": "python"
    }
  },
  "cells": [
    {
      "cell_type": "markdown",
      "metadata": {
        "id": "view-in-github",
        "colab_type": "text"
      },
      "source": [
        "<a href=\"https://colab.research.google.com/github/mohyunyang/MyStudy/blob/master/Dataload.ipynb\" target=\"_parent\"><img src=\"https://colab.research.google.com/assets/colab-badge.svg\" alt=\"Open In Colab\"/></a>"
      ]
    },
    {
      "cell_type": "code",
      "execution_count": null,
      "metadata": {
        "id": "k0rY8Jz51S99"
      },
      "outputs": [],
      "source": [
        "import torch\n",
        "import torch.nn as nn\n",
        "import torch.nn.functional as F"
      ]
    },
    {
      "cell_type": "code",
      "source": [
        "from torch.utils.data import TensorDataset # 텐서데이터셋\n",
        "from torch.utils.data import DataLoader # 데이터로더"
      ],
      "metadata": {
        "id": "8VWQbjw41YYs"
      },
      "execution_count": null,
      "outputs": []
    },
    {
      "cell_type": "code",
      "source": [
        "x_train  =  torch.FloatTensor([[73,  80,  75], \n",
        "                               [93,  88,  93], \n",
        "                               [89,  91,  90], \n",
        "                               [96,  98,  100],   \n",
        "                               [73,  66,  70]])  \n",
        "y_train  =  torch.FloatTensor([[152],  [185],  [180],  [196],  [142]])"
      ],
      "metadata": {
        "id": "KVVOtAoz1Z_j"
      },
      "execution_count": null,
      "outputs": []
    },
    {
      "cell_type": "code",
      "source": [
        "dataset = TensorDataset(x_train, y_train)"
      ],
      "metadata": {
        "id": "eq23WcaV1coh"
      },
      "execution_count": null,
      "outputs": []
    },
    {
      "cell_type": "code",
      "source": [
        "dataset[0]"
      ],
      "metadata": {
        "colab": {
          "base_uri": "https://localhost:8080/"
        },
        "id": "MXf9qlYH1dEx",
        "outputId": "be0161a8-d302-4e5f-f09f-468f69af06d8"
      },
      "execution_count": null,
      "outputs": [
        {
          "output_type": "execute_result",
          "data": {
            "text/plain": [
              "(tensor([73., 80., 75.]), tensor([152.]))"
            ]
          },
          "metadata": {},
          "execution_count": 9
        }
      ]
    },
    {
      "cell_type": "code",
      "source": [
        "dataset[1]"
      ],
      "metadata": {
        "colab": {
          "base_uri": "https://localhost:8080/"
        },
        "id": "N4FgJTbp4NiX",
        "outputId": "5874b25b-71df-41ee-d629-7ac780f96103"
      },
      "execution_count": null,
      "outputs": [
        {
          "output_type": "execute_result",
          "data": {
            "text/plain": [
              "(tensor([93., 88., 93.]), tensor([185.]))"
            ]
          },
          "metadata": {},
          "execution_count": 8
        }
      ]
    },
    {
      "cell_type": "code",
      "source": [
        "dataloader = DataLoader(dataset, batch_size=1, shuffle=False)"
      ],
      "metadata": {
        "id": "0iFHaAs_4ZL4"
      },
      "execution_count": null,
      "outputs": []
    },
    {
      "cell_type": "code",
      "source": [
        "model = nn.Linear(3,1)\n",
        "optimizer = torch.optim.SGD(model.parameters(), lr=1e-5) "
      ],
      "metadata": {
        "id": "1Bbvaa9Q4am9"
      },
      "execution_count": null,
      "outputs": []
    },
    {
      "cell_type": "code",
      "source": [
        "nb_epochs = 1\n",
        "for epoch in range(nb_epochs + 1):\n",
        "  for batch_idx, samples in enumerate(dataloader):\n",
        "    print('batch_idx:',batch_idx)\n",
        "    print('samples:',samples)\n",
        "    x_train, y_train = samples\n",
        "    print('x_train:', x_train)\n",
        "    print('y_train:', y_train)\n",
        "    # H(x) 계산\n",
        "    prediction = model(x_train)\n",
        "\n",
        "    # cost 계산\n",
        "    cost = F.mse_loss(prediction, y_train)\n",
        "\n",
        "    # cost로 H(x) 계산\n",
        "    optimizer.zero_grad()\n",
        "    cost.backward()\n",
        "    optimizer.step()\n",
        "\n",
        "    print('Epoch {:4d}/{} Batch {}/{} Cost: {:.6f}'.format(\n",
        "        epoch, nb_epochs, batch_idx+1, len(dataloader),\n",
        "        cost.item()\n",
        "        ))"
      ],
      "metadata": {
        "colab": {
          "base_uri": "https://localhost:8080/"
        },
        "id": "7Vnr0M8w4cPb",
        "outputId": "6472a3f0-5161-4313-ac27-947ba9528f14"
      },
      "execution_count": null,
      "outputs": [
        {
          "output_type": "stream",
          "name": "stdout",
          "text": [
            "batch_idx: 0\n",
            "samples: [tensor([[73., 80., 75.]]), tensor([[152.]])]\n",
            "x_train: tensor([[73., 80., 75.]])\n",
            "y_train: tensor([[152.]])\n",
            "Epoch    0/1 Batch 1/5 Cost: 0.644138\n",
            "batch_idx: 1\n",
            "samples: [tensor([[93., 88., 93.]]), tensor([[185.]])]\n",
            "x_train: tensor([[93., 88., 93.]])\n",
            "y_train: tensor([[185.]])\n",
            "Epoch    0/1 Batch 2/5 Cost: 0.482293\n",
            "batch_idx: 2\n",
            "samples: [tensor([[89., 91., 90.]]), tensor([[180.]])]\n",
            "x_train: tensor([[89., 91., 90.]])\n",
            "y_train: tensor([[180.]])\n",
            "Epoch    0/1 Batch 3/5 Cost: 1.580327\n",
            "batch_idx: 3\n",
            "samples: [tensor([[ 96.,  98., 100.]]), tensor([[196.]])]\n",
            "x_train: tensor([[ 96.,  98., 100.]])\n",
            "y_train: tensor([[196.]])\n",
            "Epoch    0/1 Batch 4/5 Cost: 5.170599\n",
            "batch_idx: 4\n",
            "samples: [tensor([[73., 66., 70.]]), tensor([[142.]])]\n",
            "x_train: tensor([[73., 66., 70.]])\n",
            "y_train: tensor([[142.]])\n",
            "Epoch    0/1 Batch 5/5 Cost: 12.157038\n",
            "batch_idx: 0\n",
            "samples: [tensor([[73., 80., 75.]]), tensor([[152.]])]\n",
            "x_train: tensor([[73., 80., 75.]])\n",
            "y_train: tensor([[152.]])\n",
            "Epoch    1/1 Batch 1/5 Cost: 0.149339\n",
            "batch_idx: 1\n",
            "samples: [tensor([[93., 88., 93.]]), tensor([[185.]])]\n",
            "x_train: tensor([[93., 88., 93.]])\n",
            "y_train: tensor([[185.]])\n",
            "Epoch    1/1 Batch 2/5 Cost: 1.032455\n",
            "batch_idx: 2\n",
            "samples: [tensor([[89., 91., 90.]]), tensor([[180.]])]\n",
            "x_train: tensor([[89., 91., 90.]])\n",
            "y_train: tensor([[180.]])\n",
            "Epoch    1/1 Batch 3/5 Cost: 1.201769\n",
            "batch_idx: 3\n",
            "samples: [tensor([[ 96.,  98., 100.]]), tensor([[196.]])]\n",
            "x_train: tensor([[ 96.,  98., 100.]])\n",
            "y_train: tensor([[196.]])\n",
            "Epoch    1/1 Batch 4/5 Cost: 4.769281\n",
            "batch_idx: 4\n",
            "samples: [tensor([[73., 66., 70.]]), tensor([[142.]])]\n",
            "x_train: tensor([[73., 66., 70.]])\n",
            "y_train: tensor([[142.]])\n",
            "Epoch    1/1 Batch 5/5 Cost: 12.323597\n"
          ]
        }
      ]
    }
  ]
}