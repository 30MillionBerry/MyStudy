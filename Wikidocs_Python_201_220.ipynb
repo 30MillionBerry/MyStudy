{
  "nbformat": 4,
  "nbformat_minor": 0,
  "metadata": {
    "colab": {
      "name": "Wikidocs_Python_201-220.ipynb",
      "provenance": [],
      "collapsed_sections": [],
      "authorship_tag": "ABX9TyP4fk5vKa3K8twiJT05sQb6",
      "include_colab_link": true
    },
    "kernelspec": {
      "name": "python3",
      "display_name": "Python 3"
    },
    "language_info": {
      "name": "python"
    }
  },
  "cells": [
    {
      "cell_type": "markdown",
      "metadata": {
        "id": "view-in-github",
        "colab_type": "text"
      },
      "source": [
        "<a href=\"https://colab.research.google.com/github/mohyunyang/MyStudy/blob/master/Wikidocs_Python_201_220.ipynb\" target=\"_parent\"><img src=\"https://colab.research.google.com/assets/colab-badge.svg\" alt=\"Open In Colab\"/></a>"
      ]
    },
    {
      "cell_type": "markdown",
      "source": [
        "201\n",
        "\"비트코인\" 문자열을 화면에 출력하는 print_coin() 함수를 정의하라."
      ],
      "metadata": {
        "id": "7K1e-2tz_j27"
      }
    },
    {
      "cell_type": "code",
      "source": [
        "def print_coin():\n",
        "  return ('비트코인')\n",
        "\n",
        "print_coin()"
      ],
      "metadata": {
        "colab": {
          "base_uri": "https://localhost:8080/",
          "height": 35
        },
        "id": "-8y6bh5SGIyx",
        "outputId": "6ee3e4c9-1cb7-4109-ed56-5bf3fe358a8c"
      },
      "execution_count": null,
      "outputs": [
        {
          "output_type": "execute_result",
          "data": {
            "text/plain": [
              "'비트코인'"
            ],
            "application/vnd.google.colaboratory.intrinsic+json": {
              "type": "string"
            }
          },
          "metadata": {},
          "execution_count": 2
        }
      ]
    },
    {
      "cell_type": "markdown",
      "source": [
        "202\n",
        "201번에서 정의한 함수를 호출하라."
      ],
      "metadata": {
        "id": "dLvrxQ-VGTgf"
      }
    },
    {
      "cell_type": "code",
      "source": [
        "print_coin()"
      ],
      "metadata": {
        "colab": {
          "base_uri": "https://localhost:8080/",
          "height": 35
        },
        "id": "E286JD6cGVch",
        "outputId": "40411776-e822-4bcc-d9ac-461c834e2051"
      },
      "execution_count": null,
      "outputs": [
        {
          "output_type": "execute_result",
          "data": {
            "text/plain": [
              "'비트코인'"
            ],
            "application/vnd.google.colaboratory.intrinsic+json": {
              "type": "string"
            }
          },
          "metadata": {},
          "execution_count": 4
        }
      ]
    },
    {
      "cell_type": "markdown",
      "source": [
        "203\n",
        "201번에서 정의한 print_coin 함수를 100번호출하라."
      ],
      "metadata": {
        "id": "On3UEbTVGZqW"
      }
    },
    {
      "cell_type": "code",
      "source": [
        "def print_coin():\n",
        "  i = 0\n",
        "  while i<100:\n",
        "    i += 1\n",
        "    print(i,'비트코인')\n",
        "\n",
        "print_coin()"
      ],
      "metadata": {
        "colab": {
          "base_uri": "https://localhost:8080/"
        },
        "id": "n9-hdP6AGaPw",
        "outputId": "d976fe4d-b2b8-4dde-8822-319e0f107d9e"
      },
      "execution_count": null,
      "outputs": [
        {
          "output_type": "stream",
          "name": "stdout",
          "text": [
            "1 비트코인\n",
            "2 비트코인\n",
            "3 비트코인\n",
            "4 비트코인\n",
            "5 비트코인\n",
            "6 비트코인\n",
            "7 비트코인\n",
            "8 비트코인\n",
            "9 비트코인\n",
            "10 비트코인\n",
            "11 비트코인\n",
            "12 비트코인\n",
            "13 비트코인\n",
            "14 비트코인\n",
            "15 비트코인\n",
            "16 비트코인\n",
            "17 비트코인\n",
            "18 비트코인\n",
            "19 비트코인\n",
            "20 비트코인\n",
            "21 비트코인\n",
            "22 비트코인\n",
            "23 비트코인\n",
            "24 비트코인\n",
            "25 비트코인\n",
            "26 비트코인\n",
            "27 비트코인\n",
            "28 비트코인\n",
            "29 비트코인\n",
            "30 비트코인\n",
            "31 비트코인\n",
            "32 비트코인\n",
            "33 비트코인\n",
            "34 비트코인\n",
            "35 비트코인\n",
            "36 비트코인\n",
            "37 비트코인\n",
            "38 비트코인\n",
            "39 비트코인\n",
            "40 비트코인\n",
            "41 비트코인\n",
            "42 비트코인\n",
            "43 비트코인\n",
            "44 비트코인\n",
            "45 비트코인\n",
            "46 비트코인\n",
            "47 비트코인\n",
            "48 비트코인\n",
            "49 비트코인\n",
            "50 비트코인\n",
            "51 비트코인\n",
            "52 비트코인\n",
            "53 비트코인\n",
            "54 비트코인\n",
            "55 비트코인\n",
            "56 비트코인\n",
            "57 비트코인\n",
            "58 비트코인\n",
            "59 비트코인\n",
            "60 비트코인\n",
            "61 비트코인\n",
            "62 비트코인\n",
            "63 비트코인\n",
            "64 비트코인\n",
            "65 비트코인\n",
            "66 비트코인\n",
            "67 비트코인\n",
            "68 비트코인\n",
            "69 비트코인\n",
            "70 비트코인\n",
            "71 비트코인\n",
            "72 비트코인\n",
            "73 비트코인\n",
            "74 비트코인\n",
            "75 비트코인\n",
            "76 비트코인\n",
            "77 비트코인\n",
            "78 비트코인\n",
            "79 비트코인\n",
            "80 비트코인\n",
            "81 비트코인\n",
            "82 비트코인\n",
            "83 비트코인\n",
            "84 비트코인\n",
            "85 비트코인\n",
            "86 비트코인\n",
            "87 비트코인\n",
            "88 비트코인\n",
            "89 비트코인\n",
            "90 비트코인\n",
            "91 비트코인\n",
            "92 비트코인\n",
            "93 비트코인\n",
            "94 비트코인\n",
            "95 비트코인\n",
            "96 비트코인\n",
            "97 비트코인\n",
            "98 비트코인\n",
            "99 비트코인\n",
            "100 비트코인\n"
          ]
        }
      ]
    },
    {
      "cell_type": "markdown",
      "source": [
        "204\n",
        "\"비트코인\" 문자열을 100번 화면에 출력하는 print_coins() 함수를 정의하라.\n",
        "\n"
      ],
      "metadata": {
        "id": "mCHqByuEHT0a"
      }
    },
    {
      "cell_type": "code",
      "source": [
        "def print_coin():\n",
        "  i = 0\n",
        "  while i<100:\n",
        "    i += 1\n",
        "    print(i,'비트코인')\n",
        "\n",
        "print_coin()"
      ],
      "metadata": {
        "id": "4YnPc8ECHW5E"
      },
      "execution_count": null,
      "outputs": []
    },
    {
      "cell_type": "code",
      "source": [
        "def print_coin():\n",
        "  for i in range(100):\n",
        "    print('비트코인')"
      ],
      "metadata": {
        "id": "IlXhm6u8HeFN"
      },
      "execution_count": null,
      "outputs": []
    },
    {
      "cell_type": "markdown",
      "source": [
        "205\n",
        "아래의 에러가 발생하는 이유에 대해 설명하라."
      ],
      "metadata": {
        "id": "8fW4xPEoHkru"
      }
    },
    {
      "cell_type": "code",
      "source": [
        "hello()\n",
        "def hello():\n",
        "    print(\"Hi\")"
      ],
      "metadata": {
        "colab": {
          "base_uri": "https://localhost:8080/",
          "height": 203
        },
        "id": "AckXFWq7Hlm8",
        "outputId": "38c4d5e3-2c91-43ad-f3a3-57b69d787aeb"
      },
      "execution_count": null,
      "outputs": [
        {
          "output_type": "error",
          "ename": "NameError",
          "evalue": "ignored",
          "traceback": [
            "\u001b[0;31m---------------------------------------------------------------------------\u001b[0m",
            "\u001b[0;31mNameError\u001b[0m                                 Traceback (most recent call last)",
            "\u001b[0;32m<ipython-input-13-cee80d3cd9fb>\u001b[0m in \u001b[0;36m<module>\u001b[0;34m()\u001b[0m\n\u001b[0;32m----> 1\u001b[0;31m \u001b[0mhello\u001b[0m\u001b[0;34m(\u001b[0m\u001b[0;34m)\u001b[0m\u001b[0;34m\u001b[0m\u001b[0;34m\u001b[0m\u001b[0m\n\u001b[0m\u001b[1;32m      2\u001b[0m \u001b[0;32mdef\u001b[0m \u001b[0mhello\u001b[0m\u001b[0;34m(\u001b[0m\u001b[0;34m)\u001b[0m\u001b[0;34m:\u001b[0m\u001b[0;34m\u001b[0m\u001b[0;34m\u001b[0m\u001b[0m\n\u001b[1;32m      3\u001b[0m     \u001b[0mprint\u001b[0m\u001b[0;34m(\u001b[0m\u001b[0;34m\"Hi\"\u001b[0m\u001b[0;34m)\u001b[0m\u001b[0;34m\u001b[0m\u001b[0;34m\u001b[0m\u001b[0m\n",
            "\u001b[0;31mNameError\u001b[0m: name 'hello' is not defined"
          ]
        }
      ]
    },
    {
      "cell_type": "code",
      "source": [
        "def hello():\n",
        "    print(\"Hi\")\n",
        "hello()"
      ],
      "metadata": {
        "colab": {
          "base_uri": "https://localhost:8080/"
        },
        "id": "od8nsAmRHsJH",
        "outputId": "e0f3d8ba-1130-4a66-af63-418f3a5214ee"
      },
      "execution_count": null,
      "outputs": [
        {
          "output_type": "stream",
          "name": "stdout",
          "text": [
            "Hi\n"
          ]
        }
      ]
    },
    {
      "cell_type": "markdown",
      "source": [
        "206\n",
        "아래 코드의 실행 결과를 예측하라."
      ],
      "metadata": {
        "id": "LwfBUUj3HwHM"
      }
    },
    {
      "cell_type": "code",
      "source": [
        "def message() :\n",
        "    print(\"A\")\n",
        "    print(\"B\")\n",
        "\n",
        "message()\n",
        "print(\"C\")\n",
        "message()"
      ],
      "metadata": {
        "colab": {
          "base_uri": "https://localhost:8080/"
        },
        "id": "ry1YToSlHyBE",
        "outputId": "e46dfa46-b35a-4a3d-d39b-15350b87af43"
      },
      "execution_count": null,
      "outputs": [
        {
          "output_type": "stream",
          "name": "stdout",
          "text": [
            "A\n",
            "B\n",
            "C\n",
            "A\n",
            "B\n"
          ]
        }
      ]
    },
    {
      "cell_type": "markdown",
      "source": [
        "207\n",
        "아래 코드의 실행 결과를 예측하라. (읽기 어려운 코드의 예입니다.)\n",
        "\n"
      ],
      "metadata": {
        "id": "Tjy9YH7hH1QA"
      }
    },
    {
      "cell_type": "code",
      "source": [
        "print(\"A\")\n",
        "\n",
        "def message() :\n",
        "    print(\"B\")\n",
        "\n",
        "print(\"C\")\n",
        "message()\n"
      ],
      "metadata": {
        "colab": {
          "base_uri": "https://localhost:8080/"
        },
        "id": "VaaiexXPH3uS",
        "outputId": "31ca108d-7feb-474c-8b70-0ed4639a561e"
      },
      "execution_count": null,
      "outputs": [
        {
          "output_type": "stream",
          "name": "stdout",
          "text": [
            "A\n",
            "C\n",
            "B\n"
          ]
        }
      ]
    },
    {
      "cell_type": "markdown",
      "source": [
        "208\n",
        "아래 코드의 실행 결과를 예측하라. (읽기 어려운 코드의 예입니다.)"
      ],
      "metadata": {
        "id": "B4_lVldbIDdk"
      }
    },
    {
      "cell_type": "code",
      "source": [
        "print(\"A\")\n",
        "def message1() :\n",
        "    print(\"B\")\n",
        "print(\"C\")\n",
        "def message2() :\n",
        "    print(\"D\")\n",
        "message1()\n",
        "print(\"E\")\n",
        "message2()"
      ],
      "metadata": {
        "colab": {
          "base_uri": "https://localhost:8080/"
        },
        "id": "kk3jozVJIF9E",
        "outputId": "3b57ae69-6ee1-413a-df66-62437d8f2d5e"
      },
      "execution_count": null,
      "outputs": [
        {
          "output_type": "stream",
          "name": "stdout",
          "text": [
            "A\n",
            "C\n",
            "B\n",
            "E\n",
            "D\n"
          ]
        }
      ]
    },
    {
      "cell_type": "markdown",
      "source": [
        "209\n",
        "아래 코드의 실행 결과를 예측하라."
      ],
      "metadata": {
        "id": "cujE6qOcIKPi"
      }
    },
    {
      "cell_type": "code",
      "source": [
        "def message1():\n",
        "    print(\"A\")\n",
        "\n",
        "def message2():\n",
        "    print(\"B\")\n",
        "    message1()\n",
        "\n",
        "message2()"
      ],
      "metadata": {
        "colab": {
          "base_uri": "https://localhost:8080/"
        },
        "id": "I7UHY9UeIL1I",
        "outputId": "c3db4079-ef6a-4a98-ec2d-7a9caf0b9ff3"
      },
      "execution_count": null,
      "outputs": [
        {
          "output_type": "stream",
          "name": "stdout",
          "text": [
            "B\n",
            "A\n"
          ]
        }
      ]
    },
    {
      "cell_type": "markdown",
      "source": [
        "210\n",
        "아래 코드의 실행 결과를 예측하라."
      ],
      "metadata": {
        "id": "XH0Y3omuIQN7"
      }
    },
    {
      "cell_type": "code",
      "source": [
        "def message1():\n",
        "    print(\"A\")\n",
        "\n",
        "def message2():\n",
        "    print(\"B\")\n",
        "\n",
        "def message3():\n",
        "    for i in range (3) :\n",
        "        message2()\n",
        "        print(\"C\")\n",
        "    message1()\n",
        "\n",
        "message3()"
      ],
      "metadata": {
        "colab": {
          "base_uri": "https://localhost:8080/"
        },
        "id": "GVcniKftIRVF",
        "outputId": "3e44ae07-6486-41f9-e7b7-790ef1a347e3"
      },
      "execution_count": null,
      "outputs": [
        {
          "output_type": "stream",
          "name": "stdout",
          "text": [
            "B\n",
            "C\n",
            "B\n",
            "C\n",
            "B\n",
            "C\n",
            "A\n"
          ]
        }
      ]
    },
    {
      "cell_type": "markdown",
      "source": [
        "211\n",
        "함수의 호출 결과를 예측하라."
      ],
      "metadata": {
        "id": "-ymQUtTfIehK"
      }
    },
    {
      "cell_type": "code",
      "source": [
        "def 함수(문자열) :\n",
        "    print(문자열)\n",
        "\n",
        "함수(\"안녕\")\n",
        "함수(\"Hi\")"
      ],
      "metadata": {
        "colab": {
          "base_uri": "https://localhost:8080/"
        },
        "id": "NPVq_SbMIgef",
        "outputId": "e7ae7f13-c79d-48a6-a9a3-cc26c9a972cd"
      },
      "execution_count": null,
      "outputs": [
        {
          "output_type": "stream",
          "name": "stdout",
          "text": [
            "안녕\n",
            "Hi\n"
          ]
        }
      ]
    },
    {
      "cell_type": "markdown",
      "source": [
        "212\n",
        "함수의 호출 결과를 예측하라."
      ],
      "metadata": {
        "id": "dbKE3WfCIkt_"
      }
    },
    {
      "cell_type": "code",
      "source": [
        "def 함수(a, b) :\n",
        "    print(a + b)\n",
        "\n",
        "함수(3, 4)\n",
        "함수(7, 8)"
      ],
      "metadata": {
        "colab": {
          "base_uri": "https://localhost:8080/"
        },
        "id": "ayzU5h55ImUm",
        "outputId": "24faa015-ff14-49b9-ffaf-1d36fc280331"
      },
      "execution_count": null,
      "outputs": [
        {
          "output_type": "stream",
          "name": "stdout",
          "text": [
            "7\n",
            "15\n"
          ]
        }
      ]
    },
    {
      "cell_type": "markdown",
      "source": [
        "213\n",
        "아래와 같은 에러가 발생하는 원인을 설명하라."
      ],
      "metadata": {
        "id": "YdbhMgkvIoNH"
      }
    },
    {
      "cell_type": "code",
      "source": [
        "def 함수(문자열) :\n",
        "    print(문자열)\n",
        "\n",
        "함수()"
      ],
      "metadata": {
        "colab": {
          "base_uri": "https://localhost:8080/",
          "height": 203
        },
        "id": "k4gX6vu7IpXL",
        "outputId": "1324311c-7c1f-4cff-844d-ad7bc8967e75"
      },
      "execution_count": null,
      "outputs": [
        {
          "output_type": "error",
          "ename": "TypeError",
          "evalue": "ignored",
          "traceback": [
            "\u001b[0;31m---------------------------------------------------------------------------\u001b[0m",
            "\u001b[0;31mTypeError\u001b[0m                                 Traceback (most recent call last)",
            "\u001b[0;32m<ipython-input-26-7bbded95d69e>\u001b[0m in \u001b[0;36m<module>\u001b[0;34m()\u001b[0m\n\u001b[1;32m      2\u001b[0m     \u001b[0mprint\u001b[0m\u001b[0;34m(\u001b[0m\u001b[0m문자열\u001b[0m\u001b[0;34m)\u001b[0m\u001b[0;34m\u001b[0m\u001b[0;34m\u001b[0m\u001b[0m\n\u001b[1;32m      3\u001b[0m \u001b[0;34m\u001b[0m\u001b[0m\n\u001b[0;32m----> 4\u001b[0;31m \u001b[0m함수\u001b[0m\u001b[0;34m(\u001b[0m\u001b[0;34m)\u001b[0m\u001b[0;34m\u001b[0m\u001b[0;34m\u001b[0m\u001b[0m\n\u001b[0m",
            "\u001b[0;31mTypeError\u001b[0m: 함수() missing 1 required positional argument: '문자열'"
          ]
        }
      ]
    },
    {
      "cell_type": "markdown",
      "source": [
        "214\n",
        "아래와 같은 에러가 발생하는 원인을 설명하라."
      ],
      "metadata": {
        "id": "Si5e-x6bJA5z"
      }
    },
    {
      "cell_type": "code",
      "source": [
        "def 함수(a, b) :\n",
        "    print(a + b)\n",
        "\n",
        "함수(\"안녕\", 3)"
      ],
      "metadata": {
        "colab": {
          "base_uri": "https://localhost:8080/",
          "height": 307
        },
        "id": "gdUYJ19rJCY-",
        "outputId": "6e14dbf5-2313-4c3c-c97f-cfb408991d9c"
      },
      "execution_count": null,
      "outputs": [
        {
          "output_type": "error",
          "ename": "TypeError",
          "evalue": "ignored",
          "traceback": [
            "\u001b[0;31m---------------------------------------------------------------------------\u001b[0m",
            "\u001b[0;31mTypeError\u001b[0m                                 Traceback (most recent call last)",
            "\u001b[0;32m<ipython-input-27-fc1d6d40d8f3>\u001b[0m in \u001b[0;36m<module>\u001b[0;34m()\u001b[0m\n\u001b[1;32m      2\u001b[0m     \u001b[0mprint\u001b[0m\u001b[0;34m(\u001b[0m\u001b[0ma\u001b[0m \u001b[0;34m+\u001b[0m \u001b[0mb\u001b[0m\u001b[0;34m)\u001b[0m\u001b[0;34m\u001b[0m\u001b[0;34m\u001b[0m\u001b[0m\n\u001b[1;32m      3\u001b[0m \u001b[0;34m\u001b[0m\u001b[0m\n\u001b[0;32m----> 4\u001b[0;31m \u001b[0m함수\u001b[0m\u001b[0;34m(\u001b[0m\u001b[0;34m\"안녕\"\u001b[0m\u001b[0;34m,\u001b[0m \u001b[0;36m3\u001b[0m\u001b[0;34m)\u001b[0m\u001b[0;34m\u001b[0m\u001b[0;34m\u001b[0m\u001b[0m\n\u001b[0m",
            "\u001b[0;32m<ipython-input-27-fc1d6d40d8f3>\u001b[0m in \u001b[0;36m함수\u001b[0;34m(a, b)\u001b[0m\n\u001b[1;32m      1\u001b[0m \u001b[0;32mdef\u001b[0m \u001b[0m함수\u001b[0m\u001b[0;34m(\u001b[0m\u001b[0ma\u001b[0m\u001b[0;34m,\u001b[0m \u001b[0mb\u001b[0m\u001b[0;34m)\u001b[0m \u001b[0;34m:\u001b[0m\u001b[0;34m\u001b[0m\u001b[0;34m\u001b[0m\u001b[0m\n\u001b[0;32m----> 2\u001b[0;31m     \u001b[0mprint\u001b[0m\u001b[0;34m(\u001b[0m\u001b[0ma\u001b[0m \u001b[0;34m+\u001b[0m \u001b[0mb\u001b[0m\u001b[0;34m)\u001b[0m\u001b[0;34m\u001b[0m\u001b[0;34m\u001b[0m\u001b[0m\n\u001b[0m\u001b[1;32m      3\u001b[0m \u001b[0;34m\u001b[0m\u001b[0m\n\u001b[1;32m      4\u001b[0m \u001b[0m함수\u001b[0m\u001b[0;34m(\u001b[0m\u001b[0;34m\"안녕\"\u001b[0m\u001b[0;34m,\u001b[0m \u001b[0;36m3\u001b[0m\u001b[0;34m)\u001b[0m\u001b[0;34m\u001b[0m\u001b[0;34m\u001b[0m\u001b[0m\n",
            "\u001b[0;31mTypeError\u001b[0m: can only concatenate str (not \"int\") to str"
          ]
        }
      ]
    },
    {
      "cell_type": "markdown",
      "source": [
        "215\n",
        "하나의 문자를 입력받아 문자열 끝에 \":D\" 스마일 문자열을 이어 붙여 출력하는 print_with_smile 함수를 정의하라."
      ],
      "metadata": {
        "id": "vFJsXwkeJG3r"
      }
    },
    {
      "cell_type": "code",
      "source": [
        "def print_with_smile(string):\n",
        "  print(string + \":D\")\n",
        "\n",
        "print_with_smile(\"1\")"
      ],
      "metadata": {
        "colab": {
          "base_uri": "https://localhost:8080/"
        },
        "id": "n13hi1TAJHRb",
        "outputId": "a02df3c2-e6f4-4b46-993d-3e80e4ac92c1"
      },
      "execution_count": null,
      "outputs": [
        {
          "output_type": "stream",
          "name": "stdout",
          "text": [
            "1:D\n"
          ]
        }
      ]
    },
    {
      "cell_type": "markdown",
      "source": [
        "216\n",
        "215에서 정의한 함수를 호출하라. 파라미터는 \"안녕하세요\"로 입력하라."
      ],
      "metadata": {
        "id": "zF9MWp9_KEGx"
      }
    },
    {
      "cell_type": "code",
      "source": [
        "def print_with_smile(string):\n",
        "  print(string + \":D\")\n",
        "\n",
        "print_with_smile(\"안녕하세요\")"
      ],
      "metadata": {
        "colab": {
          "base_uri": "https://localhost:8080/"
        },
        "id": "-DFWTYS2KHMl",
        "outputId": "74446289-b4b9-46ad-d7b6-7e4f5f892934"
      },
      "execution_count": null,
      "outputs": [
        {
          "output_type": "stream",
          "name": "stdout",
          "text": [
            "안녕하세요:D\n"
          ]
        }
      ]
    },
    {
      "cell_type": "markdown",
      "source": [
        "217\n",
        "현재 가격을 입력 받아 상한가 (30%)를 출력하는 print_upper_price 함수를 정의하라."
      ],
      "metadata": {
        "id": "31-5IETBKLiQ"
      }
    },
    {
      "cell_type": "code",
      "source": [
        "def print_upper_price(price):\n",
        "  return price + (price * 0.3)\n",
        "\n",
        "print_upper_price(100)"
      ],
      "metadata": {
        "colab": {
          "base_uri": "https://localhost:8080/"
        },
        "id": "wYfWk6DbKMpb",
        "outputId": "d268f071-f4d1-4144-d9b4-8b273b86e6a1"
      },
      "execution_count": null,
      "outputs": [
        {
          "output_type": "execute_result",
          "data": {
            "text/plain": [
              "130.0"
            ]
          },
          "metadata": {},
          "execution_count": 37
        }
      ]
    },
    {
      "cell_type": "markdown",
      "source": [
        "218\n",
        "두 개의 숫자를 입력받아 두 수의 합을 출력하는 print_sum 함수를 정의하라."
      ],
      "metadata": {
        "id": "VP0IWCSOLHUG"
      }
    },
    {
      "cell_type": "code",
      "source": [
        "def print_sum(a,b):\n",
        "  return a+b\n",
        "\n",
        "print_sum(1,2)"
      ],
      "metadata": {
        "colab": {
          "base_uri": "https://localhost:8080/"
        },
        "id": "iQmY-YAiLIk5",
        "outputId": "e736c750-dcb9-492d-d7df-1a5212aae799"
      },
      "execution_count": null,
      "outputs": [
        {
          "output_type": "execute_result",
          "data": {
            "text/plain": [
              "3"
            ]
          },
          "metadata": {},
          "execution_count": 38
        }
      ]
    },
    {
      "cell_type": "markdown",
      "source": [
        "219\n",
        "두 개의 숫자를 입력받아 합/차/곱/나눗셈을 출력하는 print_arithmetic_operation 함수를 작성하라."
      ],
      "metadata": {
        "id": "RCMK2cyjLTuv"
      }
    },
    {
      "cell_type": "code",
      "source": [
        "def print_arithmetic_operation(a,b):\n",
        "  print(a+b)\n",
        "  print(a-b)\n",
        "  print(a*b)\n",
        "  print(a/b)\n",
        "\n",
        "\n",
        "print_arithmetic_operation(3,4)"
      ],
      "metadata": {
        "colab": {
          "base_uri": "https://localhost:8080/"
        },
        "id": "dBvmfMBcLUJF",
        "outputId": "77c97156-ffb8-4fdd-deda-577fcd144963"
      },
      "execution_count": null,
      "outputs": [
        {
          "output_type": "stream",
          "name": "stdout",
          "text": [
            "7\n",
            "-1\n",
            "12\n",
            "0.75\n"
          ]
        }
      ]
    },
    {
      "cell_type": "code",
      "source": [
        "def print_arithmetic_operation(a,b):\n",
        "  print(f'{a} {\"+\"} {b} {\"=\"} {a+b}')\n",
        "  print(f'{a} {\"-\"} {b} {\"=\"} {a-b}')\n",
        "  print(f'{a} {\"*\"} {b} {\"=\"} {a*b}')\n",
        "  print(f'{a} {\"/\"} {b} {\"=\"} {a/b}')\n",
        "\n",
        "\n",
        "print_arithmetic_operation(3,4)"
      ],
      "metadata": {
        "colab": {
          "base_uri": "https://localhost:8080/"
        },
        "id": "so8bGF5HLrOa",
        "outputId": "cc13a8df-73ea-4557-eb3f-7f2c9fabbae4"
      },
      "execution_count": null,
      "outputs": [
        {
          "output_type": "stream",
          "name": "stdout",
          "text": [
            "3 + 4 = 7\n",
            "3 - 4 = -1\n",
            "3 * 4 = 12\n",
            "3 / 4 = 0.75\n"
          ]
        }
      ]
    },
    {
      "cell_type": "markdown",
      "source": [
        "220\n",
        "세 개의 숫자를 입력받아 가장 큰수를 출력하는 print_max 함수를 정의하라. 단 if 문을 사용해서 수를 비교하라."
      ],
      "metadata": {
        "id": "Oebx8RVcMSkW"
      }
    },
    {
      "cell_type": "code",
      "source": [
        "def print_max(a,b,c):  # 3, 2, 1\n",
        "  if a > b and a > c:\n",
        "    print(a)\n",
        "  elif b > a and b > c:\n",
        "    print(b)\n",
        "  elif c > a and c > b:\n",
        "    print(c)\n",
        "\n",
        "print_max(1,2,3)"
      ],
      "metadata": {
        "colab": {
          "base_uri": "https://localhost:8080/"
        },
        "id": "mq1UDTEtMUFH",
        "outputId": "a1e7603d-c0d7-4aa0-ab44-ba409088c8bd"
      },
      "execution_count": null,
      "outputs": [
        {
          "output_type": "stream",
          "name": "stdout",
          "text": [
            "3\n"
          ]
        }
      ]
    },
    {
      "cell_type": "code",
      "source": [
        "def print_max(a, b, c) :\n",
        "    max_val = 0\n",
        "    if a > max_val :\n",
        "        max_val = a\n",
        "    if b > max_val :\n",
        "        max_val = b\n",
        "    if c > max_val :\n",
        "        max_val = c\n",
        "    print(max_val)\n",
        "\n",
        "print_max(10,1,20)"
      ],
      "metadata": {
        "colab": {
          "base_uri": "https://localhost:8080/"
        },
        "id": "crkC7uHxNI2s",
        "outputId": "857f3fd1-a740-48e5-de3a-6ccd00046b04"
      },
      "execution_count": null,
      "outputs": [
        {
          "output_type": "stream",
          "name": "stdout",
          "text": [
            "20\n"
          ]
        }
      ]
    }
  ]
}