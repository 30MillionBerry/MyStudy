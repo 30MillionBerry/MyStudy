{
  "nbformat": 4,
  "nbformat_minor": 0,
  "metadata": {
    "colab": {
      "name": "Coding_Problem6.ipynb",
      "provenance": [],
      "authorship_tag": "ABX9TyOwzVCni1WjLci5mVQ/j6vN",
      "include_colab_link": true
    },
    "kernelspec": {
      "name": "python3",
      "display_name": "Python 3"
    },
    "language_info": {
      "name": "python"
    }
  },
  "cells": [
    {
      "cell_type": "markdown",
      "metadata": {
        "id": "view-in-github",
        "colab_type": "text"
      },
      "source": [
        "<a href=\"https://colab.research.google.com/github/mohyunyang/MyStudy/blob/master/Coding_Problem6.ipynb\" target=\"_parent\"><img src=\"https://colab.research.google.com/assets/colab-badge.svg\" alt=\"Open In Colab\"/></a>"
      ]
    },
    {
      "cell_type": "markdown",
      "source": [
        "# 1문제\n",
        "문제\n",
        "N개의 정수가 주어진다. 이때, 최솟값과 최댓값을 구하는 프로그램을 작성하시오.\n",
        "\n",
        "입력\n",
        "첫째 줄에 정수의 개수 N (1 ≤ N ≤ 1,000,000)이 주어진다. 둘째 줄에는 N개의 정수를 공백으로 구분해서 주어진다. 모든 정수는 -1,000,000보다 크거나 같고, 1,000,000보다 작거나 같은 정수이다.\n",
        "\n",
        "- numbers = list(map(int, input().split())) // 입력받은 숫자를 리스트화"
      ],
      "metadata": {
        "id": "tLFTetBu7m6U"
      }
    },
    {
      "cell_type": "code",
      "source": [
        "n = int(input())\n",
        "numbers = list(map(int, input().split()))\n",
        "\n",
        "# 최솟값, 최댓값 어떻게 구했지?\n",
        "print(min(numbers),max(numbers))\n"
      ],
      "metadata": {
        "colab": {
          "base_uri": "https://localhost:8080/"
        },
        "id": "79eS81Z-7yrV",
        "outputId": "ab78badf-ee49-482f-cdd2-0c1bf683fe5e"
      },
      "execution_count": 34,
      "outputs": [
        {
          "output_type": "stream",
          "name": "stdout",
          "text": [
            "3\n",
            "1 2 3\n",
            "1 3\n"
          ]
        }
      ]
    },
    {
      "cell_type": "markdown",
      "source": [
        "# 2문제\n",
        "입력\n",
        "첫째 줄부터 아홉 번째 줄까지 한 줄에 하나의 자연수가 주어진다. 주어지는 자연수는 100 보다 작다.\n",
        "\n",
        "출력\n",
        "첫째 줄에 최댓값을 출력하고, 둘째 줄에 최댓값이 몇 번째 수인지를 출력한다.\n",
        "\n",
        "- a.index(max(a)) // 리스트 a안에 가장큰수의 인덱스를 보고 싶다 "
      ],
      "metadata": {
        "id": "xdTH__k2_JfT"
      }
    },
    {
      "cell_type": "code",
      "source": [
        "a = []\n",
        "for i in range(9):\n",
        "  num = int(input)\n",
        "  a.append(num)\n",
        "\n",
        "print(max(a))\n",
        "print(a.index(max(a))+1)"
      ],
      "metadata": {
        "id": "E2J_9tf7AdxB"
      },
      "execution_count": null,
      "outputs": []
    },
    {
      "cell_type": "markdown",
      "source": [
        "# 3문제\n",
        "세 개의 자연수 A, B, C가 주어질 때 A × B × C를 계산한 결과에 0부터 9까지 각각의 숫자가 몇 번씩 쓰였는지를 구하는 프로그램을 작성하시오.\n",
        "\n",
        "예를 들어 A = 150, B = 266, C = 427 이라면 A × B × C = 150 × 266 × 427 = 17037300 이 되고, 계산한 결과 17037300 에는 0이 3번, 1이 1번, 3이 2번, 7이 2번 쓰였다.\n",
        "\n",
        "입력\n",
        "첫째 줄에 A, 둘째 줄에 B, 셋째 줄에 C가 주어진다. A, B, C는 모두 100보다 크거나 같고, 1,000보다 작은 자연수이다.\n",
        "\n",
        "출력\n",
        "첫째 줄에는 A × B × C의 결과에 0 이 몇 번 쓰였는지 출력한다. 마찬가지로 둘째 줄부터 열 번째 줄까지 A × B × C의 결과에 1부터 9까지의 숫자가 각각 몇 번 쓰였는지 차례로 한 줄에 하나씩 출력한다.\n",
        "\n",
        "- .count(\"str\") 카운트는 문자열 밖에 못센다.\n"
      ],
      "metadata": {
        "id": "CcLwCmTlE-Kv"
      }
    },
    {
      "cell_type": "code",
      "source": [
        "a = int(input())\n",
        "b = int(input())\n",
        "c = int(input())\n",
        "mult = str(a*b*c)\n",
        "print(mult.count(\"0\"))\n",
        "print(mult.count(\"1\"))\n",
        "print(mult.count(\"2\"))\n",
        "print(mult.count(\"3\"))\n",
        "print(mult.count(\"4\"))\n",
        "print(mult.count(\"5\"))\n",
        "print(mult.count(\"6\"))\n",
        "print(mult.count(\"7\"))\n",
        "print(mult.count(\"8\"))\n",
        "print(mult.count(\"9\"))"
      ],
      "metadata": {
        "colab": {
          "base_uri": "https://localhost:8080/"
        },
        "id": "R_oakwviFAOY",
        "outputId": "e8a43c5f-f78a-4ab7-da3e-f274cb157aa4"
      },
      "execution_count": 59,
      "outputs": [
        {
          "output_type": "stream",
          "name": "stdout",
          "text": [
            "100\n",
            "500\n",
            "100\n",
            "6\n",
            "0\n",
            "0\n",
            "0\n",
            "0\n",
            "1\n",
            "0\n",
            "0\n",
            "0\n",
            "0\n"
          ]
        }
      ]
    },
    {
      "cell_type": "code",
      "source": [
        "a = int(input())\n",
        "b = int(input())\n",
        "c = int(input())\n",
        "mult = str(a*b*c)\n",
        "\n",
        "for i in range(10):\n",
        "  print(mult.count(str(i)))"
      ],
      "metadata": {
        "colab": {
          "base_uri": "https://localhost:8080/"
        },
        "id": "YQZiS9XaHFzY",
        "outputId": "c2c69af4-51c7-43fd-fc6d-47565939d0bc"
      },
      "execution_count": 58,
      "outputs": [
        {
          "output_type": "stream",
          "name": "stdout",
          "text": [
            "100\n",
            "500\n",
            "100\n",
            "6\n",
            "0\n",
            "0\n",
            "0\n",
            "0\n",
            "1\n",
            "0\n",
            "0\n",
            "0\n",
            "5000000\n"
          ]
        }
      ]
    }
  ]
}