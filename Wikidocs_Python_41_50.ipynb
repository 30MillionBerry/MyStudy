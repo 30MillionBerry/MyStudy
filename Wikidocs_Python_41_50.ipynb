{
  "nbformat": 4,
  "nbformat_minor": 0,
  "metadata": {
    "colab": {
      "name": "Wikidocs_Python_41-50.ipynb",
      "provenance": [],
      "authorship_tag": "ABX9TyOQoDITpZH5McuLyuBB8gUL",
      "include_colab_link": true
    },
    "kernelspec": {
      "name": "python3",
      "display_name": "Python 3"
    },
    "language_info": {
      "name": "python"
    }
  },
  "cells": [
    {
      "cell_type": "markdown",
      "metadata": {
        "id": "view-in-github",
        "colab_type": "text"
      },
      "source": [
        "<a href=\"https://colab.research.google.com/github/mohyunyang/MyStudy/blob/master/Wikidocs_Python_41_50.ipynb\" target=\"_parent\"><img src=\"https://colab.research.google.com/assets/colab-badge.svg\" alt=\"Open In Colab\"/></a>"
      ]
    },
    {
      "cell_type": "markdown",
      "source": [
        "\n",
        "#041 upper 메서드\n",
        "\n",
        "다음과 같은 문자열이 있을 때 이를 대문자 BTC_KRW로 변경하세요."
      ],
      "metadata": {
        "id": "iJAOVstmQbSO"
      }
    },
    {
      "cell_type": "code",
      "source": [
        "ticker = \"btc_krw\"\n",
        "Ticker = ticker.upper()\n",
        "print(Ticker)"
      ],
      "metadata": {
        "colab": {
          "base_uri": "https://localhost:8080/"
        },
        "id": "_BY4F2fPQm6C",
        "outputId": "b428f043-cede-429c-98eb-5c08002f72cb"
      },
      "execution_count": 2,
      "outputs": [
        {
          "output_type": "stream",
          "name": "stdout",
          "text": [
            "BTC_KRW\n"
          ]
        }
      ]
    },
    {
      "cell_type": "markdown",
      "source": [
        "\n",
        "# 042 lower 메서드\n"
      ],
      "metadata": {
        "id": "7TdhnbQTQ8dz"
      }
    },
    {
      "cell_type": "code",
      "source": [
        "Ticker.lower()"
      ],
      "metadata": {
        "colab": {
          "base_uri": "https://localhost:8080/",
          "height": 35
        },
        "id": "8Dd83X3AQ-47",
        "outputId": "ece32442-886b-4ea7-e52c-007a538a3494"
      },
      "execution_count": 4,
      "outputs": [
        {
          "output_type": "execute_result",
          "data": {
            "text/plain": [
              "'btc_krw'"
            ],
            "application/vnd.google.colaboratory.intrinsic+json": {
              "type": "string"
            }
          },
          "metadata": {},
          "execution_count": 4
        }
      ]
    },
    {
      "cell_type": "markdown",
      "source": [
        "# 043 capitalize 메서드"
      ],
      "metadata": {
        "id": "ZPEOJaAjRF04"
      }
    },
    {
      "cell_type": "code",
      "source": [
        "a = \"hello\"\n",
        "a.capitalize()"
      ],
      "metadata": {
        "colab": {
          "base_uri": "https://localhost:8080/",
          "height": 35
        },
        "id": "XXv_tURLRID6",
        "outputId": "113872b5-8c6c-4c9b-d9bf-43e63a8f2386"
      },
      "execution_count": 9,
      "outputs": [
        {
          "output_type": "execute_result",
          "data": {
            "text/plain": [
              "'Hello'"
            ],
            "application/vnd.google.colaboratory.intrinsic+json": {
              "type": "string"
            }
          },
          "metadata": {},
          "execution_count": 9
        }
      ]
    },
    {
      "cell_type": "markdown",
      "source": [
        "# 044 endswith 메서드\n"
      ],
      "metadata": {
        "id": "16CnXFkuReE1"
      }
    },
    {
      "cell_type": "code",
      "source": [
        "file_name = \"보고서.xlsx\"\n",
        "file_name.endswith('xlsx')"
      ],
      "metadata": {
        "colab": {
          "base_uri": "https://localhost:8080/"
        },
        "id": "GOmw6N_eRex1",
        "outputId": "24c560dd-de46-407d-cbdf-7baffe026183"
      },
      "execution_count": 11,
      "outputs": [
        {
          "output_type": "execute_result",
          "data": {
            "text/plain": [
              "True"
            ]
          },
          "metadata": {},
          "execution_count": 11
        }
      ]
    },
    {
      "cell_type": "markdown",
      "source": [
        "# 045 endswith 메서드"
      ],
      "metadata": {
        "id": "WTNXYHm5RtLl"
      }
    },
    {
      "cell_type": "code",
      "source": [
        "file_name = \"보고서.xlsx\"\n",
        "file_name.endswith(('xlsx' , 'xls'))\n",
        "# file_name.endswith('xlsx' or 'xls')"
      ],
      "metadata": {
        "colab": {
          "base_uri": "https://localhost:8080/"
        },
        "id": "mGpHww0oRvzy",
        "outputId": "ef408e62-0d6c-4f75-d882-777816f7cceb"
      },
      "execution_count": 18,
      "outputs": [
        {
          "output_type": "execute_result",
          "data": {
            "text/plain": [
              "True"
            ]
          },
          "metadata": {},
          "execution_count": 18
        }
      ]
    },
    {
      "cell_type": "markdown",
      "source": [
        "#046 startswith 메서드"
      ],
      "metadata": {
        "id": "7QREKZJaSIKv"
      }
    },
    {
      "cell_type": "code",
      "source": [
        "file_name = \"2020_보고서.xlsx\"\n",
        "file_name.startswith('2020')"
      ],
      "metadata": {
        "colab": {
          "base_uri": "https://localhost:8080/"
        },
        "id": "chS9EioISKV0",
        "outputId": "fa468522-3029-46b6-e8b4-9b42a94a3165"
      },
      "execution_count": 20,
      "outputs": [
        {
          "output_type": "execute_result",
          "data": {
            "text/plain": [
              "True"
            ]
          },
          "metadata": {},
          "execution_count": 20
        }
      ]
    },
    {
      "cell_type": "markdown",
      "source": [
        "#047 split 메서드"
      ],
      "metadata": {
        "id": "suCcSzN9SSOC"
      }
    },
    {
      "cell_type": "code",
      "source": [
        "a = \"hello world\"\n",
        "a = a.split()\n",
        "print(a,type(a))"
      ],
      "metadata": {
        "colab": {
          "base_uri": "https://localhost:8080/"
        },
        "id": "aAhmM52cSUJY",
        "outputId": "f8a12be6-b3c1-4be7-b9b3-7514398c4353"
      },
      "execution_count": 24,
      "outputs": [
        {
          "output_type": "stream",
          "name": "stdout",
          "text": [
            "['hello', 'world'] <class 'list'>\n"
          ]
        }
      ]
    },
    {
      "cell_type": "markdown",
      "source": [
        "#048 split 메서드"
      ],
      "metadata": {
        "id": "rbXBUMPsShnm"
      }
    },
    {
      "cell_type": "code",
      "source": [
        "ticker = \"btc_krw\"\n",
        "ticker.split('_')"
      ],
      "metadata": {
        "colab": {
          "base_uri": "https://localhost:8080/"
        },
        "id": "rarpn3DuSjk8",
        "outputId": "26ad4634-8691-4540-9f05-71a5da10d288"
      },
      "execution_count": 25,
      "outputs": [
        {
          "output_type": "execute_result",
          "data": {
            "text/plain": [
              "['btc', 'krw']"
            ]
          },
          "metadata": {},
          "execution_count": 25
        }
      ]
    },
    {
      "cell_type": "markdown",
      "source": [
        "#049 split 메서드"
      ],
      "metadata": {
        "id": "dID2lJakSnSe"
      }
    },
    {
      "cell_type": "code",
      "source": [
        "date = \"2020-05-01\"\n",
        "date.split('-')"
      ],
      "metadata": {
        "colab": {
          "base_uri": "https://localhost:8080/"
        },
        "id": "1K835HkkSpVx",
        "outputId": "26056fea-ebed-4ad4-aee2-00bb6b1b7228"
      },
      "execution_count": 27,
      "outputs": [
        {
          "output_type": "execute_result",
          "data": {
            "text/plain": [
              "['2020', '05', '01']"
            ]
          },
          "metadata": {},
          "execution_count": 27
        }
      ]
    },
    {
      "cell_type": "markdown",
      "source": [
        "#050 rstrip 메서드"
      ],
      "metadata": {
        "id": "G3ALwW8YSwy3"
      }
    },
    {
      "cell_type": "code",
      "source": [
        "data = \"039490     \"\n",
        "data.rstrip()"
      ],
      "metadata": {
        "colab": {
          "base_uri": "https://localhost:8080/",
          "height": 35
        },
        "id": "1cClYuSnSx-H",
        "outputId": "9f9ebc1e-14e1-426b-9ad8-dd7ad0211c6e"
      },
      "execution_count": 29,
      "outputs": [
        {
          "output_type": "execute_result",
          "data": {
            "text/plain": [
              "'039490'"
            ],
            "application/vnd.google.colaboratory.intrinsic+json": {
              "type": "string"
            }
          },
          "metadata": {},
          "execution_count": 29
        }
      ]
    },
    {
      "cell_type": "code",
      "source": [
        "data = \"     039490     \"\n",
        "data.strip()"
      ],
      "metadata": {
        "colab": {
          "base_uri": "https://localhost:8080/",
          "height": 35
        },
        "id": "krDdl3uBS_z9",
        "outputId": "60f0b0fa-a5f6-4f48-ba5c-4895a8b80a65"
      },
      "execution_count": 32,
      "outputs": [
        {
          "output_type": "execute_result",
          "data": {
            "text/plain": [
              "'039490'"
            ],
            "application/vnd.google.colaboratory.intrinsic+json": {
              "type": "string"
            }
          },
          "metadata": {},
          "execution_count": 32
        }
      ]
    }
  ]
}