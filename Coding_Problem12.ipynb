{
  "nbformat": 4,
  "nbformat_minor": 0,
  "metadata": {
    "colab": {
      "name": "Coding_Problem12.ipynb",
      "provenance": [],
      "collapsed_sections": [],
      "authorship_tag": "ABX9TyPRWgc4HtIFolef8Ab0uPlG",
      "include_colab_link": true
    },
    "kernelspec": {
      "name": "python3",
      "display_name": "Python 3"
    },
    "language_info": {
      "name": "python"
    }
  },
  "cells": [
    {
      "cell_type": "markdown",
      "metadata": {
        "id": "view-in-github",
        "colab_type": "text"
      },
      "source": [
        "<a href=\"https://colab.research.google.com/github/mohyunyang/MyStudy/blob/master/Coding_Problem12.ipynb\" target=\"_parent\"><img src=\"https://colab.research.google.com/assets/colab-badge.svg\" alt=\"Open In Colab\"/></a>"
      ]
    },
    {
      "cell_type": "markdown",
      "source": [
        "0보다 크거나 같은 정수 N이 주어진다. 이때, N!을 출력하는 프로그램을 작성하시오."
      ],
      "metadata": {
        "id": "XAiXktjr1mUC"
      }
    },
    {
      "cell_type": "code",
      "source": [
        "num = int(input())\n",
        "mul_list = []\n",
        "# num = 5 이라면 5*4*3*2*1 ,  120\n",
        "\n",
        "for i in range(1,num):\n",
        "  for j in range(2,num+1):\n",
        "    a=i*j\n",
        "    mul_list.append(a)\n",
        "\n",
        "print()"
      ],
      "metadata": {
        "colab": {
          "base_uri": "https://localhost:8080/"
        },
        "id": "JEuggBb7142l",
        "outputId": "07dcdabb-b033-4d97-f21e-fe316b3a80a9"
      },
      "execution_count": null,
      "outputs": [
        {
          "output_type": "stream",
          "name": "stdout",
          "text": [
            "5\n",
            "1\n",
            "2\n",
            "3\n",
            "4\n"
          ]
        }
      ]
    },
    {
      "cell_type": "markdown",
      "source": [
        "재귀 함수 : 함수 자기 자신을 호출하는 함수를 말한다"
      ],
      "metadata": {
        "id": "WpvZD_Sa_Kur"
      }
    },
    {
      "cell_type": "code",
      "source": [
        "# 재귀 함수 코드\n",
        "# 0!=1로 약속하고 n!=n*(n-1)! \n",
        "\n",
        "def factorial(n): #  0!=1의 성질을 가지기 때문에 입력받는 수가 0인 경우 1을 출력\n",
        "    result = 1\n",
        "    if n > 0 :\n",
        "        result = n * factorial(n-1)\n",
        "    return result\n",
        "\n",
        "n = int(input())\n",
        "print(factorial(n))\n",
        "\n",
        "# 만약 n=5 이라면 5 * factorial(4) 를 리턴한다\n",
        "# factorial(4)는 4 * factorial(3) 를 리턴한다\n",
        "# factorial(3)은 3 * factorial(2) 를 리턴한다\n",
        "# factorial(2)는 2* factorial(1)를 리턴한다\n",
        "# factorial(1)은 1* factorial(0)을 리턴한다\n",
        "# factorial(0)은 1을 리턴한다\n",
        "# 합치면 5 * 4 * 3 * 2 * 1 * 1 "
      ],
      "metadata": {
        "colab": {
          "base_uri": "https://localhost:8080/"
        },
        "id": "7UZn_OJJ6Jlf",
        "outputId": "0ae5dc3e-78c6-449e-80f6-a714a0fd5b69"
      },
      "execution_count": null,
      "outputs": [
        {
          "output_type": "stream",
          "name": "stdout",
          "text": [
            "10\n",
            "3628800\n"
          ]
        }
      ]
    },
    {
      "cell_type": "code",
      "source": [
        "# for문 코드\n",
        "\n",
        "n = int(input())\n",
        "\n",
        "result = 1  # 글로벌 변수 1 설정, 바뀜\n",
        "if n > 0:\n",
        "    for i in range(1, n+1):\n",
        "        result *= i # 값이 \n",
        "print(result)\n"
      ],
      "metadata": {
        "id": "xQOVq99C84XK"
      },
      "execution_count": null,
      "outputs": []
    },
    {
      "cell_type": "code",
      "source": [
        "def factorial(n):\n",
        "  result = 1\n",
        "  if n > 0:\n",
        "    result = n * factorial(n-1)\n",
        "  return result\n",
        "  \n",
        "n = int(input())\n",
        "factorial(n)"
      ],
      "metadata": {
        "colab": {
          "base_uri": "https://localhost:8080/"
        },
        "id": "l0XeHp9RAqQT",
        "outputId": "2a3d0e19-5ada-4d5a-f482-36ea0ca13164"
      },
      "execution_count": null,
      "outputs": [
        {
          "name": "stdout",
          "output_type": "stream",
          "text": [
            "10\n"
          ]
        },
        {
          "output_type": "execute_result",
          "data": {
            "text/plain": [
              "3628800"
            ]
          },
          "metadata": {},
          "execution_count": 23
        }
      ]
    },
    {
      "cell_type": "code",
      "source": [
        "n = int(input())\n",
        "\n",
        "result = 1\n",
        "\n",
        "if n > 0:\n",
        "  for i in range(1,n+1):\n",
        "    result *= i\n",
        "print(result)"
      ],
      "metadata": {
        "colab": {
          "base_uri": "https://localhost:8080/"
        },
        "id": "si65aoVCBvqz",
        "outputId": "35d67498-fbf9-461e-9ab4-f6010b52b387"
      },
      "execution_count": null,
      "outputs": [
        {
          "output_type": "stream",
          "name": "stdout",
          "text": [
            "10\n",
            "3628800\n"
          ]
        }
      ]
    },
    {
      "cell_type": "markdown",
      "source": [
        "피보나치"
      ],
      "metadata": {
        "id": "mWv_C_1fElmp"
      }
    },
    {
      "cell_type": "code",
      "source": [
        "# 0-1번째 0, 1, 1  f2 + f1 = f3\n",
        "# 2-3번째 2, 3, 5, f5 + f4 = f6\n",
        "# 4-5번째 8, 13, 21, f6 + f7 = f8\n",
        "del f(6):\n",
        "  for i in range(n+1):\n",
        "    if i == 0:\n",
        "      return 0\n",
        "    elif i == 1:\n",
        "      return 1\n",
        "          \n",
        "    if n >=2 :\n",
        "      result = f(n-1) + f(n-2)\n",
        "  return result\n",
        "\n",
        "# 6-7번째 34, 55, 89, \n",
        "# 8-9번째144, 233, 377, \n",
        "# 10-11번째 610, 987, 1597\n",
        "\n",
        "i += 1"
      ],
      "metadata": {
        "id": "7U_yi85ZEmzP"
      },
      "execution_count": null,
      "outputs": []
    },
    {
      "cell_type": "code",
      "source": [
        "# 1) 재귀 함수 코드\n",
        "\n",
        "def fibonacci(n):\n",
        "    if n <= 1:\n",
        "        return n\n",
        "    return fibonacci(n-1) + fibonacci(n-2)\n",
        "\n",
        "n = int(input())\n",
        "print(fibonacci(n))\n",
        " \n",
        "#  fibonacci(0)은 0을 리턴\n",
        "#  fibonacci(1)은 1을 리턴\n",
        "#  fibonacci(2)은  fibonacci(1) +  fibonacci(0) 이므로 1을 리턴\n",
        "#  fibonacci(3)은  fibonacci(2) +  fibonacci(1) 이므로 2를 리턴\n",
        "#  fibonacci(4)는  fibonacci(3) +  fibonacci(2) 이므로 3를 리턴\n",
        "#  fibonacci(5)는  fibonacci(4) +  fibonacci(3) 이므로 5를 리턴 "
      ],
      "metadata": {
        "colab": {
          "base_uri": "https://localhost:8080/"
        },
        "id": "HE3xHi09jsNC",
        "outputId": "1d1b7fa1-b5be-4762-afde-94f08c19dd85"
      },
      "execution_count": null,
      "outputs": [
        {
          "output_type": "stream",
          "name": "stdout",
          "text": [
            "5\n",
            "5\n"
          ]
        }
      ]
    },
    {
      "cell_type": "code",
      "source": [
        "# 2) for문 코드\n",
        "\n",
        "n = int(input())\n",
        "\n",
        "fibonacci = [0, 1]\n",
        "for i in range(2, n+1):\n",
        "    num = fibonacci[i-1] + fibonacci[i-2]\n",
        "    fibonacci.append(num)\n",
        "print(fibonacci[n])\n"
      ],
      "metadata": {
        "colab": {
          "base_uri": "https://localhost:8080/"
        },
        "id": "Wz4-y5rnjs_t",
        "outputId": "753c6f7c-4643-4a5f-e576-c818eaabc569"
      },
      "execution_count": null,
      "outputs": [
        {
          "output_type": "stream",
          "name": "stdout",
          "text": [
            "10\n",
            "55\n"
          ]
        }
      ]
    },
    {
      "cell_type": "code",
      "source": [
        "def fibonacci(n):\n",
        "  if n<=1:\n",
        "    return n\n",
        "  return fibonacci(n-1) + fibonacci(n-2)\n",
        "\n",
        "n = int(input())\n",
        "print(fibonacci(n))"
      ],
      "metadata": {
        "colab": {
          "base_uri": "https://localhost:8080/"
        },
        "id": "ZL2f9o3XnVK-",
        "outputId": "d572de1e-1814-4328-9ca3-614999dd2e25"
      },
      "execution_count": null,
      "outputs": [
        {
          "output_type": "stream",
          "name": "stdout",
          "text": [
            "11\n",
            "89\n"
          ]
        }
      ]
    },
    {
      "cell_type": "code",
      "source": [
        "n = int(input())\n",
        "fibonacci = [0,1]\n",
        "\n",
        "for i in range(2,n+1):\n",
        "  num = fibonacci[i-1] + fibonacci[i-2]\n",
        "  fibonacci.append(num)\n",
        "\n",
        "print(fibonacci[n])"
      ],
      "metadata": {
        "colab": {
          "base_uri": "https://localhost:8080/"
        },
        "id": "fSkalX0KnyKe",
        "outputId": "a72ef6c8-8280-4da7-ce16-172accbcaecd"
      },
      "execution_count": null,
      "outputs": [
        {
          "output_type": "stream",
          "name": "stdout",
          "text": [
            "10\n",
            "55\n"
          ]
        }
      ]
    },
    {
      "cell_type": "markdown",
      "source": [
        "N개의 수가 주어졌을 때, 이를 오름차순으로 정렬하는 프로그램을 작성하시오."
      ],
      "metadata": {
        "id": "vfyZt28KvcB2"
      }
    },
    {
      "cell_type": "markdown",
      "source": [
        "첫째 줄부터 N개의 줄에 오름차순으로 정렬한 결과를 한 줄에 하나씩 출력한다.\n",
        "\n"
      ],
      "metadata": {
        "id": "fQhYocrZvhN_"
      }
    },
    {
      "cell_type": "code",
      "source": [
        "n = int(input())\n",
        "a = []\n",
        "a = sorted(a, )\n",
        "for i in range(n):\n",
        "  num = int(input())\n",
        "  a.append(num)\n",
        "a\n",
        "\n",
        "\n",
        "  \n",
        "\n",
        "\n"
      ],
      "metadata": {
        "colab": {
          "base_uri": "https://localhost:8080/"
        },
        "id": "r2ybS4PBvmc0",
        "outputId": "3b025fb0-7a3b-4cc8-9c98-b3bf2d9ba570"
      },
      "execution_count": 85,
      "outputs": [
        {
          "name": "stdout",
          "output_type": "stream",
          "text": [
            "3\n",
            "3\n",
            "2\n",
            "1\n"
          ]
        },
        {
          "output_type": "execute_result",
          "data": {
            "text/plain": [
              "[3, 2, 1]"
            ]
          },
          "metadata": {},
          "execution_count": 85
        }
      ]
    },
    {
      "cell_type": "code",
      "source": [
        "# 내림차순\n",
        "n = int(input())\n",
        "m = []\n",
        "for i in range(n):\n",
        "  m.append(int(input()))\n",
        "\n",
        "m.sort()\n",
        "for j in range(n):\n",
        "  print(m[j])"
      ],
      "metadata": {
        "colab": {
          "base_uri": "https://localhost:8080/"
        },
        "id": "-K6X-2oa2snM",
        "outputId": "8ba1fac4-afe4-41c6-c10d-a261dbc7b532"
      },
      "execution_count": 100,
      "outputs": [
        {
          "output_type": "stream",
          "name": "stdout",
          "text": [
            "4\n",
            "3\n",
            "2\n",
            "1\n",
            "4\n",
            "1\n",
            "2\n",
            "3\n",
            "4\n"
          ]
        }
      ]
    },
    {
      "cell_type": "code",
      "source": [
        "# 오름차순\n",
        "import sys\n",
        "n = int(input())\n",
        "m = []\n",
        "for i in range(n):\n",
        "  m.append(int(sys.stdin.readline()))\n",
        "\n",
        "m = sorted(m,reverse=True)\n",
        "for j in range(n):\n",
        "  print(m[j])"
      ],
      "metadata": {
        "colab": {
          "base_uri": "https://localhost:8080/"
        },
        "id": "bKFTltSe4LiS",
        "outputId": "0f3740cf-919e-4757-8a11-6bb8132554d2"
      },
      "execution_count": 91,
      "outputs": [
        {
          "output_type": "stream",
          "name": "stdout",
          "text": [
            "5\n",
            "2\n",
            "3\n",
            "4\n",
            "1\n",
            "5\n",
            "5\n",
            "4\n",
            "3\n",
            "2\n",
            "1\n"
          ]
        }
      ]
    },
    {
      "cell_type": "code",
      "source": [
        "n = int(input())\n",
        "m = []\n",
        "for i in range(n):\n",
        "  m.append(int(input()))\n",
        "\n",
        "sorted(m,reverse=True)\n",
        "for j in range(n):\n",
        "  print(m[j])"
      ],
      "metadata": {
        "colab": {
          "base_uri": "https://localhost:8080/"
        },
        "id": "pBPAyeff_x5t",
        "outputId": "ad2553e2-f877-4077-d5e4-167df208581c"
      },
      "execution_count": 115,
      "outputs": [
        {
          "output_type": "stream",
          "name": "stdout",
          "text": [
            "3\n",
            "3\n",
            "2\n",
            "1\n",
            "3\n",
            "2\n",
            "1\n"
          ]
        }
      ]
    },
    {
      "cell_type": "markdown",
      "source": [
        "첫째 줄에는 산술평균을 출력한다. 소수점 이하 첫째 자리에서 반올림한 값을 출력한다.\n",
        "\n",
        "둘째 줄에는 중앙값을 출력한다.\n",
        "\n",
        "셋째 줄에는 최빈값을 출력한다. 여러 개 있을 때에는 최빈값 중 두 번째로 작은 값을 출력한다.\n",
        "\n",
        "넷째 줄에는 범위를 출력한다.\""
      ],
      "metadata": {
        "id": "nwylCCADEjyt"
      }
    },
    {
      "cell_type": "code",
      "source": [
        "import numpy as np\n",
        "from statistics import *\n",
        "\n",
        "n = int(input())\n",
        "a = []\n",
        "for i in range(n):\n",
        "  a.append(int(input()))\n",
        "  \n",
        "print(np.mean(a))\n",
        "print(median(a))\n",
        "print(statistics.mode(a))"
      ],
      "metadata": {
        "colab": {
          "base_uri": "https://localhost:8080/",
          "height": 307
        },
        "id": "yyATjEeREkqS",
        "outputId": "304800ad-b126-4892-e6af-5051cdc2eb3b"
      },
      "execution_count": 131,
      "outputs": [
        {
          "output_type": "stream",
          "name": "stdout",
          "text": [
            "3\n",
            "3\n",
            "3\n",
            "1\n",
            "2.3333333333333335\n",
            "3\n"
          ]
        },
        {
          "output_type": "error",
          "ename": "NameError",
          "evalue": "ignored",
          "traceback": [
            "\u001b[0;31m---------------------------------------------------------------------------\u001b[0m",
            "\u001b[0;31mNameError\u001b[0m                                 Traceback (most recent call last)",
            "\u001b[0;32m<ipython-input-131-91080398227b>\u001b[0m in \u001b[0;36m<module>\u001b[0;34m()\u001b[0m\n\u001b[1;32m      9\u001b[0m \u001b[0mprint\u001b[0m\u001b[0;34m(\u001b[0m\u001b[0mnp\u001b[0m\u001b[0;34m.\u001b[0m\u001b[0mmean\u001b[0m\u001b[0;34m(\u001b[0m\u001b[0ma\u001b[0m\u001b[0;34m)\u001b[0m\u001b[0;34m)\u001b[0m\u001b[0;34m\u001b[0m\u001b[0;34m\u001b[0m\u001b[0m\n\u001b[1;32m     10\u001b[0m \u001b[0mprint\u001b[0m\u001b[0;34m(\u001b[0m\u001b[0mmedian\u001b[0m\u001b[0;34m(\u001b[0m\u001b[0ma\u001b[0m\u001b[0;34m)\u001b[0m\u001b[0;34m)\u001b[0m\u001b[0;34m\u001b[0m\u001b[0;34m\u001b[0m\u001b[0m\n\u001b[0;32m---> 11\u001b[0;31m \u001b[0mprint\u001b[0m\u001b[0;34m(\u001b[0m\u001b[0mstatistics\u001b[0m\u001b[0;34m.\u001b[0m\u001b[0mmode\u001b[0m\u001b[0;34m(\u001b[0m\u001b[0ma\u001b[0m\u001b[0;34m)\u001b[0m\u001b[0;34m)\u001b[0m\u001b[0;34m\u001b[0m\u001b[0;34m\u001b[0m\u001b[0m\n\u001b[0m",
            "\u001b[0;31mNameError\u001b[0m: name 'statistics' is not defined"
          ]
        }
      ]
    },
    {
      "cell_type": "code",
      "source": [
        "describe()"
      ],
      "metadata": {
        "colab": {
          "base_uri": "https://localhost:8080/",
          "height": 168
        },
        "id": "6MWKt2oVHPtN",
        "outputId": "73cdd5c4-a412-45e5-bd72-543c6de2661b"
      },
      "execution_count": 120,
      "outputs": [
        {
          "output_type": "error",
          "ename": "NameError",
          "evalue": "ignored",
          "traceback": [
            "\u001b[0;31m---------------------------------------------------------------------------\u001b[0m",
            "\u001b[0;31mNameError\u001b[0m                                 Traceback (most recent call last)",
            "\u001b[0;32m<ipython-input-120-06611a19269c>\u001b[0m in \u001b[0;36m<module>\u001b[0;34m()\u001b[0m\n\u001b[0;32m----> 1\u001b[0;31m \u001b[0mdescribe\u001b[0m\u001b[0;34m(\u001b[0m\u001b[0;34m)\u001b[0m\u001b[0;34m\u001b[0m\u001b[0;34m\u001b[0m\u001b[0m\n\u001b[0m",
            "\u001b[0;31mNameError\u001b[0m: name 'describe' is not defined"
          ]
        }
      ]
    }
  ]
}