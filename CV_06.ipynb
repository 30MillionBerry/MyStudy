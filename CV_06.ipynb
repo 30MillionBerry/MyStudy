{
  "cells": [
    {
      "cell_type": "markdown",
      "metadata": {
        "id": "view-in-github",
        "colab_type": "text"
      },
      "source": [
        "<a href=\"https://colab.research.google.com/github/mohyunyang/MyStudy/blob/master/CV_06.ipynb\" target=\"_parent\"><img src=\"https://colab.research.google.com/assets/colab-badge.svg\" alt=\"Open In Colab\"/></a>"
      ]
    },
    {
      "cell_type": "code",
      "execution_count": null,
      "id": "81832dc8",
      "metadata": {
        "id": "81832dc8",
        "outputId": "42d49ec1-6f3a-41f4-d7dc-454c7addc58d"
      },
      "outputs": [
        {
          "ename": "ModuleNotFoundError",
          "evalue": "No module named 'opencv'",
          "output_type": "error",
          "traceback": [
            "\u001b[1;31m---------------------------------------------------------------------------\u001b[0m",
            "\u001b[1;31mModuleNotFoundError\u001b[0m                       Traceback (most recent call last)",
            "\u001b[1;32m~\\AppData\\Local\\Temp/ipykernel_13548/3958931916.py\u001b[0m in \u001b[0;36m<module>\u001b[1;34m\u001b[0m\n\u001b[0;32m      2\u001b[0m \u001b[1;32mimport\u001b[0m \u001b[0msys\u001b[0m\u001b[1;33m\u001b[0m\u001b[1;33m\u001b[0m\u001b[0m\n\u001b[0;32m      3\u001b[0m \u001b[1;32mimport\u001b[0m \u001b[0mnumpy\u001b[0m \u001b[1;32mas\u001b[0m \u001b[0mnp\u001b[0m\u001b[1;33m\u001b[0m\u001b[1;33m\u001b[0m\u001b[0m\n\u001b[1;32m----> 4\u001b[1;33m \u001b[1;32mimport\u001b[0m \u001b[0mopencv\u001b[0m\u001b[1;33m\u001b[0m\u001b[1;33m\u001b[0m\u001b[0m\n\u001b[0m\u001b[0;32m      5\u001b[0m \u001b[1;32mimport\u001b[0m \u001b[0mmatplotlib\u001b[0m\u001b[1;33m.\u001b[0m\u001b[0mpyplot\u001b[0m \u001b[1;32mas\u001b[0m \u001b[0mplt\u001b[0m\u001b[1;33m\u001b[0m\u001b[1;33m\u001b[0m\u001b[0m\n",
            "\u001b[1;31mModuleNotFoundError\u001b[0m: No module named 'opencv'"
          ]
        }
      ],
      "source": [
        "import cv2\n",
        "import sys\n",
        "import numpy as np\n",
        "import matplotlib.pyplot as plt"
      ]
    },
    {
      "cell_type": "code",
      "execution_count": null,
      "id": "1241854a",
      "metadata": {
        "id": "1241854a"
      },
      "outputs": [],
      "source": [
        "cap = cv2.VideoCapture(0)\n",
        "\n",
        "if not cap.isOpened():\n",
        "    print('video open failed')\n",
        "\n",
        "f_flag = False\n",
        "i_flag = False\n",
        "\n",
        "while True:\n",
        "    \n",
        "    ret, frame = cap.read()\n",
        "    \n",
        "    if not ret:\n",
        "        print('Go home')\n",
        "        break\n",
        "        \n",
        "    if i_flag:\n",
        "        frame = cv2.Canny(frame, 50, 150)\n",
        "        \n",
        "    if f_flag :\n",
        "        frame = cv2.flip(frame, 1)\n",
        "    \n",
        "    cv2.imshow('frame', frame)\n",
        "    \n",
        "    key = cv2.waitKey(30)\n",
        "    \n",
        "    if key == 27:\n",
        "        break\n",
        "    \n",
        "    elif key == ord('f'):\n",
        "        f_flag = not f_flag\n",
        "    \n",
        "    elif key == ord('i'):\n",
        "        i_flag = not i_flag\n",
        "        \n",
        "cap.release()\n",
        "cv2.destroyAllWindows()"
      ]
    },
    {
      "cell_type": "code",
      "execution_count": null,
      "id": "af1cf48d",
      "metadata": {
        "id": "af1cf48d"
      },
      "outputs": [],
      "source": [
        "## 마우스 클릭\n",
        "\n",
        "def call_mouse(event, x, y, flags, param):\n",
        "    global oldx, oldy\n",
        "    \n",
        "    if event == cv2.EVENT_LBUTTONDOWN:\n",
        "        oldx, oldy = x,y\n",
        "        \n",
        "    \n",
        "#     elif event == cv2.EVENT_LBUTTONUP:\n",
        "#         print('left button up' ,x, y)\n",
        "    \n",
        "    elif event == cv2.EVENT_MOUSEMOVE:\n",
        "        if flags & cv2.EVENT_FLAG_LBUTTON:\n",
        "            cv2.line(img, (oldx, oldy), (x, y), (0, 0, 255), 4, cv2.LINE_AA)\n",
        "            cv2.imshow('image', img)\n",
        "            oldx, oldy = x, y\n",
        "            \n",
        "\n",
        "img = np.ones((600, 1000, 3), np.uint8) * 255\n",
        "\n",
        "cv2.namedWindow('image')\n",
        "\n",
        "cv2.setMouseCallback('image', call_mouse, img)\n",
        "\n",
        "\n",
        "\n",
        "cv2.imshow('image', img)\n",
        "\n",
        "cv2.waitKey()\n",
        "cv2.destroyAllWindows()"
      ]
    }
  ],
  "metadata": {
    "kernelspec": {
      "display_name": "Python 3 (ipykernel)",
      "language": "python",
      "name": "python3"
    },
    "language_info": {
      "codemirror_mode": {
        "name": "ipython",
        "version": 3
      },
      "file_extension": ".py",
      "mimetype": "text/x-python",
      "name": "python",
      "nbconvert_exporter": "python",
      "pygments_lexer": "ipython3",
      "version": "3.9.7"
    },
    "colab": {
      "name": "CV_06.ipynb",
      "provenance": [],
      "include_colab_link": true
    }
  },
  "nbformat": 4,
  "nbformat_minor": 5
}