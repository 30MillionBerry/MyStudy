{
  "cells": [
    {
      "cell_type": "markdown",
      "metadata": {
        "id": "view-in-github",
        "colab_type": "text"
      },
      "source": [
        "<a href=\"https://colab.research.google.com/github/mohyunyang/MyStudy/blob/master/CV_05.ipynb\" target=\"_parent\"><img src=\"https://colab.research.google.com/assets/colab-badge.svg\" alt=\"Open In Colab\"/></a>"
      ]
    },
    {
      "cell_type": "code",
      "execution_count": null,
      "id": "c738b5f2",
      "metadata": {
        "id": "c738b5f2"
      },
      "outputs": [],
      "source": [
        "import cv2\n",
        "import sys\n",
        "import numpy as np\n",
        "import matplotlib.pyplot as plt"
      ]
    },
    {
      "cell_type": "code",
      "execution_count": null,
      "id": "7236c3a8",
      "metadata": {
        "id": "7236c3a8",
        "outputId": "9ff57e79-2f5e-4684-ec0a-37baf4cf6d5b"
      },
      "outputs": [
        {
          "ename": "NameError",
          "evalue": "name 'cat' is not defined",
          "output_type": "error",
          "traceback": [
            "\u001b[1;31m---------------------------------------------------------------------------\u001b[0m",
            "\u001b[1;31mNameError\u001b[0m                                 Traceback (most recent call last)",
            "\u001b[1;32m~\\AppData\\Local\\Temp/ipykernel_940/294265441.py\u001b[0m in \u001b[0;36m<module>\u001b[1;34m\u001b[0m\n\u001b[0;32m     21\u001b[0m         \u001b[1;32mbreak\u001b[0m\u001b[1;33m\u001b[0m\u001b[1;33m\u001b[0m\u001b[0m\n\u001b[0;32m     22\u001b[0m \u001b[1;33m\u001b[0m\u001b[0m\n\u001b[1;32m---> 23\u001b[1;33m \u001b[0mcat\u001b[0m\u001b[1;33m.\u001b[0m\u001b[0mrelease\u001b[0m\u001b[1;33m(\u001b[0m\u001b[1;33m)\u001b[0m\u001b[1;33m\u001b[0m\u001b[1;33m\u001b[0m\u001b[0m\n\u001b[0m\u001b[0;32m     24\u001b[0m \u001b[0mcv2\u001b[0m\u001b[1;33m.\u001b[0m\u001b[0mdestroyAllWindows\u001b[0m\u001b[1;33m(\u001b[0m\u001b[1;33m)\u001b[0m\u001b[1;33m\u001b[0m\u001b[1;33m\u001b[0m\u001b[0m\n",
            "\u001b[1;31mNameError\u001b[0m: name 'cat' is not defined"
          ]
        }
      ],
      "source": [
        "cap = cv2.VideoCapture(0)\n",
        "\n",
        "if not cap.isOpened():\n",
        "    print('Video capture failed')\n",
        "    sys.exit()\n",
        "    \n",
        "while True:\n",
        "    \n",
        "    ret, frame = cap.read()\n",
        "    \n",
        "    if ret is None:\n",
        "        print('frame read failed')\n",
        "        break\n",
        "    \n",
        "    edge = cv2.Canny(frame, 50, 150)\n",
        "    \n",
        "    cv2.imshow('image', frame)\n",
        "    cv2.imshow('edge', edge)\n",
        "    \n",
        "    if cv2.waitKey(30) == 27 :\n",
        "        break\n",
        "    \n",
        "cat.release()\n",
        "cv2.destroyAllWindows()"
      ]
    },
    {
      "cell_type": "code",
      "execution_count": null,
      "id": "b98d407d",
      "metadata": {
        "id": "b98d407d"
      },
      "outputs": [],
      "source": [
        "cap = cv2.VideoCapture(0)\n",
        "\n",
        "if not cap.isOpened():\n",
        "    print('Video capture failed')\n",
        "    sys.exit()\n",
        "    \n",
        "while True : \n",
        "    \n",
        "    ret, frame = cap.read()\n",
        "    \n",
        "    if not ret:\n",
        "        print('frame read failed')\n",
        "        break\n",
        "        \n",
        "#########################################    \n",
        "    edge = cv2.Canny(frame, 50, 100)\n",
        "#########################################\n",
        "\n",
        "    cv2.imshow('edge', frame)\n",
        "    cv2.imshow('frame',edge)\n",
        "    \n",
        "    \n",
        "    if cv2.waitKey(30) == 27:\n",
        "        break\n",
        "        \n",
        "cap.release()\n",
        "cv2.destroyAllWindows()"
      ]
    },
    {
      "cell_type": "markdown",
      "id": "be8fe3b9",
      "metadata": {
        "id": "be8fe3b9"
      },
      "source": [
        "### 영상 및 엣지  "
      ]
    },
    {
      "cell_type": "code",
      "execution_count": null,
      "id": "3b46d45a",
      "metadata": {
        "id": "3b46d45a"
      },
      "outputs": [],
      "source": [
        "cap = cv2.VideoCapture(0)\n",
        "\n",
        "if not cap.isOpened():\n",
        "    print('Video capture failed')\n",
        "    sys.exit()\n",
        "    \n",
        "\n",
        "w = int(cap.get(cv2.CAP_PROP_FRAME_WIDTH))\n",
        "h = int(cap.get(cv2.CAP_PROP_FRAME_HEIGHT))\n",
        "fps = int(cap.get(cv2.CAP_PROP_FPS)*0.8)\n",
        "fourcc = cv2.VideoWriter_fourcc(*'DIVX') # 압축방식을 선택해달라\n",
        "\n",
        "out = cv2.VideoWriter('output.avi', fourcc, fps = fps, frameSize = (w,h))\n",
        "\n",
        "while True : \n",
        "    \n",
        "    ret, frame = cap.read()\n",
        "    \n",
        "    if not ret:\n",
        "        print('frame read failed')\n",
        "        break\n",
        "        \n",
        "#########################################    \n",
        "    edge = cv2.Canny(frame, 50, 100)\n",
        "#########################################\n",
        "\n",
        "    out.write(frame)\n",
        "    \n",
        "    cv2.imshow('edge', frame)\n",
        "    cv2.imshow('frame',edge)\n",
        "    \n",
        "    \n",
        "    if cv2.waitKey(30) == 27:\n",
        "        break\n",
        "\n",
        "        \n",
        "out.release()        \n",
        "cap.release()\n",
        "cv2.destroyAllWindows()"
      ]
    },
    {
      "cell_type": "code",
      "execution_count": null,
      "id": "024d1ad3",
      "metadata": {
        "id": "024d1ad3",
        "outputId": "492b1f88-48ed-443c-8c19-284593cc4c47"
      },
      "outputs": [
        {
          "name": "stdout",
          "output_type": "stream",
          "text": [
            "D I V X\n"
          ]
        }
      ],
      "source": [
        "print(*'DIVX')"
      ]
    },
    {
      "cell_type": "code",
      "execution_count": null,
      "id": "899b93a8",
      "metadata": {
        "id": "899b93a8"
      },
      "outputs": [],
      "source": [
        "cap = cv2.VideoCapture(0)\n",
        "\n",
        "if not cap.isOpened():\n",
        "    print('Video capture failed')\n",
        "    sys.exit()\n",
        "    \n",
        "\n",
        "w = int(cap.get(cv2.CAP_PROP_FRAME_WIDTH))\n",
        "h = int(cap.get(cv2.CAP_PROP_FRAME_HEIGHT))\n",
        "fps = int(cap.get(cv2.CAP_PROP_FPS)*0.8)\n",
        "fourcc = cv2.VideoWriter_fourcc(*'DIVX') # 압축방식을 선택해달라\n",
        "\n",
        "out = cv2.VideoWriter('output.avi', fourcc, fps = fps, frameSize = (w,h))\n",
        "\n",
        "while True : \n",
        "    \n",
        "    ret, frame = cap.read()\n",
        "    \n",
        "    if not ret:\n",
        "        print('frame read failed')\n",
        "        break\n",
        "        \n",
        "#########################################    \n",
        "    edge = cv2.Canny(frame, 50, 100)\n",
        "    edge_color = cv2.cvtColor(edge, cv2.COLOR_GRAY2BGR)\n",
        "#########################################\n",
        "\n",
        "    out.write(edge_color)\n",
        "    \n",
        "    cv2.imshow('edge', frame)\n",
        "    cv2.imshow('frame',edge)\n",
        "    \n",
        "    \n",
        "    if cv2.waitKey(30) == 27:\n",
        "        break\n",
        "\n",
        "        \n",
        "out.release()        \n",
        "cap.release()\n",
        "cv2.destroyAllWindows()"
      ]
    },
    {
      "cell_type": "code",
      "execution_count": null,
      "id": "1b386366",
      "metadata": {
        "id": "1b386366"
      },
      "outputs": [],
      "source": [
        "## 키보드 처리\n",
        "img = cv2.imread('CV/fig/cat.bmp', 0)\n",
        "img_copy = img.copy()\n",
        "\n",
        "if img is None:\n",
        "    print('Image read failed')\n",
        "    sys.exit()\n",
        "    \n",
        "cv2.imshow('image', img)\n",
        "\n",
        "\n",
        "while True : \n",
        "    key = cv2.waitKey()\n",
        "    if key == 27 or key == ord('q') :\n",
        "        break\n",
        "        \n",
        "    elif key == ord('i'):\n",
        "        img = 255 - img\n",
        "        cv2.imshow('image', img)\n",
        "        \n",
        "    elif key == ord('e'):\n",
        "        edge = cv2.Canny(img, 50, 150)\n",
        "        cv2.imshow('image', edge)\n",
        "        \n",
        "    elif key == ord('r'):\n",
        "        cv2.imshow('image', img_copy)\n",
        "        \n",
        "cv2.destroyAllWindows()"
      ]
    }
  ],
  "metadata": {
    "kernelspec": {
      "display_name": "Python 3 (ipykernel)",
      "language": "python",
      "name": "python3"
    },
    "language_info": {
      "codemirror_mode": {
        "name": "ipython",
        "version": 3
      },
      "file_extension": ".py",
      "mimetype": "text/x-python",
      "name": "python",
      "nbconvert_exporter": "python",
      "pygments_lexer": "ipython3",
      "version": "3.9.7"
    },
    "colab": {
      "name": "CV_05.ipynb",
      "provenance": [],
      "include_colab_link": true
    }
  },
  "nbformat": 4,
  "nbformat_minor": 5
}