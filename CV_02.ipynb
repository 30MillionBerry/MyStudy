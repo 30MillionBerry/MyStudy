{
  "cells": [
    {
      "cell_type": "markdown",
      "metadata": {
        "id": "view-in-github",
        "colab_type": "text"
      },
      "source": [
        "<a href=\"https://colab.research.google.com/github/mohyunyang/MyStudy/blob/master/CV_02.ipynb\" target=\"_parent\"><img src=\"https://colab.research.google.com/assets/colab-badge.svg\" alt=\"Open In Colab\"/></a>"
      ]
    },
    {
      "cell_type": "markdown",
      "id": "73c746fe",
      "metadata": {
        "id": "73c746fe"
      },
      "source": [
        "## 자동으로 부르기"
      ]
    },
    {
      "cell_type": "code",
      "execution_count": null,
      "id": "c6d251e9",
      "metadata": {
        "id": "c6d251e9"
      },
      "outputs": [],
      "source": [
        "import cv2\n",
        "import sys\n",
        "import numpy as np\n",
        "import os"
      ]
    },
    {
      "cell_type": "code",
      "execution_count": null,
      "id": "21066d32",
      "metadata": {
        "scrolled": true,
        "id": "21066d32",
        "outputId": "e2e53b12-b038-4a3a-f0d6-94bcc4f3825e"
      },
      "outputs": [
        {
          "name": "stdout",
          "output_type": "stream",
          "text": [
            "['123.png', 'czc.png', 'sd.png', 'yce (1).JPG', 'yce (2).jpg', 'ycy.png']\n",
            "['CV/fig/images/images/123.png', 'CV/fig/images/images/czc.png', 'CV/fig/images/images/sd.png', 'CV/fig/images/images/yce (1).JPG', 'CV/fig/images/images/yce (2).jpg', 'CV/fig/images/images/ycy.png']\n"
          ]
        }
      ],
      "source": [
        "img_list_os = os.listdir('CV/fig/images/images/')\n",
        "\n",
        "print(img_list_os)\n",
        "\n",
        "img_files = []\n",
        "\n",
        "for i in img_list_os :\n",
        "    img_path = 'CV/fig/images/images/' + i\n",
        "    img_files.append(img_path)\n",
        "    \n",
        "print(img_files)"
      ]
    },
    {
      "cell_type": "code",
      "execution_count": null,
      "id": "142aec2d",
      "metadata": {
        "id": "142aec2d"
      },
      "outputs": [],
      "source": [
        "cv2.namedWindow('scene', cv2.WINDOW_NORMAL)\n",
        "cv2.setWindowProperty('scene',cv2.WND_PROP_FULLSCREEN, cv2.WINDOW_FULLSCREEN )\n",
        "\n",
        "idx = 0\n",
        "while True:\n",
        "    img = cv2.imread(img_files[idx ], cv2.IMREAD_COLOR)\n",
        "    \n",
        "    \n",
        "    cv2.imshow('scene', img)\n",
        "    \n",
        "    if cv2.waitKey(3000) == 27:\n",
        "        break\n",
        "        \n",
        "    idx += 1\n",
        "    \n",
        "    if idx >= len(img_files):\n",
        "        idx = 0\n",
        "    \n",
        "cv2.destroyAllWindows()"
      ]
    },
    {
      "cell_type": "markdown",
      "id": "5bd513b1",
      "metadata": {
        "id": "5bd513b1"
      },
      "source": [
        "## 네모칸"
      ]
    },
    {
      "cell_type": "code",
      "execution_count": null,
      "id": "d0adefeb",
      "metadata": {
        "id": "d0adefeb"
      },
      "outputs": [],
      "source": [
        "import cv2\n",
        "import sys\n",
        "import numpy as np"
      ]
    },
    {
      "cell_type": "code",
      "execution_count": null,
      "id": "94f947af",
      "metadata": {
        "id": "94f947af"
      },
      "outputs": [],
      "source": [
        "img1 = cv2.imread('CV/fig/puppy.bmp', 1)\n",
        "img2 = cv2.imread('CV/fig/puppy.bmp', 1)\n",
        "\n",
        "if img1 is None or img2 is None:\n",
        "    print('Image read failed')\n",
        "    sys.exit()"
      ]
    },
    {
      "cell_type": "code",
      "execution_count": null,
      "id": "82f0e54b",
      "metadata": {
        "id": "82f0e54b",
        "outputId": "21a5d35d-5a40-4202-c3db-7f0f3e6bed61"
      },
      "outputs": [
        {
          "data": {
            "text/plain": [
              "(480, 640, 3)"
            ]
          },
          "execution_count": 17,
          "metadata": {},
          "output_type": "execute_result"
        }
      ],
      "source": [
        "img1.shape"
      ]
    },
    {
      "cell_type": "code",
      "execution_count": null,
      "id": "495c3e4b",
      "metadata": {
        "id": "495c3e4b",
        "outputId": "3b05d735-ca93-4223-9f9e-d0eddf705c35"
      },
      "outputs": [
        {
          "name": "stdout",
          "output_type": "stream",
          "text": [
            "height =  480\n",
            "weight =  640\n"
          ]
        }
      ],
      "source": [
        "h, w = img1.shape[:2]\n",
        "\n",
        "print('height = ', h)\n",
        "print('weight = ', w)"
      ]
    },
    {
      "cell_type": "code",
      "execution_count": null,
      "id": "d6287e27",
      "metadata": {
        "id": "d6287e27"
      },
      "outputs": [],
      "source": [
        "img1 = cv2.imread('CV/fig/puppy.bmp', 0)\n",
        "img2 = cv2.imread('CV/fig/puppy.bmp', 1)\n",
        "\n",
        "if img1 is None or img2 is None:\n",
        "    print('Image read failed')\n",
        "    sys.exit()\n",
        "    \n",
        " \n",
        "h, w = img1.shape[:2]\n",
        "\n",
        "img1[100:200, 200:300] = 255\n",
        "img2[100:200, 200:300] = (221,180,110)\n",
        "\n",
        "\n",
        "cv2.imshow('img1', img1)\n",
        "cv2.imshow('img2', img2)\n",
        "\n",
        "while True:\n",
        "    if cv2.waitKey() == 27:\n",
        "        break\n",
        "        \n",
        "cv2.destroyAllWindows()"
      ]
    },
    {
      "cell_type": "markdown",
      "id": "edfd3683",
      "metadata": {
        "id": "edfd3683"
      },
      "source": [
        "## 도화지"
      ]
    },
    {
      "cell_type": "code",
      "execution_count": null,
      "id": "a5eb4a31",
      "metadata": {
        "id": "a5eb4a31"
      },
      "outputs": [],
      "source": [
        "img1 = np.zeros((400,1500,3),dtype = np.uint8)\n",
        "img2 = np.ones((400,1500,3),dtype = np.uint8)*255\n",
        "img3 = np.full((500,600,3),(255,255,255),dtype = np.uint8)*255\n",
        "img4 = np.random.randint(0, 255, (500,600), dtype = np.uint8)\n",
        "\n",
        "cv2.imshow('img1', img1)\n",
        "cv2.imshow('img2', img2)\n",
        "cv2.imshow('img3', img3)\n",
        "cv2.imshow('img4', img4)\n",
        "\n",
        "cv2.waitKey()\n",
        "cv2.destroyAllWindows()"
      ]
    },
    {
      "cell_type": "markdown",
      "id": "a43e0dcc",
      "metadata": {
        "id": "a43e0dcc"
      },
      "source": [
        "## 영상복사"
      ]
    },
    {
      "cell_type": "code",
      "execution_count": null,
      "id": "5793977e",
      "metadata": {
        "id": "5793977e"
      },
      "outputs": [],
      "source": [
        "img1 = cv2.imread('CV/fig/puppy.bmp')\n",
        "\n",
        "img2 = img1.copy() # 원본데이터 저장\n",
        "\n",
        "img2[150:250, 300:400] = (0, 0, 255)\n",
        "\n",
        "\n",
        "cv2.imshow('image 1', img1)\n",
        "cv2.imshow('image 2', img2)\n",
        "\n",
        "cv2.waitKey()\n",
        "cv2.destroyAllWindows()"
      ]
    }
  ],
  "metadata": {
    "kernelspec": {
      "display_name": "Python 3 (ipykernel)",
      "language": "python",
      "name": "python3"
    },
    "language_info": {
      "codemirror_mode": {
        "name": "ipython",
        "version": 3
      },
      "file_extension": ".py",
      "mimetype": "text/x-python",
      "name": "python",
      "nbconvert_exporter": "python",
      "pygments_lexer": "ipython3",
      "version": "3.9.7"
    },
    "colab": {
      "name": "CV_02.ipynb",
      "provenance": [],
      "collapsed_sections": [],
      "include_colab_link": true
    }
  },
  "nbformat": 4,
  "nbformat_minor": 5
}