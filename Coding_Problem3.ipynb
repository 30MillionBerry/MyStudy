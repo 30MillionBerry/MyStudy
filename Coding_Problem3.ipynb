{
  "nbformat": 4,
  "nbformat_minor": 0,
  "metadata": {
    "colab": {
      "name": "Coding_Problem3.ipynb",
      "provenance": [],
      "authorship_tag": "ABX9TyPrm6/lQejUMcciYQSP+3Fd",
      "include_colab_link": true
    },
    "kernelspec": {
      "name": "python3",
      "display_name": "Python 3"
    },
    "language_info": {
      "name": "python"
    }
  },
  "cells": [
    {
      "cell_type": "markdown",
      "metadata": {
        "id": "view-in-github",
        "colab_type": "text"
      },
      "source": [
        "<a href=\"https://colab.research.google.com/github/mohyunyang/MyStudy/blob/master/Coding_Problem3.ipynb\" target=\"_parent\"><img src=\"https://colab.research.google.com/assets/colab-badge.svg\" alt=\"Open In Colab\"/></a>"
      ]
    },
    {
      "cell_type": "markdown",
      "source": [
        "10개의 수를 입력 받아, 평균값을 출력하는 프로그램을 작성하라.\n",
        "\n",
        "(소수점 첫째 자리에서 반올림한 정수를 출력한다.)\n",
        "\n",
        "\n",
        "[제약 사항]\n",
        "\n",
        "각 수는 0 이상 10000 이하의 정수이다.\n",
        "\n",
        "\n",
        "[입력]\n",
        "\n",
        "가장 첫 줄에는 테스트 케이스의 개수 T가 주어지고, 그 아래로 각 테스트 케이스가 주어진다.\n",
        "\n",
        "각 테스트 케이스의 첫 번째 줄에는 10개의 수가 주어진다.\n",
        "\n",
        "\n",
        "[출력]\n",
        "\n",
        "출력의 각 줄은 '#t'로 시작하고, 공백을 한 칸 둔 다음 정답을 출력한다.\n",
        "\n",
        "(t는 테스트 케이스의 번호를 의미하며 1부터 시작한다.)"
      ],
      "metadata": {
        "id": "6FEvcGbrrDsg"
      }
    },
    {
      "cell_type": "code",
      "source": [
        "# 테스트 케이스 개수\n",
        "t = int(input())\n",
        "list = []\n",
        "\n",
        "# 테스트케이스 0번째\n",
        "for i in range(t):\n",
        "  # 10개의 수를 입력 받아\n",
        "  num = map(int, input().split())\n",
        "  # 10개숫자를 다 더하라\n",
        "  list.append(sum(num)/10)\n",
        "  print(\"#\"+str(i+1), list[i])"
      ],
      "metadata": {
        "colab": {
          "base_uri": "https://localhost:8080/"
        },
        "id": "H5FppdjLrFPB",
        "outputId": "dcd9f761-5ee7-4731-e9bc-fd5f0208e3ef"
      },
      "execution_count": 14,
      "outputs": [
        {
          "output_type": "stream",
          "name": "stdout",
          "text": [
            "3\n",
            "3 17 1 39 8 41 2 32 99 2\n",
            "#1 24.4\n",
            "22 8 5 123 7 2 63 7 3 46\n",
            "#2 28.6\n",
            "6 63 2 3 58 76 21 33 8 1 \n",
            "#3 27.1\n"
          ]
        }
      ]
    },
    {
      "cell_type": "code",
      "source": [
        "3\n",
        "3 17 1 39 8 41 2 32 99 2\n",
        "22 8 5 123 7 2 63 7 3 46\n",
        "6 63 2 3 58 76 21 33 8 1  "
      ],
      "metadata": {
        "id": "nX47j9X8vRxn"
      },
      "execution_count": null,
      "outputs": []
    },
    {
      "cell_type": "code",
      "source": [
        "b = [1,2]\n",
        "sum(a)/3"
      ],
      "metadata": {
        "colab": {
          "base_uri": "https://localhost:8080/"
        },
        "id": "OFLYe1gHsgtG",
        "outputId": "45efeeea-6bae-45f3-d95f-bd9d3207c056"
      },
      "execution_count": 4,
      "outputs": [
        {
          "output_type": "execute_result",
          "data": {
            "text/plain": [
              "1.0"
            ]
          },
          "metadata": {},
          "execution_count": 4
        }
      ]
    }
  ]
}