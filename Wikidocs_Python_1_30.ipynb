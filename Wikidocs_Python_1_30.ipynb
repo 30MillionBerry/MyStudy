{
  "nbformat": 4,
  "nbformat_minor": 0,
  "metadata": {
    "colab": {
      "name": "Wikidocs_Python_1-30.ipynb",
      "provenance": [],
      "collapsed_sections": [],
      "authorship_tag": "ABX9TyM+1XIQ6RvjcV3sisluj5CA",
      "include_colab_link": true
    },
    "kernelspec": {
      "name": "python3",
      "display_name": "Python 3"
    },
    "language_info": {
      "name": "python"
    }
  },
  "cells": [
    {
      "cell_type": "markdown",
      "metadata": {
        "id": "view-in-github",
        "colab_type": "text"
      },
      "source": [
        "<a href=\"https://colab.research.google.com/github/mohyunyang/MyStudy/blob/master/Wikidocs_Python_1_30.ipynb\" target=\"_parent\"><img src=\"https://colab.research.google.com/assets/colab-badge.svg\" alt=\"Open In Colab\"/></a>"
      ]
    },
    {
      "cell_type": "markdown",
      "source": [
        "#001\n",
        "화면에 Hello World 문자열을 출력하세요."
      ],
      "metadata": {
        "id": "r9WES-sIYg5W"
      }
    },
    {
      "cell_type": "code",
      "source": [
        "print(\"Hello World\")"
      ],
      "metadata": {
        "colab": {
          "base_uri": "https://localhost:8080/"
        },
        "id": "YUioUPDAY_tR",
        "outputId": "8d27fbab-8c13-49b2-f61b-c202f62b8ff6"
      },
      "execution_count": 1,
      "outputs": [
        {
          "output_type": "stream",
          "name": "stdout",
          "text": [
            "Hello World\n"
          ]
        }
      ]
    },
    {
      "cell_type": "markdown",
      "source": [
        "#002\n",
        "화면에 Mary's cosmetics을 출력하세요. (중간에 '가 있음에 주의하세요)"
      ],
      "metadata": {
        "id": "p-LwoG8_ZEKV"
      }
    },
    {
      "cell_type": "code",
      "source": [
        "print(\"Mary's cosmetics\")"
      ],
      "metadata": {
        "colab": {
          "base_uri": "https://localhost:8080/"
        },
        "id": "9Xazv_cYZLUq",
        "outputId": "e528163b-b7c6-46f2-b348-5c12f38cd539"
      },
      "execution_count": 2,
      "outputs": [
        {
          "output_type": "stream",
          "name": "stdout",
          "text": [
            "Mary's cosmetics\n"
          ]
        }
      ]
    },
    {
      "cell_type": "markdown",
      "source": [
        "# 003\n",
        "화면에 아래 문장을 출력하세요. (중간에 \"가 있음에 주의하세요.)\n",
        "\n",
        "\n",
        "신씨가 소리질렀다. \"도둑이야\"."
      ],
      "metadata": {
        "id": "SMDxf9QSZPqk"
      }
    },
    {
      "cell_type": "code",
      "source": [
        "print('신씨가 소리질렀다. \"도둑이야\". ')"
      ],
      "metadata": {
        "colab": {
          "base_uri": "https://localhost:8080/"
        },
        "id": "ugY8yvhvZXCP",
        "outputId": "c42e29d5-3a26-4237-d18f-1f9155450682"
      },
      "execution_count": 4,
      "outputs": [
        {
          "output_type": "stream",
          "name": "stdout",
          "text": [
            "신씨가 소리질렀다. \"도둑이야\". \n"
          ]
        }
      ]
    },
    {
      "cell_type": "markdown",
      "source": [
        "#004\n",
        "화면에 \"C:\\Windows\"를 출력하세요."
      ],
      "metadata": {
        "id": "HPadkPLsZmXa"
      }
    },
    {
      "cell_type": "code",
      "source": [
        "print(\"C:\\Windows\")"
      ],
      "metadata": {
        "colab": {
          "base_uri": "https://localhost:8080/"
        },
        "id": "RG_oJEiYZq1o",
        "outputId": "08752552-a677-4043-84dd-f12f3b1bcc90"
      },
      "execution_count": 5,
      "outputs": [
        {
          "output_type": "stream",
          "name": "stdout",
          "text": [
            "C:\\Windows\n"
          ]
        }
      ]
    },
    {
      "cell_type": "markdown",
      "source": [
        "#005 print 탭과 줄바꿈\n",
        "\n",
        "print(\"안녕하세요.\\n만나서\\t\\t반갑습니다.\")"
      ],
      "metadata": {
        "id": "vsE4pXP1ZvuO"
      }
    },
    {
      "cell_type": "code",
      "source": [
        "print(\"안녕하세요. \\n만나서\\t\\t반갑습니다.\") # \\n은 줄바꿈 \\t는 띄어쓰기 5번"
      ],
      "metadata": {
        "colab": {
          "base_uri": "https://localhost:8080/"
        },
        "id": "0dxSGQOTZ1oy",
        "outputId": "b234ad0a-f880-41b9-dba1-7baa0ab0e821"
      },
      "execution_count": 6,
      "outputs": [
        {
          "output_type": "stream",
          "name": "stdout",
          "text": [
            "안녕하세요. \n",
            "만나서\t\t반갑습니다.\n"
          ]
        }
      ]
    },
    {
      "cell_type": "markdown",
      "source": [
        "#006 print 여러 데이터 출력\n",
        "\n",
        "print (\"오늘은\", \"일요일\")"
      ],
      "metadata": {
        "id": "n75ciMgsZ9lR"
      }
    },
    {
      "cell_type": "code",
      "source": [
        "print(\"오늘은\", \"일요일\")"
      ],
      "metadata": {
        "colab": {
          "base_uri": "https://localhost:8080/"
        },
        "id": "S6OVi29LaONY",
        "outputId": "22b56bf1-9d0f-4e11-dcf3-e0aff03e3b3e"
      },
      "execution_count": 7,
      "outputs": [
        {
          "output_type": "stream",
          "name": "stdout",
          "text": [
            "오늘은 일요일\n"
          ]
        }
      ]
    },
    {
      "cell_type": "markdown",
      "source": [
        "#007 sep='  ' \n",
        "\n",
        "naver;kakao;sk;samsung"
      ],
      "metadata": {
        "id": "K-gHsoUzaRhP"
      }
    },
    {
      "cell_type": "code",
      "source": [
        "print('naver/kakao/sk/samsung') \n",
        "print('naver', 'kakao', 'sk', 'samsung', sep='/')"
      ],
      "metadata": {
        "colab": {
          "base_uri": "https://localhost:8080/"
        },
        "id": "hCe3JP-haXN2",
        "outputId": "8c9c8846-a211-455f-c7d0-dd2028a63060"
      },
      "execution_count": 11,
      "outputs": [
        {
          "output_type": "stream",
          "name": "stdout",
          "text": [
            "naver/kakao/sk/samsung\n",
            "naver/kakao/sk/samsung\n"
          ]
        }
      ]
    },
    {
      "cell_type": "markdown",
      "source": [
        "#008\n",
        "naver;kakao;sk;samsung"
      ],
      "metadata": {
        "id": "NBm7Ul9aavzJ"
      }
    },
    {
      "cell_type": "code",
      "source": [
        "print('naver','kakao','sk','samsung', sep=';')"
      ],
      "metadata": {
        "colab": {
          "base_uri": "https://localhost:8080/"
        },
        "id": "gla_xq6xa1_Q",
        "outputId": "7ea99a44-53ab-4447-831d-92660a760c47"
      },
      "execution_count": 12,
      "outputs": [
        {
          "output_type": "stream",
          "name": "stdout",
          "text": [
            "naver;kakao;sk;samsung\n"
          ]
        }
      ]
    },
    {
      "cell_type": "markdown",
      "source": [
        "#009 print 줄바꿈\n",
        "\n",
        "다음 코드를 수정하여 줄바꿈이 없이 출력하세요. (힌트: end='') print 함수는 두 번 사용합니다. 세미콜론 (;)은 한줄에 여러 개의 명령을 작성하기 위해 사용합니다."
      ],
      "metadata": {
        "id": "4Xo-9D2Ra8V0"
      }
    },
    {
      "cell_type": "markdown",
      "source": [
        "print(\"first\");print(\"second\")"
      ],
      "metadata": {
        "id": "14Ro9VS3a-hM"
      }
    },
    {
      "cell_type": "code",
      "source": [
        "print('first');print('second')"
      ],
      "metadata": {
        "colab": {
          "base_uri": "https://localhost:8080/"
        },
        "id": "r72V3NlVbJQW",
        "outputId": "52e7b9ab-8bdc-4086-b8a2-0486c0088622"
      },
      "execution_count": 21,
      "outputs": [
        {
          "output_type": "stream",
          "name": "stdout",
          "text": [
            "first\n",
            "second\n"
          ]
        }
      ]
    },
    {
      "cell_type": "code",
      "source": [
        "print('first',end='');print('second')"
      ],
      "metadata": {
        "colab": {
          "base_uri": "https://localhost:8080/"
        },
        "id": "GLRnTYRFbhI7",
        "outputId": "8229b235-19ca-409e-8977-3f71a64879ea"
      },
      "execution_count": 20,
      "outputs": [
        {
          "output_type": "stream",
          "name": "stdout",
          "text": [
            "firstsecond\n"
          ]
        }
      ]
    },
    {
      "cell_type": "code",
      "source": [
        "#응용\n",
        "print(\"나는\",end=' ');print('할 수 있다')"
      ],
      "metadata": {
        "colab": {
          "base_uri": "https://localhost:8080/"
        },
        "id": "KCw3gmovb7k1",
        "outputId": "950e53e6-da00-4dfe-d331-ae9380ffde79"
      },
      "execution_count": 24,
      "outputs": [
        {
          "output_type": "stream",
          "name": "stdout",
          "text": [
            "나는 할 수 있다\n"
          ]
        }
      ]
    },
    {
      "cell_type": "markdown",
      "source": [
        "# 010 연산 결과 출력"
      ],
      "metadata": {
        "id": "P9noh4nTcGK4"
      }
    },
    {
      "cell_type": "code",
      "source": [
        "print(5/3)"
      ],
      "metadata": {
        "colab": {
          "base_uri": "https://localhost:8080/"
        },
        "id": "OsthYWOlcLTp",
        "outputId": "d39209d2-f483-4c91-f4af-cd431dc67912"
      },
      "execution_count": 25,
      "outputs": [
        {
          "output_type": "stream",
          "name": "stdout",
          "text": [
            "1.6666666666666667\n"
          ]
        }
      ]
    },
    {
      "cell_type": "markdown",
      "source": [
        "--------------"
      ],
      "metadata": {
        "id": "xYHghftHcgpE"
      }
    },
    {
      "cell_type": "markdown",
      "source": [
        "# 011 변수 사용하기\n",
        "\n",
        "삼성전자라는 변수로 50,000원을 바인딩해보세요. 삼성전자 주식 10주를 보유하고 있을 때 총 평가금액을 출력하세요."
      ],
      "metadata": {
        "id": "o7Nx1Kn0cheA"
      }
    },
    {
      "cell_type": "code",
      "source": [
        "samsung_jusic = 50000\n",
        "last = samsung_jusic*10\n",
        "print(last)"
      ],
      "metadata": {
        "colab": {
          "base_uri": "https://localhost:8080/"
        },
        "id": "78BRHc1NcyS-",
        "outputId": "0447c000-301d-4be8-bc72-12ba275e4467"
      },
      "execution_count": 31,
      "outputs": [
        {
          "output_type": "stream",
          "name": "stdout",
          "text": [
            "500000\n"
          ]
        }
      ]
    },
    {
      "cell_type": "markdown",
      "source": [
        "#012 변수 사용하기\n",
        "다음 표는 삼성전자의 일부 투자정보입니다. 변수를 사용해서 시가총액, 현재가, PER 등을 바인딩해보세요."
      ],
      "metadata": {
        "id": "N-dpSl0Kdby9"
      }
    },
    {
      "cell_type": "markdown",
      "source": [
        "![image.png](data:image/png;base64,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)"
      ],
      "metadata": {
        "id": "7mB1q4Tndf-D"
      }
    },
    {
      "cell_type": "code",
      "source": [
        "시가총액 = 29800000000000\n",
        "현재가 = 50000\n",
        "per = 15.79\n",
        "print(시가총액, type(시가총액))\n",
        "print(현재가, type(현재가))\n",
        "print(per, type(per))"
      ],
      "metadata": {
        "colab": {
          "base_uri": "https://localhost:8080/"
        },
        "id": "Dc_Lg0GidjHX",
        "outputId": "ca763f47-49e2-42f5-cd30-19b853f1e178"
      },
      "execution_count": 40,
      "outputs": [
        {
          "output_type": "stream",
          "name": "stdout",
          "text": [
            "29800000000000 <class 'int'>\n",
            "50000 <class 'int'>\n",
            "15.79 <class 'float'>\n"
          ]
        }
      ]
    },
    {
      "cell_type": "markdown",
      "source": [
        "# 013 문자열 출력"
      ],
      "metadata": {
        "id": "cKOS1ad9eji-"
      }
    },
    {
      "cell_type": "code",
      "source": [
        "s = \"hello\"\n",
        "t = \"python\"\n",
        "#변수 s와 t에는 각각 문자열이 바인딩 되어있습니다."
      ],
      "metadata": {
        "id": "8Cf2N0rwek1K"
      },
      "execution_count": 42,
      "outputs": []
    },
    {
      "cell_type": "markdown",
      "source": [
        "hello! python\n",
        "\n",
        "두 변수를 이용하여 아래와 같이 출력해보세요."
      ],
      "metadata": {
        "id": "8Jr2a3Qfep2t"
      }
    },
    {
      "cell_type": "code",
      "source": [
        "print(s+\"!\", t)"
      ],
      "metadata": {
        "colab": {
          "base_uri": "https://localhost:8080/"
        },
        "id": "n48OjGvNexnD",
        "outputId": "6cb77f9d-844a-4717-dbec-40cd76722333"
      },
      "execution_count": 43,
      "outputs": [
        {
          "output_type": "stream",
          "name": "stdout",
          "text": [
            "hello! python\n"
          ]
        }
      ]
    },
    {
      "cell_type": "markdown",
      "source": [
        "#014 파이썬을 이용한 값 계산"
      ],
      "metadata": {
        "id": "IVCjXXhre6Q8"
      }
    },
    {
      "cell_type": "markdown",
      "source": [
        "2 + 2 * 3 "
      ],
      "metadata": {
        "id": "NskdUJlEe828"
      }
    },
    {
      "cell_type": "code",
      "source": [
        "print(2+2*3)"
      ],
      "metadata": {
        "colab": {
          "base_uri": "https://localhost:8080/"
        },
        "id": "dz1igo86e_SH",
        "outputId": "48435ed0-8ae7-4d02-f73b-36cd14f4cc10"
      },
      "execution_count": 44,
      "outputs": [
        {
          "output_type": "stream",
          "name": "stdout",
          "text": [
            "8\n"
          ]
        }
      ]
    },
    {
      "cell_type": "markdown",
      "source": [
        "#015 type 함수"
      ],
      "metadata": {
        "id": "XGXJIz0xfFhL"
      }
    },
    {
      "cell_type": "markdown",
      "source": [
        "type() 함수는 데이터 타입을 판별합니다. 변수 a에는 128 숫자가 바인딩돼 있어 type 함수가 int (정수)형임을 알려줍니다."
      ],
      "metadata": {
        "id": "yZakoRq0fGrl"
      }
    },
    {
      "cell_type": "markdown",
      "source": [
        "a = \"132\""
      ],
      "metadata": {
        "id": "FIM6IKXkfIDs"
      }
    },
    {
      "cell_type": "code",
      "source": [
        "a = \"132\"\n",
        "print(type(a))"
      ],
      "metadata": {
        "colab": {
          "base_uri": "https://localhost:8080/"
        },
        "id": "coYXQMI_fLdy",
        "outputId": "a3bac425-66ed-4188-c712-e88f6ee1cf25"
      },
      "execution_count": 46,
      "outputs": [
        {
          "output_type": "stream",
          "name": "stdout",
          "text": [
            "<class 'str'>\n"
          ]
        }
      ]
    },
    {
      "cell_type": "markdown",
      "source": [
        "# 016 문자열을 정수로 변환"
      ],
      "metadata": {
        "id": "bukxEX9WfU2k"
      }
    },
    {
      "cell_type": "markdown",
      "source": [
        "문자열 '720'를 정수형으로 변환해보세요."
      ],
      "metadata": {
        "id": "fiBTJVxYfVb7"
      }
    },
    {
      "cell_type": "code",
      "source": [
        "print(int('720'))\n",
        "num_str = \"720\"\n",
        "print(int(num_str))"
      ],
      "metadata": {
        "colab": {
          "base_uri": "https://localhost:8080/"
        },
        "id": "ImR7TEPDfYMp",
        "outputId": "127727f0-32e4-4b4d-fa50-a057e37005ee"
      },
      "execution_count": 49,
      "outputs": [
        {
          "output_type": "stream",
          "name": "stdout",
          "text": [
            "720\n",
            "720\n"
          ]
        }
      ]
    },
    {
      "cell_type": "markdown",
      "source": [
        "# 017 정수를 문자열 100으로 변환"
      ],
      "metadata": {
        "id": "vr-KqqstgTDu"
      }
    },
    {
      "cell_type": "markdown",
      "source": [
        "정수 100을 문자열 '100'으로 변환해보세요.\n"
      ],
      "metadata": {
        "id": "59KIi4QGgUVJ"
      }
    },
    {
      "cell_type": "code",
      "source": [
        "num = 100\n",
        "result = str(num)\n",
        "print(result, type(result))"
      ],
      "metadata": {
        "colab": {
          "base_uri": "https://localhost:8080/"
        },
        "id": "W79ClWEQgXPw",
        "outputId": "5ba8d5e3-b033-4ef5-bd96-d011570ec9e5"
      },
      "execution_count": 53,
      "outputs": [
        {
          "output_type": "stream",
          "name": "stdout",
          "text": [
            "100 <class 'str'>\n"
          ]
        }
      ]
    },
    {
      "cell_type": "markdown",
      "source": [
        "# 018 문자열을 실수로 변환"
      ],
      "metadata": {
        "id": "dBPIDbJ3gitv"
      }
    },
    {
      "cell_type": "markdown",
      "source": [
        "문자열 \"15.79\"를 실수(float) 타입으로 변환해보세요.\n",
        "\n"
      ],
      "metadata": {
        "id": "iZtkfV6CgkT6"
      }
    },
    {
      "cell_type": "code",
      "source": [
        "num = \"15.79\"\n",
        "result = float(num)\n",
        "print(result, type(result))"
      ],
      "metadata": {
        "colab": {
          "base_uri": "https://localhost:8080/"
        },
        "id": "YVtLFxjYgmDi",
        "outputId": "95b11b11-19c7-4526-c984-775e2b2c1f15"
      },
      "execution_count": 56,
      "outputs": [
        {
          "output_type": "stream",
          "name": "stdout",
          "text": [
            "15.79 <class 'float'>\n"
          ]
        }
      ]
    },
    {
      "cell_type": "markdown",
      "source": [
        "# 019 문자열을 정수로 변환"
      ],
      "metadata": {
        "id": "Qe1QNu51hzjB"
      }
    },
    {
      "cell_type": "markdown",
      "source": [
        "year라는 변수가 문자열 타입의 연도를 바인딩하고 있습니다. 이를 정수로 변환한 후 최근 3년의 연도를 화면에 출력해보세요."
      ],
      "metadata": {
        "id": "mKDuioDPh0Q4"
      }
    },
    {
      "cell_type": "markdown",
      "source": [
        "year = \"2020\""
      ],
      "metadata": {
        "id": "436w_LuZh2ZD"
      }
    },
    {
      "cell_type": "code",
      "source": [
        "year = \"2020\"\n",
        "year = int(year)\n",
        "print(year+1, year+2, year+3)"
      ],
      "metadata": {
        "colab": {
          "base_uri": "https://localhost:8080/"
        },
        "id": "0mkfrzKsh303",
        "outputId": "ae0adca1-9738-4145-9f60-a6b9c696d872"
      },
      "execution_count": 58,
      "outputs": [
        {
          "output_type": "stream",
          "name": "stdout",
          "text": [
            "2021 2022 2023\n"
          ]
        }
      ]
    },
    {
      "cell_type": "markdown",
      "source": [
        "# 020 파이썬 계산"
      ],
      "metadata": {
        "id": "ssjwcXbBiRka"
      }
    },
    {
      "cell_type": "markdown",
      "source": [
        "에이컨이 월 48,584원에 무이자 36개월의 조건으로 홈쇼핑에서 판매되고 있습니다. 총 금액은 계산한 후 이를 화면에 출력해보세요. (변수사용하기)"
      ],
      "metadata": {
        "id": "GCMgZARaiTVL"
      }
    },
    {
      "cell_type": "code",
      "source": [
        "달요금 = 48584\n",
        "총요금 = 달요금 * 36\n",
        "print(총요금)"
      ],
      "metadata": {
        "colab": {
          "base_uri": "https://localhost:8080/"
        },
        "id": "iqKzjDoRiUlH",
        "outputId": "c35c71ea-761e-4b9c-ffb1-844f9f167c9a"
      },
      "execution_count": 63,
      "outputs": [
        {
          "output_type": "stream",
          "name": "stdout",
          "text": [
            "1749024\n"
          ]
        }
      ]
    },
    {
      "cell_type": "markdown",
      "source": [
        "------------"
      ],
      "metadata": {
        "id": "Q1KoByZwkf4K"
      }
    },
    {
      "cell_type": "markdown",
      "source": [
        "# 021 문자열 인덱싱"
      ],
      "metadata": {
        "id": "qD5YMDsfkgkh"
      }
    },
    {
      "cell_type": "markdown",
      "source": [
        "letters가 바인딩하는 문자열에서 첫번째와 세번째 문자를 출력하세요."
      ],
      "metadata": {
        "id": "6RxBZYj_khr4"
      }
    },
    {
      "cell_type": "code",
      "source": [
        "letters = 'python'\n",
        "print(letters[0], letters[2])"
      ],
      "metadata": {
        "colab": {
          "base_uri": "https://localhost:8080/"
        },
        "id": "oTszGvJ3kjYD",
        "outputId": "aa4120d0-9149-4699-81eb-263c4e18ec8e"
      },
      "execution_count": 66,
      "outputs": [
        {
          "output_type": "stream",
          "name": "stdout",
          "text": [
            "p t\n"
          ]
        }
      ]
    },
    {
      "cell_type": "markdown",
      "source": [
        "#022 문자열 슬라이싱\n",
        "자동차 번호가 다음과 같을 때 뒤에 4자리만 출력하세요."
      ],
      "metadata": {
        "id": "-1koTaw_krf4"
      }
    },
    {
      "cell_type": "code",
      "source": [
        "license_plate = \"24가 2210\"\n",
        "print(license_plate[3:])"
      ],
      "metadata": {
        "colab": {
          "base_uri": "https://localhost:8080/"
        },
        "id": "vvO0cnqVm0Ep",
        "outputId": "e47a5260-f697-4cfa-9de5-e8c5f85fbcd4"
      },
      "execution_count": 69,
      "outputs": [
        {
          "output_type": "stream",
          "name": "stdout",
          "text": [
            " 2210\n",
            "가 2210\n"
          ]
        }
      ]
    },
    {
      "cell_type": "markdown",
      "source": [
        "#023 문자열 인덱싱\n",
        "아래의 문자열에서 '홀' 만 출력하세요."
      ],
      "metadata": {
        "id": "pbYX6oIknFlQ"
      }
    },
    {
      "cell_type": "code",
      "source": [
        "string = \"홀짝홀짝홀짝\"\n",
        "print(string[::2]) # 처음부터 끝까지 두칸 간격으로\n",
        "print(string[::3])\n",
        "print(string[::4])\n",
        "print(string[::])"
      ],
      "metadata": {
        "colab": {
          "base_uri": "https://localhost:8080/"
        },
        "id": "uRfIYbBhnGoX",
        "outputId": "5a325485-281f-4595-f174-17d705ab73cb"
      },
      "execution_count": 82,
      "outputs": [
        {
          "output_type": "stream",
          "name": "stdout",
          "text": [
            "홀홀홀\n",
            "홀짝\n",
            "홀홀\n",
            "홀짝홀짝홀짝\n"
          ]
        }
      ]
    },
    {
      "cell_type": "markdown",
      "source": [
        "#024 문자열 슬라이싱"
      ],
      "metadata": {
        "id": "pcO0Q_goqHv9"
      }
    },
    {
      "cell_type": "code",
      "source": [
        "string = \"PYTHON\"\n",
        "print(string[::-1]) # 0부터 : 끝까지 : 역순으로"
      ],
      "metadata": {
        "colab": {
          "base_uri": "https://localhost:8080/"
        },
        "id": "TTfcAly1qIfB",
        "outputId": "cf16544d-6895-4734-8eec-c06e95a1111a"
      },
      "execution_count": 87,
      "outputs": [
        {
          "output_type": "stream",
          "name": "stdout",
          "text": [
            "NOHTYP\n"
          ]
        }
      ]
    },
    {
      "cell_type": "markdown",
      "source": [
        "# 025 문자열 치환\n"
      ],
      "metadata": {
        "id": "tFS-V4NOqeOU"
      }
    },
    {
      "cell_type": "code",
      "source": [
        "phone_number = \"010-1111-2222\"\n",
        "phone_number_1 = phone_number.replace('-',' ') # 변수.replace('x','y') x를 y로\n",
        "print(phone_number_1)"
      ],
      "metadata": {
        "colab": {
          "base_uri": "https://localhost:8080/"
        },
        "id": "BI6iFH7kqgn4",
        "outputId": "6d766749-c283-48af-dba5-8da50dbf9b5c"
      },
      "execution_count": 92,
      "outputs": [
        {
          "output_type": "stream",
          "name": "stdout",
          "text": [
            "010 1111 2222\n"
          ]
        }
      ]
    },
    {
      "cell_type": "markdown",
      "source": [
        "# 026 문자열 다루기\n",
        "01011112222\n"
      ],
      "metadata": {
        "id": "ueC4V8LBrFJ7"
      }
    },
    {
      "cell_type": "code",
      "source": [
        "phone_number = \"010-1111-2222\"\n",
        "phone_number_2 = phone_number.replace('-','')\n",
        "print(phone_number_2)"
      ],
      "metadata": {
        "colab": {
          "base_uri": "https://localhost:8080/"
        },
        "id": "W7DbmpSOrHDs",
        "outputId": "fdc60c2a-e918-44f1-a037-b9ce780b205e"
      },
      "execution_count": 94,
      "outputs": [
        {
          "output_type": "stream",
          "name": "stdout",
          "text": [
            "01011112222\n"
          ]
        }
      ]
    },
    {
      "cell_type": "markdown",
      "source": [
        "# 027 문자열 다루기\n",
        "\n",
        "url 에 저장된 웹 페이지 주소에서 도메인을 출력하세요."
      ],
      "metadata": {
        "id": "1wvKQBn9rarh"
      }
    },
    {
      "cell_type": "code",
      "source": [
        "url = \"http://sharebook.kr\"\n",
        "split_url = url.split('.')\n",
        "print(split_url)\n",
        "print(split_url[-1])"
      ],
      "metadata": {
        "colab": {
          "base_uri": "https://localhost:8080/"
        },
        "id": "M8PnRJYlrdie",
        "outputId": "3e99775b-b0be-466d-e885-278995e43470"
      },
      "execution_count": 98,
      "outputs": [
        {
          "output_type": "stream",
          "name": "stdout",
          "text": [
            "['http://sharebook', 'kr']\n",
            "kr\n"
          ]
        }
      ]
    },
    {
      "cell_type": "markdown",
      "source": [
        "# 028 문자열은 immutable"
      ],
      "metadata": {
        "id": "guAUHOhhsESy"
      }
    },
    {
      "cell_type": "code",
      "source": [
        "lang = 'python'\n",
        "lang[0] = 'P'\n",
        "print(lang)\n",
        "# 문자열은 수정할 수 없습니다. 실행 결과를 확인해보면 문자열이 할당(assignment) 메서드를 지원하지 않음을 알 수 있습니다"
      ],
      "metadata": {
        "colab": {
          "base_uri": "https://localhost:8080/",
          "height": 220
        },
        "id": "mzm729aJsGCT",
        "outputId": "d871f150-6378-45fd-f765-fc7fbb23f4e1"
      },
      "execution_count": 101,
      "outputs": [
        {
          "output_type": "error",
          "ename": "TypeError",
          "evalue": "ignored",
          "traceback": [
            "\u001b[0;31m---------------------------------------------------------------------------\u001b[0m",
            "\u001b[0;31mTypeError\u001b[0m                                 Traceback (most recent call last)",
            "\u001b[0;32m<ipython-input-101-baf1271afdea>\u001b[0m in \u001b[0;36m<module>\u001b[0;34m()\u001b[0m\n\u001b[1;32m      1\u001b[0m \u001b[0mlang\u001b[0m \u001b[0;34m=\u001b[0m \u001b[0;34m'python'\u001b[0m\u001b[0;34m\u001b[0m\u001b[0;34m\u001b[0m\u001b[0m\n\u001b[0;32m----> 2\u001b[0;31m \u001b[0mlang\u001b[0m\u001b[0;34m[\u001b[0m\u001b[0;36m0\u001b[0m\u001b[0;34m]\u001b[0m \u001b[0;34m=\u001b[0m \u001b[0;34m'P'\u001b[0m\u001b[0;34m\u001b[0m\u001b[0;34m\u001b[0m\u001b[0m\n\u001b[0m\u001b[1;32m      3\u001b[0m \u001b[0mprint\u001b[0m\u001b[0;34m(\u001b[0m\u001b[0mlang\u001b[0m\u001b[0;34m)\u001b[0m\u001b[0;34m\u001b[0m\u001b[0;34m\u001b[0m\u001b[0m\n\u001b[1;32m      4\u001b[0m \u001b[0;31m# 문자열은 수정할 수 없습니다. 실행 결과를 확인해보면 문자열이 할당(assignment) 메서드를 지원하지 않음을 알 수 있습니다\u001b[0m\u001b[0;34m\u001b[0m\u001b[0;34m\u001b[0m\u001b[0;34m\u001b[0m\u001b[0m\n",
            "\u001b[0;31mTypeError\u001b[0m: 'str' object does not support item assignment"
          ]
        }
      ]
    },
    {
      "cell_type": "markdown",
      "source": [
        "# 029 replace 메서드"
      ],
      "metadata": {
        "id": "0tWp8uP4uLBE"
      }
    },
    {
      "cell_type": "code",
      "source": [
        "string = 'abcdfe2a354a32a'\n",
        "print(string.replace('a','A'))"
      ],
      "metadata": {
        "colab": {
          "base_uri": "https://localhost:8080/"
        },
        "id": "W0T4yHPZunxJ",
        "outputId": "d974efc7-c177-4c62-8beb-e44b37eeb33b"
      },
      "execution_count": 104,
      "outputs": [
        {
          "output_type": "stream",
          "name": "stdout",
          "text": [
            "Abcdfe2A354A32A\n"
          ]
        }
      ]
    },
    {
      "cell_type": "markdown",
      "source": [
        "# 030 replace 메서드"
      ],
      "metadata": {
        "id": "x5SVdkPduzM3"
      }
    },
    {
      "cell_type": "code",
      "source": [
        "string = 'abcd'\n",
        "string.replace('b', 'B')\n",
        "print(string)\n",
        "# abcd가 그대로 출력됩니다. 왜냐하면 문자열은 변경할 수 없는 자료형이기 때문입니다. "
      ],
      "metadata": {
        "colab": {
          "base_uri": "https://localhost:8080/"
        },
        "id": "dq-rFfZQu0wb",
        "outputId": "20277e80-eeed-4603-9d24-df79156ba53b"
      },
      "execution_count": 108,
      "outputs": [
        {
          "output_type": "stream",
          "name": "stdout",
          "text": [
            "abcd\n"
          ]
        }
      ]
    },
    {
      "cell_type": "code",
      "source": [
        "string = 'abcd'\n",
        "a = string.replace('b', 'B')\n",
        "print(a)"
      ],
      "metadata": {
        "colab": {
          "base_uri": "https://localhost:8080/"
        },
        "id": "EDIPGcbvvD7Q",
        "outputId": "72d51a6d-6d72-45d9-d7df-401bc9355e45"
      },
      "execution_count": 107,
      "outputs": [
        {
          "output_type": "stream",
          "name": "stdout",
          "text": [
            "aBcd\n"
          ]
        }
      ]
    }
  ]
}