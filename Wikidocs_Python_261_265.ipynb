{
  "nbformat": 4,
  "nbformat_minor": 0,
  "metadata": {
    "colab": {
      "name": "Wikidocs_Python_261-265.ipynb",
      "provenance": [],
      "authorship_tag": "ABX9TyO7yZqFy2LU63vAzBZV/Nv4",
      "include_colab_link": true
    },
    "kernelspec": {
      "name": "python3",
      "display_name": "Python 3"
    },
    "language_info": {
      "name": "python"
    }
  },
  "cells": [
    {
      "cell_type": "markdown",
      "metadata": {
        "id": "view-in-github",
        "colab_type": "text"
      },
      "source": [
        "<a href=\"https://colab.research.google.com/github/mohyunyang/MyStudy/blob/master/Wikidocs_Python_261_265.ipynb\" target=\"_parent\"><img src=\"https://colab.research.google.com/assets/colab-badge.svg\" alt=\"Open In Colab\"/></a>"
      ]
    },
    {
      "cell_type": "markdown",
      "source": [
        "261 Stock 클래스 생성\n",
        "주식 종목에 대한 정보를 저장하는 Stock 클래스를 정의해보세요. 클래스는 속성과 메서드를 갖고 있지 않습니다."
      ],
      "metadata": {
        "id": "e8xKuvW5AIIY"
      }
    },
    {
      "cell_type": "code",
      "source": [
        "class Stock:\n",
        "  pass"
      ],
      "metadata": {
        "id": "FlYKzSnKAVpA"
      },
      "execution_count": null,
      "outputs": []
    },
    {
      "cell_type": "markdown",
      "source": [
        "262 생성자\n",
        "Stock 클래스의 객체가 생성될 때 종목명과 종목코드를 입력 받을 수 있도록 생성자를 정의해보세요."
      ],
      "metadata": {
        "id": "38Diq-3wAa8s"
      }
    },
    {
      "cell_type": "code",
      "source": [
        "class Stock:\n",
        "  def __init__(self, name, code):\n",
        "    self.name = name\n",
        "    self.code = code\n",
        "\n",
        "삼성 = Stock(\"삼성전자\",\"005930\")\n",
        "print(삼성.name, 삼성.code)"
      ],
      "metadata": {
        "colab": {
          "base_uri": "https://localhost:8080/"
        },
        "id": "YSgLwvM9Ag1F",
        "outputId": "289c1538-bd59-4195-a5a2-82cd2ffd3648"
      },
      "execution_count": 1,
      "outputs": [
        {
          "output_type": "stream",
          "name": "stdout",
          "text": [
            "삼성전자 005930\n"
          ]
        }
      ]
    },
    {
      "cell_type": "markdown",
      "source": [
        "263 메서드\n",
        "객체에 종목명을 입력할 수 있는 set_name 메서드를 추가해보세요."
      ],
      "metadata": {
        "id": "IXRAEXKZAbae"
      }
    },
    {
      "cell_type": "code",
      "source": [
        "class Stock:\n",
        "    def __init__(self, name, code):\n",
        "        self.name = name\n",
        "        self.code = code\n",
        "\n",
        "    def set_name(self, name):\n",
        "        self.name = name\n",
        "\n",
        "a = Stock(None, None)\n",
        "a.set_name(\"삼성전자\")  # Stock.set_name(a, \"삼성전자\")\n",
        "print(a.name)"
      ],
      "metadata": {
        "colab": {
          "base_uri": "https://localhost:8080/"
        },
        "id": "tpAClVsTCKnP",
        "outputId": "cd6fcfda-7a67-4746-ce5c-ae8f6550de60"
      },
      "execution_count": 3,
      "outputs": [
        {
          "output_type": "stream",
          "name": "stdout",
          "text": [
            "삼성전자\n"
          ]
        }
      ]
    },
    {
      "cell_type": "markdown",
      "source": [
        "264 메서드\n",
        "객체에 종목코드를 입력할 수 있는 set_code 메서드를 추가해보세요."
      ],
      "metadata": {
        "id": "whDVrFR2CN7c"
      }
    },
    {
      "cell_type": "code",
      "source": [
        "class Stock:\n",
        "  def __init__(self, name, code):\n",
        "    self.name = name\n",
        "    self.code = code\n",
        "\n",
        "  def set_name(self, name):\n",
        "    self.name = name\n",
        "\n",
        "  def set_code(self, code):\n",
        "    self.code = code\n",
        "\n",
        "a = Stock(None, None)\n",
        "a.set_code(\"005930\")\n",
        "print(a.code)"
      ],
      "metadata": {
        "colab": {
          "base_uri": "https://localhost:8080/"
        },
        "id": "C3Bdgp63BVuH",
        "outputId": "137a1252-5f74-41df-f291-3042d9a1d9c4"
      },
      "execution_count": 2,
      "outputs": [
        {
          "output_type": "stream",
          "name": "stdout",
          "text": [
            "005930\n"
          ]
        }
      ]
    },
    {
      "cell_type": "markdown",
      "source": [
        "265 메서드\n",
        "종목명과 종목코드를 리턴하는 get_name, get_code 메서드를 추가하세요. 해당 메서드를 사용하여 종목명과 종목코드를 얻고 이를 출력해보세요."
      ],
      "metadata": {
        "id": "14IctG2HCCEy"
      }
    },
    {
      "cell_type": "code",
      "source": [
        "class Stock:\n",
        "  def __init__(self, name, code):\n",
        "    self.name = name\n",
        "    self.code = code\n",
        "\n",
        "  def set_name(self, name):\n",
        "    self.name = name\n",
        "\n",
        "  def set_code(self, code):\n",
        "    self.code = code\n",
        "\n",
        "  def get_name(self):\n",
        "    return self.name\n",
        "\n",
        "  def get_code(self):\n",
        "    return self.code\n",
        "\n",
        "삼성 = Stock(\"삼성전자\", \"005930\")\n",
        "print(삼성.name)\n",
        "print(삼성.code)\n",
        "print(삼성.get_name())\n",
        "print(삼성.get_code())"
      ],
      "metadata": {
        "colab": {
          "base_uri": "https://localhost:8080/"
        },
        "id": "F39xyGH6CUlL",
        "outputId": "78442cd6-cc6e-4ab1-ce3f-935f5c87f42b"
      },
      "execution_count": 5,
      "outputs": [
        {
          "output_type": "stream",
          "name": "stdout",
          "text": [
            "삼성전자\n",
            "005930\n",
            "삼성전자\n",
            "005930\n"
          ]
        }
      ]
    }
  ]
}