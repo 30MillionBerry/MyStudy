{
  "nbformat": 4,
  "nbformat_minor": 0,
  "metadata": {
    "colab": {
      "name": "CV_01.ipynb",
      "provenance": [],
      "collapsed_sections": [],
      "authorship_tag": "ABX9TyPcdEL4gaiOQrXrN9gkXsro",
      "include_colab_link": true
    },
    "kernelspec": {
      "name": "python3",
      "display_name": "Python 3"
    },
    "language_info": {
      "name": "python"
    }
  },
  "cells": [
    {
      "cell_type": "markdown",
      "metadata": {
        "id": "view-in-github",
        "colab_type": "text"
      },
      "source": [
        "<a href=\"https://colab.research.google.com/github/mohyunyang/MyStudy/blob/master/CV_01.ipynb\" target=\"_parent\"><img src=\"https://colab.research.google.com/assets/colab-badge.svg\" alt=\"Open In Colab\"/></a>"
      ]
    },
    {
      "cell_type": "code",
      "execution_count": null,
      "metadata": {
        "id": "SzF_k3IJVstU"
      },
      "outputs": [],
      "source": [
        "!pip install opencv-python # 깔아"
      ]
    },
    {
      "cell_type": "code",
      "source": [
        "import cv2 # cv2 임포트해\n",
        "import numpy as np\n",
        "import sys \n",
        "cv2.__version__ # 무슨 버젼이야?"
      ],
      "metadata": {
        "id": "p3P_reatVwi0"
      },
      "execution_count": null,
      "outputs": []
    },
    {
      "cell_type": "code",
      "source": [
        "! pip install --upgrade opencv-python"
      ],
      "metadata": {
        "id": "i4oY6e4YVyQD"
      },
      "execution_count": null,
      "outputs": []
    },
    {
      "cell_type": "code",
      "source": [
        "img = cv2.imread('CV/fig/puppy.jpeg')\n",
        "\n",
        "if img is None: # 예외 처리\n",
        "    print('Image read failed')\n",
        "    sys.exit()\n",
        "cv2.imshow('image', img)\n",
        "cv2.waitKey()\n",
        "\n",
        "cv2.destroyAIIWindows()"
      ],
      "metadata": {
        "id": "5tHb280QVzpm"
      },
      "execution_count": null,
      "outputs": []
    },
    {
      "cell_type": "code",
      "source": [
        "# cv2.imread(filename. flags = None) -> retval\n",
        "# flags:\n",
        "# cv2.IMREAD_COLOR: BGR color로 읽기\n",
        "# cv2.IMREAD_GRAYSCALE: 그레이 color로 읽기\n",
        "# cv2.IMREAD_UNCHANGED: 파일 속성대로 읽기\n",
        "# cv2.IMREAD_REDUCED_GRAYSCALE_2 \n",
        "# cv2.IMREAD_REDUCED_COLOR_2 \n",
        "\n",
        "# retval: numpy.ndarray로 반환"
      ],
      "metadata": {
        "id": "LC6VwBPGVz66"
      },
      "execution_count": null,
      "outputs": []
    },
    {
      "cell_type": "code",
      "source": [
        "img = cv2.imread('CV/fig/puppy.bmp')\n",
        "\n",
        "if img is None:\n",
        "    print('Image read failed')\n",
        "    sys.exit()\n",
        "\n",
        "#resize(src, dsize[, dst[, fx[, fy[, interpolation]]]]) -> dst\n",
        "img2 = cv2.resize(src=img, dsize= (500,700))\n",
        "\n",
        "                 \n",
        "# cv2.imwrite('CV/fig/image_resize.bmp', img)\n",
        "                 \n",
        "                 \n",
        "cv2.namedWindow('image', cv2.WINDOW_NORMAL)\n",
        "cv2.imshow('image', img)\n",
        "# cv2.imshow('img2', img2) \n",
        "\n",
        "cv2.waitKey() # 0으로하면 무한 , 1000 1초\n",
        "cv2.destroyAllWindows()"
      ],
      "metadata": {
        "id": "HwpDTRq0Vz9U"
      },
      "execution_count": null,
      "outputs": []
    },
    {
      "cell_type": "code",
      "source": [
        "img = cv2.imread('CV/fig/cat.bmp')\n",
        "\n",
        "if img is None:\n",
        "    print('Image read failed')\n",
        "    sys.exit()\n",
        "    \n",
        "cv2.imshow('image', img)\n",
        "cv2.waitKey()\n",
        "cv2.destroyAllWindows()"
      ],
      "metadata": {
        "id": "R6aRGfSHV0AL"
      },
      "execution_count": null,
      "outputs": []
    },
    {
      "cell_type": "code",
      "source": [
        "img.shape # 세로 가로 RGBㅠ"
      ],
      "metadata": {
        "id": "DGG3ZH7TV0Cd"
      },
      "execution_count": null,
      "outputs": []
    },
    {
      "cell_type": "code",
      "source": [
        "img = cv2.imread('CV/fig/puppy.bmp', cv2.IMREAD_GRAYSCALE)\n",
        "\n",
        "if img is None:\n",
        "    print('image read failed')\n",
        "    sys.exit()\n",
        "\n",
        "cv2.namedWindow('image', cv2.WINDOW_AUTOSIZE)\n",
        "cv2.imshow('image', img)\n",
        "\n",
        "# img2 = cv2.resize(img, (600,500))\n",
        "# cv2.imwrite('img_resize.png', img2)\n",
        "\n",
        "while True:\n",
        "    if cv2.waitKey() == 27:  # 아스키코드 \n",
        "        break\n",
        "        \n",
        "\n",
        "cv2.destroyAllWindows()"
      ],
      "metadata": {
        "id": "Izsxc1mRV0KA"
      },
      "execution_count": null,
      "outputs": []
    },
    {
      "cell_type": "code",
      "source": [
        "img = cv2.imread('CV/fig/puppy.bmp', cv2.IMREAD_GRAYSCALE)\n",
        "\n",
        "if img is None:\n",
        "    print('image read failed')\n",
        "    sys.exit()\n",
        "\n",
        "cv2.namedWindow('image', cv2.WINDOW_AUTOSIZE)\n",
        "cv2.imshow('image', img)\n",
        "    \n",
        "while True:\n",
        "    if cv2.waitKey() == 27:\n",
        "        break\n",
        "        \n",
        "cv2.destroyAllWindows()"
      ],
      "metadata": {
        "id": "XKs5oCAzV56b"
      },
      "execution_count": null,
      "outputs": []
    },
    {
      "cell_type": "code",
      "source": [
        "import matplotlib.pyplot as plt"
      ],
      "metadata": {
        "id": "bQ3ZhzGqV6AB"
      },
      "execution_count": null,
      "outputs": []
    },
    {
      "cell_type": "code",
      "source": [
        "imgBGR = cv2.imread('CV/fig/puppy.bmp', cv2.IMREAD_COLOR) # opencv 는 BGR\n",
        "\n",
        "if img is None:\n",
        "    print('Image read failed')\n",
        "    sys.exit()\n",
        "\n",
        "imgRGB = cv2.cvtColor(imgBGR, cv2.COLOR_BGR2RGB)\n",
        "    \n",
        "plt.imshow(imgRGB)\n",
        "plt.axis('off')\n",
        "plt.show()\n",
        "\n",
        "\n",
        "# cv2.imshow('image', img)\n",
        "\n",
        "# while True:\n",
        "#     if cv2.waitKey() == 27:\n",
        "#         break\n",
        "\n",
        "# cv2.destroyAllWindows()"
      ],
      "metadata": {
        "id": "_I_W3MaCV6GG"
      },
      "execution_count": null,
      "outputs": []
    },
    {
      "cell_type": "code",
      "source": [
        "imgBGR = cv2.imread('CV/fig/puppy.bmp', cv2.IMREAD_COLOR)\n",
        "imgGRAY = cv2.imread('CV/fig/puppy.bmp', cv2.IMREAD_GRAYSCALE)\n",
        "\n",
        "if imgBGR is None or imgGRAY is None:\n",
        "    print('image read failed')\n",
        "    sys.exit()\n",
        "\n",
        "imgRGB = cv2.cvtColor(imgBGR, cv2.COLOR_BGR2RGB) #cvt 바꾸다\n",
        "\n",
        "plt.figure(figsize=(20,20))\n",
        "plt.subplot(131), plt.imshow(imgBGR), plt.axis('off')\n",
        "plt.subplot(132), plt.imshow(imgRGB), plt.axis('off')\n",
        "plt.subplot(133), plt.imshow(imgGRAY, cmap ='gray'), plt.axis('off')\n",
        "plt.show()"
      ],
      "metadata": {
        "id": "nVj7EDIxV9nM"
      },
      "execution_count": null,
      "outputs": []
    }
  ]
}