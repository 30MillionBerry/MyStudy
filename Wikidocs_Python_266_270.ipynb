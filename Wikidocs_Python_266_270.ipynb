{
  "nbformat": 4,
  "nbformat_minor": 0,
  "metadata": {
    "colab": {
      "name": "Wikidocs_Python_266-270.ipynb",
      "provenance": [],
      "authorship_tag": "ABX9TyMBKxU9mro9HiHriBHqHLyZ",
      "include_colab_link": true
    },
    "kernelspec": {
      "name": "python3",
      "display_name": "Python 3"
    },
    "language_info": {
      "name": "python"
    }
  },
  "cells": [
    {
      "cell_type": "markdown",
      "metadata": {
        "id": "view-in-github",
        "colab_type": "text"
      },
      "source": [
        "<a href=\"https://colab.research.google.com/github/mohyunyang/MyStudy/blob/master/Wikidocs_Python_266_270.ipynb\" target=\"_parent\"><img src=\"https://colab.research.google.com/assets/colab-badge.svg\" alt=\"Open In Colab\"/></a>"
      ]
    },
    {
      "cell_type": "markdown",
      "source": [
        "266 객체의 속성값 업데이트\n",
        "생성자에서 종목명, 종목코드, PER, PBR, 배당수익률을 입력 받을 수 있도록 생성자를 수정하세요. PER, PBR, 배당수익률은 float 타입입니다."
      ],
      "metadata": {
        "id": "N1bWl5M5GguM"
      }
    },
    {
      "cell_type": "code",
      "source": [
        "class Stock:\n",
        "    def __init__(self, name, code, per, pbr, 배당수익률):\n",
        "        self.name = name\n",
        "        self.code = code\n",
        "        self.per = per\n",
        "        self.pbr = pbr\n",
        "        self.배당수익률 = 배당수익률\n",
        "\n",
        "    def set_name(self, name):\n",
        "        self.name = name\n",
        "\n",
        "    def set_code(self, code):\n",
        "        self.code = code\n",
        "\n",
        "    def get_name(self):\n",
        "        return self.name\n",
        "\n",
        "    def get_code(self):\n",
        "        return self.code"
      ],
      "metadata": {
        "id": "znOxFjmeGuR9"
      },
      "execution_count": 1,
      "outputs": []
    },
    {
      "cell_type": "markdown",
      "source": [
        "267 객체 생성\n",
        "266번에서 정의한 생성자를 통해 다음 정보를 갖는 객체를 생성해보세요."
      ],
      "metadata": {
        "id": "hg_SEC0UG2bE"
      }
    },
    {
      "cell_type": "code",
      "source": [
        "삼성 = Stock(\"삼성전자\", \"005930\", 15.79, 1.33, 2.83)\n",
        "print(삼성.배당수익률)"
      ],
      "metadata": {
        "colab": {
          "base_uri": "https://localhost:8080/"
        },
        "id": "7Jiyp4YzG3wT",
        "outputId": "7c9d3c76-a0dd-4615-ab7c-245983c2820e"
      },
      "execution_count": 2,
      "outputs": [
        {
          "output_type": "stream",
          "name": "stdout",
          "text": [
            "2.83\n"
          ]
        }
      ]
    },
    {
      "cell_type": "markdown",
      "source": [
        "268 객체의 속성 수정\n",
        "PER, PBR, 배당수익률은 변경될 수 있는 값입니다. 이 값을 변경할 때 사용하는 set_per, set_pbr, set_dividend 메서드를 추가하세요."
      ],
      "metadata": {
        "id": "Sk4c0sKLHK-m"
      }
    },
    {
      "cell_type": "code",
      "source": [
        "class Stock:\n",
        "    def __init__(self, name, code, per, pbr, dividend):\n",
        "        self.name = name\n",
        "        self.code = code\n",
        "        self.per = per\n",
        "        self.pbr = pbr\n",
        "        self.dividend = dividend\n",
        "\n",
        "    def set_name(self, name):\n",
        "        self.name = name\n",
        "\n",
        "    def set_code(self, code):\n",
        "        self.code = code\n",
        "\n",
        "    def get_name(self):\n",
        "        return self.name\n",
        "\n",
        "    def get_code(self):\n",
        "        return self.code\n",
        "\n",
        "    def set_per(self, per):\n",
        "        self.per = per\n",
        "\n",
        "    def set_pbr(self, pbr):\n",
        "        self.pbr = pbr\n",
        "\n",
        "    def set_dividend(self, dividend):\n",
        "        self.dividend = dividend"
      ],
      "metadata": {
        "id": "PBuZfnxxHMP-"
      },
      "execution_count": 3,
      "outputs": []
    },
    {
      "cell_type": "markdown",
      "source": [
        "269 객체의 속성 수정\n",
        "267번에서 생성한 객체에 set_per 메서드를 호출하여 per 값을 12.75로 수정해보세요."
      ],
      "metadata": {
        "id": "pj7Z-j_RHPGC"
      }
    },
    {
      "cell_type": "code",
      "source": [
        "삼성 = Stock(\"삼성전자\", \"005930\", 15.79, 1.33, 2.83)\n",
        "삼성.set_per(12.75)\n",
        "print(삼성.per)"
      ],
      "metadata": {
        "colab": {
          "base_uri": "https://localhost:8080/"
        },
        "id": "w8nzGCoFHQ87",
        "outputId": "e9466722-d76e-44fb-805b-09ee599e0688"
      },
      "execution_count": 4,
      "outputs": [
        {
          "output_type": "stream",
          "name": "stdout",
          "text": [
            "12.75\n"
          ]
        }
      ]
    },
    {
      "cell_type": "markdown",
      "source": [
        "270 여러 종목의 객체 생성"
      ],
      "metadata": {
        "id": "TPNAZQhMHS63"
      }
    },
    {
      "cell_type": "code",
      "source": [
        "종목 = []\n",
        "\n",
        "삼성 = Stock(\"삼성전자\", \"005930\", 15.79, 1.33, 2.83)\n",
        "현대차 = Stock(\"현대차\", \"005380\", 8.70, 0.35, 4.27)\n",
        "LG전자 = Stock(\"LG전자\", \"066570\", 317.34, 0.69, 1.37)\n",
        "\n",
        "종목.append(삼성)\n",
        "종목.append(현대차)\n",
        "종목.append(LG전자)\n",
        "\n",
        "for i in 종목:\n",
        "    print(i.code, i.per)        # i-> Stock 클래스의 객체를 바인딩하기 때문"
      ],
      "metadata": {
        "colab": {
          "base_uri": "https://localhost:8080/"
        },
        "id": "oL4WA6EcHZBF",
        "outputId": "6ddc219d-7aa6-42f3-9f82-47622ddee830"
      },
      "execution_count": 5,
      "outputs": [
        {
          "output_type": "stream",
          "name": "stdout",
          "text": [
            "005930 15.79\n",
            "005380 8.7\n",
            "066570 317.34\n"
          ]
        }
      ]
    }
  ]
}