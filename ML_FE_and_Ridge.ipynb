{
  "nbformat": 4,
  "nbformat_minor": 0,
  "metadata": {
    "colab": {
      "name": "ML_FE and Ridge.ipynb",
      "provenance": [],
      "authorship_tag": "ABX9TyNC5AKcKZTXhv8F4JJk+HaN",
      "include_colab_link": true
    },
    "kernelspec": {
      "name": "python3",
      "display_name": "Python 3"
    },
    "language_info": {
      "name": "python"
    }
  },
  "cells": [
    {
      "cell_type": "markdown",
      "metadata": {
        "id": "view-in-github",
        "colab_type": "text"
      },
      "source": [
        "<a href=\"https://colab.research.google.com/github/mohyunyang/MyStudy/blob/master/ML_FE_and_Ridge.ipynb\" target=\"_parent\"><img src=\"https://colab.research.google.com/assets/colab-badge.svg\" alt=\"Open In Colab\"/></a>"
      ]
    },
    {
      "cell_type": "code",
      "execution_count": null,
      "metadata": {
        "id": "1zNMcSiF5t90"
      },
      "outputs": [],
      "source": [
        "import pandas as pd\n",
        "df = pd.read_csv('https://bit.ly/perch_csv')\n",
        "print(df.head())\n",
        "perch_full = df.to_numpy()\n",
        "print(perch_full)"
      ]
    },
    {
      "cell_type": "code",
      "source": [
        "import numpy as np\n",
        "perch_length = np.array([8.4, 13.7, 15.0, 16.2, 17.4, 18.0, 18.7, 19.0, 19.6, 20.0, 21.0,\n",
        "       21.0, 21.0, 21.3, 22.0, 22.0, 22.0, 22.0, 22.0, 22.5, 22.5, 22.7,\n",
        "       23.0, 23.5, 24.0, 24.0, 24.6, 25.0, 25.6, 26.5, 27.3, 27.5, 27.5,\n",
        "       27.5, 28.0, 28.7, 30.0, 32.8, 34.5, 35.0, 36.5, 36.0, 37.0, 37.0,\n",
        "       39.0, 39.0, 39.0, 40.0, 40.0, 40.0, 40.0, 42.0, 43.0, 43.0, 43.5,\n",
        "       44.0])\n",
        "perch_weight = np.array([5.9, 32.0, 40.0, 51.5, 70.0, 100.0, 78.0, 80.0, 85.0, 85.0, 110.0,\n",
        "       115.0, 125.0, 130.0, 120.0, 120.0, 130.0, 135.0, 110.0, 130.0,\n",
        "       150.0, 145.0, 150.0, 170.0, 225.0, 145.0, 188.0, 180.0, 197.0,\n",
        "       218.0, 300.0, 260.0, 265.0, 250.0, 250.0, 300.0, 320.0, 514.0,\n",
        "       556.0, 840.0, 685.0, 700.0, 700.0, 690.0, 900.0, 650.0, 820.0,\n",
        "       850.0, 900.0, 1015.0, 820.0, 1100.0, 1000.0, 1100.0, 1000.0,\n",
        "       1000.0])"
      ],
      "metadata": {
        "id": "EajKoncWEPDH"
      },
      "execution_count": null,
      "outputs": []
    },
    {
      "cell_type": "code",
      "source": [
        "from sklearn.model_selection import train_test_splits\n",
        "train_input, test_input, train_target, test_target = train_test_split(\n",
        "    perch_full, perch_weight, random_state=42\n",
        ")"
      ],
      "metadata": {
        "id": "zijMni60Ee4t"
      },
      "execution_count": null,
      "outputs": []
    },
    {
      "cell_type": "code",
      "source": [
        "print(train_input.shape, train_target.shape, test_input.shape, test_target.shape)"
      ],
      "metadata": {
        "colab": {
          "base_uri": "https://localhost:8080/"
        },
        "id": "OLgLepzFE3de",
        "outputId": "143a528a-5692-4b70-b92c-85a8c440841a"
      },
      "execution_count": null,
      "outputs": [
        {
          "output_type": "stream",
          "name": "stdout",
          "text": [
            "(42, 3) (42,) (14, 3) (14,)\n"
          ]
        }
      ]
    },
    {
      "cell_type": "code",
      "source": [
        "from sklearn.preprocessing import PolynomialFeatures\n",
        "\n",
        "poly = PolynomialFeatures()\n",
        "poly.fit([[2,3]])                        # fit은 방법만 제공\n",
        "print(poly.transform([[2,3]]))           # transform 에서 fit이 제공한 방식으로 동작"
      ],
      "metadata": {
        "colab": {
          "base_uri": "https://localhost:8080/"
        },
        "id": "A_j0Ze3rFWiR",
        "outputId": "c2ce9489-4d91-4acc-be41-04ecaceb4795"
      },
      "execution_count": null,
      "outputs": [
        {
          "output_type": "stream",
          "name": "stdout",
          "text": [
            "[[1. 2. 3. 4. 6. 9.]]\n"
          ]
        }
      ]
    },
    {
      "cell_type": "code",
      "source": [
        "poly = PolynomialFeatures(include_bias=False)\n",
        "poly.fit(train_input)\n",
        "train_poly = poly.transform(train_input)\n",
        "print(train_poly.shape)\n",
        "print(train_poly)"
      ],
      "metadata": {
        "id": "Dw_Y7ARqK2BK"
      },
      "execution_count": null,
      "outputs": []
    },
    {
      "cell_type": "code",
      "source": [
        "# import warnings\n",
        "# warnings.filterwarnings('ignore')\n"
      ],
      "metadata": {
        "id": "tnbqLRspLRj3"
      },
      "execution_count": null,
      "outputs": []
    },
    {
      "cell_type": "code",
      "source": [
        "poly.get_feature_names_out()"
      ],
      "metadata": {
        "colab": {
          "base_uri": "https://localhost:8080/"
        },
        "id": "Oj4T30rtLcje",
        "outputId": "b6a8919f-44c3-4d0f-b5b8-47f98e1c2472"
      },
      "execution_count": null,
      "outputs": [
        {
          "output_type": "execute_result",
          "data": {
            "text/plain": [
              "array(['x0', 'x1', 'x2', 'x0^2', 'x0 x1', 'x0 x2', 'x1^2', 'x1 x2',\n",
              "       'x2^2'], dtype=object)"
            ]
          },
          "metadata": {},
          "execution_count": 26
        }
      ]
    },
    {
      "cell_type": "code",
      "source": [
        "test_poly = poly.transform(test_input)\n",
        "test_poly"
      ],
      "metadata": {
        "colab": {
          "base_uri": "https://localhost:8080/"
        },
        "id": "-HT1ar0uwaLF",
        "outputId": "e27f5408-e1fb-42fe-8040-b37d8e47f00a"
      },
      "execution_count": null,
      "outputs": [
        {
          "output_type": "execute_result",
          "data": {
            "text/plain": [
              "array([[8.40000000e+00, 2.11000000e+00, 1.41000000e+00, 7.05600000e+01,\n",
              "        1.77240000e+01, 1.18440000e+01, 4.45210000e+00, 2.97510000e+00,\n",
              "        1.98810000e+00, 5.92704000e+02, 1.48881600e+02, 9.94896000e+01,\n",
              "        3.73976400e+01, 2.49908400e+01, 1.67000400e+01, 9.39393100e+00,\n",
              "        6.27746100e+00, 4.19489100e+00, 2.80322100e+00, 4.97871360e+03,\n",
              "        1.25060544e+03, 8.35712640e+02, 3.14140176e+02, 2.09923056e+02,\n",
              "        1.40280336e+02, 7.89090204e+01, 5.27306724e+01, 3.52370844e+01,\n",
              "        2.35470564e+01, 1.98211944e+01, 1.32454427e+01, 8.85122001e+00,\n",
              "        5.91479631e+00, 3.95254161e+00, 4.18211942e+04, 1.05050857e+04,\n",
              "        7.01998618e+03, 2.63877748e+03, 1.76335367e+03, 1.17835482e+03,\n",
              "        6.62835771e+02, 4.42937648e+02, 2.95991509e+02, 1.97795274e+02,\n",
              "        1.66498033e+02, 1.11261719e+02, 7.43502481e+01, 4.96842890e+01,\n",
              "        3.32013495e+01, 4.18227202e+01, 2.79478841e+01, 1.86760742e+01,\n",
              "        1.24802202e+01, 8.33986280e+00, 5.57308367e+00],\n",
              "       [1.80000000e+01, 5.22000000e+00, 3.32000000e+00, 3.24000000e+02,\n",
              "        9.39600000e+01, 5.97600000e+01, 2.72484000e+01, 1.73304000e+01,\n",
              "        1.10224000e+01, 5.83200000e+03, 1.69128000e+03, 1.07568000e+03,\n",
              "        4.90471200e+02, 3.11947200e+02, 1.98403200e+02, 1.42236648e+02,\n",
              "        9.04646880e+01, 5.75369280e+01, 3.65943680e+01, 1.04976000e+05,\n",
              "        3.04430400e+04, 1.93622400e+04, 8.82848160e+03, 5.61504960e+03,\n",
              "        3.57125760e+03, 2.56025966e+03, 1.62836438e+03, 1.03566470e+03,\n",
              "        6.58698624e+02, 7.42475303e+02, 4.72225671e+02, 3.00342764e+02,\n",
              "        1.91022601e+02, 1.21493302e+02, 1.88956800e+06, 5.47974720e+05,\n",
              "        3.48520320e+05, 1.58912669e+05, 1.01070893e+05, 6.42826368e+04,\n",
              "        4.60846740e+04, 2.93105589e+04, 1.86419647e+04, 1.18565752e+04,\n",
              "        1.33645554e+04, 8.50006208e+03, 5.40616975e+03, 3.43840682e+03,\n",
              "        2.18687943e+03, 3.87572108e+03, 2.46501800e+03, 1.56778923e+03,\n",
              "        9.97137977e+02, 6.34195035e+02, 4.03357762e+02],\n",
              "       [2.75000000e+01, 7.28000000e+00, 4.57000000e+00, 7.56250000e+02,\n",
              "        2.00200000e+02, 1.25675000e+02, 5.29984000e+01, 3.32696000e+01,\n",
              "        2.08849000e+01, 2.07968750e+04, 5.50550000e+03, 3.45606250e+03,\n",
              "        1.45745600e+03, 9.14914000e+02, 5.74334750e+02, 3.85828352e+02,\n",
              "        2.42202688e+02, 1.52042072e+02, 9.54439930e+01, 5.71914062e+05,\n",
              "        1.51401250e+05, 9.50417188e+04, 4.00800400e+04, 2.51601350e+04,\n",
              "        1.57942056e+04, 1.06102797e+04, 6.66057392e+03, 4.18115698e+03,\n",
              "        2.62470981e+03, 2.80883040e+03, 1.76323557e+03, 1.10686628e+03,\n",
              "        6.94832269e+02, 4.36179048e+02, 1.57276367e+07, 4.16353438e+06,\n",
              "        2.61364727e+06, 1.10220110e+06, 6.91903713e+05, 4.34340655e+05,\n",
              "        2.91782691e+05, 1.83165783e+05, 1.14981817e+05, 7.21795197e+04,\n",
              "        7.72428361e+04, 4.84889781e+04, 3.04388228e+04, 1.91078874e+04,\n",
              "        1.19949238e+04, 2.04482853e+04, 1.28363549e+04, 8.05798655e+03,\n",
              "        5.05837892e+03, 3.17538347e+03, 1.99333825e+03],\n",
              "       [2.13000000e+01, 6.38000000e+00, 3.53000000e+00, 4.53690000e+02,\n",
              "        1.35894000e+02, 7.51890000e+01, 4.07044000e+01, 2.25214000e+01,\n",
              "        1.24609000e+01, 9.66359700e+03, 2.89454220e+03, 1.60152570e+03,\n",
              "        8.67003720e+02, 4.79705820e+02, 2.65417170e+02, 2.59694072e+02,\n",
              "        1.43686532e+02, 7.95005420e+01, 4.39869770e+01, 2.05834616e+05,\n",
              "        6.16537489e+04, 3.41124974e+04, 1.84671792e+04, 1.02177340e+04,\n",
              "        5.65338572e+03, 5.53148373e+03, 3.06052313e+03, 1.69336154e+03,\n",
              "        9.36922610e+02, 1.65684818e+03, 9.16720074e+02, 5.07213458e+02,\n",
              "        2.80636913e+02, 1.55274029e+02, 4.38427732e+06, 1.31322485e+06,\n",
              "        7.26596195e+05, 3.93350918e+05, 2.17637733e+05, 1.20417116e+05,\n",
              "        1.17820604e+05, 6.51891427e+04, 3.60686009e+04, 1.99564516e+04,\n",
              "        3.52908662e+04, 1.95261376e+04, 1.08036467e+04, 5.97756625e+03,\n",
              "        3.30733681e+03, 1.05706914e+04, 5.84867407e+03, 3.23602186e+03,\n",
              "        1.79046351e+03, 9.90648304e+02, 5.48117322e+02],\n",
              "       [2.25000000e+01, 5.86000000e+00, 3.62000000e+00, 5.06250000e+02,\n",
              "        1.31850000e+02, 8.14500000e+01, 3.43396000e+01, 2.12132000e+01,\n",
              "        1.31044000e+01, 1.13906250e+04, 2.96662500e+03, 1.83262500e+03,\n",
              "        7.72641000e+02, 4.77297000e+02, 2.94849000e+02, 2.01230056e+02,\n",
              "        1.24309352e+02, 7.67917840e+01, 4.74379280e+01, 2.56289062e+05,\n",
              "        6.67490625e+04, 4.12340625e+04, 1.73844225e+04, 1.07391825e+04,\n",
              "        6.63410250e+03, 4.52767626e+03, 2.79696042e+03, 1.72781514e+03,\n",
              "        1.06735338e+03, 1.17920813e+03, 7.28452803e+02, 4.49999854e+02,\n",
              "        2.77986258e+02, 1.71725299e+02, 5.76650391e+06, 1.50185391e+06,\n",
              "        9.27766406e+05, 3.91149506e+05, 2.41631606e+05, 1.49267306e+05,\n",
              "        1.01872716e+05, 6.29316094e+04, 3.88758407e+04, 2.40154510e+04,\n",
              "        2.65321829e+04, 1.63901881e+04, 1.01249967e+04, 6.25469081e+03,\n",
              "        3.86381924e+03, 6.91015963e+03, 4.26873342e+03, 2.63699915e+03,\n",
              "        1.62899947e+03, 1.00631025e+03, 6.21645584e+02],\n",
              "       [4.00000000e+01, 1.11400000e+01, 6.63000000e+00, 1.60000000e+03,\n",
              "        4.45600000e+02, 2.65200000e+02, 1.24099600e+02, 7.38582000e+01,\n",
              "        4.39569000e+01, 6.40000000e+04, 1.78240000e+04, 1.06080000e+04,\n",
              "        4.96398400e+03, 2.95432800e+03, 1.75827600e+03, 1.38246954e+03,\n",
              "        8.22780348e+02, 4.89679866e+02, 2.91434247e+02, 2.56000000e+06,\n",
              "        7.12960000e+05, 4.24320000e+05, 1.98559360e+05, 1.18173120e+05,\n",
              "        7.03310400e+04, 5.52987818e+04, 3.29112139e+04, 1.95871946e+04,\n",
              "        1.16573699e+04, 1.54007107e+04, 9.16577308e+03, 5.45503371e+03,\n",
              "        3.24657751e+03, 1.93220906e+03, 1.02400000e+08, 2.85184000e+07,\n",
              "        1.69728000e+07, 7.94237440e+06, 4.72692480e+06, 2.81324160e+06,\n",
              "        2.21195127e+06, 1.31644856e+06, 7.83487786e+05, 4.66294795e+05,\n",
              "        6.16028429e+05, 3.66630923e+05, 2.18201348e+05, 1.29863100e+05,\n",
              "        7.72883623e+04, 1.71563917e+05, 1.02106712e+05, 6.07690755e+04,\n",
              "        3.61668735e+04, 2.15248089e+04, 1.28105461e+04],\n",
              "       [3.00000000e+01, 7.62000000e+00, 4.77000000e+00, 9.00000000e+02,\n",
              "        2.28600000e+02, 1.43100000e+02, 5.80644000e+01, 3.63474000e+01,\n",
              "        2.27529000e+01, 2.70000000e+04, 6.85800000e+03, 4.29300000e+03,\n",
              "        1.74193200e+03, 1.09042200e+03, 6.82587000e+02, 4.42450728e+02,\n",
              "        2.76967188e+02, 1.73377098e+02, 1.08531333e+02, 8.10000000e+05,\n",
              "        2.05740000e+05, 1.28790000e+05, 5.22579600e+04, 3.27126600e+04,\n",
              "        2.04776100e+04, 1.32735218e+04, 8.30901564e+03, 5.20131294e+03,\n",
              "        3.25593999e+03, 3.37147455e+03, 2.11048997e+03, 1.32113349e+03,\n",
              "        8.27008757e+02, 5.17694458e+02, 2.43000000e+07, 6.17220000e+06,\n",
              "        3.86370000e+06, 1.56773880e+06, 9.81379800e+05, 6.14328300e+05,\n",
              "        3.98205655e+05, 2.49270469e+05, 1.56039388e+05, 9.76781997e+04,\n",
              "        1.01144236e+05, 6.33146992e+04, 3.96340046e+04, 2.48102627e+04,\n",
              "        1.55308338e+04, 2.56906361e+04, 1.60819336e+04, 1.00670372e+04,\n",
              "        6.30180673e+03, 3.94483177e+03, 2.46940257e+03],\n",
              "       [2.46000000e+01, 6.73000000e+00, 4.17000000e+00, 6.05160000e+02,\n",
              "        1.65558000e+02, 1.02582000e+02, 4.52929000e+01, 2.80641000e+01,\n",
              "        1.73889000e+01, 1.48869360e+04, 4.07272680e+03, 2.52351720e+03,\n",
              "        1.11420534e+03, 6.90376860e+02, 4.27766940e+02, 3.04821217e+02,\n",
              "        1.88871393e+02, 1.17027297e+02, 7.25117130e+01, 3.66218626e+05,\n",
              "        1.00189079e+05, 6.20785231e+04, 2.74094514e+04, 1.69832708e+04,\n",
              "        1.05230667e+04, 7.49860194e+03, 4.64623627e+03, 2.87887151e+03,\n",
              "        1.78378814e+03, 2.05144679e+03, 1.27110447e+03, 7.87593709e+02,\n",
              "        4.88003828e+02, 3.02373843e+02, 9.00897819e+06, 2.46465135e+06,\n",
              "        1.52713167e+06, 6.74272504e+05, 4.17788461e+05, 2.58867441e+05,\n",
              "        1.84465608e+05, 1.14297412e+05, 7.08202391e+04, 4.38811882e+04,\n",
              "        5.04655910e+04, 3.12691701e+04, 1.93748052e+04, 1.20048942e+04,\n",
              "        7.43839654e+03, 1.38062369e+04, 8.55453312e+03, 5.30050566e+03,\n",
              "        3.28426577e+03, 2.03497596e+03, 1.26089893e+03],\n",
              "       [3.90000000e+01, 1.11400000e+01, 7.49000000e+00, 1.52100000e+03,\n",
              "        4.34460000e+02, 2.92110000e+02, 1.24099600e+02, 8.34386000e+01,\n",
              "        5.61001000e+01, 5.93190000e+04, 1.69439400e+04, 1.13922900e+04,\n",
              "        4.83988440e+03, 3.25410540e+03, 2.18790390e+03, 1.38246954e+03,\n",
              "        9.29506004e+02, 6.24955114e+02, 4.20189749e+02, 2.31344100e+06,\n",
              "        6.60813660e+05, 4.44299310e+05, 1.88755492e+05, 1.26910111e+05,\n",
              "        8.53282521e+04, 5.39163122e+04, 3.62507342e+04, 2.43732494e+04,\n",
              "        1.63874002e+04, 1.54007107e+04, 1.03546969e+04, 6.96199997e+03,\n",
              "        4.68091380e+03, 3.14722122e+03, 9.02241990e+07, 2.57717327e+07,\n",
              "        1.73276731e+07, 7.36146417e+06, 4.94949431e+06, 3.32780183e+06,\n",
              "        2.10273618e+06, 1.41377863e+06, 9.50556728e+05, 6.39108608e+05,\n",
              "        6.00627718e+05, 4.03833178e+05, 2.71517999e+05, 1.82555638e+05,\n",
              "        1.22741628e+05, 1.71563917e+05, 1.15351323e+05, 7.75566797e+04,\n",
              "        5.21453798e+04, 3.50600444e+04, 2.35726869e+04],\n",
              "       [2.10000000e+01, 5.69000000e+00, 3.67000000e+00, 4.41000000e+02,\n",
              "        1.19490000e+02, 7.70700000e+01, 3.23761000e+01, 2.08823000e+01,\n",
              "        1.34689000e+01, 9.26100000e+03, 2.50929000e+03, 1.61847000e+03,\n",
              "        6.79898100e+02, 4.38528300e+02, 2.82846900e+02, 1.84220009e+02,\n",
              "        1.18820287e+02, 7.66380410e+01, 4.94308630e+01, 1.94481000e+05,\n",
              "        5.26950900e+04, 3.39878700e+04, 1.42778601e+04, 9.20909430e+03,\n",
              "        5.93978490e+03, 3.86862019e+03, 2.49522603e+03, 1.60939886e+03,\n",
              "        1.03804812e+03, 1.04821185e+03, 6.76087433e+02, 4.36070453e+02,\n",
              "        2.81261610e+02, 1.81411267e+02, 4.08410100e+06, 1.10659689e+06,\n",
              "        7.13745270e+05, 2.99835062e+05, 1.93390980e+05, 1.24735483e+05,\n",
              "        8.12410240e+04, 5.23997466e+04, 3.37973761e+04, 2.17990106e+04,\n",
              "        2.20124489e+04, 1.41978361e+04, 9.15747952e+03, 5.90649382e+03,\n",
              "        3.80963661e+03, 5.96432543e+03, 3.84693749e+03, 2.48124088e+03,\n",
              "        1.60037856e+03, 1.03223011e+03, 6.65779351e+02],\n",
              "       [4.35000000e+01, 1.26000000e+01, 8.14000000e+00, 1.89225000e+03,\n",
              "        5.48100000e+02, 3.54090000e+02, 1.58760000e+02, 1.02564000e+02,\n",
              "        6.62596000e+01, 8.23128750e+04, 2.38423500e+04, 1.54029150e+04,\n",
              "        6.90606000e+03, 4.46153400e+03, 2.88229260e+03, 2.00037600e+03,\n",
              "        1.29230640e+03, 8.34870960e+02, 5.39353144e+02, 3.58061006e+06,\n",
              "        1.03714223e+06, 6.70026802e+05, 3.00413610e+05, 1.94076729e+05,\n",
              "        1.25379728e+05, 8.70163560e+04, 5.62153284e+04, 3.63168868e+04,\n",
              "        2.34618618e+04, 2.52047376e+04, 1.62830606e+04, 1.05193741e+04,\n",
              "        6.79584961e+03, 4.39033459e+03, 1.55756538e+08, 4.51156868e+07,\n",
              "        2.91461659e+07, 1.30679920e+07, 8.44233771e+06, 5.45401817e+06,\n",
              "        3.78521149e+06, 2.44536679e+06, 1.57978457e+06, 1.02059099e+06,\n",
              "        1.09640609e+06, 7.08313138e+05, 4.57592773e+05, 2.95619458e+05,\n",
              "        1.90979555e+05, 3.17579694e+05, 2.05166564e+05, 1.32544114e+05,\n",
              "        8.56277051e+04, 5.53182159e+04, 3.57373236e+04],\n",
              "       [1.62000000e+01, 4.59000000e+00, 2.63000000e+00, 2.62440000e+02,\n",
              "        7.43580000e+01, 4.26060000e+01, 2.10681000e+01, 1.20717000e+01,\n",
              "        6.91690000e+00, 4.25152800e+03, 1.20459960e+03, 6.90217200e+02,\n",
              "        3.41303220e+02, 1.95561540e+02, 1.12053780e+02, 9.67025790e+01,\n",
              "        5.54091030e+01, 3.17485710e+01, 1.81914470e+01, 6.88747536e+04,\n",
              "        1.95145135e+04, 1.11815186e+04, 5.52911216e+03, 3.16809695e+03,\n",
              "        1.81527124e+03, 1.56658178e+03, 8.97627469e+02, 5.14326850e+02,\n",
              "        2.94701441e+02, 4.43864838e+02, 2.54327783e+02, 1.45725941e+02,\n",
              "        8.34987417e+01, 4.78435056e+01, 1.11577101e+06, 3.16135119e+05,\n",
              "        1.81140602e+05, 8.95716171e+04, 5.13231706e+04, 2.94073940e+04,\n",
              "        2.53786248e+04, 1.45415650e+04, 8.33209497e+03, 4.77416335e+03,\n",
              "        7.19061037e+03, 4.12011008e+03, 2.36076024e+03, 1.35267962e+03,\n",
              "        7.75064791e+02, 2.03733960e+03, 1.16736452e+03, 6.68882069e+02,\n",
              "        3.83259225e+02, 2.19601691e+02, 1.25828420e+02],\n",
              "       [2.80000000e+01, 7.82000000e+00, 4.20000000e+00, 7.84000000e+02,\n",
              "        2.18960000e+02, 1.17600000e+02, 6.11524000e+01, 3.28440000e+01,\n",
              "        1.76400000e+01, 2.19520000e+04, 6.13088000e+03, 3.29280000e+03,\n",
              "        1.71226720e+03, 9.19632000e+02, 4.93920000e+02, 4.78211768e+02,\n",
              "        2.56840080e+02, 1.37944800e+02, 7.40880000e+01, 6.14656000e+05,\n",
              "        1.71664640e+05, 9.21984000e+04, 4.79434816e+04, 2.57496960e+04,\n",
              "        1.38297600e+04, 1.33899295e+04, 7.19152224e+03, 3.86245440e+03,\n",
              "        2.07446400e+03, 3.73961603e+03, 2.00848943e+03, 1.07872834e+03,\n",
              "        5.79368160e+02, 3.11169600e+02, 1.72103680e+07, 4.80660992e+06,\n",
              "        2.58155520e+06, 1.34241748e+06, 7.20991488e+05, 3.87233280e+05,\n",
              "        3.74918026e+05, 2.01362623e+05, 1.08148723e+05, 5.80849920e+04,\n",
              "        1.04709249e+05, 5.62377039e+04, 3.02043934e+04, 1.62223085e+04,\n",
              "        8.71274880e+03, 2.92437973e+04, 1.57063873e+04, 8.43565559e+03,\n",
              "        4.53065901e+03, 2.43334627e+03, 1.30691232e+03],\n",
              "       [2.73000000e+01, 8.32000000e+00, 5.14000000e+00, 7.45290000e+02,\n",
              "        2.27136000e+02, 1.40322000e+02, 6.92224000e+01, 4.27648000e+01,\n",
              "        2.64196000e+01, 2.03464170e+04, 6.20081280e+03, 3.83079060e+03,\n",
              "        1.88977152e+03, 1.16747904e+03, 7.21255080e+02, 5.75930368e+02,\n",
              "        3.55803136e+02, 2.19811072e+02, 1.35796744e+02, 5.55457184e+05,\n",
              "        1.69282189e+05, 1.04580583e+05, 5.15907625e+04, 3.18721778e+04,\n",
              "        1.96902637e+04, 1.57228990e+04, 9.71342561e+03, 6.00084227e+03,\n",
              "        3.70725111e+03, 4.79174066e+03, 2.96028209e+03, 1.82882812e+03,\n",
              "        1.12982891e+03, 6.97995264e+02, 1.51639811e+07, 4.62140377e+06,\n",
              "        2.85504993e+06, 1.40842782e+06, 8.70110454e+05, 5.37544199e+05,\n",
              "        4.29235144e+05, 2.65176519e+05, 1.63822994e+05, 1.01207955e+05,\n",
              "        1.30814520e+05, 8.08157011e+04, 4.99270076e+04, 3.08443292e+04,\n",
              "        1.90552707e+04, 3.98672823e+04, 2.46295470e+04, 1.52158500e+04,\n",
              "        9.40017653e+03, 5.80732060e+03, 3.58769566e+03]])"
            ]
          },
          "metadata": {},
          "execution_count": 33
        }
      ]
    },
    {
      "cell_type": "markdown",
      "source": [
        "## 다중 회귀 모델 훈련하기"
      ],
      "metadata": {
        "id": "hXXqunG7wqAU"
      }
    },
    {
      "cell_type": "code",
      "source": [
        "from sklearn.linear_model import LinearRegression\n",
        "lr = LinearRegression()\n",
        "lr.fit(train_poly, train_target)\n",
        "print(lr.score(train_poly, train_target))\n",
        "print(lr.score(test_poly, test_target))"
      ],
      "metadata": {
        "colab": {
          "base_uri": "https://localhost:8080/"
        },
        "id": "GzpV1mErwskc",
        "outputId": "c4d3f750-472e-4d5d-f4c4-251a602fb231"
      },
      "execution_count": null,
      "outputs": [
        {
          "output_type": "stream",
          "name": "stdout",
          "text": [
            "0.9903183436982124\n",
            "0.9714559911594134\n"
          ]
        }
      ]
    },
    {
      "cell_type": "code",
      "source": [
        "poly = PolynomialFeatures(degree = 5, include_bias=False)\n",
        "poly.fit(train_input)\n",
        "train_poly = poly.transform(train_input)\n",
        "test_poly = poly.transform(test_input)\n",
        "print(train_poly.shape)"
      ],
      "metadata": {
        "colab": {
          "base_uri": "https://localhost:8080/"
        },
        "id": "z-yUhdMnxT_K",
        "outputId": "7ffaa355-8066-4c0e-8a65-6ddd1d39ba5f"
      },
      "execution_count": null,
      "outputs": [
        {
          "output_type": "stream",
          "name": "stdout",
          "text": [
            "(42, 55)\n"
          ]
        }
      ]
    },
    {
      "cell_type": "code",
      "source": [
        "lr.fit(train_poly, train_target)\n",
        "print(lr.score(train_poly, train_target))\n",
        "print(lr.score(test_poly, test_target))"
      ],
      "metadata": {
        "colab": {
          "base_uri": "https://localhost:8080/"
        },
        "id": "6EUkDeJF1uQv",
        "outputId": "ebe4b230-f482-48e1-850d-44478dc9e7f4"
      },
      "execution_count": null,
      "outputs": [
        {
          "output_type": "stream",
          "name": "stdout",
          "text": [
            "0.9999999999991097\n",
            "-144.40579242684848\n"
          ]
        }
      ]
    },
    {
      "cell_type": "markdown",
      "source": [
        "# 규제"
      ],
      "metadata": {
        "id": "L1ssYQ5S3OSV"
      }
    },
    {
      "cell_type": "code",
      "source": [
        "from sklearn.preprocessing import StandardScaler\n",
        "ss = StandardScaler()\n",
        "ss.fit(train_poly)\n",
        "\n",
        "train_scaled = ss.transform(train_poly)\n",
        "test_scaled = ss.transform(test_poly)"
      ],
      "metadata": {
        "id": "YVBf2QO13QQD"
      },
      "execution_count": null,
      "outputs": []
    },
    {
      "cell_type": "code",
      "source": [
        "test_scaled"
      ],
      "metadata": {
        "id": "Lw1tCB354Efq"
      },
      "execution_count": null,
      "outputs": []
    },
    {
      "cell_type": "code",
      "source": [
        "ss.mean_, ss.scale_,     # 평균값, 표준편차"
      ],
      "metadata": {
        "colab": {
          "base_uri": "https://localhost:8080/"
        },
        "id": "cqPmFwh-4lqd",
        "outputId": "2e29b0bf-ae04-4918-900b-dfd5055ea8cc"
      },
      "execution_count": null,
      "outputs": [
        {
          "output_type": "execute_result",
          "data": {
            "text/plain": [
              "(array([2.84452381e+01, 8.04238095e+00, 4.82047619e+00, 8.85315000e+02,\n",
              "        2.53486881e+02, 1.51959000e+02, 7.29365000e+01, 4.36999452e+01,\n",
              "        2.62868381e+01, 2.97326070e+04, 8.59817581e+03, 5.15200651e+03,\n",
              "        2.49680043e+03, 1.49567194e+03, 8.99184494e+02, 7.27945149e+02,\n",
              "        4.36019840e+02, 2.62115117e+02, 1.58141990e+02, 1.05917983e+06,\n",
              "        3.08429517e+05, 1.84644673e+05, 9.01239554e+04, 5.39478286e+04,\n",
              "        3.23998082e+04, 2.64224658e+04, 1.58167367e+04, 9.49991053e+03,\n",
              "        5.72489005e+03, 7.77162422e+03, 4.65285399e+03, 2.79521756e+03,\n",
              "        1.68494739e+03, 1.01911272e+03, 3.93876111e+07, 1.15192532e+07,\n",
              "        6.88842737e+06, 3.37865413e+06, 2.02034307e+06, 1.21184517e+06,\n",
              "        9.93774754e+05, 5.94291271e+05, 3.56516573e+05, 2.14541208e+05,\n",
              "        2.93110780e+05, 1.75313851e+05, 1.05196649e+05, 6.33244641e+04,\n",
              "        3.82394901e+04, 8.66870097e+04, 5.18625239e+04, 3.11308026e+04,\n",
              "        1.87477065e+04, 1.13270112e+04, 6.86569419e+03]),\n",
              " array([8.72831196e+00, 2.87343151e+00, 1.74638123e+00, 5.24782988e+02,\n",
              "        1.60836428e+02, 9.64793789e+01, 4.95165749e+01, 2.97578956e+01,\n",
              "        1.81139412e+01, 2.50155373e+04, 7.49275582e+03, 4.47153009e+03,\n",
              "        2.25433695e+03, 1.34683566e+03, 8.11988865e+02, 6.81265335e+02,\n",
              "        4.07639942e+02, 2.46263218e+02, 1.50164227e+02, 1.10854579e+06,\n",
              "        3.28247889e+05, 1.95342267e+05, 9.76153931e+04, 5.81064317e+04,\n",
              "        3.48472685e+04, 2.91591483e+04, 1.73674986e+04, 1.04273041e+04,\n",
              "        6.30922253e+03, 8.75059964e+03, 5.21694989e+03, 3.13701782e+03,\n",
              "        1.90225250e+03, 1.16311955e+03, 4.77814865e+07, 1.40483165e+07,\n",
              "        8.34702250e+06, 4.14736151e+06, 2.46313653e+06, 1.47240427e+06,\n",
              "        1.22970655e+06, 7.30196641e+05, 4.36628701e+05, 2.62841007e+05,\n",
              "        3.66270535e+05, 2.17518714e+05, 1.30152823e+05, 7.84482709e+04,\n",
              "        4.76246733e+04, 1.09609367e+05, 6.51258832e+04, 3.90090183e+04,\n",
              "        2.35520992e+04, 1.43325296e+04, 8.79122582e+03]))"
            ]
          },
          "metadata": {},
          "execution_count": 43
        }
      ]
    },
    {
      "cell_type": "markdown",
      "source": [
        "### 릿지(ridge) 와 라쏘(lasso)\n",
        "- 선형회귀모델에 규제를 추가한 모델\n",
        "- 릿지는 계수를 제곱한값을 기준으로 규제를 적용\n",
        "- 라쏘는 계수의 절대값을 기준으로 규제 적용\n",
        "- 일반적으로 릿지 선호\n",
        "- 두 알고리즘 모두 계수의 크기를 줄임\n",
        "- 라쏘는 아예 0 으로도 만듦, 릿지는 0에 가까워 질 뿐 0이 되진 않음\n",
        "- 특성이 중요도가 비슷하면 릿지, 특정 특성이 중요하면 라쏘를 선호 \n"
      ],
      "metadata": {
        "id": "vw5SUiqx5HGW"
      }
    },
    {
      "cell_type": "markdown",
      "source": [
        "- Ridge"
      ],
      "metadata": {
        "id": "zvwANduWGL0v"
      }
    },
    {
      "cell_type": "code",
      "source": [
        "from sklearn.linear_model import Ridge\n",
        "ridge = Ridge()\n",
        "ridge.fit(train_scaled, train_target)\n",
        "print(ridge.score(train_scaled, train_target))\n",
        "print(ridge.score(test_scaled, test_target))"
      ],
      "metadata": {
        "colab": {
          "base_uri": "https://localhost:8080/"
        },
        "id": "UjC5ig8O5I_K",
        "outputId": "d0131541-acb6-4561-882c-b8fd3416638d"
      },
      "execution_count": null,
      "outputs": [
        {
          "output_type": "stream",
          "name": "stdout",
          "text": [
            "0.9896101671037343\n",
            "0.9790693977615397\n"
          ]
        }
      ]
    },
    {
      "cell_type": "code",
      "source": [
        "import matplotlib.pyplot as plt\n",
        "train_score = []\n",
        "test_score = []\n",
        "\n",
        "alpha_list = [0.001, 0.01, 0.1, 1, 10, 100]\n",
        "for alpha in alpha_list:\n",
        "  # 릿지 모델을 만듭니다\n",
        "  ridge = Ridge(alpha = alpha)\n",
        "  # 릿지 모델을 훈련합니다\n",
        "  ridge.fit(train_scaled, train_target)\n",
        "  # 훈련 점수와 테스트 점수를 저장합니다\n",
        "  train_score.append(ridge.score(train_scaled, train_target))\n",
        "  test_score.append(ridge.score(test_scaled, test_target))"
      ],
      "metadata": {
        "id": "ynaqUeNODEFx"
      },
      "execution_count": null,
      "outputs": []
    },
    {
      "cell_type": "code",
      "source": [
        "plt.plot(np.log10(alpha_list), train_score)\n",
        "plt.plot(np.log10(alpha_list), test_score)\n",
        "plt.xlabel('alpha')\n",
        "plt.ylabel('R^2')\n",
        "plt.show()"
      ],
      "metadata": {
        "colab": {
          "base_uri": "https://localhost:8080/",
          "height": 279
        },
        "id": "FNMzlL_gEIt6",
        "outputId": "3dd3555d-6ae5-47ab-bf6b-5fcc2bea36a0"
      },
      "execution_count": null,
      "outputs": [
        {
          "output_type": "display_data",
          "data": {
            "text/plain": [
              "<Figure size 432x288 with 1 Axes>"
            ],
            "image/png": "[encoded data removed]"
          },
          "metadata": {
            "needs_background": "light"
          }
        }
      ]
    },
    {
      "cell_type": "code",
      "source": [
        "ridge = Ridge(alpha=0.1)\n",
        "ridge.fit(train_scaled, train_target)\n",
        "print(ridge.score(train_scaled, train_target))\n",
        "print(ridge.score(test_scaled, test_target))"
      ],
      "metadata": {
        "colab": {
          "base_uri": "https://localhost:8080/"
        },
        "id": "kG3GXSY5FlVk",
        "outputId": "975eb441-9c35-4633-db28-7a24c386505f"
      },
      "execution_count": null,
      "outputs": [
        {
          "output_type": "stream",
          "name": "stdout",
          "text": [
            "0.9903815817570366\n",
            "0.9827976465386926\n"
          ]
        }
      ]
    },
    {
      "cell_type": "markdown",
      "source": [
        "- Lasso"
      ],
      "metadata": {
        "id": "kI0jF7uvGS42"
      }
    },
    {
      "cell_type": "code",
      "source": [
        "from sklearn.linear_model import Lasso\n",
        "lasso = Lasso()\n",
        "lasso.fit(train_scaled, train_target)\n",
        "print(lasso.score(train_scaled, train_target))\n",
        "print(lasso.score(test_scaled, test_target))"
      ],
      "metadata": {
        "colab": {
          "base_uri": "https://localhost:8080/"
        },
        "id": "f39WdsZuGUk_",
        "outputId": "db8dc814-1582-4bad-fe3c-8319efaa67bf"
      },
      "execution_count": null,
      "outputs": [
        {
          "output_type": "stream",
          "name": "stdout",
          "text": [
            "0.989789897208096\n",
            "0.9800593698421883\n"
          ]
        }
      ]
    },
    {
      "cell_type": "code",
      "source": [
        "train_score = []\n",
        "test_score = []\n",
        "alpha_list = [0.001, 0.01, 0.1, 1, 10, 100]\n",
        "for alpha in alpha_list:\n",
        "  # 라쏘 모델을 만듭니다\n",
        "  lasso = Lasso(alpha=alpha, max_iter=1000)\n",
        "  # 라쏘 모델을 훈련합니다\n",
        "  lasso.fit(train_scaled, train_target)\n",
        "  # 훈련 점수와 테스트 점수를 저장합니다\n",
        "  train_score.append(lasso.score(train_scaled, train_target))\n",
        "  test_score.append(lasso.score(test_scaled, test_target))"
      ],
      "metadata": {
        "id": "7aZUhth1HBpZ"
      },
      "execution_count": null,
      "outputs": []
    },
    {
      "cell_type": "code",
      "source": [
        "print(train_score, test_score)"
      ],
      "metadata": {
        "colab": {
          "base_uri": "https://localhost:8080/"
        },
        "id": "6KH9f7QqH7K3",
        "outputId": "5cf1d1dd-c6b5-4280-f41c-f87754a716d7"
      },
      "execution_count": null,
      "outputs": [
        {
          "output_type": "stream",
          "name": "stdout",
          "text": [
            "[0.9930455252088191, 0.9917809981250538, 0.9903815817570366, 0.9896101671037343, 0.988728468997471, 0.9841843235774494, 0.990856843502147, 0.990856843502147, 0.9907921500205304, 0.990137631128448, 0.989789897208096, 0.9888067471131867, 0.9078632190121442] [0.9836870822242811, 0.9836730006301534, 0.9819405116249363, 0.9800593698421883, 0.9824470598706695, 0.9089071866576974]\n"
          ]
        }
      ]
    },
    {
      "cell_type": "code",
      "source": [
        "import matplotlib.pyplot as plt\n",
        "\n",
        "plt.plot(np.log10(alpha_list), train_score)\n",
        "plt.plot(np.log10(alpha_list),test_score)\n",
        "plt.xlabel('alpha')\n",
        "plt.ylabel('R^2')\n",
        "plt.show()"
      ],
      "metadata": {
        "colab": {
          "base_uri": "https://localhost:8080/",
          "height": 279
        },
        "id": "wvy4bCWjIACQ",
        "outputId": "a4369a4c-3284-4c13-e5af-8383ae6dbbef"
      },
      "execution_count": null,
      "outputs": [
        {
          "output_type": "display_data",
          "data": {
            "text/plain": [
              "<Figure size 432x288 with 1 Axes>"
            ],
            "image/png": "[encoded data removed]"
          },
          "metadata": {
            "needs_background": "light"
          }
        }
      ]
    },
    {
      "cell_type": "code",
      "source": [
        "lasso = Lasso(alpha=10)\n",
        "lasso.fit(train_scaled, train_target)\n",
        "print(lasso.score(train_scaled, train_target))\n",
        "print(lasso.score(test_scaled, test_target))"
      ],
      "metadata": {
        "colab": {
          "base_uri": "https://localhost:8080/"
        },
        "id": "az4OEvmHJAkl",
        "outputId": "ba1e2786-c6f2-4b34-dd89-02a8980cd0e9"
      },
      "execution_count": null,
      "outputs": [
        {
          "output_type": "stream",
          "name": "stdout",
          "text": [
            "0.9888067471131867\n",
            "0.9824470598706695\n"
          ]
        }
      ]
    },
    {
      "cell_type": "code",
      "source": [
        "print(ridge.coef_)"
      ],
      "metadata": {
        "colab": {
          "base_uri": "https://localhost:8080/"
        },
        "id": "5s1zNHy3JXu_",
        "outputId": "b256cfa0-1bde-4395-c0ef-e03b5f4d4f32"
      },
      "execution_count": null,
      "outputs": [
        {
          "output_type": "stream",
          "name": "stdout",
          "text": [
            "[ 27.61933479  -1.64022156 -19.73256036  30.0306195   16.99800255\n",
            "  17.83247301   4.46928273   3.87258547  22.8351822   19.50417483\n",
            "  17.75985317  14.53122144  13.34875736   7.57294011  19.2573194\n",
            "   5.12766348  -2.05671393  10.62376405  41.72322888   5.90722851\n",
            "  14.93389276  -0.4506018   19.86035413   1.27084276  -1.00708878\n",
            "  19.69043816  -1.15817017  -3.57357468  11.96629206  13.68484378\n",
            "  -8.41738209  -9.97919956   8.42421045  45.51544903  -6.23828569\n",
            "  13.36080282 -17.64759601  28.23566212  -6.56619234 -25.89115813\n",
            "  37.3785331   -0.39779345 -20.82275921 -23.80607786  39.96650626\n",
            "   0.10569722 -20.49768851 -21.74712923  -4.12579289  35.39224119\n",
            "  -5.59195    -25.3889504  -23.93962265  -1.89229971  39.44235556]\n"
          ]
        }
      ]
    },
    {
      "cell_type": "code",
      "source": [
        "print(lasso.coef_)"
      ],
      "metadata": {
        "colab": {
          "base_uri": "https://localhost:8080/"
        },
        "id": "fJt0KT2XJbra",
        "outputId": "b0b45aea-4155-4d69-93ed-2c16bff34cb4"
      },
      "execution_count": null,
      "outputs": [
        {
          "output_type": "stream",
          "name": "stdout",
          "text": [
            "[ 0.          0.          0.         12.14852453 55.44856399 42.23100799\n",
            "  0.          0.         13.70596191  0.         43.2185952   5.7033775\n",
            " 47.46254536  7.42309425 11.85823365  0.          0.         13.53038193\n",
            " 21.22111356  0.          0.          0.          0.          0.\n",
            "  0.         18.66993032  0.          0.          0.         15.81041778\n",
            "  0.          0.          0.          0.          0.          0.\n",
            "  0.          0.          0.          0.          0.          0.\n",
            "  0.          0.         18.14672268  0.          0.          0.\n",
            "  0.         15.51272953  0.          0.          0.          0.\n",
            "  0.        ]\n"
          ]
        }
      ]
    }
  ]
}