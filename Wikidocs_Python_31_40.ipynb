{
  "nbformat": 4,
  "nbformat_minor": 0,
  "metadata": {
    "colab": {
      "name": "Wikidocs_Python_31-40.ipynb",
      "provenance": [],
      "collapsed_sections": [],
      "authorship_tag": "ABX9TyOxSXj1eoDTVluVUT8SSYlQ",
      "include_colab_link": true
    },
    "kernelspec": {
      "name": "python3",
      "display_name": "Python 3"
    },
    "language_info": {
      "name": "python"
    }
  },
  "cells": [
    {
      "cell_type": "markdown",
      "metadata": {
        "id": "view-in-github",
        "colab_type": "text"
      },
      "source": [
        "<a href=\"https://colab.research.google.com/github/mohyunyang/MyStudy/blob/master/Wikidocs_Python_31_40.ipynb\" target=\"_parent\"><img src=\"https://colab.research.google.com/assets/colab-badge.svg\" alt=\"Open In Colab\"/></a>"
      ]
    },
    {
      "cell_type": "markdown",
      "source": [
        "# 031 문자열 합치기"
      ],
      "metadata": {
        "id": "oRHCNkGs2ngC"
      }
    },
    {
      "cell_type": "code",
      "source": [
        "a = \"3\"\n",
        "b = \"4\"\n",
        "print(a + b)"
      ],
      "metadata": {
        "colab": {
          "base_uri": "https://localhost:8080/"
        },
        "id": "y7013gpd2wSo",
        "outputId": "0141e716-3885-4335-ceb4-5c632044604d"
      },
      "execution_count": 1,
      "outputs": [
        {
          "output_type": "stream",
          "name": "stdout",
          "text": [
            "34\n"
          ]
        }
      ]
    },
    {
      "cell_type": "markdown",
      "source": [
        "# 032 문자열 곱하기"
      ],
      "metadata": {
        "id": "kXMPKnfY22L7"
      }
    },
    {
      "cell_type": "code",
      "source": [
        "print(\"Hi\" * 3)"
      ],
      "metadata": {
        "colab": {
          "base_uri": "https://localhost:8080/"
        },
        "id": "6E3zQoS123ee",
        "outputId": "644aad36-3768-4076-f6aa-b70eb53e039f"
      },
      "execution_count": 2,
      "outputs": [
        {
          "output_type": "stream",
          "name": "stdout",
          "text": [
            "HiHiHi\n"
          ]
        }
      ]
    },
    {
      "cell_type": "markdown",
      "source": [
        "#033 문자열 곱하기\n",
        "\n",
        "화면에 '-'를 80개 출력하세요."
      ],
      "metadata": {
        "id": "zaU3ScAN25uL"
      }
    },
    {
      "cell_type": "code",
      "source": [
        "print(\"-\"*80)"
      ],
      "metadata": {
        "colab": {
          "base_uri": "https://localhost:8080/"
        },
        "id": "6Tq1gbBW29pv",
        "outputId": "85b05e98-6b95-4122-b1df-8e2f1e8267c5"
      },
      "execution_count": 3,
      "outputs": [
        {
          "output_type": "stream",
          "name": "stdout",
          "text": [
            "--------------------------------------------------------------------------------\n"
          ]
        }
      ]
    },
    {
      "cell_type": "markdown",
      "source": [
        "# 034 문자열 곱하기"
      ],
      "metadata": {
        "id": "kepLgeKW3BDT"
      }
    },
    {
      "cell_type": "code",
      "source": [
        "t1 = 'python'\n",
        "t2 = 'java'"
      ],
      "metadata": {
        "id": "Rd0k0Cqe3Dev"
      },
      "execution_count": 10,
      "outputs": []
    },
    {
      "cell_type": "markdown",
      "source": [
        "python java python java python java python java"
      ],
      "metadata": {
        "id": "OpujUUPY3Jbf"
      }
    },
    {
      "cell_type": "code",
      "source": [
        "t3 = t1 + \" \" + t2 + \" \"\n",
        "print(t3 * 4)"
      ],
      "metadata": {
        "colab": {
          "base_uri": "https://localhost:8080/"
        },
        "id": "uB_p2B5G3K2p",
        "outputId": "6701234d-d569-40df-dcbb-bfab5310e661"
      },
      "execution_count": 14,
      "outputs": [
        {
          "output_type": "stream",
          "name": "stdout",
          "text": [
            "python java python java python java python java \n"
          ]
        }
      ]
    },
    {
      "cell_type": "markdown",
      "source": [
        "# 035 문자열 출력"
      ],
      "metadata": {
        "id": "UrMQIOXS3tJd"
      }
    },
    {
      "cell_type": "code",
      "source": [
        "name1 = \"김민수\" \n",
        "age1 = 10\n",
        "name2 = \"이철희\"\n",
        "age2 = 13"
      ],
      "metadata": {
        "id": "-WqgqSmq3xgw"
      },
      "execution_count": 16,
      "outputs": []
    },
    {
      "cell_type": "code",
      "source": [
        "print('이름: ',name1, '나이: ', age1)\n",
        "print('이름: ',name2, '나이: ', age2)"
      ],
      "metadata": {
        "colab": {
          "base_uri": "https://localhost:8080/"
        },
        "id": "060Klbxw3yYG",
        "outputId": "c2f51280-883f-4900-b051-fc72bea8f778"
      },
      "execution_count": 21,
      "outputs": [
        {
          "output_type": "stream",
          "name": "stdout",
          "text": [
            "이름:  김민수 나이:  10\n",
            "이름:  이철희 나이:  13\n"
          ]
        }
      ]
    },
    {
      "cell_type": "markdown",
      "source": [
        "#036 문자열 출력 "
      ],
      "metadata": {
        "id": "0x6piwYY4E3P"
      }
    },
    {
      "cell_type": "code",
      "source": [
        "print('이름 : {} 나이: {}'.format(name1, age1))\n",
        "print('이름 : {} 나이: {}'.format(name2, age2))"
      ],
      "metadata": {
        "colab": {
          "base_uri": "https://localhost:8080/"
        },
        "id": "s-X3MtKi4Gk4",
        "outputId": "f9f52287-01e6-4a94-b3cc-a8530b289066"
      },
      "execution_count": 26,
      "outputs": [
        {
          "output_type": "stream",
          "name": "stdout",
          "text": [
            "이름 : 김민수 나이: 10\n",
            "이름 : 이철희 나이: 13\n"
          ]
        }
      ]
    },
    {
      "cell_type": "markdown",
      "source": [
        "# 037 문자열 출력\n",
        "\n",
        "파이썬 3.6부터 지원하는 f-string을 사용해서 035번 문제를 다시 풀어보세요."
      ],
      "metadata": {
        "id": "_dHPIoB54cpO"
      }
    },
    {
      "cell_type": "code",
      "source": [
        "name1 = \"김민수\" \n",
        "age1 = 10\n",
        "name2 = \"이철희\"\n",
        "age2 = 13\n",
        "print(f\"이름: {name1} 나이: {age1}\")\n",
        "print(f\"이름: {name2} 나이: {age2}\")"
      ],
      "metadata": {
        "colab": {
          "base_uri": "https://localhost:8080/"
        },
        "id": "6gxN_BPT4gIw",
        "outputId": "eae8356f-bd11-408b-a85e-48339550d7a7"
      },
      "execution_count": 28,
      "outputs": [
        {
          "output_type": "stream",
          "name": "stdout",
          "text": [
            "이름: 김민수 나이: 10\n",
            "이름: 이철희 나이: 13\n"
          ]
        }
      ]
    },
    {
      "cell_type": "markdown",
      "source": [
        "# 038 컴마 제거하기"
      ],
      "metadata": {
        "id": "kxvBXwAF4vUk"
      }
    },
    {
      "cell_type": "code",
      "source": [
        "상장주식수 = \"5,969,782,550\""
      ],
      "metadata": {
        "id": "TPqqBr4A4yZU"
      },
      "execution_count": 29,
      "outputs": []
    },
    {
      "cell_type": "code",
      "source": [
        "상장주식수 = \"5,969,782,550\"\n",
        "컴마제거 = 상장주식수.replace(',','')\n",
        "print(int(컴마제거))"
      ],
      "metadata": {
        "colab": {
          "base_uri": "https://localhost:8080/"
        },
        "id": "fn5AjOuq4zQK",
        "outputId": "ec5beae8-2e2b-4db4-c877-cc13d4eea980"
      },
      "execution_count": 30,
      "outputs": [
        {
          "output_type": "stream",
          "name": "stdout",
          "text": [
            "5969782550\n"
          ]
        }
      ]
    },
    {
      "cell_type": "markdown",
      "source": [
        "#039 문자열 슬라이싱\n",
        " "
      ],
      "metadata": {
        "id": "6aPi9KMM5APb"
      }
    },
    {
      "cell_type": "markdown",
      "source": [
        "다음과 같은 문자열에서 '2020/03'만 출력하세요."
      ],
      "metadata": {
        "id": "ZEy4lmCr5CSN"
      }
    },
    {
      "cell_type": "code",
      "source": [
        "분기 = \"2020/03(E) (IFRS연결)\"\n",
        "print(분기[:7])"
      ],
      "metadata": {
        "colab": {
          "base_uri": "https://localhost:8080/"
        },
        "id": "ppyJdlxu5IxD",
        "outputId": "c166bb56-8d32-45ad-826d-1102d3787ddd"
      },
      "execution_count": 33,
      "outputs": [
        {
          "output_type": "stream",
          "name": "stdout",
          "text": [
            "2020/03\n"
          ]
        }
      ]
    },
    {
      "cell_type": "markdown",
      "source": [
        "# 040 strip 메서드"
      ],
      "metadata": {
        "id": "9E6bLyxT5VLJ"
      }
    },
    {
      "cell_type": "code",
      "source": [
        "#문자열의 좌우의 공백이 있을 때 이를 제거해보세요.\n",
        "\n",
        "data = \"   삼성전자    \""
      ],
      "metadata": {
        "id": "Pn5c7CI25Wix"
      },
      "execution_count": 34,
      "outputs": []
    },
    {
      "cell_type": "code",
      "source": [
        "print(data.strip()) # 좌우의 공백을 제거할 수 있습니다. "
      ],
      "metadata": {
        "colab": {
          "base_uri": "https://localhost:8080/"
        },
        "id": "1JPie_7H5Zc0",
        "outputId": "f998cf59-f03f-4c05-a1ce-bf6ec4907d46"
      },
      "execution_count": 37,
      "outputs": [
        {
          "output_type": "stream",
          "name": "stdout",
          "text": [
            "삼성전자\n"
          ]
        }
      ]
    },
    {
      "cell_type": "code",
      "source": [
        "data1 = \"     엘쥐\"\n",
        "print(data1.strip())"
      ],
      "metadata": {
        "colab": {
          "base_uri": "https://localhost:8080/"
        },
        "id": "1sc9Lm2O5rqD",
        "outputId": "806c0052-98f2-4307-98d0-871f60277c70"
      },
      "execution_count": 38,
      "outputs": [
        {
          "output_type": "stream",
          "name": "stdout",
          "text": [
            "엘쥐\n"
          ]
        }
      ]
    }
  ]
}