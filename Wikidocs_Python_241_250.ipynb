{
  "nbformat": 4,
  "nbformat_minor": 0,
  "metadata": {
    "colab": {
      "name": "Wikidocs_Python_241-250.ipynb",
      "provenance": [],
      "collapsed_sections": [],
      "authorship_tag": "ABX9TyPMxu0O6uhOcEbE5xOruthp",
      "include_colab_link": true
    },
    "kernelspec": {
      "name": "python3",
      "display_name": "Python 3"
    },
    "language_info": {
      "name": "python"
    }
  },
  "cells": [
    {
      "cell_type": "markdown",
      "metadata": {
        "id": "view-in-github",
        "colab_type": "text"
      },
      "source": [
        "<a href=\"https://colab.research.google.com/github/mohyunyang/MyStudy/blob/master/Wikidocs_Python_241_250.ipynb\" target=\"_parent\"><img src=\"https://colab.research.google.com/assets/colab-badge.svg\" alt=\"Open In Colab\"/></a>"
      ]
    },
    {
      "cell_type": "markdown",
      "source": [
        "241 현재시간\n",
        "datetime 모듈을 사용해서 현재 시간을 화면에 출력해보세요."
      ],
      "metadata": {
        "id": "jrSv0Y9x5gLf"
      }
    },
    {
      "cell_type": "code",
      "source": [
        "import datetime\n",
        "\n",
        "now = datetime.datetime.now()\n",
        "print(now)"
      ],
      "metadata": {
        "colab": {
          "base_uri": "https://localhost:8080/"
        },
        "id": "aGb1FKcc5oSy",
        "outputId": "9fbab99d-cfe8-414a-e06e-9e842d5eb82e"
      },
      "execution_count": 1,
      "outputs": [
        {
          "output_type": "stream",
          "name": "stdout",
          "text": [
            "2022-07-06 09:47:02.437618\n"
          ]
        }
      ]
    },
    {
      "cell_type": "markdown",
      "source": [
        "242 현재시간의 타입\n",
        "datetime 모듈의 now 함수의 리턴 값의 타입을 화면에 출력해보세요."
      ],
      "metadata": {
        "id": "vDxEjliX573e"
      }
    },
    {
      "cell_type": "code",
      "source": [
        "import datetime\n",
        "\n",
        "now = datetime.datetime.now()\n",
        "print(now, type(now))"
      ],
      "metadata": {
        "colab": {
          "base_uri": "https://localhost:8080/"
        },
        "id": "-C6f2Agu5_2e",
        "outputId": "f12724b4-b1e6-4d24-b7dd-2dc6e91875c8"
      },
      "execution_count": 2,
      "outputs": [
        {
          "output_type": "stream",
          "name": "stdout",
          "text": [
            "2022-07-06 09:47:14.453222 <class 'datetime.datetime'>\n"
          ]
        }
      ]
    },
    {
      "cell_type": "markdown",
      "source": [
        "243 timedelta\n",
        "datetime 모듈의 timedelta를 사용해서 오늘로부터 5일, 4일, 3일, 2일, 1일 전의 날짜를 화면에 출력해보세요."
      ],
      "metadata": {
        "id": "j7q1b-3k6c9X"
      }
    },
    {
      "cell_type": "code",
      "source": [
        "import datetime\n",
        "\n",
        "now = datetime.datetime.now()\n",
        "\n",
        "for day in range(5, 0, -1):\n",
        "    delta = datetime.timedelta(days=day)\n",
        "    date = now - delta\n",
        "    print(date)"
      ],
      "metadata": {
        "colab": {
          "base_uri": "https://localhost:8080/"
        },
        "id": "n2TPYva96dab",
        "outputId": "0a1bc703-ddd9-40ff-9090-22537b535c6b"
      },
      "execution_count": 3,
      "outputs": [
        {
          "output_type": "stream",
          "name": "stdout",
          "text": [
            "2022-07-01 09:49:15.491256\n",
            "2022-07-02 09:49:15.491256\n",
            "2022-07-03 09:49:15.491256\n",
            "2022-07-04 09:49:15.491256\n",
            "2022-07-05 09:49:15.491256\n"
          ]
        }
      ]
    },
    {
      "cell_type": "markdown",
      "source": [
        "244 strftime\n",
        "현재시간을 얻어온 후 다음과 같은 포맷으로 시간을 출력해보세요. strftime 메서드를 사용하세요."
      ],
      "metadata": {
        "id": "P27CKB3p6kha"
      }
    },
    {
      "cell_type": "code",
      "source": [
        "import datetime\n",
        "\n",
        "now = datetime.datetime.now()\n",
        "print(now.strftime(\"%H:%M:%S\"))"
      ],
      "metadata": {
        "colab": {
          "base_uri": "https://localhost:8080/"
        },
        "id": "adjbxX-L6l_c",
        "outputId": "09039d0a-da1a-4dfa-ca5a-2d17be756bd2"
      },
      "execution_count": 4,
      "outputs": [
        {
          "output_type": "stream",
          "name": "stdout",
          "text": [
            "09:49:52\n"
          ]
        }
      ]
    },
    {
      "cell_type": "markdown",
      "source": [
        "245 strptime\n",
        "datetime.datetime.strptime 메서드를 사용하면 문자열 형식의 시간을 datetime.datetime 타입의 시간 값으로 만들어줍니다. \"2020-05-04\"의 문자열을 시간 타입으로 변환해보세요."
      ],
      "metadata": {
        "id": "jvlRnwI46rEB"
      }
    },
    {
      "cell_type": "code",
      "source": [
        "import datetime\n",
        "\n",
        "day = \"2020-05-04\"\n",
        "ret = datetime.datetime.strptime(day, \"%Y-%m-%d\")\n",
        "print(ret, type(ret))"
      ],
      "metadata": {
        "colab": {
          "base_uri": "https://localhost:8080/"
        },
        "id": "lbOYtrPI6sfV",
        "outputId": "0ad33bdf-164d-425a-8e68-9fc469c3bbaa"
      },
      "execution_count": 5,
      "outputs": [
        {
          "output_type": "stream",
          "name": "stdout",
          "text": [
            "2020-05-04 00:00:00 <class 'datetime.datetime'>\n"
          ]
        }
      ]
    },
    {
      "cell_type": "markdown",
      "source": [
        "246 sleep 함수\n",
        "time 모듈, datetime 모듈을 사용해서 1초에 한 번 현재 시간을 출력하는 코드를 작성하세요."
      ],
      "metadata": {
        "id": "fKcCae6-6w9H"
      }
    },
    {
      "cell_type": "code",
      "source": [
        "import time\n",
        "import datetime\n",
        "\n",
        "while True:\n",
        "    now = datetime.datetime.now()\n",
        "    print(now)\n",
        "    time.sleep(1)"
      ],
      "metadata": {
        "id": "FY4TVBJl6yR-"
      },
      "execution_count": null,
      "outputs": []
    },
    {
      "cell_type": "markdown",
      "source": [
        "247 모듈 임포트\n",
        "모듈을 임포트하는 4가지 방식에 대해 설명해보세요."
      ],
      "metadata": {
        "id": "mY2h84Qq6z8c"
      }
    },
    {
      "cell_type": "markdown",
      "source": [
        "248 os 모듈\n",
        "os 모듈의 getcwd 함수를 호출하여 현재 디렉터리의 경로를 화면에 출력해보세요."
      ],
      "metadata": {
        "id": "ndhwQgwv61ZS"
      }
    },
    {
      "cell_type": "code",
      "source": [
        "import os\n",
        "ret = os.getcwd()\n",
        "print(ret, type(ret))"
      ],
      "metadata": {
        "colab": {
          "base_uri": "https://localhost:8080/"
        },
        "id": "jW_FKr7r63jo",
        "outputId": "741f9ec5-9486-4452-e805-f4bf67676685"
      },
      "execution_count": 6,
      "outputs": [
        {
          "output_type": "stream",
          "name": "stdout",
          "text": [
            "/content <class 'str'>\n"
          ]
        }
      ]
    },
    {
      "cell_type": "markdown",
      "source": [
        "249 rename 함수\n",
        "바탕화면에 텍스트 파일을 하나 생성한 후 os 모듈의 rename 함수를 호출하여 해당 파일의 이름을 변경해보세요."
      ],
      "metadata": {
        "id": "eAF7KLGN66RP"
      }
    },
    {
      "cell_type": "code",
      "source": [
        "import os\n",
        "os.rename(\"C:/Users/hyunh/Desktop/before.txt\", \"C:/Users/hyunh/Desktop/after.txt\")"
      ],
      "metadata": {
        "id": "HlPiL5aS67qx"
      },
      "execution_count": null,
      "outputs": []
    },
    {
      "cell_type": "markdown",
      "source": [
        "250 numpy"
      ],
      "metadata": {
        "id": "uaTkICA-6-8w"
      }
    },
    {
      "cell_type": "code",
      "source": [
        "import numpy\n",
        "for i in numpy.arange(0, 5, 0.1):\n",
        "  print(i)"
      ],
      "metadata": {
        "colab": {
          "base_uri": "https://localhost:8080/"
        },
        "id": "rxNfTTf87BDj",
        "outputId": "d054e162-ffc2-44ed-aa8a-a1e550dbe530"
      },
      "execution_count": 12,
      "outputs": [
        {
          "output_type": "stream",
          "name": "stdout",
          "text": [
            "0.0\n",
            "0.1\n",
            "0.2\n",
            "0.30000000000000004\n",
            "0.4\n",
            "0.5\n",
            "0.6000000000000001\n",
            "0.7000000000000001\n",
            "0.8\n",
            "0.9\n",
            "1.0\n",
            "1.1\n",
            "1.2000000000000002\n",
            "1.3\n",
            "1.4000000000000001\n",
            "1.5\n",
            "1.6\n",
            "1.7000000000000002\n",
            "1.8\n",
            "1.9000000000000001\n",
            "2.0\n",
            "2.1\n",
            "2.2\n",
            "2.3000000000000003\n",
            "2.4000000000000004\n",
            "2.5\n",
            "2.6\n",
            "2.7\n",
            "2.8000000000000003\n",
            "2.9000000000000004\n",
            "3.0\n",
            "3.1\n",
            "3.2\n",
            "3.3000000000000003\n",
            "3.4000000000000004\n",
            "3.5\n",
            "3.6\n",
            "3.7\n",
            "3.8000000000000003\n",
            "3.9000000000000004\n",
            "4.0\n",
            "4.1000000000000005\n",
            "4.2\n",
            "4.3\n",
            "4.4\n",
            "4.5\n",
            "4.6000000000000005\n",
            "4.7\n",
            "4.800000000000001\n",
            "4.9\n"
          ]
        }
      ]
    }
  ]
}