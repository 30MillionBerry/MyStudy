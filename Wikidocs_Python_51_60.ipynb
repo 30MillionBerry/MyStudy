{
  "nbformat": 4,
  "nbformat_minor": 0,
  "metadata": {
    "colab": {
      "name": "Wikidocs_Python_51-60.ipynb",
      "provenance": [],
      "authorship_tag": "ABX9TyPw04iShQgUpXcTHvzxsa5n",
      "include_colab_link": true
    },
    "kernelspec": {
      "name": "python3",
      "display_name": "Python 3"
    },
    "language_info": {
      "name": "python"
    }
  },
  "cells": [
    {
      "cell_type": "markdown",
      "metadata": {
        "id": "view-in-github",
        "colab_type": "text"
      },
      "source": [
        "<a href=\"https://colab.research.google.com/github/mohyunyang/MyStudy/blob/master/Wikidocs_Python_51_60.ipynb\" target=\"_parent\"><img src=\"https://colab.research.google.com/assets/colab-badge.svg\" alt=\"Open In Colab\"/></a>"
      ]
    },
    {
      "cell_type": "markdown",
      "source": [
        "#051 리스트 생성"
      ],
      "metadata": {
        "id": "pRBRYTuEG-WX"
      }
    },
    {
      "cell_type": "markdown",
      "source": [
        "![image.png](data:image/png;base64,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)"
      ],
      "metadata": {
        "id": "U98ho8n3HUcW"
      }
    },
    {
      "cell_type": "markdown",
      "source": [
        "movie_rank 이름의 리스트에 저장해보세요"
      ],
      "metadata": {
        "id": "kasJ9MFCHVCn"
      }
    },
    {
      "cell_type": "code",
      "source": [
        "movie_rank = ['닥터스트레인지','스플릿','럭키']\n",
        "print(movie_rank)"
      ],
      "metadata": {
        "colab": {
          "base_uri": "https://localhost:8080/"
        },
        "id": "cdHe2PbAHX6U",
        "outputId": "654a499c-4f7b-43fe-efd9-2a8fd2c64a7c"
      },
      "execution_count": 2,
      "outputs": [
        {
          "output_type": "stream",
          "name": "stdout",
          "text": [
            "['닥터스트레인지', '스플릿', '럭키']\n"
          ]
        }
      ]
    },
    {
      "cell_type": "markdown",
      "source": [
        "#052 리스트에 원소 추가"
      ],
      "metadata": {
        "id": "rL6yaSMXHh-q"
      }
    },
    {
      "cell_type": "markdown",
      "source": [
        "051의 movie_rank 리스트에 \"배트맨\"을 추가하라."
      ],
      "metadata": {
        "id": "P45DJVksHinP"
      }
    },
    {
      "cell_type": "code",
      "source": [
        "movie_rank.append('배트맨')"
      ],
      "metadata": {
        "id": "94CE2vLyHj6p"
      },
      "execution_count": 5,
      "outputs": []
    },
    {
      "cell_type": "code",
      "source": [
        "movie_rank"
      ],
      "metadata": {
        "colab": {
          "base_uri": "https://localhost:8080/"
        },
        "id": "rDkQFTbAHp2b",
        "outputId": "ee1f6073-d7fc-4d7a-ef99-784501e99865"
      },
      "execution_count": 6,
      "outputs": [
        {
          "output_type": "execute_result",
          "data": {
            "text/plain": [
              "['닥터스트레인지', '스플릿', '럭키', '배트맨', '배트맨']"
            ]
          },
          "metadata": {},
          "execution_count": 6
        }
      ]
    },
    {
      "cell_type": "markdown",
      "source": [
        "#053"
      ],
      "metadata": {
        "id": "uOnSEs6FHvUj"
      }
    },
    {
      "cell_type": "markdown",
      "source": [
        "movie_rank 리스트에는 아래와 같이 네 개의 영화 제목이 바인딩되어 있다. \"슈퍼맨\"을 \"닥터 스트레인지\"와 \"스플릿\" 사이에 추가하라."
      ],
      "metadata": {
        "id": "maSRt4JbHyrX"
      }
    },
    {
      "cell_type": "code",
      "source": [
        "movie_rank = ['닥터 스트레인지', '스플릿', '럭키', '배트맨']"
      ],
      "metadata": {
        "id": "bbLoWV1vH6So"
      },
      "execution_count": 7,
      "outputs": []
    },
    {
      "cell_type": "code",
      "source": [
        "movie_rank.insert(1, '슈퍼맨')\n",
        "movie_rank"
      ],
      "metadata": {
        "colab": {
          "base_uri": "https://localhost:8080/"
        },
        "id": "hir864meH7Re",
        "outputId": "1dd3b2f4-3f47-4bcf-b97c-880c100bc28e"
      },
      "execution_count": 8,
      "outputs": [
        {
          "output_type": "execute_result",
          "data": {
            "text/plain": [
              "['닥터 스트레인지', '슈퍼맨', '스플릿', '럭키', '배트맨']"
            ]
          },
          "metadata": {},
          "execution_count": 8
        }
      ]
    },
    {
      "cell_type": "markdown",
      "source": [
        "#54"
      ],
      "metadata": {
        "id": "Fep3-d3jIJPn"
      }
    },
    {
      "cell_type": "markdown",
      "source": [
        "movie_rank 리스트에서 '럭키'를 삭제하라."
      ],
      "metadata": {
        "id": "cDQLowdOILMV"
      }
    },
    {
      "cell_type": "code",
      "source": [
        "movie_rank = ['닥터 스트레인지', '슈퍼맨', '스플릿', '럭키', '배트맨']\n",
        "movie_rank.remove('럭키')"
      ],
      "metadata": {
        "id": "1Lm-c83-INfW"
      },
      "execution_count": 9,
      "outputs": []
    },
    {
      "cell_type": "code",
      "source": [
        "del movie_rank[0]\n",
        "print(movie_rank)"
      ],
      "metadata": {
        "colab": {
          "base_uri": "https://localhost:8080/"
        },
        "id": "Iyb5V8kcIaZ3",
        "outputId": "41295711-30ad-434d-cb49-19a225033e22"
      },
      "execution_count": 11,
      "outputs": [
        {
          "output_type": "stream",
          "name": "stdout",
          "text": [
            "['슈퍼맨', '스플릿', '배트맨']\n"
          ]
        }
      ]
    },
    {
      "cell_type": "markdown",
      "source": [
        "#55"
      ],
      "metadata": {
        "id": "Bl4ILKRCIlth"
      }
    },
    {
      "cell_type": "markdown",
      "source": [
        "movie_rank 리스트에서 '스플릿' 과 '배트맨'을 를 삭제하라.\n",
        "\n"
      ],
      "metadata": {
        "id": "NYE0oEC3InbP"
      }
    },
    {
      "cell_type": "code",
      "source": [
        "movie_rank = ['닥터 스트레인지', '슈퍼맨', '스플릿', '배트맨']\n"
      ],
      "metadata": {
        "id": "Srpc06FwIrF6"
      },
      "execution_count": 18,
      "outputs": []
    },
    {
      "cell_type": "code",
      "source": [
        "del movie_rank[2]\n",
        "print(movie_rank)"
      ],
      "metadata": {
        "colab": {
          "base_uri": "https://localhost:8080/"
        },
        "id": "S-7E23nuJINh",
        "outputId": "e9e257ec-337a-4923-a38e-5c4157dfc117"
      },
      "execution_count": 20,
      "outputs": [
        {
          "output_type": "stream",
          "name": "stdout",
          "text": [
            "['닥터 스트레인지', '슈퍼맨']\n"
          ]
        }
      ]
    },
    {
      "cell_type": "markdown",
      "source": [
        "#056"
      ],
      "metadata": {
        "id": "h4rIOaAAJKXL"
      }
    },
    {
      "cell_type": "code",
      "source": [
        "lang1 = [\"C\", \"C++\", \"JAVA\"]\n",
        "lang2 = [\"Python\", \"Go\", \"C#\"]\n",
        "\n",
        "langs = lang1 + lang2\n",
        "langs"
      ],
      "metadata": {
        "colab": {
          "base_uri": "https://localhost:8080/"
        },
        "id": "Rrtni_fsJMQa",
        "outputId": "f5921f0a-6301-4df7-aa32-f951258257f3"
      },
      "execution_count": 22,
      "outputs": [
        {
          "output_type": "execute_result",
          "data": {
            "text/plain": [
              "['C', 'C++', 'JAVA', 'Python', 'Go', 'C#']"
            ]
          },
          "metadata": {},
          "execution_count": 22
        }
      ]
    },
    {
      "cell_type": "markdown",
      "source": [
        "#57"
      ],
      "metadata": {
        "id": "Eead7MYBJYyP"
      }
    },
    {
      "cell_type": "markdown",
      "source": [
        "다음 리스트에서 최댓값과 최솟값을 출력하라. (힌트: min(), max() 함수 사용)"
      ],
      "metadata": {
        "id": "PgAjxM7QJbZF"
      }
    },
    {
      "cell_type": "code",
      "source": [
        "nums = [1, 2, 3, 4, 5, 6, 7]\n",
        "print(\"max: \", max(nums))\n",
        "print(\"min: \", min(nums))"
      ],
      "metadata": {
        "colab": {
          "base_uri": "https://localhost:8080/"
        },
        "id": "Vdfje8jFJb7k",
        "outputId": "1100f383-e9dd-4571-9b2e-bf3bb06a3abc"
      },
      "execution_count": 40,
      "outputs": [
        {
          "output_type": "stream",
          "name": "stdout",
          "text": [
            "max:  7\n",
            "min:  1\n"
          ]
        }
      ]
    },
    {
      "cell_type": "markdown",
      "source": [
        "# 058\n",
        "다음 리스트의 합을 출력하라."
      ],
      "metadata": {
        "id": "KODp4FuTK8Yx"
      }
    },
    {
      "cell_type": "code",
      "source": [
        "nums = [1, 2, 3, 4, 5]\n",
        "print(sum(nums))"
      ],
      "metadata": {
        "colab": {
          "base_uri": "https://localhost:8080/"
        },
        "id": "CVY1gnKMLBow",
        "outputId": "e92a5269-7468-4162-f575-555ecd72f415"
      },
      "execution_count": 42,
      "outputs": [
        {
          "output_type": "stream",
          "name": "stdout",
          "text": [
            "15\n"
          ]
        }
      ]
    },
    {
      "cell_type": "markdown",
      "source": [
        "# 059\n",
        "다음 리스트에 저장된 데이터의 개수를 화면에 구하하라."
      ],
      "metadata": {
        "id": "KNVnFOl5LFtU"
      }
    },
    {
      "cell_type": "code",
      "source": [
        "cook = [\"피자\", \"김밥\", \"만두\", \"양념치킨\", \"족발\", \"피자\", \"김치만두\", \"쫄면\", \"소시지\", \"라면\", \"팥빙수\", \"김치전\"]\n",
        "len(cook)"
      ],
      "metadata": {
        "colab": {
          "base_uri": "https://localhost:8080/"
        },
        "id": "qGuYg2pVLHTQ",
        "outputId": "dad3e833-229c-4883-fee2-cc3cf4e64bd1"
      },
      "execution_count": 43,
      "outputs": [
        {
          "output_type": "execute_result",
          "data": {
            "text/plain": [
              "12"
            ]
          },
          "metadata": {},
          "execution_count": 43
        }
      ]
    },
    {
      "cell_type": "markdown",
      "source": [
        "# 060\n",
        "다음 리스트의 평균을 출력하라."
      ],
      "metadata": {
        "id": "1xhIAC8VLOcv"
      }
    },
    {
      "cell_type": "code",
      "source": [
        "nums = [1, 2, 3, 4, 5]\n",
        "sum(nums)/5"
      ],
      "metadata": {
        "colab": {
          "base_uri": "https://localhost:8080/"
        },
        "id": "wH3N47APLQMx",
        "outputId": "68047345-70d8-4991-a61c-169bb559b882"
      },
      "execution_count": 46,
      "outputs": [
        {
          "output_type": "execute_result",
          "data": {
            "text/plain": [
              "3.0"
            ]
          },
          "metadata": {},
          "execution_count": 46
        }
      ]
    }
  ]
}